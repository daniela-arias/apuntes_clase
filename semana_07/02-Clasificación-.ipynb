{
 "cells": [
  {
   "cell_type": "markdown",
   "id": "comparable-lancaster",
   "metadata": {},
   "source": [
    "# Machine Learning - Supervised learning - Clasificación"
   ]
  },
  {
   "cell_type": "markdown",
   "id": "9beb3b66",
   "metadata": {},
   "source": [
    "![titanic](../images/titanic.jpeg)"
   ]
  },
  {
   "cell_type": "markdown",
   "id": "satellite-baseline",
   "metadata": {
    "toc": true
   },
   "source": [
    "<h1>Table of Contents<span class=\"tocSkip\"></span></h1>\n",
    "<div class=\"toc\"><ul class=\"toc-item\"><li><span><a href=\"#Exploración-de-los-datos\" data-toc-modified-id=\"Exploración-de-los-datos-1\"><span class=\"toc-item-num\">1&nbsp;&nbsp;</span>Exploración de los datos</a></span></li><li><span><a href=\"#Regresión-logística\" data-toc-modified-id=\"Regresión-logística-2\"><span class=\"toc-item-num\">2&nbsp;&nbsp;</span>Regresión logística</a></span></li><li><span><a href=\"#Manos-a-la-obra\" data-toc-modified-id=\"Manos-a-la-obra-3\"><span class=\"toc-item-num\">3&nbsp;&nbsp;</span>Manos a la obra</a></span><ul class=\"toc-item\"><li><span><a href=\"#Vamos-a-entrenar-un-modelo\" data-toc-modified-id=\"Vamos-a-entrenar-un-modelo-3.1\"><span class=\"toc-item-num\">3.1&nbsp;&nbsp;</span>Vamos a entrenar un modelo</a></span></li><li><span><a href=\"#Vamos-a-crear-una-columna-de-predicción-para-todo-el-dataframe\" data-toc-modified-id=\"Vamos-a-crear-una-columna-de-predicción-para-todo-el-dataframe-3.2\"><span class=\"toc-item-num\">3.2&nbsp;&nbsp;</span>Vamos a crear una columna de predicción para todo el dataframe</a></span></li><li><span><a href=\"#Matriz-de-confusión-con-nuestros-datos\" data-toc-modified-id=\"Matriz-de-confusión-con-nuestros-datos-3.3\"><span class=\"toc-item-num\">3.3&nbsp;&nbsp;</span>Matriz de confusión con nuestros datos</a></span></li></ul></li><li><span><a href=\"#Hacemos-lo-mismo-con-muchos-predictores\" data-toc-modified-id=\"Hacemos-lo-mismo-con-muchos-predictores-4\"><span class=\"toc-item-num\">4&nbsp;&nbsp;</span>Hacemos lo mismo con muchos predictores</a></span><ul class=\"toc-item\"><li><span><a href=\"#Repaso-de-Train-Test-Split-/-DIVISIÓN-EN-TRAIN-TEST\" data-toc-modified-id=\"Repaso-de-Train-Test-Split-/-DIVISIÓN-EN-TRAIN-TEST-4.1\"><span class=\"toc-item-num\">4.1&nbsp;&nbsp;</span>Repaso de Train Test Split / DIVISIÓN EN TRAIN TEST</a></span></li><li><span><a href=\"#Veamos-lo-que-tenemos\" data-toc-modified-id=\"Veamos-lo-que-tenemos-4.2\"><span class=\"toc-item-num\">4.2&nbsp;&nbsp;</span>Veamos lo que tenemos</a></span><ul class=\"toc-item\"><li><span><a href=\"#Parte-de-train\" data-toc-modified-id=\"Parte-de-train-4.2.1\"><span class=\"toc-item-num\">4.2.1&nbsp;&nbsp;</span>Parte de train</a></span></li><li><span><a href=\"#Parte-de-test\" data-toc-modified-id=\"Parte-de-test-4.2.2\"><span class=\"toc-item-num\">4.2.2&nbsp;&nbsp;</span>Parte de test</a></span></li></ul></li></ul></li><li><span><a href=\"#Predict-Proba\" data-toc-modified-id=\"Predict-Proba-5\"><span class=\"toc-item-num\">5&nbsp;&nbsp;</span>Predict Proba</a></span></li><li><span><a href=\"#Métricas!\" data-toc-modified-id=\"Métricas!-6\"><span class=\"toc-item-num\">6&nbsp;&nbsp;</span>Métricas!</a></span><ul class=\"toc-item\"><li><span><a href=\"#Matriz-de-confusión\" data-toc-modified-id=\"Matriz-de-confusión-6.1\"><span class=\"toc-item-num\">6.1&nbsp;&nbsp;</span>Matriz de confusión</a></span></li><li><span><a href=\"#Accuracy\" data-toc-modified-id=\"Accuracy-6.2\"><span class=\"toc-item-num\">6.2&nbsp;&nbsp;</span>Accuracy</a></span></li><li><span><a href=\"#Precision-(Precisión)\" data-toc-modified-id=\"Precision-(Precisión)-6.3\"><span class=\"toc-item-num\">6.3&nbsp;&nbsp;</span>Precision (Precisión)</a></span></li><li><span><a href=\"#Recall-(Exhaustividad)\" data-toc-modified-id=\"Recall-(Exhaustividad)-6.4\"><span class=\"toc-item-num\">6.4&nbsp;&nbsp;</span>Recall (Exhaustividad)</a></span></li><li><span><a href=\"#Diferenciando-precision-y-recall\" data-toc-modified-id=\"Diferenciando-precision-y-recall-6.5\"><span class=\"toc-item-num\">6.5&nbsp;&nbsp;</span>Diferenciando precision y recall</a></span></li><li><span><a href=\"#F1-Score\" data-toc-modified-id=\"F1-Score-6.6\"><span class=\"toc-item-num\">6.6&nbsp;&nbsp;</span>F1 Score</a></span></li></ul></li><li><span><a href=\"#Otros-modelos-de-clasificación\" data-toc-modified-id=\"Otros-modelos-de-clasificación-7\"><span class=\"toc-item-num\">7&nbsp;&nbsp;</span>Otros modelos de clasificación</a></span></li><li><span><a href=\"#Hacemos-predicciones-y-medimos\" data-toc-modified-id=\"Hacemos-predicciones-y-medimos-8\"><span class=\"toc-item-num\">8&nbsp;&nbsp;</span>Hacemos predicciones y medimos</a></span></li><li><span><a href=\"#Resumen\" data-toc-modified-id=\"Resumen-9\"><span class=\"toc-item-num\">9&nbsp;&nbsp;</span>Resumen</a></span></li><li><span><a href=\"#Pipeline\" data-toc-modified-id=\"Pipeline-10\"><span class=\"toc-item-num\">10&nbsp;&nbsp;</span>Pipeline</a></span></li></ul></div>"
   ]
  },
  {
   "cell_type": "code",
   "execution_count": null,
   "id": "computational-efficiency",
   "metadata": {},
   "outputs": [],
   "source": [
    "import warnings\n",
    "warnings.filterwarnings(\"ignore\")\n",
    "import pandas as pd\n",
    "import seaborn as sns\n",
    "# El mantra de las visualizaciones\n",
    "from matplotlib import pyplot as plt\n",
    "%matplotlib inline\n",
    "%config Inlinebackend.figure_format = 'retina'\n",
    "\n",
    "import seaborn as sns\n",
    "sns.set_context('poster')\n",
    "sns.set(rc={'figure.figsize': (16., 9.)})\n",
    "sns.set_style('whitegrid')"
   ]
  },
  {
   "cell_type": "markdown",
   "id": "above-schedule",
   "metadata": {},
   "source": [
    " * Los modelos de **regresión** se utilizan cuando la variable objetivo es **cuantitativa**: \n",
    "  - salarios\n",
    "  - emisiones de gases\n",
    "  - edad de la persona en una foto\n",
    "  - ...\n",
    " * Los modelos de **clasificación** se utilizan cuando la variable objetivo es **cualitativa**: \n",
    "  - sobrevivir (o no) al Titanic\n",
    "  - devolver (o no) un préstamo\n",
    "  - identificar un perro (o no) en una foto\n",
    "  - decidir cuál de 3 especies de plantas es ésta\n",
    "  - ..."
   ]
  },
  {
   "cell_type": "markdown",
   "id": "julian-proposition",
   "metadata": {},
   "source": [
    "## Exploración de los datos"
   ]
  },
  {
   "cell_type": "code",
   "execution_count": null,
   "id": "boolean-biotechnology",
   "metadata": {},
   "outputs": [],
   "source": [
    "df = pd.read_csv(\"../datasets/breast_cancer.csv\")"
   ]
  },
  {
   "cell_type": "code",
   "execution_count": null,
   "id": "korean-indie",
   "metadata": {},
   "outputs": [],
   "source": []
  },
  {
   "cell_type": "code",
   "execution_count": null,
   "id": "forward-encyclopedia",
   "metadata": {},
   "outputs": [],
   "source": []
  },
  {
   "cell_type": "code",
   "execution_count": null,
   "id": "political-sleeping",
   "metadata": {},
   "outputs": [],
   "source": []
  },
  {
   "cell_type": "markdown",
   "id": "central-applicant",
   "metadata": {},
   "source": [
    "Documentation:  \n",
    "a) radius (mean of distances from center to points on the perimeter)  \n",
    "b) texture (standard deviation of gray-scale values)  \n",
    "c) perimeter  \n",
    "d) area  \n",
    "e) smoothness (local variation in radius lengths)  \n",
    "f) compactness (perimeter^2 / area - 1.0)  \n",
    "g) concavity (severity of concave portions of the contour)  \n",
    "h) concave points (number of concave portions of the contour)  \n",
    "i) symmetry  \n",
    "j) fractal dimension (\"coastline approximation\" - 1)  "
   ]
  },
  {
   "cell_type": "markdown",
   "id": "superior-cinema",
   "metadata": {},
   "source": [
    "La variable objetivo es `es_cáncer`.\n",
    "\n",
    "Es una variable categórica, que toma los valores posibles $0$ y $1$º"
   ]
  },
  {
   "cell_type": "code",
   "execution_count": null,
   "id": "athletic-imperial",
   "metadata": {},
   "outputs": [],
   "source": [
    "# Vamos a visualizar de forma rápida el balanceo de variables categóricas"
   ]
  },
  {
   "cell_type": "markdown",
   "id": "conceptual-alignment",
   "metadata": {},
   "source": [
    "## Regresión logística\n",
    "La regresión logística es uno de los algoritmos más populares y utilizados para los problemas de clasificación. Como además es relativamente poco complejo y fácil de implementar, se suele utilizar como modelo de partida, aunque también puede producir resultados de muy alto rendimiento utilizado en producción. Aquí vamos a hablar de la Regresión Logística Binomial, que se utiliza para resultados binarios. La Regresión Logística Multinomial existe y puede utilizarse para problemas de clasificación multiclase, pero se utiliza con menos frecuencia. No la trataremos en esta lección. \n",
    "\n",
    "La regresión logística es en realidad una función de regresión lineal transformada. Podemos ver en la imagen de abajo que si intentáramos ajustar una regresión lineal a unos datos con un resultado binario, ajustaríamos una línea que no predice muy bien para ningún valor que no esté en los valores extremos: en el medio hay mucha zona en la que la línea está muy lejos de los puntos. Para acercar nuestra función a los datos, tenemos que transformar la función que estamos utilizando. En este caso, es útil utilizar una función sigmoide, que estima una forma de \"S\". Ahora podemos ver que nuestra línea se ajusta a los datos mucho mejor. "
   ]
  },
  {
   "cell_type": "markdown",
   "id": "great-supervision",
   "metadata": {},
   "source": [
    "![regresiónlogística](http://res.cloudinary.com/dyd911kmh/image/upload/f_auto,q_auto:best/v1534281070/linear_vs_logistic_regression_edxw03.png)"
   ]
  },
  {
   "cell_type": "markdown",
   "id": "appreciated-people",
   "metadata": {},
   "source": [
    "Refs:\n",
    "\n",
    "https://scikit-learn.org/stable/modules/generated/sklearn.linear_model.LogisticRegression.html     \n",
    "https://techdifferences.com/difference-between-linear-and-logistic-regression.html    \n",
    "https://stackoverflow.com/questions/12146914/what-is-the-difference-between-linear-regression-and-logistic-regression"
   ]
  },
  {
   "cell_type": "markdown",
   "id": "addressed-struggle",
   "metadata": {},
   "source": [
    "## Manos a la obra"
   ]
  },
  {
   "cell_type": "markdown",
   "id": "centered-ability",
   "metadata": {},
   "source": [
    "Intentemos predecir `es_cáncer` usando sólo como predictor `radio_medio`."
   ]
  },
  {
   "cell_type": "code",
   "execution_count": null,
   "id": "subject-rings",
   "metadata": {},
   "outputs": [],
   "source": []
  },
  {
   "cell_type": "code",
   "execution_count": null,
   "id": "exceptional-resident",
   "metadata": {},
   "outputs": [],
   "source": []
  },
  {
   "cell_type": "markdown",
   "id": "collected-international",
   "metadata": {},
   "source": [
    "### Vamos a entrenar un modelo"
   ]
  },
  {
   "cell_type": "code",
   "execution_count": null,
   "id": "binding-interview",
   "metadata": {},
   "outputs": [],
   "source": [
    "from sklearn.linear_model import LogisticRegression"
   ]
  },
  {
   "cell_type": "code",
   "execution_count": null,
   "id": "historical-suggestion",
   "metadata": {},
   "outputs": [],
   "source": []
  },
  {
   "cell_type": "code",
   "execution_count": null,
   "id": "atomic-actress",
   "metadata": {},
   "outputs": [],
   "source": []
  },
  {
   "cell_type": "code",
   "execution_count": null,
   "id": "moral-graduation",
   "metadata": {},
   "outputs": [],
   "source": []
  },
  {
   "cell_type": "code",
   "execution_count": null,
   "id": "civilian-citizen",
   "metadata": {},
   "outputs": [],
   "source": [
    "# Vamos a ver cómo funcionarcía con los primeroos 5 pacientes"
   ]
  },
  {
   "cell_type": "code",
   "execution_count": null,
   "id": "intense-recognition",
   "metadata": {},
   "outputs": [],
   "source": [
    "#Un modelo entrenado es una \"máquina de predicción\""
   ]
  },
  {
   "cell_type": "code",
   "execution_count": null,
   "id": "further-transaction",
   "metadata": {},
   "outputs": [],
   "source": []
  },
  {
   "cell_type": "code",
   "execution_count": null,
   "id": "endless-pennsylvania",
   "metadata": {},
   "outputs": [],
   "source": []
  },
  {
   "cell_type": "code",
   "execution_count": null,
   "id": "exact-audio",
   "metadata": {},
   "outputs": [],
   "source": []
  },
  {
   "cell_type": "code",
   "execution_count": null,
   "id": "accompanied-volunteer",
   "metadata": {},
   "outputs": [],
   "source": []
  },
  {
   "cell_type": "markdown",
   "id": "electoral-heather",
   "metadata": {},
   "source": [
    "### Vamos a crear una columna de predicción para todo el dataframe"
   ]
  },
  {
   "cell_type": "code",
   "execution_count": null,
   "id": "permanent-mirror",
   "metadata": {},
   "outputs": [],
   "source": []
  },
  {
   "cell_type": "code",
   "execution_count": null,
   "id": "competitive-battlefield",
   "metadata": {},
   "outputs": [],
   "source": []
  },
  {
   "cell_type": "markdown",
   "id": "weighted-creation",
   "metadata": {},
   "source": [
    "### Matriz de confusión con nuestros datos"
   ]
  },
  {
   "cell_type": "code",
   "execution_count": null,
   "id": "ambient-entertainment",
   "metadata": {},
   "outputs": [],
   "source": []
  },
  {
   "cell_type": "code",
   "execution_count": null,
   "id": "3ebfb51d",
   "metadata": {},
   "outputs": [],
   "source": [
    "import numpy as np\n",
    "x = np.linspace(df.mean_radius.min(), df.mean_radius.max(),100)\n",
    "y = log.predict(x.reshape(-1,1))"
   ]
  },
  {
   "cell_type": "code",
   "execution_count": null,
   "id": "e4fa89ed",
   "metadata": {},
   "outputs": [],
   "source": [
    "sns.scatterplot(x=df.mean_radius, y=df.is_cancer)\n",
    "plt.plot(x,y,c=\"red\")"
   ]
  },
  {
   "cell_type": "markdown",
   "id": "ad6a9a4f",
   "metadata": {},
   "source": [
    "## Hacemos lo mismo con muchos predictores "
   ]
  },
  {
   "cell_type": "markdown",
   "id": "material-retailer",
   "metadata": {},
   "source": [
    "### Repaso de Train Test Split / DIVISIÓN EN TRAIN TEST"
   ]
  },
  {
   "cell_type": "markdown",
   "id": "1c77a6d2",
   "metadata": {},
   "source": [
    "![divisióntraintest](../images/traintest.png)"
   ]
  },
  {
   "cell_type": "markdown",
   "id": "67a5ed16",
   "metadata": {},
   "source": [
    "https://scikit-learn.org/stable/modules/generated/sklearn.model_selection.train_test_split.html"
   ]
  },
  {
   "cell_type": "code",
   "execution_count": null,
   "id": "2c92c833",
   "metadata": {},
   "outputs": [],
   "source": [
    "from sklearn.model_selection import train_test_split"
   ]
  },
  {
   "cell_type": "code",
   "execution_count": null,
   "id": "9e20e312",
   "metadata": {},
   "outputs": [],
   "source": [
    "data = pd.read_csv(\"../datasets/breast_cancer.csv\")"
   ]
  },
  {
   "cell_type": "code",
   "execution_count": null,
   "id": "17d25d05",
   "metadata": {},
   "outputs": [],
   "source": []
  },
  {
   "cell_type": "code",
   "execution_count": null,
   "id": "44a8817a",
   "metadata": {},
   "outputs": [],
   "source": []
  },
  {
   "cell_type": "code",
   "execution_count": null,
   "id": "d686bab8",
   "metadata": {},
   "outputs": [],
   "source": []
  },
  {
   "cell_type": "code",
   "execution_count": null,
   "id": "b24e7bea",
   "metadata": {},
   "outputs": [],
   "source": []
  },
  {
   "cell_type": "code",
   "execution_count": null,
   "id": "0254da12",
   "metadata": {},
   "outputs": [],
   "source": []
  },
  {
   "cell_type": "code",
   "execution_count": null,
   "id": "1d4fad8f",
   "metadata": {},
   "outputs": [],
   "source": []
  },
  {
   "cell_type": "code",
   "execution_count": null,
   "id": "dcd0f021",
   "metadata": {},
   "outputs": [],
   "source": []
  },
  {
   "cell_type": "markdown",
   "id": "489fd7bf",
   "metadata": {},
   "source": [
    "Kit-kat (max iter)\n",
    "Me sale este warning... ya veremos tuneo de hiperparámetros, pero básicamente tengo que escalar mis datos o bien hacer que el modelo sea más complejo con más iteraciones.\n",
    "```\n",
    "/usr/local/Caskroom/miniconda/base/envs/ironhack/lib/python3.8/site-packages/sklearn/linear_model/_logistic.py:814: ConvergenceWarning: lbfgs failed to converge (status=1):\n",
    "STOP: TOTAL NO. of ITERATIONS REACHED LIMIT.\n",
    "\n",
    "Increase the number of iterations (max_iter) or scale the data as shown in:\n",
    "    https://scikit-learn.org/stable/modules/preprocessing.html\n",
    "Please also refer to the documentation for alternative solver options:\n",
    "    https://scikit-learn.org/stable/modules/linear_model.html#logistic-regression\n",
    "  n_iter_i = _check_optimize_result(\n",
    "```"
   ]
  },
  {
   "cell_type": "code",
   "execution_count": null,
   "id": "a03a0070",
   "metadata": {},
   "outputs": [],
   "source": []
  },
  {
   "cell_type": "code",
   "execution_count": null,
   "id": "f3ea242e",
   "metadata": {},
   "outputs": [],
   "source": []
  },
  {
   "cell_type": "markdown",
   "id": "f62ccd50",
   "metadata": {},
   "source": [
    "### Veamos lo que tenemos\n",
    "#### Parte de train"
   ]
  },
  {
   "cell_type": "code",
   "execution_count": null,
   "id": "78bc5a67",
   "metadata": {},
   "outputs": [],
   "source": []
  },
  {
   "cell_type": "code",
   "execution_count": null,
   "id": "effa6d18",
   "metadata": {},
   "outputs": [],
   "source": []
  },
  {
   "cell_type": "code",
   "execution_count": null,
   "id": "ee13c696",
   "metadata": {},
   "outputs": [],
   "source": []
  },
  {
   "cell_type": "code",
   "execution_count": null,
   "id": "3178e0d5",
   "metadata": {},
   "outputs": [],
   "source": []
  },
  {
   "cell_type": "code",
   "execution_count": null,
   "id": "5e28672b",
   "metadata": {},
   "outputs": [],
   "source": []
  },
  {
   "cell_type": "markdown",
   "id": "6dc398af",
   "metadata": {},
   "source": [
    "#### Parte de test"
   ]
  },
  {
   "cell_type": "code",
   "execution_count": null,
   "id": "d4752697",
   "metadata": {},
   "outputs": [],
   "source": []
  },
  {
   "cell_type": "code",
   "execution_count": null,
   "id": "0467cd9b",
   "metadata": {},
   "outputs": [],
   "source": []
  },
  {
   "cell_type": "code",
   "execution_count": null,
   "id": "ad8db714",
   "metadata": {},
   "outputs": [],
   "source": []
  },
  {
   "cell_type": "code",
   "execution_count": null,
   "id": "605bbfcf",
   "metadata": {},
   "outputs": [],
   "source": []
  },
  {
   "cell_type": "code",
   "execution_count": null,
   "id": "a3dc9536",
   "metadata": {},
   "outputs": [],
   "source": []
  },
  {
   "cell_type": "code",
   "execution_count": null,
   "id": "d68055a8",
   "metadata": {},
   "outputs": [],
   "source": []
  },
  {
   "cell_type": "markdown",
   "id": "47246bd4",
   "metadata": {},
   "source": [
    "## Predict Proba"
   ]
  },
  {
   "cell_type": "code",
   "execution_count": null,
   "id": "70fa0e0e",
   "metadata": {},
   "outputs": [],
   "source": []
  },
  {
   "cell_type": "code",
   "execution_count": null,
   "id": "af5c93eb",
   "metadata": {},
   "outputs": [],
   "source": []
  },
  {
   "cell_type": "code",
   "execution_count": null,
   "id": "ff36aabd",
   "metadata": {},
   "outputs": [],
   "source": [
    "#LA PROBABILIDAD DE QUE SEA 0 Y LA PROBABILIDAD DE QUE SEA 1"
   ]
  },
  {
   "cell_type": "code",
   "execution_count": null,
   "id": "2f2f75a5",
   "metadata": {},
   "outputs": [],
   "source": [
    "#La realidad de ese registro es 0"
   ]
  },
  {
   "cell_type": "code",
   "execution_count": null,
   "id": "97d3d659",
   "metadata": {},
   "outputs": [],
   "source": []
  },
  {
   "cell_type": "code",
   "execution_count": null,
   "id": "7cbbf6f2",
   "metadata": {},
   "outputs": [],
   "source": []
  },
  {
   "cell_type": "code",
   "execution_count": null,
   "id": "0bc88259",
   "metadata": {},
   "outputs": [],
   "source": []
  },
  {
   "cell_type": "markdown",
   "id": "designed-publication",
   "metadata": {},
   "source": [
    "## Métricas!"
   ]
  },
  {
   "cell_type": "code",
   "execution_count": null,
   "id": "caroline-reply",
   "metadata": {},
   "outputs": [],
   "source": [
    "from sklearn.metrics import accuracy_score, precision_score, recall_score, f1_score, fbeta_score, confusion_matrix"
   ]
  },
  {
   "cell_type": "markdown",
   "id": "literary-picking",
   "metadata": {},
   "source": [
    "### Matriz de confusión"
   ]
  },
  {
   "cell_type": "markdown",
   "id": "abandoned-swift",
   "metadata": {},
   "source": [
    "Confusion Matrix (Matriz de Confusión)\n",
    "Vamos a explicar como funciona la matriz de confusión con un ejemplo hipotético de marketing. En este ejemplo, contactamos a 100 clientes y 80 de ellos nos dicen que no están interesados y 20 de ellos que sí.\n",
    "\n",
    "Nuestro modelo (en el ejemplo) no es muy bueno, aunque dependiendo de qué métrica usemos podría parecer que es mejor de lo que es.\n",
    "\n",
    "Hemos utilizado como valores de la clasificación binaria:\n",
    "\n",
    "- 0: no está interesado    \n",
    "- 1: sí está interesado"
   ]
  },
  {
   "cell_type": "markdown",
   "id": "exotic-mountain",
   "metadata": {},
   "source": [
    "![matrizdeconfusión](https://www.iartificial.net/wp-content/uploads/2019/11/Matriz-Confusion-Ejemplo.webp)"
   ]
  },
  {
   "cell_type": "markdown",
   "id": "miniature-privacy",
   "metadata": {},
   "source": [
    "En la matriz de confusión de la izquierda podéis ver los valores para este ejemplo. En la matriz de confusión de la derecha, los nombres genéricos cuando usamos la nomenclatura inglesa: True Negative [TN], True Positive [TP], False Positive [FP], False Negative [FN].\n",
    "\n",
    "Truco: para recordar fácilmente la matriz de confusión:\n",
    "\n",
    "Positivo (Positive) o Negativo (Negative): se refiere a la predicción. Si el modelo predice 1 entonces será positivo, y se predice 0 será negativo.\n",
    "Verdadero (True) o Falso (False): se refiere si la predicción es correcta o no."
   ]
  },
  {
   "cell_type": "markdown",
   "id": "deluxe-thompson",
   "metadata": {},
   "source": [
    "<img src=\"https://github.com/andrewwlong/classification_metrics_sklearn/raw/541a0d065ffb8b3ff705161f6d16088d434b2ea7/img/conf_matrix.png\">"
   ]
  },
  {
   "cell_type": "markdown",
   "id": "atomic-belgium",
   "metadata": {},
   "source": [
    "Equivalente con sklearn"
   ]
  },
  {
   "cell_type": "code",
   "execution_count": null,
   "id": "focused-clearance",
   "metadata": {},
   "outputs": [],
   "source": [
    "from sklearn.metrics import confusion_matrix"
   ]
  },
  {
   "cell_type": "code",
   "execution_count": null,
   "id": "auburn-freeware",
   "metadata": {},
   "outputs": [],
   "source": []
  },
  {
   "cell_type": "code",
   "execution_count": null,
   "id": "8baa8459",
   "metadata": {},
   "outputs": [],
   "source": []
  },
  {
   "cell_type": "markdown",
   "id": "brave-scottish",
   "metadata": {},
   "source": [
    "### Accuracy"
   ]
  },
  {
   "cell_type": "markdown",
   "id": "subtle-guide",
   "metadata": {},
   "source": [
    "La exactitud (accuracy) mide el porcentaje de casos que el modelo ha acertado. Esta es una de las métricas más usadas y favoritas … ¡que te recomiendo evitar! El problema con el accuracy es que nos puede llevar al engaño, es decir, puede hacer que un modelo malo parezca que es mucho mejor de lo que es.\n",
    "El problema de usar el accuracy en datos no balanceados.....\n",
    "\n",
    "• Ejemplo: en un conjunto de datos con 990 positivos y 10\n",
    "negativos, un clasificador que predice siempre “positivo”,\n",
    "tendría un 0.99 de tasa de aciertos ¡Y sin embargo es malo!\n",
    "\n",
    "Representa la proporción de muestras predichas correctamente\n",
    " * La métrica más común para la clasificación 🤔👀\n",
    " * Es útil cuando\n",
    "  - el conjunto de datos tiene clases equilibradas (proporción similar de Verdadero y Falso)\n",
    "  - hay simetría entre Verdadero y Falso (por ejemplo, predicción de \"hombre\" o \"mujer\")\n",
    " * **¡A menudo se utiliza mal!** ya que:\n",
    "  - muchos problemas no son simétricos (por ejemplo, cáncer frente a no cáncer)\n",
    "\n",
    "El accuracy (exactitud) se calcula con la siguiente fórmula:\n",
    "\n",
    "$$accuracy = \\frac{TP + TN}{TP + TN + FP + FN}$$\n"
   ]
  },
  {
   "cell_type": "code",
   "execution_count": null,
   "id": "dimensional-olympus",
   "metadata": {},
   "outputs": [],
   "source": [
    "accuracy_score(\n",
    "y_test,\n",
    "y_pred)"
   ]
  },
  {
   "cell_type": "markdown",
   "id": "acceptable-fundamentals",
   "metadata": {},
   "source": [
    "Interpretando esta métrica, vemos que el modelo ha acertado el 92% de los diagnósticos, esto es, se equivocará el 8% de las veces que prediga."
   ]
  },
  {
   "cell_type": "markdown",
   "id": "lesser-bailey",
   "metadata": {},
   "source": [
    "### Precision (Precisión)"
   ]
  },
  {
   "cell_type": "markdown",
   "id": "historic-sunglasses",
   "metadata": {},
   "source": [
    "Con la métrica de precisión podemos medir la calidad del modelo de machine learning en tareas de clasificación. En el ejemplo, se refiere a que la precisión es la respuesta a la pregunta ¿qué porcentaje de los clientes que contactemos estarán interesados?\n",
    "\n",
    "Para calcular la precisión usaremos la siguiente fórmula:\n",
    "\n",
    "$$precision = \\frac{TP}{TP + FP}$$    \n",
    "\n",
    "Es la fracción de eventos positivos predichos que son realmente positivos como se muestra a continuación\n",
    "\n",
    "Esta métrica se define como la cantidad de casos verdaderos positivos sobre la cantidad total de todo lo que dijiste que era positivo. En otras palabras, de todo lo que el algoritmo predijo como positivo, se evalúa cuánto de eso era cierto. Uno de los ejemplos propuestos [aquí](https://towardsdatascience.com/accuracy-precision-recall-or-f1-331fb37c5cb9) es el de marcar un correo como spam, cuando realmente no lo era. Imagina que un sistema antispam tiene una precision baja y te marca un correo como spam aunque éste no lo es, y terminas no leyendo la invitación a la boda de tu hermana.\n",
    "Uno de los casos donde se puede usar esta métrica,como dice el post, es cuando la cantidad de falsos positivos tiene una repercusión muy importante. Imagina un clasificador que confunde una diagnóstico y terminas amputándole la pierna sana a un paciente.\n",
    "\n",
    "Esta imagen marca los conjuntos de datos seleccionados a la hora de calcular la precision."
   ]
  },
  {
   "cell_type": "markdown",
   "id": "finnish-difficulty",
   "metadata": {},
   "source": [
    "<img src=\"https://www.iartificial.net/wp-content/uploads/2019/11/precision.webp\">"
   ]
  },
  {
   "cell_type": "markdown",
   "id": "assisted-mineral",
   "metadata": {},
   "source": [
    "Precisión = Porcentaje de predicciones POSITIVAS fueron correctas.    \n",
    "¿Qué proporción de los Positivos predichos es realmente Positiva?         \n",
    "Tenemos que mirar el número total de Positivos predichos (los Verdaderos Positivos más los Falsos Positivos, TP+FP), y ver cuántos de ellos son Verdaderos Positivos (TP)."
   ]
  },
  {
   "cell_type": "code",
   "execution_count": null,
   "id": "hairy-atmosphere",
   "metadata": {},
   "outputs": [],
   "source": [
    "precision_score(\n",
    "df.is_cancer,\n",
    "df.prediction_cancer)"
   ]
  },
  {
   "cell_type": "markdown",
   "id": "visible-radius",
   "metadata": {},
   "source": [
    "### Recall (Exhaustividad)"
   ]
  },
  {
   "cell_type": "markdown",
   "id": "logical-court",
   "metadata": {},
   "source": [
    "La métrica de exhaustividad nos va a informar sobre la cantidad que el modelo de machine learning es capaz de identificar. En el ejemplo, se refiere a que la exhaustividad (recall) es la respuesta a la pregunta ¿qué porcentaje de los clientes están interesados somos capaces de identificar?\n",
    "\n",
    "Para calcular la exhaustividad (recall) usaremos la siguiente fórmula:\n",
    "\n",
    "$$recall = \\frac{TP}{TP + FN}$$\n"
   ]
  },
  {
   "cell_type": "markdown",
   "id": "conceptual-tamil",
   "metadata": {},
   "source": [
    "<img src=\"https://www.iartificial.net/wp-content/uploads/2019/11/recall-exhaustividad.webp\">"
   ]
  },
  {
   "cell_type": "markdown",
   "id": "aerial-handy",
   "metadata": {},
   "source": [
    "Responde a una pregunta diferente: ¿qué proporción de positivos reales se clasifica correctamente?      \n",
    "Porcentaje de casos positivos que he capturado."
   ]
  },
  {
   "cell_type": "code",
   "execution_count": null,
   "id": "former-pendant",
   "metadata": {},
   "outputs": [],
   "source": []
  },
  {
   "cell_type": "markdown",
   "id": "unnecessary-membrane",
   "metadata": {},
   "source": [
    "### Diferenciando precision y recall\n",
    "A pesar de ser similares, poseen distinciones sutiles.\n",
    "\n",
    "- Precision: ¿Cuántas veces lo que mi modelo dice es realmente cierto?\n",
    "- Recall: ¿Cuántas veces mi modelo es capaz de identificar la verdad?     \n",
    "\n",
    "Precision se centra en lo que modelo dice y luego lo compara con la realidad. Por otro lado, recall parte de la realidad, y después evalúa que tan bueno es el modelo para reconocerla."
   ]
  },
  {
   "cell_type": "markdown",
   "id": "psychological-parish",
   "metadata": {},
   "source": [
    "### F1 Score"
   ]
  },
  {
   "cell_type": "markdown",
   "id": "mexican-horse",
   "metadata": {},
   "source": [
    "El valor F1 se utiliza para combinar las medidas de precision y recall en un sólo valor. Esto es práctico porque hace más fácil el poder comparar el rendimiento combinado de la precisión y la exhaustividad entre varias soluciones.\n",
    "\n",
    "F1 se calcula haciendo la media armónica entre la precisión y la exhaustividad:\n",
    "\n",
    "$$F1 = 2 \\cdot \\frac{precision \\cdot recall}{precision + recall}$$"
   ]
  },
  {
   "cell_type": "code",
   "execution_count": null,
   "id": "domestic-loading",
   "metadata": {},
   "outputs": [],
   "source": [
    "f1_score(df.is_cancer,df.prediction_cancer)"
   ]
  },
  {
   "cell_type": "markdown",
   "id": "coordinate-viking",
   "metadata": {},
   "source": [
    "He extraído documentación de las métricas de [este](https://www.iartificial.net/precision-recall-f1-accuracy-en-clasificacion/) artículo excepcionalmente explicado.\n",
    "Pero aquí os dejo más:\n",
    "- https://towardsdatascience.com/accuracy-precision-recall-or-f1-331fb37c5cb9\n",
    "- https://blog.exsilio.com/all/accuracy-precision-recall-f1-score-interpretation-of-performance-measures/\n",
    "- https://wiki.pathmind.com/accuracy-precision-recall-f1\n",
    "- https://datasmarts.net/es/mas-alla-del-accuracy-precision-recall-y-f1/"
   ]
  },
  {
   "cell_type": "markdown",
   "id": "simplified-borough",
   "metadata": {},
   "source": [
    "## Otros modelos de clasificación"
   ]
  },
  {
   "cell_type": "markdown",
   "id": "832490c8",
   "metadata": {},
   "source": [
    "Más literatura en este [enlasito](https://pharos.sh/vision-general-de-los-metodos-de-clasificacion-en-python-con-scikit-learn/)"
   ]
  },
  {
   "cell_type": "code",
   "execution_count": null,
   "id": "previous-publication",
   "metadata": {},
   "outputs": [],
   "source": [
    "from sklearn.discriminant_analysis import LinearDiscriminantAnalysis\n",
    "from sklearn.neighbors import KNeighborsClassifier\n",
    "from sklearn.naive_bayes import GaussianNB\n",
    "from sklearn.tree import DecisionTreeClassifier\n",
    "from sklearn.svm import SVC"
   ]
  },
  {
   "cell_type": "code",
   "execution_count": null,
   "id": "forward-blond",
   "metadata": {},
   "outputs": [],
   "source": [
    "models={\n",
    "    'dis': LinearDiscriminantAnalysis(),\n",
    "    'neighbors': KNeighborsClassifier(),\n",
    "    'naive': GaussianNB(),\n",
    "    'tree': DecisionTreeClassifier(),\n",
    "    'svm': SVC(),\n",
    "}"
   ]
  },
  {
   "cell_type": "code",
   "execution_count": null,
   "id": "cc77c844",
   "metadata": {},
   "outputs": [],
   "source": []
  },
  {
   "cell_type": "markdown",
   "id": "preceding-raising",
   "metadata": {},
   "source": [
    "## Hacemos predicciones y medimos"
   ]
  },
  {
   "cell_type": "code",
   "execution_count": null,
   "id": "applied-cleveland",
   "metadata": {},
   "outputs": [],
   "source": []
  },
  {
   "cell_type": "markdown",
   "id": "f01fe4cc",
   "metadata": {},
   "source": [
    "## Resumen\n",
    "Es tu turno ¿qué hemos aprendido hoy?"
   ]
  },
  {
   "cell_type": "markdown",
   "id": "average-quantum",
   "metadata": {},
   "source": [
    "## Pipeline\n",
    "De cosas que tenemos que hacer sería...:\n",
    "- Cargo los datos\n",
    "- Exploro los datos\n",
    "- Limpio los datos\n",
    "- Divido los datos en train y test\n",
    "- Entreno el modelo con la parte de train\n",
    "- Hago una predicción con la parte de X_test\n",
    "- Saco métricas comparando la y_pred con la y_test\n",
    "- Fin\n",
    "- Clasificación variables cualitativas\n",
    "- Regresión son variables cuantitativas\n",
    "- Hemos visto diferentes métricas de la clasificación.\n",
    "- La matriz de confusión\n",
    "- La verdad y la verdad"
   ]
  }
 ],
 "metadata": {
  "kernelspec": {
   "display_name": "ironhack",
   "language": "python",
   "name": "ironhack"
  },
  "language_info": {
   "codemirror_mode": {
    "name": "ipython",
    "version": 3
   },
   "file_extension": ".py",
   "mimetype": "text/x-python",
   "name": "python",
   "nbconvert_exporter": "python",
   "pygments_lexer": "ipython3",
   "version": "3.8.5"
  },
  "toc": {
   "base_numbering": 1,
   "nav_menu": {},
   "number_sections": true,
   "sideBar": true,
   "skip_h1_title": true,
   "title_cell": "Table of Contents",
   "title_sidebar": "Contents",
   "toc_cell": true,
   "toc_position": {},
   "toc_section_display": true,
   "toc_window_display": false
  }
 },
 "nbformat": 4,
 "nbformat_minor": 5
}
