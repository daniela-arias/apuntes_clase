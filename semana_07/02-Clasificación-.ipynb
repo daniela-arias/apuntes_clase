{
 "cells": [
  {
   "cell_type": "markdown",
   "id": "comparable-lancaster",
   "metadata": {},
   "source": [
    "# Machine Learning - Supervised learning - Clasificación"
   ]
  },
  {
   "cell_type": "markdown",
   "id": "9beb3b66",
   "metadata": {},
   "source": [
    "![titanic](../images/titanic.jpeg)"
   ]
  },
  {
   "cell_type": "markdown",
   "id": "satellite-baseline",
   "metadata": {
    "toc": true
   },
   "source": [
    "<h1>Table of Contents<span class=\"tocSkip\"></span></h1>\n",
    "<div class=\"toc\"><ul class=\"toc-item\"><li><span><a href=\"#Exploración-de-los-datos\" data-toc-modified-id=\"Exploración-de-los-datos-1\"><span class=\"toc-item-num\">1&nbsp;&nbsp;</span>Exploración de los datos</a></span></li><li><span><a href=\"#Regresión-logística\" data-toc-modified-id=\"Regresión-logística-2\"><span class=\"toc-item-num\">2&nbsp;&nbsp;</span>Regresión logística</a></span></li><li><span><a href=\"#Manos-a-la-obra\" data-toc-modified-id=\"Manos-a-la-obra-3\"><span class=\"toc-item-num\">3&nbsp;&nbsp;</span>Manos a la obra</a></span><ul class=\"toc-item\"><li><span><a href=\"#Vamos-a-entrenar-un-modelo\" data-toc-modified-id=\"Vamos-a-entrenar-un-modelo-3.1\"><span class=\"toc-item-num\">3.1&nbsp;&nbsp;</span>Vamos a entrenar un modelo</a></span></li><li><span><a href=\"#Vamos-a-crear-una-columna-de-predicción-para-todo-el-dataframe\" data-toc-modified-id=\"Vamos-a-crear-una-columna-de-predicción-para-todo-el-dataframe-3.2\"><span class=\"toc-item-num\">3.2&nbsp;&nbsp;</span>Vamos a crear una columna de predicción para todo el dataframe</a></span></li><li><span><a href=\"#Matriz-de-confusión-con-nuestros-datos\" data-toc-modified-id=\"Matriz-de-confusión-con-nuestros-datos-3.3\"><span class=\"toc-item-num\">3.3&nbsp;&nbsp;</span>Matriz de confusión con nuestros datos</a></span></li></ul></li><li><span><a href=\"#Hacemos-lo-mismo-con-muchos-predictores\" data-toc-modified-id=\"Hacemos-lo-mismo-con-muchos-predictores-4\"><span class=\"toc-item-num\">4&nbsp;&nbsp;</span>Hacemos lo mismo con muchos predictores</a></span><ul class=\"toc-item\"><li><span><a href=\"#Repaso-de-Train-Test-Split-/-DIVISIÓN-EN-TRAIN-TEST\" data-toc-modified-id=\"Repaso-de-Train-Test-Split-/-DIVISIÓN-EN-TRAIN-TEST-4.1\"><span class=\"toc-item-num\">4.1&nbsp;&nbsp;</span>Repaso de Train Test Split / DIVISIÓN EN TRAIN TEST</a></span></li><li><span><a href=\"#Veamos-lo-que-tenemos\" data-toc-modified-id=\"Veamos-lo-que-tenemos-4.2\"><span class=\"toc-item-num\">4.2&nbsp;&nbsp;</span>Veamos lo que tenemos</a></span><ul class=\"toc-item\"><li><span><a href=\"#Parte-de-train\" data-toc-modified-id=\"Parte-de-train-4.2.1\"><span class=\"toc-item-num\">4.2.1&nbsp;&nbsp;</span>Parte de train</a></span></li><li><span><a href=\"#Parte-de-test\" data-toc-modified-id=\"Parte-de-test-4.2.2\"><span class=\"toc-item-num\">4.2.2&nbsp;&nbsp;</span>Parte de test</a></span></li></ul></li></ul></li><li><span><a href=\"#Predict-Proba\" data-toc-modified-id=\"Predict-Proba-5\"><span class=\"toc-item-num\">5&nbsp;&nbsp;</span>Predict Proba</a></span></li><li><span><a href=\"#Métricas!\" data-toc-modified-id=\"Métricas!-6\"><span class=\"toc-item-num\">6&nbsp;&nbsp;</span>Métricas!</a></span><ul class=\"toc-item\"><li><span><a href=\"#Matriz-de-confusión\" data-toc-modified-id=\"Matriz-de-confusión-6.1\"><span class=\"toc-item-num\">6.1&nbsp;&nbsp;</span>Matriz de confusión</a></span></li><li><span><a href=\"#Accuracy\" data-toc-modified-id=\"Accuracy-6.2\"><span class=\"toc-item-num\">6.2&nbsp;&nbsp;</span>Accuracy</a></span></li><li><span><a href=\"#Precision-(Precisión)\" data-toc-modified-id=\"Precision-(Precisión)-6.3\"><span class=\"toc-item-num\">6.3&nbsp;&nbsp;</span>Precision (Precisión)</a></span></li><li><span><a href=\"#Recall-(Exhaustividad)\" data-toc-modified-id=\"Recall-(Exhaustividad)-6.4\"><span class=\"toc-item-num\">6.4&nbsp;&nbsp;</span>Recall (Exhaustividad)</a></span></li><li><span><a href=\"#Diferenciando-precision-y-recall\" data-toc-modified-id=\"Diferenciando-precision-y-recall-6.5\"><span class=\"toc-item-num\">6.5&nbsp;&nbsp;</span>Diferenciando precision y recall</a></span></li><li><span><a href=\"#F1-Score\" data-toc-modified-id=\"F1-Score-6.6\"><span class=\"toc-item-num\">6.6&nbsp;&nbsp;</span>F1 Score</a></span></li></ul></li><li><span><a href=\"#Otros-modelos-de-clasificación\" data-toc-modified-id=\"Otros-modelos-de-clasificación-7\"><span class=\"toc-item-num\">7&nbsp;&nbsp;</span>Otros modelos de clasificación</a></span></li><li><span><a href=\"#Hacemos-predicciones-y-medimos\" data-toc-modified-id=\"Hacemos-predicciones-y-medimos-8\"><span class=\"toc-item-num\">8&nbsp;&nbsp;</span>Hacemos predicciones y medimos</a></span></li><li><span><a href=\"#Resumen\" data-toc-modified-id=\"Resumen-9\"><span class=\"toc-item-num\">9&nbsp;&nbsp;</span>Resumen</a></span></li><li><span><a href=\"#Pipeline\" data-toc-modified-id=\"Pipeline-10\"><span class=\"toc-item-num\">10&nbsp;&nbsp;</span>Pipeline</a></span></li></ul></div>"
   ]
  },
  {
   "cell_type": "code",
   "execution_count": 3,
   "id": "computational-efficiency",
   "metadata": {},
   "outputs": [],
   "source": [
    "import warnings\n",
    "warnings.filterwarnings(\"ignore\")\n",
    "import pandas as pd\n",
    "import seaborn as sns\n",
    "# El mantra de las visualizaciones\n",
    "from matplotlib import pyplot as plt\n",
    "%matplotlib inline\n",
    "%config Inlinebackend.figure_format = 'retina'\n",
    "\n",
    "import seaborn as sns\n",
    "sns.set_context('poster')\n",
    "sns.set(rc={'figure.figsize': (16., 9.)})\n",
    "sns.set_style('whitegrid')"
   ]
  },
  {
   "cell_type": "markdown",
   "id": "above-schedule",
   "metadata": {},
   "source": [
    " * Los modelos de **regresión** se utilizan cuando la variable objetivo es **cuantitativa**: \n",
    "  - salarios\n",
    "  - emisiones de gases\n",
    "  - edad de la persona en una foto\n",
    "  - ...\n",
    " * Los modelos de **clasificación** se utilizan cuando la variable objetivo es **cualitativa**: \n",
    "  - sobrevivir (o no) al Titanic\n",
    "  - devolver (o no) un préstamo\n",
    "  - identificar un perro (o no) en una foto\n",
    "  - decidir cuál de 3 especies de plantas es ésta\n",
    "  - ..."
   ]
  },
  {
   "cell_type": "markdown",
   "id": "julian-proposition",
   "metadata": {},
   "source": [
    "## Exploración de los datos"
   ]
  },
  {
   "cell_type": "code",
   "execution_count": 4,
   "id": "boolean-biotechnology",
   "metadata": {},
   "outputs": [],
   "source": [
    "df = pd.read_csv(\"../datasets/breast_cancer.csv\")"
   ]
  },
  {
   "cell_type": "code",
   "execution_count": 5,
   "id": "korean-indie",
   "metadata": {},
   "outputs": [
    {
     "data": {
      "text/plain": [
       "(569, 31)"
      ]
     },
     "execution_count": 5,
     "metadata": {},
     "output_type": "execute_result"
    }
   ],
   "source": [
    "df.shape"
   ]
  },
  {
   "cell_type": "code",
   "execution_count": 6,
   "id": "forward-encyclopedia",
   "metadata": {},
   "outputs": [
    {
     "data": {
      "text/html": [
       "<div>\n",
       "<style scoped>\n",
       "    .dataframe tbody tr th:only-of-type {\n",
       "        vertical-align: middle;\n",
       "    }\n",
       "\n",
       "    .dataframe tbody tr th {\n",
       "        vertical-align: top;\n",
       "    }\n",
       "\n",
       "    .dataframe thead th {\n",
       "        text-align: right;\n",
       "    }\n",
       "</style>\n",
       "<table border=\"1\" class=\"dataframe\">\n",
       "  <thead>\n",
       "    <tr style=\"text-align: right;\">\n",
       "      <th></th>\n",
       "      <th>mean_radius</th>\n",
       "      <th>mean_texture</th>\n",
       "      <th>mean_perimeter</th>\n",
       "      <th>mean_area</th>\n",
       "      <th>mean_smoothness</th>\n",
       "      <th>mean_compactness</th>\n",
       "      <th>mean_concavity</th>\n",
       "      <th>mean_concave_points</th>\n",
       "      <th>mean_symmetry</th>\n",
       "      <th>mean_fractal_dimension</th>\n",
       "      <th>...</th>\n",
       "      <th>worst_texture</th>\n",
       "      <th>worst_perimeter</th>\n",
       "      <th>worst_area</th>\n",
       "      <th>worst_smoothness</th>\n",
       "      <th>worst_compactness</th>\n",
       "      <th>worst_concavity</th>\n",
       "      <th>worst_concave_points</th>\n",
       "      <th>worst_symmetry</th>\n",
       "      <th>worst_fractal_dimension</th>\n",
       "      <th>is_cancer</th>\n",
       "    </tr>\n",
       "  </thead>\n",
       "  <tbody>\n",
       "    <tr>\n",
       "      <th>0</th>\n",
       "      <td>17.99</td>\n",
       "      <td>10.38</td>\n",
       "      <td>122.80</td>\n",
       "      <td>1001.0</td>\n",
       "      <td>0.11840</td>\n",
       "      <td>0.27760</td>\n",
       "      <td>0.3001</td>\n",
       "      <td>0.14710</td>\n",
       "      <td>0.2419</td>\n",
       "      <td>0.07871</td>\n",
       "      <td>...</td>\n",
       "      <td>17.33</td>\n",
       "      <td>184.60</td>\n",
       "      <td>2019.0</td>\n",
       "      <td>0.1622</td>\n",
       "      <td>0.6656</td>\n",
       "      <td>0.7119</td>\n",
       "      <td>0.2654</td>\n",
       "      <td>0.4601</td>\n",
       "      <td>0.11890</td>\n",
       "      <td>1</td>\n",
       "    </tr>\n",
       "    <tr>\n",
       "      <th>1</th>\n",
       "      <td>20.57</td>\n",
       "      <td>17.77</td>\n",
       "      <td>132.90</td>\n",
       "      <td>1326.0</td>\n",
       "      <td>0.08474</td>\n",
       "      <td>0.07864</td>\n",
       "      <td>0.0869</td>\n",
       "      <td>0.07017</td>\n",
       "      <td>0.1812</td>\n",
       "      <td>0.05667</td>\n",
       "      <td>...</td>\n",
       "      <td>23.41</td>\n",
       "      <td>158.80</td>\n",
       "      <td>1956.0</td>\n",
       "      <td>0.1238</td>\n",
       "      <td>0.1866</td>\n",
       "      <td>0.2416</td>\n",
       "      <td>0.1860</td>\n",
       "      <td>0.2750</td>\n",
       "      <td>0.08902</td>\n",
       "      <td>1</td>\n",
       "    </tr>\n",
       "    <tr>\n",
       "      <th>2</th>\n",
       "      <td>19.69</td>\n",
       "      <td>21.25</td>\n",
       "      <td>130.00</td>\n",
       "      <td>1203.0</td>\n",
       "      <td>0.10960</td>\n",
       "      <td>0.15990</td>\n",
       "      <td>0.1974</td>\n",
       "      <td>0.12790</td>\n",
       "      <td>0.2069</td>\n",
       "      <td>0.05999</td>\n",
       "      <td>...</td>\n",
       "      <td>25.53</td>\n",
       "      <td>152.50</td>\n",
       "      <td>1709.0</td>\n",
       "      <td>0.1444</td>\n",
       "      <td>0.4245</td>\n",
       "      <td>0.4504</td>\n",
       "      <td>0.2430</td>\n",
       "      <td>0.3613</td>\n",
       "      <td>0.08758</td>\n",
       "      <td>1</td>\n",
       "    </tr>\n",
       "    <tr>\n",
       "      <th>3</th>\n",
       "      <td>11.42</td>\n",
       "      <td>20.38</td>\n",
       "      <td>77.58</td>\n",
       "      <td>386.1</td>\n",
       "      <td>0.14250</td>\n",
       "      <td>0.28390</td>\n",
       "      <td>0.2414</td>\n",
       "      <td>0.10520</td>\n",
       "      <td>0.2597</td>\n",
       "      <td>0.09744</td>\n",
       "      <td>...</td>\n",
       "      <td>26.50</td>\n",
       "      <td>98.87</td>\n",
       "      <td>567.7</td>\n",
       "      <td>0.2098</td>\n",
       "      <td>0.8663</td>\n",
       "      <td>0.6869</td>\n",
       "      <td>0.2575</td>\n",
       "      <td>0.6638</td>\n",
       "      <td>0.17300</td>\n",
       "      <td>1</td>\n",
       "    </tr>\n",
       "    <tr>\n",
       "      <th>4</th>\n",
       "      <td>20.29</td>\n",
       "      <td>14.34</td>\n",
       "      <td>135.10</td>\n",
       "      <td>1297.0</td>\n",
       "      <td>0.10030</td>\n",
       "      <td>0.13280</td>\n",
       "      <td>0.1980</td>\n",
       "      <td>0.10430</td>\n",
       "      <td>0.1809</td>\n",
       "      <td>0.05883</td>\n",
       "      <td>...</td>\n",
       "      <td>16.67</td>\n",
       "      <td>152.20</td>\n",
       "      <td>1575.0</td>\n",
       "      <td>0.1374</td>\n",
       "      <td>0.2050</td>\n",
       "      <td>0.4000</td>\n",
       "      <td>0.1625</td>\n",
       "      <td>0.2364</td>\n",
       "      <td>0.07678</td>\n",
       "      <td>1</td>\n",
       "    </tr>\n",
       "  </tbody>\n",
       "</table>\n",
       "<p>5 rows × 31 columns</p>\n",
       "</div>"
      ],
      "text/plain": [
       "   mean_radius  mean_texture  mean_perimeter  mean_area  mean_smoothness  \\\n",
       "0        17.99         10.38          122.80     1001.0          0.11840   \n",
       "1        20.57         17.77          132.90     1326.0          0.08474   \n",
       "2        19.69         21.25          130.00     1203.0          0.10960   \n",
       "3        11.42         20.38           77.58      386.1          0.14250   \n",
       "4        20.29         14.34          135.10     1297.0          0.10030   \n",
       "\n",
       "   mean_compactness  mean_concavity  mean_concave_points  mean_symmetry  \\\n",
       "0           0.27760          0.3001              0.14710         0.2419   \n",
       "1           0.07864          0.0869              0.07017         0.1812   \n",
       "2           0.15990          0.1974              0.12790         0.2069   \n",
       "3           0.28390          0.2414              0.10520         0.2597   \n",
       "4           0.13280          0.1980              0.10430         0.1809   \n",
       "\n",
       "   mean_fractal_dimension  ...  worst_texture  worst_perimeter  worst_area  \\\n",
       "0                 0.07871  ...          17.33           184.60      2019.0   \n",
       "1                 0.05667  ...          23.41           158.80      1956.0   \n",
       "2                 0.05999  ...          25.53           152.50      1709.0   \n",
       "3                 0.09744  ...          26.50            98.87       567.7   \n",
       "4                 0.05883  ...          16.67           152.20      1575.0   \n",
       "\n",
       "   worst_smoothness  worst_compactness  worst_concavity  worst_concave_points  \\\n",
       "0            0.1622             0.6656           0.7119                0.2654   \n",
       "1            0.1238             0.1866           0.2416                0.1860   \n",
       "2            0.1444             0.4245           0.4504                0.2430   \n",
       "3            0.2098             0.8663           0.6869                0.2575   \n",
       "4            0.1374             0.2050           0.4000                0.1625   \n",
       "\n",
       "   worst_symmetry  worst_fractal_dimension  is_cancer  \n",
       "0          0.4601                  0.11890          1  \n",
       "1          0.2750                  0.08902          1  \n",
       "2          0.3613                  0.08758          1  \n",
       "3          0.6638                  0.17300          1  \n",
       "4          0.2364                  0.07678          1  \n",
       "\n",
       "[5 rows x 31 columns]"
      ]
     },
     "execution_count": 6,
     "metadata": {},
     "output_type": "execute_result"
    }
   ],
   "source": [
    "df.head()"
   ]
  },
  {
   "cell_type": "code",
   "execution_count": 7,
   "id": "political-sleeping",
   "metadata": {},
   "outputs": [
    {
     "data": {
      "text/plain": [
       "Index(['mean_radius', 'mean_texture', 'mean_perimeter', 'mean_area',\n",
       "       'mean_smoothness', 'mean_compactness', 'mean_concavity',\n",
       "       'mean_concave_points', 'mean_symmetry', 'mean_fractal_dimension',\n",
       "       'radius_error', 'texture_error', 'perimeter_error', 'area_error',\n",
       "       'smoothness_error', 'compactness_error', 'concavity_error',\n",
       "       'concave_points_error', 'symmetry_error', 'fractal_dimension_error',\n",
       "       'worst_radius', 'worst_texture', 'worst_perimeter', 'worst_area',\n",
       "       'worst_smoothness', 'worst_compactness', 'worst_concavity',\n",
       "       'worst_concave_points', 'worst_symmetry', 'worst_fractal_dimension',\n",
       "       'is_cancer'],\n",
       "      dtype='object')"
      ]
     },
     "execution_count": 7,
     "metadata": {},
     "output_type": "execute_result"
    }
   ],
   "source": [
    "df.columns"
   ]
  },
  {
   "cell_type": "markdown",
   "id": "central-applicant",
   "metadata": {},
   "source": [
    "Documentation:  \n",
    "a) radius (mean of distances from center to points on the perimeter)  \n",
    "b) texture (standard deviation of gray-scale values)  \n",
    "c) perimeter  \n",
    "d) area  \n",
    "e) smoothness (local variation in radius lengths)  \n",
    "f) compactness (perimeter^2 / area - 1.0)  \n",
    "g) concavity (severity of concave portions of the contour)  \n",
    "h) concave points (number of concave portions of the contour)  \n",
    "i) symmetry  \n",
    "j) fractal dimension (\"coastline approximation\" - 1)  "
   ]
  },
  {
   "cell_type": "markdown",
   "id": "superior-cinema",
   "metadata": {},
   "source": [
    "La variable objetivo es `es_cáncer`.\n",
    "\n",
    "Es una variable categórica, que toma los valores posibles $0$ y $1$"
   ]
  },
  {
   "cell_type": "code",
   "execution_count": null,
   "id": "athletic-imperial",
   "metadata": {},
   "outputs": [],
   "source": [
    "# Vamos a visualizar de forma rápida el balanceo de variables categóricas"
   ]
  },
  {
   "cell_type": "code",
   "execution_count": 8,
   "id": "98b6015d",
   "metadata": {},
   "outputs": [
    {
     "data": {
      "text/plain": [
       "<AxesSubplot:xlabel='is_cancer', ylabel='count'>"
      ]
     },
     "execution_count": 8,
     "metadata": {},
     "output_type": "execute_result"
    },
    {
     "data": {
      "image/png": "[encoded data removed]",
      "text/plain": [
       "<Figure size 1152x648 with 1 Axes>"
      ]
     },
     "metadata": {},
     "output_type": "display_data"
    }
   ],
   "source": [
    "sns.countplot(x=df.is_cancer)"
   ]
  },
  {
   "cell_type": "markdown",
   "id": "conceptual-alignment",
   "metadata": {},
   "source": [
    "## Regresión logística\n",
    "La regresión logística es uno de los algoritmos más populares y utilizados para los problemas de clasificación. Como además es relativamente poco complejo y fácil de implementar, se suele utilizar como modelo de partida, aunque también puede producir resultados de muy alto rendimiento utilizado en producción. Aquí vamos a hablar de la Regresión Logística Binomial, que se utiliza para resultados binarios. La Regresión Logística Multinomial existe y puede utilizarse para problemas de clasificación multiclase, pero se utiliza con menos frecuencia. No la trataremos en esta lección. \n",
    "\n",
    "La regresión logística es en realidad una función de regresión lineal transformada. Podemos ver en la imagen de abajo que si intentáramos ajustar una regresión lineal a unos datos con un resultado binario, ajustaríamos una línea que no predice muy bien para ningún valor que no esté en los valores extremos: en el medio hay mucha zona en la que la línea está muy lejos de los puntos. Para acercar nuestra función a los datos, tenemos que transformar la función que estamos utilizando. En este caso, es útil utilizar una función sigmoide, que estima una forma de \"S\". Ahora podemos ver que nuestra línea se ajusta a los datos mucho mejor. "
   ]
  },
  {
   "cell_type": "markdown",
   "id": "great-supervision",
   "metadata": {},
   "source": [
    "![regresiónlogística](http://res.cloudinary.com/dyd911kmh/image/upload/f_auto,q_auto:best/v1534281070/linear_vs_logistic_regression_edxw03.png)"
   ]
  },
  {
   "cell_type": "markdown",
   "id": "appreciated-people",
   "metadata": {},
   "source": [
    "Refs:\n",
    "\n",
    "https://scikit-learn.org/stable/modules/generated/sklearn.linear_model.LogisticRegression.html     \n",
    "https://techdifferences.com/difference-between-linear-and-logistic-regression.html    \n",
    "https://stackoverflow.com/questions/12146914/what-is-the-difference-between-linear-regression-and-logistic-regression"
   ]
  },
  {
   "cell_type": "markdown",
   "id": "addressed-struggle",
   "metadata": {},
   "source": [
    "## Manos a la obra"
   ]
  },
  {
   "cell_type": "markdown",
   "id": "centered-ability",
   "metadata": {},
   "source": [
    "Intentemos predecir `is_cancer` usando sólo como predictor `mean_radius`."
   ]
  },
  {
   "cell_type": "code",
   "execution_count": 11,
   "id": "subject-rings",
   "metadata": {},
   "outputs": [],
   "source": [
    "df = df[[\"mean_radius\",\"is_cancer\"]]"
   ]
  },
  {
   "cell_type": "code",
   "execution_count": 14,
   "id": "exceptional-resident",
   "metadata": {},
   "outputs": [
    {
     "data": {
      "text/html": [
       "<div>\n",
       "<style scoped>\n",
       "    .dataframe tbody tr th:only-of-type {\n",
       "        vertical-align: middle;\n",
       "    }\n",
       "\n",
       "    .dataframe tbody tr th {\n",
       "        vertical-align: top;\n",
       "    }\n",
       "\n",
       "    .dataframe thead th {\n",
       "        text-align: right;\n",
       "    }\n",
       "</style>\n",
       "<table border=\"1\" class=\"dataframe\">\n",
       "  <thead>\n",
       "    <tr style=\"text-align: right;\">\n",
       "      <th></th>\n",
       "      <th>mean_radius</th>\n",
       "      <th>is_cancer</th>\n",
       "    </tr>\n",
       "  </thead>\n",
       "  <tbody>\n",
       "    <tr>\n",
       "      <th>262</th>\n",
       "      <td>17.29</td>\n",
       "      <td>1</td>\n",
       "    </tr>\n",
       "    <tr>\n",
       "      <th>513</th>\n",
       "      <td>14.58</td>\n",
       "      <td>0</td>\n",
       "    </tr>\n",
       "    <tr>\n",
       "      <th>79</th>\n",
       "      <td>12.86</td>\n",
       "      <td>0</td>\n",
       "    </tr>\n",
       "    <tr>\n",
       "      <th>384</th>\n",
       "      <td>13.28</td>\n",
       "      <td>0</td>\n",
       "    </tr>\n",
       "    <tr>\n",
       "      <th>48</th>\n",
       "      <td>12.05</td>\n",
       "      <td>0</td>\n",
       "    </tr>\n",
       "  </tbody>\n",
       "</table>\n",
       "</div>"
      ],
      "text/plain": [
       "     mean_radius  is_cancer\n",
       "262        17.29          1\n",
       "513        14.58          0\n",
       "79         12.86          0\n",
       "384        13.28          0\n",
       "48         12.05          0"
      ]
     },
     "execution_count": 14,
     "metadata": {},
     "output_type": "execute_result"
    }
   ],
   "source": [
    "df.sample(5)"
   ]
  },
  {
   "cell_type": "markdown",
   "id": "collected-international",
   "metadata": {},
   "source": [
    "### Vamos a entrenar un modelo"
   ]
  },
  {
   "cell_type": "code",
   "execution_count": 15,
   "id": "binding-interview",
   "metadata": {},
   "outputs": [],
   "source": [
    "from sklearn.linear_model import LogisticRegression"
   ]
  },
  {
   "cell_type": "code",
   "execution_count": 16,
   "id": "historical-suggestion",
   "metadata": {},
   "outputs": [],
   "source": [
    "log = LogisticRegression()"
   ]
  },
  {
   "cell_type": "code",
   "execution_count": 17,
   "id": "atomic-actress",
   "metadata": {},
   "outputs": [],
   "source": [
    "X = df[[\"mean_radius\"]]"
   ]
  },
  {
   "cell_type": "code",
   "execution_count": 18,
   "id": "moral-graduation",
   "metadata": {},
   "outputs": [],
   "source": [
    "y = df[\"is_cancer\"]"
   ]
  },
  {
   "cell_type": "code",
   "execution_count": 19,
   "id": "73c9abb3",
   "metadata": {},
   "outputs": [
    {
     "data": {
      "text/plain": [
       "LogisticRegression()"
      ]
     },
     "execution_count": 19,
     "metadata": {},
     "output_type": "execute_result"
    }
   ],
   "source": [
    "log.fit(X,y)"
   ]
  },
  {
   "cell_type": "code",
   "execution_count": null,
   "id": "civilian-citizen",
   "metadata": {},
   "outputs": [],
   "source": [
    "# Vamos a ver cómo funcionarcía con los primeroos 5 pacientes"
   ]
  },
  {
   "cell_type": "code",
   "execution_count": 21,
   "id": "aea8ed5d",
   "metadata": {},
   "outputs": [
    {
     "data": {
      "text/html": [
       "<div>\n",
       "<style scoped>\n",
       "    .dataframe tbody tr th:only-of-type {\n",
       "        vertical-align: middle;\n",
       "    }\n",
       "\n",
       "    .dataframe tbody tr th {\n",
       "        vertical-align: top;\n",
       "    }\n",
       "\n",
       "    .dataframe thead th {\n",
       "        text-align: right;\n",
       "    }\n",
       "</style>\n",
       "<table border=\"1\" class=\"dataframe\">\n",
       "  <thead>\n",
       "    <tr style=\"text-align: right;\">\n",
       "      <th></th>\n",
       "      <th>mean_radius</th>\n",
       "      <th>is_cancer</th>\n",
       "    </tr>\n",
       "  </thead>\n",
       "  <tbody>\n",
       "    <tr>\n",
       "      <th>0</th>\n",
       "      <td>17.99</td>\n",
       "      <td>1</td>\n",
       "    </tr>\n",
       "    <tr>\n",
       "      <th>1</th>\n",
       "      <td>20.57</td>\n",
       "      <td>1</td>\n",
       "    </tr>\n",
       "    <tr>\n",
       "      <th>2</th>\n",
       "      <td>19.69</td>\n",
       "      <td>1</td>\n",
       "    </tr>\n",
       "    <tr>\n",
       "      <th>3</th>\n",
       "      <td>11.42</td>\n",
       "      <td>1</td>\n",
       "    </tr>\n",
       "    <tr>\n",
       "      <th>4</th>\n",
       "      <td>20.29</td>\n",
       "      <td>1</td>\n",
       "    </tr>\n",
       "  </tbody>\n",
       "</table>\n",
       "</div>"
      ],
      "text/plain": [
       "   mean_radius  is_cancer\n",
       "0        17.99          1\n",
       "1        20.57          1\n",
       "2        19.69          1\n",
       "3        11.42          1\n",
       "4        20.29          1"
      ]
     },
     "metadata": {},
     "output_type": "display_data"
    }
   ],
   "source": [
    "df_reducido = df[0:5]\n",
    "display(df_reducido)"
   ]
  },
  {
   "cell_type": "code",
   "execution_count": null,
   "id": "intense-recognition",
   "metadata": {},
   "outputs": [],
   "source": [
    "#Un modelo entrenado es una \"máquina de predicción\""
   ]
  },
  {
   "cell_type": "code",
   "execution_count": 22,
   "id": "further-transaction",
   "metadata": {},
   "outputs": [],
   "source": [
    "df_reducido[\"predicción\"] = log.predict(df_reducido[[\"mean_radius\"]])"
   ]
  },
  {
   "cell_type": "code",
   "execution_count": 25,
   "id": "endless-pennsylvania",
   "metadata": {},
   "outputs": [
    {
     "data": {
      "text/html": [
       "<div>\n",
       "<style scoped>\n",
       "    .dataframe tbody tr th:only-of-type {\n",
       "        vertical-align: middle;\n",
       "    }\n",
       "\n",
       "    .dataframe tbody tr th {\n",
       "        vertical-align: top;\n",
       "    }\n",
       "\n",
       "    .dataframe thead th {\n",
       "        text-align: right;\n",
       "    }\n",
       "</style>\n",
       "<table border=\"1\" class=\"dataframe\">\n",
       "  <thead>\n",
       "    <tr style=\"text-align: right;\">\n",
       "      <th></th>\n",
       "      <th>mean_radius</th>\n",
       "      <th>is_cancer</th>\n",
       "      <th>predicción</th>\n",
       "    </tr>\n",
       "  </thead>\n",
       "  <tbody>\n",
       "    <tr>\n",
       "      <th>0</th>\n",
       "      <td>17.99</td>\n",
       "      <td>1</td>\n",
       "      <td>1</td>\n",
       "    </tr>\n",
       "    <tr>\n",
       "      <th>1</th>\n",
       "      <td>20.57</td>\n",
       "      <td>1</td>\n",
       "      <td>1</td>\n",
       "    </tr>\n",
       "    <tr>\n",
       "      <th>2</th>\n",
       "      <td>19.69</td>\n",
       "      <td>1</td>\n",
       "      <td>1</td>\n",
       "    </tr>\n",
       "    <tr>\n",
       "      <th>3</th>\n",
       "      <td>11.42</td>\n",
       "      <td>1</td>\n",
       "      <td>0</td>\n",
       "    </tr>\n",
       "    <tr>\n",
       "      <th>4</th>\n",
       "      <td>20.29</td>\n",
       "      <td>1</td>\n",
       "      <td>1</td>\n",
       "    </tr>\n",
       "  </tbody>\n",
       "</table>\n",
       "</div>"
      ],
      "text/plain": [
       "   mean_radius  is_cancer  predicción\n",
       "0        17.99          1           1\n",
       "1        20.57          1           1\n",
       "2        19.69          1           1\n",
       "3        11.42          1           0\n",
       "4        20.29          1           1"
      ]
     },
     "execution_count": 25,
     "metadata": {},
     "output_type": "execute_result"
    }
   ],
   "source": [
    "df_reducido"
   ]
  },
  {
   "cell_type": "markdown",
   "id": "electoral-heather",
   "metadata": {},
   "source": [
    "### Vamos a crear una columna de predicción para todo el dataframe"
   ]
  },
  {
   "cell_type": "code",
   "execution_count": 26,
   "id": "exact-audio",
   "metadata": {},
   "outputs": [],
   "source": [
    "df[\"prediction_cancer\"] = log.predict(df[[\"mean_radius\"]])"
   ]
  },
  {
   "cell_type": "code",
   "execution_count": 29,
   "id": "accompanied-volunteer",
   "metadata": {},
   "outputs": [
    {
     "data": {
      "text/html": [
       "<div>\n",
       "<style scoped>\n",
       "    .dataframe tbody tr th:only-of-type {\n",
       "        vertical-align: middle;\n",
       "    }\n",
       "\n",
       "    .dataframe tbody tr th {\n",
       "        vertical-align: top;\n",
       "    }\n",
       "\n",
       "    .dataframe thead th {\n",
       "        text-align: right;\n",
       "    }\n",
       "</style>\n",
       "<table border=\"1\" class=\"dataframe\">\n",
       "  <thead>\n",
       "    <tr style=\"text-align: right;\">\n",
       "      <th></th>\n",
       "      <th>mean_radius</th>\n",
       "      <th>is_cancer</th>\n",
       "      <th>prediction_cancer</th>\n",
       "    </tr>\n",
       "  </thead>\n",
       "  <tbody>\n",
       "    <tr>\n",
       "      <th>553</th>\n",
       "      <td>9.333</td>\n",
       "      <td>0</td>\n",
       "      <td>0</td>\n",
       "    </tr>\n",
       "    <tr>\n",
       "      <th>459</th>\n",
       "      <td>9.755</td>\n",
       "      <td>0</td>\n",
       "      <td>0</td>\n",
       "    </tr>\n",
       "    <tr>\n",
       "      <th>508</th>\n",
       "      <td>16.300</td>\n",
       "      <td>0</td>\n",
       "      <td>1</td>\n",
       "    </tr>\n",
       "    <tr>\n",
       "      <th>24</th>\n",
       "      <td>16.650</td>\n",
       "      <td>1</td>\n",
       "      <td>1</td>\n",
       "    </tr>\n",
       "    <tr>\n",
       "      <th>435</th>\n",
       "      <td>13.980</td>\n",
       "      <td>1</td>\n",
       "      <td>0</td>\n",
       "    </tr>\n",
       "    <tr>\n",
       "      <th>348</th>\n",
       "      <td>11.470</td>\n",
       "      <td>0</td>\n",
       "      <td>0</td>\n",
       "    </tr>\n",
       "    <tr>\n",
       "      <th>450</th>\n",
       "      <td>11.870</td>\n",
       "      <td>0</td>\n",
       "      <td>0</td>\n",
       "    </tr>\n",
       "    <tr>\n",
       "      <th>369</th>\n",
       "      <td>22.010</td>\n",
       "      <td>1</td>\n",
       "      <td>1</td>\n",
       "    </tr>\n",
       "    <tr>\n",
       "      <th>128</th>\n",
       "      <td>15.100</td>\n",
       "      <td>0</td>\n",
       "      <td>1</td>\n",
       "    </tr>\n",
       "    <tr>\n",
       "      <th>120</th>\n",
       "      <td>11.410</td>\n",
       "      <td>0</td>\n",
       "      <td>0</td>\n",
       "    </tr>\n",
       "  </tbody>\n",
       "</table>\n",
       "</div>"
      ],
      "text/plain": [
       "     mean_radius  is_cancer  prediction_cancer\n",
       "553        9.333          0                  0\n",
       "459        9.755          0                  0\n",
       "508       16.300          0                  1\n",
       "24        16.650          1                  1\n",
       "435       13.980          1                  0\n",
       "348       11.470          0                  0\n",
       "450       11.870          0                  0\n",
       "369       22.010          1                  1\n",
       "128       15.100          0                  1\n",
       "120       11.410          0                  0"
      ]
     },
     "execution_count": 29,
     "metadata": {},
     "output_type": "execute_result"
    }
   ],
   "source": [
    "df.sample(10)"
   ]
  },
  {
   "cell_type": "markdown",
   "id": "weighted-creation",
   "metadata": {},
   "source": [
    "### Matriz de confusión con nuestros datos"
   ]
  },
  {
   "cell_type": "code",
   "execution_count": 31,
   "id": "ambient-entertainment",
   "metadata": {},
   "outputs": [
    {
     "data": {
      "text/html": [
       "<div>\n",
       "<style scoped>\n",
       "    .dataframe tbody tr th:only-of-type {\n",
       "        vertical-align: middle;\n",
       "    }\n",
       "\n",
       "    .dataframe tbody tr th {\n",
       "        vertical-align: top;\n",
       "    }\n",
       "\n",
       "    .dataframe thead th {\n",
       "        text-align: right;\n",
       "    }\n",
       "</style>\n",
       "<table border=\"1\" class=\"dataframe\">\n",
       "  <thead>\n",
       "    <tr style=\"text-align: right;\">\n",
       "      <th>prediction_cancer</th>\n",
       "      <th>0</th>\n",
       "      <th>1</th>\n",
       "    </tr>\n",
       "    <tr>\n",
       "      <th>is_cancer</th>\n",
       "      <th></th>\n",
       "      <th></th>\n",
       "    </tr>\n",
       "  </thead>\n",
       "  <tbody>\n",
       "    <tr>\n",
       "      <th>0</th>\n",
       "      <td>333</td>\n",
       "      <td>24</td>\n",
       "    </tr>\n",
       "    <tr>\n",
       "      <th>1</th>\n",
       "      <td>45</td>\n",
       "      <td>167</td>\n",
       "    </tr>\n",
       "  </tbody>\n",
       "</table>\n",
       "</div>"
      ],
      "text/plain": [
       "prediction_cancer    0    1\n",
       "is_cancer                  \n",
       "0                  333   24\n",
       "1                   45  167"
      ]
     },
     "execution_count": 31,
     "metadata": {},
     "output_type": "execute_result"
    }
   ],
   "source": [
    "pd.crosstab(\n",
    "    df.is_cancer,\n",
    "    df.prediction_cancer\n",
    ")"
   ]
  },
  {
   "cell_type": "markdown",
   "id": "06a33b3d",
   "metadata": {},
   "source": [
    "* 333 - Hemos prdicho NO y es No      \n",
    "* 24 - Hemos predicho SÍ y es No       \n",
    "* 45 - Hemos predico NO y es SÍ           \n",
    "* 167 - Hemos predicho SÍ y es Sí"
   ]
  },
  {
   "cell_type": "code",
   "execution_count": 32,
   "id": "3ebfb51d",
   "metadata": {},
   "outputs": [],
   "source": [
    "import numpy as np\n",
    "x = np.linspace(df.mean_radius.min(), df.mean_radius.max(),100)\n",
    "y = log.predict(x.reshape(-1,1))"
   ]
  },
  {
   "cell_type": "code",
   "execution_count": 33,
   "id": "e4fa89ed",
   "metadata": {},
   "outputs": [
    {
     "data": {
      "text/plain": [
       "[<matplotlib.lines.Line2D at 0x7fd454d11ac0>]"
      ]
     },
     "execution_count": 33,
     "metadata": {},
     "output_type": "execute_result"
    },
    {
     "data": {
      "image/png": "[encoded data removed]",
      "text/plain": [
       "<Figure size 1152x648 with 1 Axes>"
      ]
     },
     "metadata": {},
     "output_type": "display_data"
    }
   ],
   "source": [
    "sns.scatterplot(x=df.mean_radius, y=df.is_cancer)\n",
    "plt.plot(x,y,c=\"red\")"
   ]
  },
  {
   "cell_type": "markdown",
   "id": "ad6a9a4f",
   "metadata": {},
   "source": [
    "## Hacemos lo mismo con muchos predictores "
   ]
  },
  {
   "cell_type": "markdown",
   "id": "material-retailer",
   "metadata": {},
   "source": [
    "### Repaso de Train Test Split / DIVISIÓN EN TRAIN TEST"
   ]
  },
  {
   "cell_type": "markdown",
   "id": "faca1bd7",
   "metadata": {},
   "source": [
    "![divisióntraintest](../images/traintest.png)"
   ]
  },
  {
   "cell_type": "markdown",
   "id": "67a5ed16",
   "metadata": {},
   "source": [
    "https://scikit-learn.org/stable/modules/generated/sklearn.model_selection.train_test_split.html"
   ]
  },
  {
   "cell_type": "code",
   "execution_count": 34,
   "id": "2c92c833",
   "metadata": {},
   "outputs": [],
   "source": [
    "from sklearn.model_selection import train_test_split"
   ]
  },
  {
   "cell_type": "code",
   "execution_count": 35,
   "id": "9e20e312",
   "metadata": {},
   "outputs": [],
   "source": [
    "data = pd.read_csv(\"../datasets/breast_cancer.csv\")"
   ]
  },
  {
   "cell_type": "code",
   "execution_count": 36,
   "id": "17d25d05",
   "metadata": {},
   "outputs": [
    {
     "data": {
      "text/html": [
       "<div>\n",
       "<style scoped>\n",
       "    .dataframe tbody tr th:only-of-type {\n",
       "        vertical-align: middle;\n",
       "    }\n",
       "\n",
       "    .dataframe tbody tr th {\n",
       "        vertical-align: top;\n",
       "    }\n",
       "\n",
       "    .dataframe thead th {\n",
       "        text-align: right;\n",
       "    }\n",
       "</style>\n",
       "<table border=\"1\" class=\"dataframe\">\n",
       "  <thead>\n",
       "    <tr style=\"text-align: right;\">\n",
       "      <th></th>\n",
       "      <th>mean_radius</th>\n",
       "      <th>mean_texture</th>\n",
       "      <th>mean_perimeter</th>\n",
       "      <th>mean_area</th>\n",
       "      <th>mean_smoothness</th>\n",
       "      <th>mean_compactness</th>\n",
       "      <th>mean_concavity</th>\n",
       "      <th>mean_concave_points</th>\n",
       "      <th>mean_symmetry</th>\n",
       "      <th>mean_fractal_dimension</th>\n",
       "      <th>...</th>\n",
       "      <th>worst_radius</th>\n",
       "      <th>worst_texture</th>\n",
       "      <th>worst_perimeter</th>\n",
       "      <th>worst_area</th>\n",
       "      <th>worst_smoothness</th>\n",
       "      <th>worst_compactness</th>\n",
       "      <th>worst_concavity</th>\n",
       "      <th>worst_concave_points</th>\n",
       "      <th>worst_symmetry</th>\n",
       "      <th>worst_fractal_dimension</th>\n",
       "    </tr>\n",
       "  </thead>\n",
       "  <tbody>\n",
       "    <tr>\n",
       "      <th>0</th>\n",
       "      <td>17.99</td>\n",
       "      <td>10.38</td>\n",
       "      <td>122.80</td>\n",
       "      <td>1001.0</td>\n",
       "      <td>0.11840</td>\n",
       "      <td>0.27760</td>\n",
       "      <td>0.3001</td>\n",
       "      <td>0.14710</td>\n",
       "      <td>0.2419</td>\n",
       "      <td>0.07871</td>\n",
       "      <td>...</td>\n",
       "      <td>25.38</td>\n",
       "      <td>17.33</td>\n",
       "      <td>184.60</td>\n",
       "      <td>2019.0</td>\n",
       "      <td>0.1622</td>\n",
       "      <td>0.6656</td>\n",
       "      <td>0.7119</td>\n",
       "      <td>0.2654</td>\n",
       "      <td>0.4601</td>\n",
       "      <td>0.11890</td>\n",
       "    </tr>\n",
       "    <tr>\n",
       "      <th>1</th>\n",
       "      <td>20.57</td>\n",
       "      <td>17.77</td>\n",
       "      <td>132.90</td>\n",
       "      <td>1326.0</td>\n",
       "      <td>0.08474</td>\n",
       "      <td>0.07864</td>\n",
       "      <td>0.0869</td>\n",
       "      <td>0.07017</td>\n",
       "      <td>0.1812</td>\n",
       "      <td>0.05667</td>\n",
       "      <td>...</td>\n",
       "      <td>24.99</td>\n",
       "      <td>23.41</td>\n",
       "      <td>158.80</td>\n",
       "      <td>1956.0</td>\n",
       "      <td>0.1238</td>\n",
       "      <td>0.1866</td>\n",
       "      <td>0.2416</td>\n",
       "      <td>0.1860</td>\n",
       "      <td>0.2750</td>\n",
       "      <td>0.08902</td>\n",
       "    </tr>\n",
       "    <tr>\n",
       "      <th>2</th>\n",
       "      <td>19.69</td>\n",
       "      <td>21.25</td>\n",
       "      <td>130.00</td>\n",
       "      <td>1203.0</td>\n",
       "      <td>0.10960</td>\n",
       "      <td>0.15990</td>\n",
       "      <td>0.1974</td>\n",
       "      <td>0.12790</td>\n",
       "      <td>0.2069</td>\n",
       "      <td>0.05999</td>\n",
       "      <td>...</td>\n",
       "      <td>23.57</td>\n",
       "      <td>25.53</td>\n",
       "      <td>152.50</td>\n",
       "      <td>1709.0</td>\n",
       "      <td>0.1444</td>\n",
       "      <td>0.4245</td>\n",
       "      <td>0.4504</td>\n",
       "      <td>0.2430</td>\n",
       "      <td>0.3613</td>\n",
       "      <td>0.08758</td>\n",
       "    </tr>\n",
       "    <tr>\n",
       "      <th>3</th>\n",
       "      <td>11.42</td>\n",
       "      <td>20.38</td>\n",
       "      <td>77.58</td>\n",
       "      <td>386.1</td>\n",
       "      <td>0.14250</td>\n",
       "      <td>0.28390</td>\n",
       "      <td>0.2414</td>\n",
       "      <td>0.10520</td>\n",
       "      <td>0.2597</td>\n",
       "      <td>0.09744</td>\n",
       "      <td>...</td>\n",
       "      <td>14.91</td>\n",
       "      <td>26.50</td>\n",
       "      <td>98.87</td>\n",
       "      <td>567.7</td>\n",
       "      <td>0.2098</td>\n",
       "      <td>0.8663</td>\n",
       "      <td>0.6869</td>\n",
       "      <td>0.2575</td>\n",
       "      <td>0.6638</td>\n",
       "      <td>0.17300</td>\n",
       "    </tr>\n",
       "    <tr>\n",
       "      <th>4</th>\n",
       "      <td>20.29</td>\n",
       "      <td>14.34</td>\n",
       "      <td>135.10</td>\n",
       "      <td>1297.0</td>\n",
       "      <td>0.10030</td>\n",
       "      <td>0.13280</td>\n",
       "      <td>0.1980</td>\n",
       "      <td>0.10430</td>\n",
       "      <td>0.1809</td>\n",
       "      <td>0.05883</td>\n",
       "      <td>...</td>\n",
       "      <td>22.54</td>\n",
       "      <td>16.67</td>\n",
       "      <td>152.20</td>\n",
       "      <td>1575.0</td>\n",
       "      <td>0.1374</td>\n",
       "      <td>0.2050</td>\n",
       "      <td>0.4000</td>\n",
       "      <td>0.1625</td>\n",
       "      <td>0.2364</td>\n",
       "      <td>0.07678</td>\n",
       "    </tr>\n",
       "  </tbody>\n",
       "</table>\n",
       "<p>5 rows × 30 columns</p>\n",
       "</div>"
      ],
      "text/plain": [
       "   mean_radius  mean_texture  mean_perimeter  mean_area  mean_smoothness  \\\n",
       "0        17.99         10.38          122.80     1001.0          0.11840   \n",
       "1        20.57         17.77          132.90     1326.0          0.08474   \n",
       "2        19.69         21.25          130.00     1203.0          0.10960   \n",
       "3        11.42         20.38           77.58      386.1          0.14250   \n",
       "4        20.29         14.34          135.10     1297.0          0.10030   \n",
       "\n",
       "   mean_compactness  mean_concavity  mean_concave_points  mean_symmetry  \\\n",
       "0           0.27760          0.3001              0.14710         0.2419   \n",
       "1           0.07864          0.0869              0.07017         0.1812   \n",
       "2           0.15990          0.1974              0.12790         0.2069   \n",
       "3           0.28390          0.2414              0.10520         0.2597   \n",
       "4           0.13280          0.1980              0.10430         0.1809   \n",
       "\n",
       "   mean_fractal_dimension  ...  worst_radius  worst_texture  worst_perimeter  \\\n",
       "0                 0.07871  ...         25.38          17.33           184.60   \n",
       "1                 0.05667  ...         24.99          23.41           158.80   \n",
       "2                 0.05999  ...         23.57          25.53           152.50   \n",
       "3                 0.09744  ...         14.91          26.50            98.87   \n",
       "4                 0.05883  ...         22.54          16.67           152.20   \n",
       "\n",
       "   worst_area  worst_smoothness  worst_compactness  worst_concavity  \\\n",
       "0      2019.0            0.1622             0.6656           0.7119   \n",
       "1      1956.0            0.1238             0.1866           0.2416   \n",
       "2      1709.0            0.1444             0.4245           0.4504   \n",
       "3       567.7            0.2098             0.8663           0.6869   \n",
       "4      1575.0            0.1374             0.2050           0.4000   \n",
       "\n",
       "   worst_concave_points  worst_symmetry  worst_fractal_dimension  \n",
       "0                0.2654          0.4601                  0.11890  \n",
       "1                0.1860          0.2750                  0.08902  \n",
       "2                0.2430          0.3613                  0.08758  \n",
       "3                0.2575          0.6638                  0.17300  \n",
       "4                0.1625          0.2364                  0.07678  \n",
       "\n",
       "[5 rows x 30 columns]"
      ]
     },
     "execution_count": 36,
     "metadata": {},
     "output_type": "execute_result"
    }
   ],
   "source": [
    "X = data.drop(columns=\"is_cancer\")\n",
    "X.head()"
   ]
  },
  {
   "cell_type": "code",
   "execution_count": 37,
   "id": "44a8817a",
   "metadata": {},
   "outputs": [],
   "source": [
    "y = data.is_cancer"
   ]
  },
  {
   "cell_type": "code",
   "execution_count": 38,
   "id": "d686bab8",
   "metadata": {},
   "outputs": [],
   "source": [
    "X_train, X_test, y_train, y_test = train_test_split(X,y, test_size=0.2)"
   ]
  },
  {
   "cell_type": "code",
   "execution_count": 39,
   "id": "b24e7bea",
   "metadata": {},
   "outputs": [
    {
     "data": {
      "text/plain": [
       "(455, 30)"
      ]
     },
     "execution_count": 39,
     "metadata": {},
     "output_type": "execute_result"
    }
   ],
   "source": [
    "X_train.shape"
   ]
  },
  {
   "cell_type": "code",
   "execution_count": 40,
   "id": "0254da12",
   "metadata": {},
   "outputs": [
    {
     "data": {
      "text/plain": [
       "(455,)"
      ]
     },
     "execution_count": 40,
     "metadata": {},
     "output_type": "execute_result"
    }
   ],
   "source": [
    "y_train.shape"
   ]
  },
  {
   "cell_type": "code",
   "execution_count": 41,
   "id": "1d4fad8f",
   "metadata": {},
   "outputs": [
    {
     "data": {
      "text/plain": [
       "(114, 30)"
      ]
     },
     "execution_count": 41,
     "metadata": {},
     "output_type": "execute_result"
    }
   ],
   "source": [
    "X_test.shape"
   ]
  },
  {
   "cell_type": "code",
   "execution_count": 42,
   "id": "dcd0f021",
   "metadata": {},
   "outputs": [
    {
     "data": {
      "text/plain": [
       "(114,)"
      ]
     },
     "execution_count": 42,
     "metadata": {},
     "output_type": "execute_result"
    }
   ],
   "source": [
    "y_test.shape"
   ]
  },
  {
   "cell_type": "code",
   "execution_count": 44,
   "id": "8ea3f01f",
   "metadata": {},
   "outputs": [],
   "source": [
    "log = LogisticRegression(max_iter=10000)"
   ]
  },
  {
   "cell_type": "markdown",
   "id": "489fd7bf",
   "metadata": {},
   "source": [
    "Kit-kat (max iter)\n",
    "Me sale este warning... ya veremos tuneo de hiperparámetros, pero básicamente tengo que escalar mis datos o bien hacer que el modelo sea más complejo con más iteraciones.\n",
    "```\n",
    "/usr/local/Caskroom/miniconda/base/envs/ironhack/lib/python3.8/site-packages/sklearn/linear_model/_logistic.py:814: ConvergenceWarning: lbfgs failed to converge (status=1):\n",
    "STOP: TOTAL NO. of ITERATIONS REACHED LIMIT.\n",
    "\n",
    "Increase the number of iterations (max_iter) or scale the data as shown in:\n",
    "    https://scikit-learn.org/stable/modules/preprocessing.html\n",
    "Please also refer to the documentation for alternative solver options:\n",
    "    https://scikit-learn.org/stable/modules/linear_model.html#logistic-regression\n",
    "  n_iter_i = _check_optimize_result(\n",
    "```"
   ]
  },
  {
   "cell_type": "code",
   "execution_count": 45,
   "id": "a03a0070",
   "metadata": {},
   "outputs": [
    {
     "data": {
      "text/plain": [
       "LogisticRegression(max_iter=10000)"
      ]
     },
     "execution_count": 45,
     "metadata": {},
     "output_type": "execute_result"
    }
   ],
   "source": [
    "log.fit(X_train,y_train)"
   ]
  },
  {
   "cell_type": "code",
   "execution_count": 46,
   "id": "f3ea242e",
   "metadata": {},
   "outputs": [],
   "source": [
    "y_pred = log.predict(X_test)"
   ]
  },
  {
   "cell_type": "markdown",
   "id": "f62ccd50",
   "metadata": {},
   "source": [
    "### Veamos lo que tenemos\n",
    "#### Parte de train"
   ]
  },
  {
   "cell_type": "code",
   "execution_count": 47,
   "id": "78bc5a67",
   "metadata": {},
   "outputs": [
    {
     "data": {
      "text/html": [
       "<div>\n",
       "<style scoped>\n",
       "    .dataframe tbody tr th:only-of-type {\n",
       "        vertical-align: middle;\n",
       "    }\n",
       "\n",
       "    .dataframe tbody tr th {\n",
       "        vertical-align: top;\n",
       "    }\n",
       "\n",
       "    .dataframe thead th {\n",
       "        text-align: right;\n",
       "    }\n",
       "</style>\n",
       "<table border=\"1\" class=\"dataframe\">\n",
       "  <thead>\n",
       "    <tr style=\"text-align: right;\">\n",
       "      <th></th>\n",
       "      <th>mean_radius</th>\n",
       "      <th>mean_texture</th>\n",
       "      <th>mean_perimeter</th>\n",
       "      <th>mean_area</th>\n",
       "      <th>mean_smoothness</th>\n",
       "      <th>mean_compactness</th>\n",
       "      <th>mean_concavity</th>\n",
       "      <th>mean_concave_points</th>\n",
       "      <th>mean_symmetry</th>\n",
       "      <th>mean_fractal_dimension</th>\n",
       "      <th>...</th>\n",
       "      <th>worst_radius</th>\n",
       "      <th>worst_texture</th>\n",
       "      <th>worst_perimeter</th>\n",
       "      <th>worst_area</th>\n",
       "      <th>worst_smoothness</th>\n",
       "      <th>worst_compactness</th>\n",
       "      <th>worst_concavity</th>\n",
       "      <th>worst_concave_points</th>\n",
       "      <th>worst_symmetry</th>\n",
       "      <th>worst_fractal_dimension</th>\n",
       "    </tr>\n",
       "  </thead>\n",
       "  <tbody>\n",
       "    <tr>\n",
       "      <th>39</th>\n",
       "      <td>13.48</td>\n",
       "      <td>20.82</td>\n",
       "      <td>88.40</td>\n",
       "      <td>559.2</td>\n",
       "      <td>0.10160</td>\n",
       "      <td>0.1255</td>\n",
       "      <td>0.10630</td>\n",
       "      <td>0.05439</td>\n",
       "      <td>0.1720</td>\n",
       "      <td>0.06419</td>\n",
       "      <td>...</td>\n",
       "      <td>15.53</td>\n",
       "      <td>26.02</td>\n",
       "      <td>107.30</td>\n",
       "      <td>740.4</td>\n",
       "      <td>0.1610</td>\n",
       "      <td>0.4225</td>\n",
       "      <td>0.5030</td>\n",
       "      <td>0.22580</td>\n",
       "      <td>0.2807</td>\n",
       "      <td>0.10710</td>\n",
       "    </tr>\n",
       "    <tr>\n",
       "      <th>214</th>\n",
       "      <td>14.19</td>\n",
       "      <td>23.81</td>\n",
       "      <td>92.87</td>\n",
       "      <td>610.7</td>\n",
       "      <td>0.09463</td>\n",
       "      <td>0.1306</td>\n",
       "      <td>0.11150</td>\n",
       "      <td>0.06462</td>\n",
       "      <td>0.2235</td>\n",
       "      <td>0.06433</td>\n",
       "      <td>...</td>\n",
       "      <td>16.86</td>\n",
       "      <td>34.85</td>\n",
       "      <td>115.00</td>\n",
       "      <td>811.3</td>\n",
       "      <td>0.1559</td>\n",
       "      <td>0.4059</td>\n",
       "      <td>0.3744</td>\n",
       "      <td>0.17720</td>\n",
       "      <td>0.4724</td>\n",
       "      <td>0.10260</td>\n",
       "    </tr>\n",
       "    <tr>\n",
       "      <th>113</th>\n",
       "      <td>10.51</td>\n",
       "      <td>20.19</td>\n",
       "      <td>68.64</td>\n",
       "      <td>334.2</td>\n",
       "      <td>0.11220</td>\n",
       "      <td>0.1303</td>\n",
       "      <td>0.06476</td>\n",
       "      <td>0.03068</td>\n",
       "      <td>0.1922</td>\n",
       "      <td>0.07782</td>\n",
       "      <td>...</td>\n",
       "      <td>11.16</td>\n",
       "      <td>22.75</td>\n",
       "      <td>72.62</td>\n",
       "      <td>374.4</td>\n",
       "      <td>0.1300</td>\n",
       "      <td>0.2049</td>\n",
       "      <td>0.1295</td>\n",
       "      <td>0.06136</td>\n",
       "      <td>0.2383</td>\n",
       "      <td>0.09026</td>\n",
       "    </tr>\n",
       "    <tr>\n",
       "      <th>356</th>\n",
       "      <td>13.05</td>\n",
       "      <td>18.59</td>\n",
       "      <td>85.09</td>\n",
       "      <td>512.0</td>\n",
       "      <td>0.10820</td>\n",
       "      <td>0.1304</td>\n",
       "      <td>0.09603</td>\n",
       "      <td>0.05603</td>\n",
       "      <td>0.2035</td>\n",
       "      <td>0.06501</td>\n",
       "      <td>...</td>\n",
       "      <td>14.19</td>\n",
       "      <td>24.85</td>\n",
       "      <td>94.22</td>\n",
       "      <td>591.2</td>\n",
       "      <td>0.1343</td>\n",
       "      <td>0.2658</td>\n",
       "      <td>0.2573</td>\n",
       "      <td>0.12580</td>\n",
       "      <td>0.3113</td>\n",
       "      <td>0.08317</td>\n",
       "    </tr>\n",
       "    <tr>\n",
       "      <th>163</th>\n",
       "      <td>12.34</td>\n",
       "      <td>22.22</td>\n",
       "      <td>79.85</td>\n",
       "      <td>464.5</td>\n",
       "      <td>0.10120</td>\n",
       "      <td>0.1015</td>\n",
       "      <td>0.05370</td>\n",
       "      <td>0.02822</td>\n",
       "      <td>0.1551</td>\n",
       "      <td>0.06761</td>\n",
       "      <td>...</td>\n",
       "      <td>13.58</td>\n",
       "      <td>28.68</td>\n",
       "      <td>87.36</td>\n",
       "      <td>553.0</td>\n",
       "      <td>0.1452</td>\n",
       "      <td>0.2338</td>\n",
       "      <td>0.1688</td>\n",
       "      <td>0.08194</td>\n",
       "      <td>0.2268</td>\n",
       "      <td>0.09082</td>\n",
       "    </tr>\n",
       "  </tbody>\n",
       "</table>\n",
       "<p>5 rows × 30 columns</p>\n",
       "</div>"
      ],
      "text/plain": [
       "     mean_radius  mean_texture  mean_perimeter  mean_area  mean_smoothness  \\\n",
       "39         13.48         20.82           88.40      559.2          0.10160   \n",
       "214        14.19         23.81           92.87      610.7          0.09463   \n",
       "113        10.51         20.19           68.64      334.2          0.11220   \n",
       "356        13.05         18.59           85.09      512.0          0.10820   \n",
       "163        12.34         22.22           79.85      464.5          0.10120   \n",
       "\n",
       "     mean_compactness  mean_concavity  mean_concave_points  mean_symmetry  \\\n",
       "39             0.1255         0.10630              0.05439         0.1720   \n",
       "214            0.1306         0.11150              0.06462         0.2235   \n",
       "113            0.1303         0.06476              0.03068         0.1922   \n",
       "356            0.1304         0.09603              0.05603         0.2035   \n",
       "163            0.1015         0.05370              0.02822         0.1551   \n",
       "\n",
       "     mean_fractal_dimension  ...  worst_radius  worst_texture  \\\n",
       "39                  0.06419  ...         15.53          26.02   \n",
       "214                 0.06433  ...         16.86          34.85   \n",
       "113                 0.07782  ...         11.16          22.75   \n",
       "356                 0.06501  ...         14.19          24.85   \n",
       "163                 0.06761  ...         13.58          28.68   \n",
       "\n",
       "     worst_perimeter  worst_area  worst_smoothness  worst_compactness  \\\n",
       "39            107.30       740.4            0.1610             0.4225   \n",
       "214           115.00       811.3            0.1559             0.4059   \n",
       "113            72.62       374.4            0.1300             0.2049   \n",
       "356            94.22       591.2            0.1343             0.2658   \n",
       "163            87.36       553.0            0.1452             0.2338   \n",
       "\n",
       "     worst_concavity  worst_concave_points  worst_symmetry  \\\n",
       "39            0.5030               0.22580          0.2807   \n",
       "214           0.3744               0.17720          0.4724   \n",
       "113           0.1295               0.06136          0.2383   \n",
       "356           0.2573               0.12580          0.3113   \n",
       "163           0.1688               0.08194          0.2268   \n",
       "\n",
       "     worst_fractal_dimension  \n",
       "39                   0.10710  \n",
       "214                  0.10260  \n",
       "113                  0.09026  \n",
       "356                  0.08317  \n",
       "163                  0.09082  \n",
       "\n",
       "[5 rows x 30 columns]"
      ]
     },
     "execution_count": 47,
     "metadata": {},
     "output_type": "execute_result"
    }
   ],
   "source": [
    "X_train.head()"
   ]
  },
  {
   "cell_type": "code",
   "execution_count": 48,
   "id": "effa6d18",
   "metadata": {},
   "outputs": [],
   "source": [
    "train = X_train.copy()"
   ]
  },
  {
   "cell_type": "code",
   "execution_count": 49,
   "id": "ee13c696",
   "metadata": {},
   "outputs": [],
   "source": [
    "train[\"y_is_cancer\"] = y_train"
   ]
  },
  {
   "cell_type": "code",
   "execution_count": 50,
   "id": "3178e0d5",
   "metadata": {},
   "outputs": [
    {
     "data": {
      "text/html": [
       "<div>\n",
       "<style scoped>\n",
       "    .dataframe tbody tr th:only-of-type {\n",
       "        vertical-align: middle;\n",
       "    }\n",
       "\n",
       "    .dataframe tbody tr th {\n",
       "        vertical-align: top;\n",
       "    }\n",
       "\n",
       "    .dataframe thead th {\n",
       "        text-align: right;\n",
       "    }\n",
       "</style>\n",
       "<table border=\"1\" class=\"dataframe\">\n",
       "  <thead>\n",
       "    <tr style=\"text-align: right;\">\n",
       "      <th></th>\n",
       "      <th>mean_radius</th>\n",
       "      <th>mean_texture</th>\n",
       "      <th>mean_perimeter</th>\n",
       "      <th>mean_area</th>\n",
       "      <th>mean_smoothness</th>\n",
       "      <th>mean_compactness</th>\n",
       "      <th>mean_concavity</th>\n",
       "      <th>mean_concave_points</th>\n",
       "      <th>mean_symmetry</th>\n",
       "      <th>mean_fractal_dimension</th>\n",
       "      <th>...</th>\n",
       "      <th>worst_texture</th>\n",
       "      <th>worst_perimeter</th>\n",
       "      <th>worst_area</th>\n",
       "      <th>worst_smoothness</th>\n",
       "      <th>worst_compactness</th>\n",
       "      <th>worst_concavity</th>\n",
       "      <th>worst_concave_points</th>\n",
       "      <th>worst_symmetry</th>\n",
       "      <th>worst_fractal_dimension</th>\n",
       "      <th>y_is_cancer</th>\n",
       "    </tr>\n",
       "  </thead>\n",
       "  <tbody>\n",
       "    <tr>\n",
       "      <th>400</th>\n",
       "      <td>17.91</td>\n",
       "      <td>21.02</td>\n",
       "      <td>124.4</td>\n",
       "      <td>994.0</td>\n",
       "      <td>0.123</td>\n",
       "      <td>0.2576</td>\n",
       "      <td>0.3189</td>\n",
       "      <td>0.1198</td>\n",
       "      <td>0.2113</td>\n",
       "      <td>0.07115</td>\n",
       "      <td>...</td>\n",
       "      <td>27.78</td>\n",
       "      <td>149.6</td>\n",
       "      <td>1304.0</td>\n",
       "      <td>0.1873</td>\n",
       "      <td>0.5917</td>\n",
       "      <td>0.9034</td>\n",
       "      <td>0.1964</td>\n",
       "      <td>0.3245</td>\n",
       "      <td>0.1198</td>\n",
       "      <td>1</td>\n",
       "    </tr>\n",
       "  </tbody>\n",
       "</table>\n",
       "<p>1 rows × 31 columns</p>\n",
       "</div>"
      ],
      "text/plain": [
       "     mean_radius  mean_texture  mean_perimeter  mean_area  mean_smoothness  \\\n",
       "400        17.91         21.02           124.4      994.0            0.123   \n",
       "\n",
       "     mean_compactness  mean_concavity  mean_concave_points  mean_symmetry  \\\n",
       "400            0.2576          0.3189               0.1198         0.2113   \n",
       "\n",
       "     mean_fractal_dimension  ...  worst_texture  worst_perimeter  worst_area  \\\n",
       "400                 0.07115  ...          27.78            149.6      1304.0   \n",
       "\n",
       "     worst_smoothness  worst_compactness  worst_concavity  \\\n",
       "400            0.1873             0.5917           0.9034   \n",
       "\n",
       "     worst_concave_points  worst_symmetry  worst_fractal_dimension  \\\n",
       "400                0.1964          0.3245                   0.1198   \n",
       "\n",
       "     y_is_cancer  \n",
       "400            1  \n",
       "\n",
       "[1 rows x 31 columns]"
      ]
     },
     "execution_count": 50,
     "metadata": {},
     "output_type": "execute_result"
    }
   ],
   "source": [
    "train.sample()"
   ]
  },
  {
   "cell_type": "markdown",
   "id": "6dc398af",
   "metadata": {},
   "source": [
    "#### Parte de test"
   ]
  },
  {
   "cell_type": "code",
   "execution_count": 52,
   "id": "d4752697",
   "metadata": {},
   "outputs": [],
   "source": [
    "test = X_test.copy()"
   ]
  },
  {
   "cell_type": "code",
   "execution_count": 53,
   "id": "0467cd9b",
   "metadata": {},
   "outputs": [
    {
     "data": {
      "text/html": [
       "<div>\n",
       "<style scoped>\n",
       "    .dataframe tbody tr th:only-of-type {\n",
       "        vertical-align: middle;\n",
       "    }\n",
       "\n",
       "    .dataframe tbody tr th {\n",
       "        vertical-align: top;\n",
       "    }\n",
       "\n",
       "    .dataframe thead th {\n",
       "        text-align: right;\n",
       "    }\n",
       "</style>\n",
       "<table border=\"1\" class=\"dataframe\">\n",
       "  <thead>\n",
       "    <tr style=\"text-align: right;\">\n",
       "      <th></th>\n",
       "      <th>mean_radius</th>\n",
       "      <th>mean_texture</th>\n",
       "      <th>mean_perimeter</th>\n",
       "      <th>mean_area</th>\n",
       "      <th>mean_smoothness</th>\n",
       "      <th>mean_compactness</th>\n",
       "      <th>mean_concavity</th>\n",
       "      <th>mean_concave_points</th>\n",
       "      <th>mean_symmetry</th>\n",
       "      <th>mean_fractal_dimension</th>\n",
       "      <th>...</th>\n",
       "      <th>worst_radius</th>\n",
       "      <th>worst_texture</th>\n",
       "      <th>worst_perimeter</th>\n",
       "      <th>worst_area</th>\n",
       "      <th>worst_smoothness</th>\n",
       "      <th>worst_compactness</th>\n",
       "      <th>worst_concavity</th>\n",
       "      <th>worst_concave_points</th>\n",
       "      <th>worst_symmetry</th>\n",
       "      <th>worst_fractal_dimension</th>\n",
       "    </tr>\n",
       "  </thead>\n",
       "  <tbody>\n",
       "    <tr>\n",
       "      <th>111</th>\n",
       "      <td>12.63</td>\n",
       "      <td>20.76</td>\n",
       "      <td>82.15</td>\n",
       "      <td>480.4</td>\n",
       "      <td>0.09933</td>\n",
       "      <td>0.12090</td>\n",
       "      <td>0.10650</td>\n",
       "      <td>0.06021</td>\n",
       "      <td>0.1735</td>\n",
       "      <td>0.07070</td>\n",
       "      <td>...</td>\n",
       "      <td>13.33</td>\n",
       "      <td>25.47</td>\n",
       "      <td>89.00</td>\n",
       "      <td>527.4</td>\n",
       "      <td>0.1287</td>\n",
       "      <td>0.2250</td>\n",
       "      <td>0.22160</td>\n",
       "      <td>0.11050</td>\n",
       "      <td>0.2226</td>\n",
       "      <td>0.08486</td>\n",
       "    </tr>\n",
       "    <tr>\n",
       "      <th>457</th>\n",
       "      <td>13.21</td>\n",
       "      <td>25.25</td>\n",
       "      <td>84.10</td>\n",
       "      <td>537.9</td>\n",
       "      <td>0.08791</td>\n",
       "      <td>0.05205</td>\n",
       "      <td>0.02772</td>\n",
       "      <td>0.02068</td>\n",
       "      <td>0.1619</td>\n",
       "      <td>0.05584</td>\n",
       "      <td>...</td>\n",
       "      <td>14.35</td>\n",
       "      <td>34.23</td>\n",
       "      <td>91.29</td>\n",
       "      <td>632.9</td>\n",
       "      <td>0.1289</td>\n",
       "      <td>0.1063</td>\n",
       "      <td>0.13900</td>\n",
       "      <td>0.06005</td>\n",
       "      <td>0.2444</td>\n",
       "      <td>0.06788</td>\n",
       "    </tr>\n",
       "    <tr>\n",
       "      <th>127</th>\n",
       "      <td>19.00</td>\n",
       "      <td>18.91</td>\n",
       "      <td>123.40</td>\n",
       "      <td>1138.0</td>\n",
       "      <td>0.08217</td>\n",
       "      <td>0.08028</td>\n",
       "      <td>0.09271</td>\n",
       "      <td>0.05627</td>\n",
       "      <td>0.1946</td>\n",
       "      <td>0.05044</td>\n",
       "      <td>...</td>\n",
       "      <td>22.32</td>\n",
       "      <td>25.73</td>\n",
       "      <td>148.20</td>\n",
       "      <td>1538.0</td>\n",
       "      <td>0.1021</td>\n",
       "      <td>0.2264</td>\n",
       "      <td>0.32070</td>\n",
       "      <td>0.12180</td>\n",
       "      <td>0.2841</td>\n",
       "      <td>0.06541</td>\n",
       "    </tr>\n",
       "    <tr>\n",
       "      <th>155</th>\n",
       "      <td>12.25</td>\n",
       "      <td>17.94</td>\n",
       "      <td>78.27</td>\n",
       "      <td>460.3</td>\n",
       "      <td>0.08654</td>\n",
       "      <td>0.06679</td>\n",
       "      <td>0.03885</td>\n",
       "      <td>0.02331</td>\n",
       "      <td>0.1970</td>\n",
       "      <td>0.06228</td>\n",
       "      <td>...</td>\n",
       "      <td>13.59</td>\n",
       "      <td>25.22</td>\n",
       "      <td>86.60</td>\n",
       "      <td>564.2</td>\n",
       "      <td>0.1217</td>\n",
       "      <td>0.1788</td>\n",
       "      <td>0.19430</td>\n",
       "      <td>0.08211</td>\n",
       "      <td>0.3113</td>\n",
       "      <td>0.08132</td>\n",
       "    </tr>\n",
       "    <tr>\n",
       "      <th>295</th>\n",
       "      <td>13.77</td>\n",
       "      <td>13.27</td>\n",
       "      <td>88.06</td>\n",
       "      <td>582.7</td>\n",
       "      <td>0.09198</td>\n",
       "      <td>0.06221</td>\n",
       "      <td>0.01063</td>\n",
       "      <td>0.01917</td>\n",
       "      <td>0.1592</td>\n",
       "      <td>0.05912</td>\n",
       "      <td>...</td>\n",
       "      <td>14.67</td>\n",
       "      <td>16.93</td>\n",
       "      <td>94.17</td>\n",
       "      <td>661.1</td>\n",
       "      <td>0.1170</td>\n",
       "      <td>0.1072</td>\n",
       "      <td>0.03732</td>\n",
       "      <td>0.05802</td>\n",
       "      <td>0.2823</td>\n",
       "      <td>0.06794</td>\n",
       "    </tr>\n",
       "  </tbody>\n",
       "</table>\n",
       "<p>5 rows × 30 columns</p>\n",
       "</div>"
      ],
      "text/plain": [
       "     mean_radius  mean_texture  mean_perimeter  mean_area  mean_smoothness  \\\n",
       "111        12.63         20.76           82.15      480.4          0.09933   \n",
       "457        13.21         25.25           84.10      537.9          0.08791   \n",
       "127        19.00         18.91          123.40     1138.0          0.08217   \n",
       "155        12.25         17.94           78.27      460.3          0.08654   \n",
       "295        13.77         13.27           88.06      582.7          0.09198   \n",
       "\n",
       "     mean_compactness  mean_concavity  mean_concave_points  mean_symmetry  \\\n",
       "111           0.12090         0.10650              0.06021         0.1735   \n",
       "457           0.05205         0.02772              0.02068         0.1619   \n",
       "127           0.08028         0.09271              0.05627         0.1946   \n",
       "155           0.06679         0.03885              0.02331         0.1970   \n",
       "295           0.06221         0.01063              0.01917         0.1592   \n",
       "\n",
       "     mean_fractal_dimension  ...  worst_radius  worst_texture  \\\n",
       "111                 0.07070  ...         13.33          25.47   \n",
       "457                 0.05584  ...         14.35          34.23   \n",
       "127                 0.05044  ...         22.32          25.73   \n",
       "155                 0.06228  ...         13.59          25.22   \n",
       "295                 0.05912  ...         14.67          16.93   \n",
       "\n",
       "     worst_perimeter  worst_area  worst_smoothness  worst_compactness  \\\n",
       "111            89.00       527.4            0.1287             0.2250   \n",
       "457            91.29       632.9            0.1289             0.1063   \n",
       "127           148.20      1538.0            0.1021             0.2264   \n",
       "155            86.60       564.2            0.1217             0.1788   \n",
       "295            94.17       661.1            0.1170             0.1072   \n",
       "\n",
       "     worst_concavity  worst_concave_points  worst_symmetry  \\\n",
       "111          0.22160               0.11050          0.2226   \n",
       "457          0.13900               0.06005          0.2444   \n",
       "127          0.32070               0.12180          0.2841   \n",
       "155          0.19430               0.08211          0.3113   \n",
       "295          0.03732               0.05802          0.2823   \n",
       "\n",
       "     worst_fractal_dimension  \n",
       "111                  0.08486  \n",
       "457                  0.06788  \n",
       "127                  0.06541  \n",
       "155                  0.08132  \n",
       "295                  0.06794  \n",
       "\n",
       "[5 rows x 30 columns]"
      ]
     },
     "execution_count": 53,
     "metadata": {},
     "output_type": "execute_result"
    }
   ],
   "source": [
    "test.head()"
   ]
  },
  {
   "cell_type": "code",
   "execution_count": 54,
   "id": "ad8db714",
   "metadata": {},
   "outputs": [],
   "source": [
    "test[\"is_cancer\"] = y_test"
   ]
  },
  {
   "cell_type": "code",
   "execution_count": 55,
   "id": "605bbfcf",
   "metadata": {},
   "outputs": [],
   "source": [
    "test[\"predicción\"] = y_pred"
   ]
  },
  {
   "cell_type": "code",
   "execution_count": 56,
   "id": "a3dc9536",
   "metadata": {},
   "outputs": [
    {
     "data": {
      "text/html": [
       "<div>\n",
       "<style scoped>\n",
       "    .dataframe tbody tr th:only-of-type {\n",
       "        vertical-align: middle;\n",
       "    }\n",
       "\n",
       "    .dataframe tbody tr th {\n",
       "        vertical-align: top;\n",
       "    }\n",
       "\n",
       "    .dataframe thead th {\n",
       "        text-align: right;\n",
       "    }\n",
       "</style>\n",
       "<table border=\"1\" class=\"dataframe\">\n",
       "  <thead>\n",
       "    <tr style=\"text-align: right;\">\n",
       "      <th></th>\n",
       "      <th>mean_radius</th>\n",
       "      <th>mean_texture</th>\n",
       "      <th>mean_perimeter</th>\n",
       "      <th>mean_area</th>\n",
       "      <th>mean_smoothness</th>\n",
       "      <th>mean_compactness</th>\n",
       "      <th>mean_concavity</th>\n",
       "      <th>mean_concave_points</th>\n",
       "      <th>mean_symmetry</th>\n",
       "      <th>mean_fractal_dimension</th>\n",
       "      <th>...</th>\n",
       "      <th>worst_perimeter</th>\n",
       "      <th>worst_area</th>\n",
       "      <th>worst_smoothness</th>\n",
       "      <th>worst_compactness</th>\n",
       "      <th>worst_concavity</th>\n",
       "      <th>worst_concave_points</th>\n",
       "      <th>worst_symmetry</th>\n",
       "      <th>worst_fractal_dimension</th>\n",
       "      <th>is_cancer</th>\n",
       "      <th>predicción</th>\n",
       "    </tr>\n",
       "  </thead>\n",
       "  <tbody>\n",
       "    <tr>\n",
       "      <th>111</th>\n",
       "      <td>12.63</td>\n",
       "      <td>20.76</td>\n",
       "      <td>82.15</td>\n",
       "      <td>480.4</td>\n",
       "      <td>0.09933</td>\n",
       "      <td>0.12090</td>\n",
       "      <td>0.10650</td>\n",
       "      <td>0.06021</td>\n",
       "      <td>0.1735</td>\n",
       "      <td>0.07070</td>\n",
       "      <td>...</td>\n",
       "      <td>89.00</td>\n",
       "      <td>527.4</td>\n",
       "      <td>0.1287</td>\n",
       "      <td>0.2250</td>\n",
       "      <td>0.22160</td>\n",
       "      <td>0.11050</td>\n",
       "      <td>0.2226</td>\n",
       "      <td>0.08486</td>\n",
       "      <td>0</td>\n",
       "      <td>0</td>\n",
       "    </tr>\n",
       "    <tr>\n",
       "      <th>457</th>\n",
       "      <td>13.21</td>\n",
       "      <td>25.25</td>\n",
       "      <td>84.10</td>\n",
       "      <td>537.9</td>\n",
       "      <td>0.08791</td>\n",
       "      <td>0.05205</td>\n",
       "      <td>0.02772</td>\n",
       "      <td>0.02068</td>\n",
       "      <td>0.1619</td>\n",
       "      <td>0.05584</td>\n",
       "      <td>...</td>\n",
       "      <td>91.29</td>\n",
       "      <td>632.9</td>\n",
       "      <td>0.1289</td>\n",
       "      <td>0.1063</td>\n",
       "      <td>0.13900</td>\n",
       "      <td>0.06005</td>\n",
       "      <td>0.2444</td>\n",
       "      <td>0.06788</td>\n",
       "      <td>0</td>\n",
       "      <td>0</td>\n",
       "    </tr>\n",
       "    <tr>\n",
       "      <th>127</th>\n",
       "      <td>19.00</td>\n",
       "      <td>18.91</td>\n",
       "      <td>123.40</td>\n",
       "      <td>1138.0</td>\n",
       "      <td>0.08217</td>\n",
       "      <td>0.08028</td>\n",
       "      <td>0.09271</td>\n",
       "      <td>0.05627</td>\n",
       "      <td>0.1946</td>\n",
       "      <td>0.05044</td>\n",
       "      <td>...</td>\n",
       "      <td>148.20</td>\n",
       "      <td>1538.0</td>\n",
       "      <td>0.1021</td>\n",
       "      <td>0.2264</td>\n",
       "      <td>0.32070</td>\n",
       "      <td>0.12180</td>\n",
       "      <td>0.2841</td>\n",
       "      <td>0.06541</td>\n",
       "      <td>1</td>\n",
       "      <td>1</td>\n",
       "    </tr>\n",
       "    <tr>\n",
       "      <th>155</th>\n",
       "      <td>12.25</td>\n",
       "      <td>17.94</td>\n",
       "      <td>78.27</td>\n",
       "      <td>460.3</td>\n",
       "      <td>0.08654</td>\n",
       "      <td>0.06679</td>\n",
       "      <td>0.03885</td>\n",
       "      <td>0.02331</td>\n",
       "      <td>0.1970</td>\n",
       "      <td>0.06228</td>\n",
       "      <td>...</td>\n",
       "      <td>86.60</td>\n",
       "      <td>564.2</td>\n",
       "      <td>0.1217</td>\n",
       "      <td>0.1788</td>\n",
       "      <td>0.19430</td>\n",
       "      <td>0.08211</td>\n",
       "      <td>0.3113</td>\n",
       "      <td>0.08132</td>\n",
       "      <td>0</td>\n",
       "      <td>0</td>\n",
       "    </tr>\n",
       "    <tr>\n",
       "      <th>295</th>\n",
       "      <td>13.77</td>\n",
       "      <td>13.27</td>\n",
       "      <td>88.06</td>\n",
       "      <td>582.7</td>\n",
       "      <td>0.09198</td>\n",
       "      <td>0.06221</td>\n",
       "      <td>0.01063</td>\n",
       "      <td>0.01917</td>\n",
       "      <td>0.1592</td>\n",
       "      <td>0.05912</td>\n",
       "      <td>...</td>\n",
       "      <td>94.17</td>\n",
       "      <td>661.1</td>\n",
       "      <td>0.1170</td>\n",
       "      <td>0.1072</td>\n",
       "      <td>0.03732</td>\n",
       "      <td>0.05802</td>\n",
       "      <td>0.2823</td>\n",
       "      <td>0.06794</td>\n",
       "      <td>0</td>\n",
       "      <td>0</td>\n",
       "    </tr>\n",
       "  </tbody>\n",
       "</table>\n",
       "<p>5 rows × 32 columns</p>\n",
       "</div>"
      ],
      "text/plain": [
       "     mean_radius  mean_texture  mean_perimeter  mean_area  mean_smoothness  \\\n",
       "111        12.63         20.76           82.15      480.4          0.09933   \n",
       "457        13.21         25.25           84.10      537.9          0.08791   \n",
       "127        19.00         18.91          123.40     1138.0          0.08217   \n",
       "155        12.25         17.94           78.27      460.3          0.08654   \n",
       "295        13.77         13.27           88.06      582.7          0.09198   \n",
       "\n",
       "     mean_compactness  mean_concavity  mean_concave_points  mean_symmetry  \\\n",
       "111           0.12090         0.10650              0.06021         0.1735   \n",
       "457           0.05205         0.02772              0.02068         0.1619   \n",
       "127           0.08028         0.09271              0.05627         0.1946   \n",
       "155           0.06679         0.03885              0.02331         0.1970   \n",
       "295           0.06221         0.01063              0.01917         0.1592   \n",
       "\n",
       "     mean_fractal_dimension  ...  worst_perimeter  worst_area  \\\n",
       "111                 0.07070  ...            89.00       527.4   \n",
       "457                 0.05584  ...            91.29       632.9   \n",
       "127                 0.05044  ...           148.20      1538.0   \n",
       "155                 0.06228  ...            86.60       564.2   \n",
       "295                 0.05912  ...            94.17       661.1   \n",
       "\n",
       "     worst_smoothness  worst_compactness  worst_concavity  \\\n",
       "111            0.1287             0.2250          0.22160   \n",
       "457            0.1289             0.1063          0.13900   \n",
       "127            0.1021             0.2264          0.32070   \n",
       "155            0.1217             0.1788          0.19430   \n",
       "295            0.1170             0.1072          0.03732   \n",
       "\n",
       "     worst_concave_points  worst_symmetry  worst_fractal_dimension  is_cancer  \\\n",
       "111               0.11050          0.2226                  0.08486          0   \n",
       "457               0.06005          0.2444                  0.06788          0   \n",
       "127               0.12180          0.2841                  0.06541          1   \n",
       "155               0.08211          0.3113                  0.08132          0   \n",
       "295               0.05802          0.2823                  0.06794          0   \n",
       "\n",
       "     predicción  \n",
       "111           0  \n",
       "457           0  \n",
       "127           1  \n",
       "155           0  \n",
       "295           0  \n",
       "\n",
       "[5 rows x 32 columns]"
      ]
     },
     "execution_count": 56,
     "metadata": {},
     "output_type": "execute_result"
    }
   ],
   "source": [
    "test.head()"
   ]
  },
  {
   "cell_type": "code",
   "execution_count": 58,
   "id": "d68055a8",
   "metadata": {},
   "outputs": [],
   "source": [
    "test[\"acierto\"] = (test.is_cancer == test[\"predicción\"])"
   ]
  },
  {
   "cell_type": "code",
   "execution_count": 61,
   "id": "a55a4f3c",
   "metadata": {},
   "outputs": [
    {
     "data": {
      "text/html": [
       "<div>\n",
       "<style scoped>\n",
       "    .dataframe tbody tr th:only-of-type {\n",
       "        vertical-align: middle;\n",
       "    }\n",
       "\n",
       "    .dataframe tbody tr th {\n",
       "        vertical-align: top;\n",
       "    }\n",
       "\n",
       "    .dataframe thead th {\n",
       "        text-align: right;\n",
       "    }\n",
       "</style>\n",
       "<table border=\"1\" class=\"dataframe\">\n",
       "  <thead>\n",
       "    <tr style=\"text-align: right;\">\n",
       "      <th></th>\n",
       "      <th>mean_radius</th>\n",
       "      <th>mean_texture</th>\n",
       "      <th>mean_perimeter</th>\n",
       "      <th>mean_area</th>\n",
       "      <th>mean_smoothness</th>\n",
       "      <th>mean_compactness</th>\n",
       "      <th>mean_concavity</th>\n",
       "      <th>mean_concave_points</th>\n",
       "      <th>mean_symmetry</th>\n",
       "      <th>mean_fractal_dimension</th>\n",
       "      <th>...</th>\n",
       "      <th>worst_area</th>\n",
       "      <th>worst_smoothness</th>\n",
       "      <th>worst_compactness</th>\n",
       "      <th>worst_concavity</th>\n",
       "      <th>worst_concave_points</th>\n",
       "      <th>worst_symmetry</th>\n",
       "      <th>worst_fractal_dimension</th>\n",
       "      <th>is_cancer</th>\n",
       "      <th>predicción</th>\n",
       "      <th>acierto</th>\n",
       "    </tr>\n",
       "  </thead>\n",
       "  <tbody>\n",
       "    <tr>\n",
       "      <th>36</th>\n",
       "      <td>14.25</td>\n",
       "      <td>21.72</td>\n",
       "      <td>93.63</td>\n",
       "      <td>633.0</td>\n",
       "      <td>0.09823</td>\n",
       "      <td>0.10980</td>\n",
       "      <td>0.131900</td>\n",
       "      <td>0.055980</td>\n",
       "      <td>0.1885</td>\n",
       "      <td>0.06125</td>\n",
       "      <td>...</td>\n",
       "      <td>799.6</td>\n",
       "      <td>0.1446</td>\n",
       "      <td>0.4238</td>\n",
       "      <td>0.51860</td>\n",
       "      <td>0.14470</td>\n",
       "      <td>0.3591</td>\n",
       "      <td>0.10140</td>\n",
       "      <td>1</td>\n",
       "      <td>1</td>\n",
       "      <td>True</td>\n",
       "    </tr>\n",
       "    <tr>\n",
       "      <th>164</th>\n",
       "      <td>23.27</td>\n",
       "      <td>22.04</td>\n",
       "      <td>152.10</td>\n",
       "      <td>1686.0</td>\n",
       "      <td>0.08439</td>\n",
       "      <td>0.11450</td>\n",
       "      <td>0.132400</td>\n",
       "      <td>0.097020</td>\n",
       "      <td>0.1801</td>\n",
       "      <td>0.05553</td>\n",
       "      <td>...</td>\n",
       "      <td>2403.0</td>\n",
       "      <td>0.1228</td>\n",
       "      <td>0.3583</td>\n",
       "      <td>0.39480</td>\n",
       "      <td>0.23460</td>\n",
       "      <td>0.3589</td>\n",
       "      <td>0.09187</td>\n",
       "      <td>1</td>\n",
       "      <td>1</td>\n",
       "      <td>True</td>\n",
       "    </tr>\n",
       "    <tr>\n",
       "      <th>483</th>\n",
       "      <td>13.70</td>\n",
       "      <td>17.64</td>\n",
       "      <td>87.76</td>\n",
       "      <td>571.1</td>\n",
       "      <td>0.09950</td>\n",
       "      <td>0.07957</td>\n",
       "      <td>0.045480</td>\n",
       "      <td>0.031600</td>\n",
       "      <td>0.1732</td>\n",
       "      <td>0.06088</td>\n",
       "      <td>...</td>\n",
       "      <td>686.5</td>\n",
       "      <td>0.1199</td>\n",
       "      <td>0.1346</td>\n",
       "      <td>0.17420</td>\n",
       "      <td>0.09077</td>\n",
       "      <td>0.2518</td>\n",
       "      <td>0.06960</td>\n",
       "      <td>0</td>\n",
       "      <td>0</td>\n",
       "      <td>True</td>\n",
       "    </tr>\n",
       "    <tr>\n",
       "      <th>300</th>\n",
       "      <td>19.53</td>\n",
       "      <td>18.90</td>\n",
       "      <td>129.50</td>\n",
       "      <td>1217.0</td>\n",
       "      <td>0.11500</td>\n",
       "      <td>0.16420</td>\n",
       "      <td>0.219700</td>\n",
       "      <td>0.106200</td>\n",
       "      <td>0.1792</td>\n",
       "      <td>0.06552</td>\n",
       "      <td>...</td>\n",
       "      <td>2053.0</td>\n",
       "      <td>0.1495</td>\n",
       "      <td>0.4116</td>\n",
       "      <td>0.61210</td>\n",
       "      <td>0.19800</td>\n",
       "      <td>0.2968</td>\n",
       "      <td>0.09929</td>\n",
       "      <td>1</td>\n",
       "      <td>1</td>\n",
       "      <td>True</td>\n",
       "    </tr>\n",
       "    <tr>\n",
       "      <th>419</th>\n",
       "      <td>11.16</td>\n",
       "      <td>21.41</td>\n",
       "      <td>70.95</td>\n",
       "      <td>380.3</td>\n",
       "      <td>0.10180</td>\n",
       "      <td>0.05978</td>\n",
       "      <td>0.008955</td>\n",
       "      <td>0.010760</td>\n",
       "      <td>0.1615</td>\n",
       "      <td>0.06144</td>\n",
       "      <td>...</td>\n",
       "      <td>458.0</td>\n",
       "      <td>0.1282</td>\n",
       "      <td>0.1108</td>\n",
       "      <td>0.03582</td>\n",
       "      <td>0.04306</td>\n",
       "      <td>0.2976</td>\n",
       "      <td>0.07123</td>\n",
       "      <td>0</td>\n",
       "      <td>0</td>\n",
       "      <td>True</td>\n",
       "    </tr>\n",
       "    <tr>\n",
       "      <th>460</th>\n",
       "      <td>17.08</td>\n",
       "      <td>27.15</td>\n",
       "      <td>111.20</td>\n",
       "      <td>930.9</td>\n",
       "      <td>0.09898</td>\n",
       "      <td>0.11100</td>\n",
       "      <td>0.100700</td>\n",
       "      <td>0.064310</td>\n",
       "      <td>0.1793</td>\n",
       "      <td>0.06281</td>\n",
       "      <td>...</td>\n",
       "      <td>1648.0</td>\n",
       "      <td>0.1600</td>\n",
       "      <td>0.2444</td>\n",
       "      <td>0.26390</td>\n",
       "      <td>0.15550</td>\n",
       "      <td>0.3010</td>\n",
       "      <td>0.09060</td>\n",
       "      <td>1</td>\n",
       "      <td>1</td>\n",
       "      <td>True</td>\n",
       "    </tr>\n",
       "    <tr>\n",
       "      <th>386</th>\n",
       "      <td>12.21</td>\n",
       "      <td>14.09</td>\n",
       "      <td>78.78</td>\n",
       "      <td>462.0</td>\n",
       "      <td>0.08108</td>\n",
       "      <td>0.07823</td>\n",
       "      <td>0.068390</td>\n",
       "      <td>0.025340</td>\n",
       "      <td>0.1646</td>\n",
       "      <td>0.06154</td>\n",
       "      <td>...</td>\n",
       "      <td>529.9</td>\n",
       "      <td>0.1026</td>\n",
       "      <td>0.2431</td>\n",
       "      <td>0.30760</td>\n",
       "      <td>0.09140</td>\n",
       "      <td>0.2677</td>\n",
       "      <td>0.08824</td>\n",
       "      <td>0</td>\n",
       "      <td>0</td>\n",
       "      <td>True</td>\n",
       "    </tr>\n",
       "    <tr>\n",
       "      <th>228</th>\n",
       "      <td>12.62</td>\n",
       "      <td>23.97</td>\n",
       "      <td>81.35</td>\n",
       "      <td>496.4</td>\n",
       "      <td>0.07903</td>\n",
       "      <td>0.07529</td>\n",
       "      <td>0.054380</td>\n",
       "      <td>0.020360</td>\n",
       "      <td>0.1514</td>\n",
       "      <td>0.06019</td>\n",
       "      <td>...</td>\n",
       "      <td>624.0</td>\n",
       "      <td>0.1227</td>\n",
       "      <td>0.3454</td>\n",
       "      <td>0.39110</td>\n",
       "      <td>0.11800</td>\n",
       "      <td>0.2826</td>\n",
       "      <td>0.09585</td>\n",
       "      <td>0</td>\n",
       "      <td>0</td>\n",
       "      <td>True</td>\n",
       "    </tr>\n",
       "    <tr>\n",
       "      <th>346</th>\n",
       "      <td>12.06</td>\n",
       "      <td>18.90</td>\n",
       "      <td>76.66</td>\n",
       "      <td>445.3</td>\n",
       "      <td>0.08386</td>\n",
       "      <td>0.05794</td>\n",
       "      <td>0.007510</td>\n",
       "      <td>0.008488</td>\n",
       "      <td>0.1555</td>\n",
       "      <td>0.06048</td>\n",
       "      <td>...</td>\n",
       "      <td>562.6</td>\n",
       "      <td>0.1289</td>\n",
       "      <td>0.1352</td>\n",
       "      <td>0.04506</td>\n",
       "      <td>0.05093</td>\n",
       "      <td>0.2880</td>\n",
       "      <td>0.08083</td>\n",
       "      <td>0</td>\n",
       "      <td>0</td>\n",
       "      <td>True</td>\n",
       "    </tr>\n",
       "    <tr>\n",
       "      <th>422</th>\n",
       "      <td>11.61</td>\n",
       "      <td>16.02</td>\n",
       "      <td>75.46</td>\n",
       "      <td>408.2</td>\n",
       "      <td>0.10880</td>\n",
       "      <td>0.11680</td>\n",
       "      <td>0.070970</td>\n",
       "      <td>0.044970</td>\n",
       "      <td>0.1886</td>\n",
       "      <td>0.06320</td>\n",
       "      <td>...</td>\n",
       "      <td>475.7</td>\n",
       "      <td>0.1415</td>\n",
       "      <td>0.2170</td>\n",
       "      <td>0.23020</td>\n",
       "      <td>0.11050</td>\n",
       "      <td>0.2787</td>\n",
       "      <td>0.07427</td>\n",
       "      <td>0</td>\n",
       "      <td>0</td>\n",
       "      <td>True</td>\n",
       "    </tr>\n",
       "  </tbody>\n",
       "</table>\n",
       "<p>10 rows × 33 columns</p>\n",
       "</div>"
      ],
      "text/plain": [
       "     mean_radius  mean_texture  mean_perimeter  mean_area  mean_smoothness  \\\n",
       "36         14.25         21.72           93.63      633.0          0.09823   \n",
       "164        23.27         22.04          152.10     1686.0          0.08439   \n",
       "483        13.70         17.64           87.76      571.1          0.09950   \n",
       "300        19.53         18.90          129.50     1217.0          0.11500   \n",
       "419        11.16         21.41           70.95      380.3          0.10180   \n",
       "460        17.08         27.15          111.20      930.9          0.09898   \n",
       "386        12.21         14.09           78.78      462.0          0.08108   \n",
       "228        12.62         23.97           81.35      496.4          0.07903   \n",
       "346        12.06         18.90           76.66      445.3          0.08386   \n",
       "422        11.61         16.02           75.46      408.2          0.10880   \n",
       "\n",
       "     mean_compactness  mean_concavity  mean_concave_points  mean_symmetry  \\\n",
       "36            0.10980        0.131900             0.055980         0.1885   \n",
       "164           0.11450        0.132400             0.097020         0.1801   \n",
       "483           0.07957        0.045480             0.031600         0.1732   \n",
       "300           0.16420        0.219700             0.106200         0.1792   \n",
       "419           0.05978        0.008955             0.010760         0.1615   \n",
       "460           0.11100        0.100700             0.064310         0.1793   \n",
       "386           0.07823        0.068390             0.025340         0.1646   \n",
       "228           0.07529        0.054380             0.020360         0.1514   \n",
       "346           0.05794        0.007510             0.008488         0.1555   \n",
       "422           0.11680        0.070970             0.044970         0.1886   \n",
       "\n",
       "     mean_fractal_dimension  ...  worst_area  worst_smoothness  \\\n",
       "36                  0.06125  ...       799.6            0.1446   \n",
       "164                 0.05553  ...      2403.0            0.1228   \n",
       "483                 0.06088  ...       686.5            0.1199   \n",
       "300                 0.06552  ...      2053.0            0.1495   \n",
       "419                 0.06144  ...       458.0            0.1282   \n",
       "460                 0.06281  ...      1648.0            0.1600   \n",
       "386                 0.06154  ...       529.9            0.1026   \n",
       "228                 0.06019  ...       624.0            0.1227   \n",
       "346                 0.06048  ...       562.6            0.1289   \n",
       "422                 0.06320  ...       475.7            0.1415   \n",
       "\n",
       "     worst_compactness  worst_concavity  worst_concave_points  worst_symmetry  \\\n",
       "36              0.4238          0.51860               0.14470          0.3591   \n",
       "164             0.3583          0.39480               0.23460          0.3589   \n",
       "483             0.1346          0.17420               0.09077          0.2518   \n",
       "300             0.4116          0.61210               0.19800          0.2968   \n",
       "419             0.1108          0.03582               0.04306          0.2976   \n",
       "460             0.2444          0.26390               0.15550          0.3010   \n",
       "386             0.2431          0.30760               0.09140          0.2677   \n",
       "228             0.3454          0.39110               0.11800          0.2826   \n",
       "346             0.1352          0.04506               0.05093          0.2880   \n",
       "422             0.2170          0.23020               0.11050          0.2787   \n",
       "\n",
       "     worst_fractal_dimension  is_cancer  predicción  acierto  \n",
       "36                   0.10140          1           1     True  \n",
       "164                  0.09187          1           1     True  \n",
       "483                  0.06960          0           0     True  \n",
       "300                  0.09929          1           1     True  \n",
       "419                  0.07123          0           0     True  \n",
       "460                  0.09060          1           1     True  \n",
       "386                  0.08824          0           0     True  \n",
       "228                  0.09585          0           0     True  \n",
       "346                  0.08083          0           0     True  \n",
       "422                  0.07427          0           0     True  \n",
       "\n",
       "[10 rows x 33 columns]"
      ]
     },
     "execution_count": 61,
     "metadata": {},
     "output_type": "execute_result"
    }
   ],
   "source": [
    "test.sample(10)"
   ]
  },
  {
   "cell_type": "markdown",
   "id": "47246bd4",
   "metadata": {},
   "source": [
    "## Predict Proba"
   ]
  },
  {
   "cell_type": "code",
   "execution_count": 62,
   "id": "70fa0e0e",
   "metadata": {},
   "outputs": [],
   "source": [
    "data = pd.DataFrame([X_test.iloc[0]])"
   ]
  },
  {
   "cell_type": "code",
   "execution_count": 63,
   "id": "af5c93eb",
   "metadata": {},
   "outputs": [
    {
     "data": {
      "text/html": [
       "<div>\n",
       "<style scoped>\n",
       "    .dataframe tbody tr th:only-of-type {\n",
       "        vertical-align: middle;\n",
       "    }\n",
       "\n",
       "    .dataframe tbody tr th {\n",
       "        vertical-align: top;\n",
       "    }\n",
       "\n",
       "    .dataframe thead th {\n",
       "        text-align: right;\n",
       "    }\n",
       "</style>\n",
       "<table border=\"1\" class=\"dataframe\">\n",
       "  <thead>\n",
       "    <tr style=\"text-align: right;\">\n",
       "      <th></th>\n",
       "      <th>mean_radius</th>\n",
       "      <th>mean_texture</th>\n",
       "      <th>mean_perimeter</th>\n",
       "      <th>mean_area</th>\n",
       "      <th>mean_smoothness</th>\n",
       "      <th>mean_compactness</th>\n",
       "      <th>mean_concavity</th>\n",
       "      <th>mean_concave_points</th>\n",
       "      <th>mean_symmetry</th>\n",
       "      <th>mean_fractal_dimension</th>\n",
       "      <th>...</th>\n",
       "      <th>worst_radius</th>\n",
       "      <th>worst_texture</th>\n",
       "      <th>worst_perimeter</th>\n",
       "      <th>worst_area</th>\n",
       "      <th>worst_smoothness</th>\n",
       "      <th>worst_compactness</th>\n",
       "      <th>worst_concavity</th>\n",
       "      <th>worst_concave_points</th>\n",
       "      <th>worst_symmetry</th>\n",
       "      <th>worst_fractal_dimension</th>\n",
       "    </tr>\n",
       "  </thead>\n",
       "  <tbody>\n",
       "    <tr>\n",
       "      <th>111</th>\n",
       "      <td>12.63</td>\n",
       "      <td>20.76</td>\n",
       "      <td>82.15</td>\n",
       "      <td>480.4</td>\n",
       "      <td>0.09933</td>\n",
       "      <td>0.1209</td>\n",
       "      <td>0.1065</td>\n",
       "      <td>0.06021</td>\n",
       "      <td>0.1735</td>\n",
       "      <td>0.0707</td>\n",
       "      <td>...</td>\n",
       "      <td>13.33</td>\n",
       "      <td>25.47</td>\n",
       "      <td>89.0</td>\n",
       "      <td>527.4</td>\n",
       "      <td>0.1287</td>\n",
       "      <td>0.225</td>\n",
       "      <td>0.2216</td>\n",
       "      <td>0.1105</td>\n",
       "      <td>0.2226</td>\n",
       "      <td>0.08486</td>\n",
       "    </tr>\n",
       "  </tbody>\n",
       "</table>\n",
       "<p>1 rows × 30 columns</p>\n",
       "</div>"
      ],
      "text/plain": [
       "     mean_radius  mean_texture  mean_perimeter  mean_area  mean_smoothness  \\\n",
       "111        12.63         20.76           82.15      480.4          0.09933   \n",
       "\n",
       "     mean_compactness  mean_concavity  mean_concave_points  mean_symmetry  \\\n",
       "111            0.1209          0.1065              0.06021         0.1735   \n",
       "\n",
       "     mean_fractal_dimension  ...  worst_radius  worst_texture  \\\n",
       "111                  0.0707  ...         13.33          25.47   \n",
       "\n",
       "     worst_perimeter  worst_area  worst_smoothness  worst_compactness  \\\n",
       "111             89.0       527.4            0.1287              0.225   \n",
       "\n",
       "     worst_concavity  worst_concave_points  worst_symmetry  \\\n",
       "111           0.2216                0.1105          0.2226   \n",
       "\n",
       "     worst_fractal_dimension  \n",
       "111                  0.08486  \n",
       "\n",
       "[1 rows x 30 columns]"
      ]
     },
     "execution_count": 63,
     "metadata": {},
     "output_type": "execute_result"
    }
   ],
   "source": [
    "data.head()"
   ]
  },
  {
   "cell_type": "code",
   "execution_count": null,
   "id": "ff36aabd",
   "metadata": {},
   "outputs": [],
   "source": [
    "#LA PROBABILIDAD DE QUE SEA 0 Y LA PROBABILIDAD DE QUE SEA 1"
   ]
  },
  {
   "cell_type": "code",
   "execution_count": 64,
   "id": "97d3d659",
   "metadata": {},
   "outputs": [
    {
     "data": {
      "text/plain": [
       "array([[0.9980672, 0.0019328]])"
      ]
     },
     "execution_count": 64,
     "metadata": {},
     "output_type": "execute_result"
    }
   ],
   "source": [
    "log.predict_proba(data)"
   ]
  },
  {
   "cell_type": "code",
   "execution_count": null,
   "id": "2f2f75a5",
   "metadata": {},
   "outputs": [],
   "source": [
    "#La realidad de ese registro es 0"
   ]
  },
  {
   "cell_type": "code",
   "execution_count": 67,
   "id": "78234b5b",
   "metadata": {},
   "outputs": [
    {
     "data": {
      "text/plain": [
       "111    0\n",
       "457    0\n",
       "127    1\n",
       "155    0\n",
       "295    0\n",
       "      ..\n",
       "216    0\n",
       "484    0\n",
       "187    0\n",
       "558    0\n",
       "566    1\n",
       "Name: is_cancer, Length: 114, dtype: int64"
      ]
     },
     "execution_count": 67,
     "metadata": {},
     "output_type": "execute_result"
    }
   ],
   "source": [
    "y_test"
   ]
  },
  {
   "cell_type": "code",
   "execution_count": 66,
   "id": "7cbbf6f2",
   "metadata": {},
   "outputs": [
    {
     "data": {
      "text/plain": [
       "0"
      ]
     },
     "execution_count": 66,
     "metadata": {},
     "output_type": "execute_result"
    }
   ],
   "source": [
    "list(y_test)[0]"
   ]
  },
  {
   "cell_type": "code",
   "execution_count": 68,
   "id": "0bc88259",
   "metadata": {},
   "outputs": [],
   "source": [
    "y_proba = log.predict_proba(X_test)[:,1].round(3)"
   ]
  },
  {
   "cell_type": "code",
   "execution_count": 69,
   "id": "378afdaf",
   "metadata": {},
   "outputs": [],
   "source": [
    "test[\"proba\"] = y_proba"
   ]
  },
  {
   "cell_type": "code",
   "execution_count": 72,
   "id": "a9e882b9",
   "metadata": {},
   "outputs": [
    {
     "data": {
      "text/html": [
       "<div>\n",
       "<style scoped>\n",
       "    .dataframe tbody tr th:only-of-type {\n",
       "        vertical-align: middle;\n",
       "    }\n",
       "\n",
       "    .dataframe tbody tr th {\n",
       "        vertical-align: top;\n",
       "    }\n",
       "\n",
       "    .dataframe thead th {\n",
       "        text-align: right;\n",
       "    }\n",
       "</style>\n",
       "<table border=\"1\" class=\"dataframe\">\n",
       "  <thead>\n",
       "    <tr style=\"text-align: right;\">\n",
       "      <th></th>\n",
       "      <th>mean_radius</th>\n",
       "      <th>mean_texture</th>\n",
       "      <th>mean_perimeter</th>\n",
       "      <th>mean_area</th>\n",
       "      <th>mean_smoothness</th>\n",
       "      <th>mean_compactness</th>\n",
       "      <th>mean_concavity</th>\n",
       "      <th>mean_concave_points</th>\n",
       "      <th>mean_symmetry</th>\n",
       "      <th>mean_fractal_dimension</th>\n",
       "      <th>...</th>\n",
       "      <th>worst_smoothness</th>\n",
       "      <th>worst_compactness</th>\n",
       "      <th>worst_concavity</th>\n",
       "      <th>worst_concave_points</th>\n",
       "      <th>worst_symmetry</th>\n",
       "      <th>worst_fractal_dimension</th>\n",
       "      <th>is_cancer</th>\n",
       "      <th>predicción</th>\n",
       "      <th>acierto</th>\n",
       "      <th>proba</th>\n",
       "    </tr>\n",
       "  </thead>\n",
       "  <tbody>\n",
       "    <tr>\n",
       "      <th>346</th>\n",
       "      <td>12.060</td>\n",
       "      <td>18.90</td>\n",
       "      <td>76.66</td>\n",
       "      <td>445.3</td>\n",
       "      <td>0.08386</td>\n",
       "      <td>0.05794</td>\n",
       "      <td>0.007510</td>\n",
       "      <td>0.008488</td>\n",
       "      <td>0.1555</td>\n",
       "      <td>0.06048</td>\n",
       "      <td>...</td>\n",
       "      <td>0.12890</td>\n",
       "      <td>0.13520</td>\n",
       "      <td>0.045060</td>\n",
       "      <td>0.050930</td>\n",
       "      <td>0.2880</td>\n",
       "      <td>0.08083</td>\n",
       "      <td>0</td>\n",
       "      <td>0</td>\n",
       "      <td>True</td>\n",
       "      <td>0.009</td>\n",
       "    </tr>\n",
       "    <tr>\n",
       "      <th>522</th>\n",
       "      <td>11.260</td>\n",
       "      <td>19.83</td>\n",
       "      <td>71.30</td>\n",
       "      <td>388.1</td>\n",
       "      <td>0.08511</td>\n",
       "      <td>0.04413</td>\n",
       "      <td>0.005067</td>\n",
       "      <td>0.005664</td>\n",
       "      <td>0.1637</td>\n",
       "      <td>0.06343</td>\n",
       "      <td>...</td>\n",
       "      <td>0.11080</td>\n",
       "      <td>0.07723</td>\n",
       "      <td>0.025330</td>\n",
       "      <td>0.028320</td>\n",
       "      <td>0.2557</td>\n",
       "      <td>0.07613</td>\n",
       "      <td>0</td>\n",
       "      <td>0</td>\n",
       "      <td>True</td>\n",
       "      <td>0.000</td>\n",
       "    </tr>\n",
       "    <tr>\n",
       "      <th>390</th>\n",
       "      <td>10.260</td>\n",
       "      <td>12.22</td>\n",
       "      <td>65.75</td>\n",
       "      <td>321.6</td>\n",
       "      <td>0.09996</td>\n",
       "      <td>0.07542</td>\n",
       "      <td>0.019230</td>\n",
       "      <td>0.019680</td>\n",
       "      <td>0.1800</td>\n",
       "      <td>0.06569</td>\n",
       "      <td>...</td>\n",
       "      <td>0.13430</td>\n",
       "      <td>0.16500</td>\n",
       "      <td>0.086150</td>\n",
       "      <td>0.066960</td>\n",
       "      <td>0.2937</td>\n",
       "      <td>0.07722</td>\n",
       "      <td>0</td>\n",
       "      <td>0</td>\n",
       "      <td>True</td>\n",
       "      <td>0.000</td>\n",
       "    </tr>\n",
       "    <tr>\n",
       "      <th>178</th>\n",
       "      <td>13.010</td>\n",
       "      <td>22.22</td>\n",
       "      <td>82.01</td>\n",
       "      <td>526.4</td>\n",
       "      <td>0.06251</td>\n",
       "      <td>0.01938</td>\n",
       "      <td>0.001595</td>\n",
       "      <td>0.001852</td>\n",
       "      <td>0.1395</td>\n",
       "      <td>0.05234</td>\n",
       "      <td>...</td>\n",
       "      <td>0.08125</td>\n",
       "      <td>0.03432</td>\n",
       "      <td>0.007977</td>\n",
       "      <td>0.009259</td>\n",
       "      <td>0.2295</td>\n",
       "      <td>0.05843</td>\n",
       "      <td>0</td>\n",
       "      <td>0</td>\n",
       "      <td>True</td>\n",
       "      <td>0.004</td>\n",
       "    </tr>\n",
       "    <tr>\n",
       "      <th>508</th>\n",
       "      <td>16.300</td>\n",
       "      <td>15.70</td>\n",
       "      <td>104.70</td>\n",
       "      <td>819.8</td>\n",
       "      <td>0.09427</td>\n",
       "      <td>0.06712</td>\n",
       "      <td>0.055260</td>\n",
       "      <td>0.045630</td>\n",
       "      <td>0.1711</td>\n",
       "      <td>0.05657</td>\n",
       "      <td>...</td>\n",
       "      <td>0.13540</td>\n",
       "      <td>0.13610</td>\n",
       "      <td>0.194700</td>\n",
       "      <td>0.135700</td>\n",
       "      <td>0.2300</td>\n",
       "      <td>0.07230</td>\n",
       "      <td>0</td>\n",
       "      <td>0</td>\n",
       "      <td>True</td>\n",
       "      <td>0.006</td>\n",
       "    </tr>\n",
       "    <tr>\n",
       "      <th>491</th>\n",
       "      <td>17.850</td>\n",
       "      <td>13.23</td>\n",
       "      <td>114.60</td>\n",
       "      <td>992.1</td>\n",
       "      <td>0.07838</td>\n",
       "      <td>0.06217</td>\n",
       "      <td>0.044450</td>\n",
       "      <td>0.041780</td>\n",
       "      <td>0.1220</td>\n",
       "      <td>0.05243</td>\n",
       "      <td>...</td>\n",
       "      <td>0.09862</td>\n",
       "      <td>0.09976</td>\n",
       "      <td>0.104800</td>\n",
       "      <td>0.083410</td>\n",
       "      <td>0.1783</td>\n",
       "      <td>0.05871</td>\n",
       "      <td>0</td>\n",
       "      <td>1</td>\n",
       "      <td>False</td>\n",
       "      <td>0.696</td>\n",
       "    </tr>\n",
       "    <tr>\n",
       "      <th>122</th>\n",
       "      <td>24.250</td>\n",
       "      <td>20.20</td>\n",
       "      <td>166.20</td>\n",
       "      <td>1761.0</td>\n",
       "      <td>0.14470</td>\n",
       "      <td>0.28670</td>\n",
       "      <td>0.426800</td>\n",
       "      <td>0.201200</td>\n",
       "      <td>0.2655</td>\n",
       "      <td>0.06877</td>\n",
       "      <td>...</td>\n",
       "      <td>0.16960</td>\n",
       "      <td>0.42440</td>\n",
       "      <td>0.580300</td>\n",
       "      <td>0.224800</td>\n",
       "      <td>0.3222</td>\n",
       "      <td>0.08009</td>\n",
       "      <td>1</td>\n",
       "      <td>1</td>\n",
       "      <td>True</td>\n",
       "      <td>1.000</td>\n",
       "    </tr>\n",
       "    <tr>\n",
       "      <th>152</th>\n",
       "      <td>9.731</td>\n",
       "      <td>15.34</td>\n",
       "      <td>63.78</td>\n",
       "      <td>300.2</td>\n",
       "      <td>0.10720</td>\n",
       "      <td>0.15990</td>\n",
       "      <td>0.410800</td>\n",
       "      <td>0.078570</td>\n",
       "      <td>0.2548</td>\n",
       "      <td>0.09296</td>\n",
       "      <td>...</td>\n",
       "      <td>0.12920</td>\n",
       "      <td>0.27720</td>\n",
       "      <td>0.821600</td>\n",
       "      <td>0.157100</td>\n",
       "      <td>0.3108</td>\n",
       "      <td>0.12590</td>\n",
       "      <td>0</td>\n",
       "      <td>0</td>\n",
       "      <td>True</td>\n",
       "      <td>0.003</td>\n",
       "    </tr>\n",
       "    <tr>\n",
       "      <th>287</th>\n",
       "      <td>12.890</td>\n",
       "      <td>13.12</td>\n",
       "      <td>81.89</td>\n",
       "      <td>515.9</td>\n",
       "      <td>0.06955</td>\n",
       "      <td>0.03729</td>\n",
       "      <td>0.022600</td>\n",
       "      <td>0.011710</td>\n",
       "      <td>0.1337</td>\n",
       "      <td>0.05581</td>\n",
       "      <td>...</td>\n",
       "      <td>0.09616</td>\n",
       "      <td>0.11470</td>\n",
       "      <td>0.118600</td>\n",
       "      <td>0.053660</td>\n",
       "      <td>0.2309</td>\n",
       "      <td>0.06915</td>\n",
       "      <td>0</td>\n",
       "      <td>0</td>\n",
       "      <td>True</td>\n",
       "      <td>0.000</td>\n",
       "    </tr>\n",
       "    <tr>\n",
       "      <th>419</th>\n",
       "      <td>11.160</td>\n",
       "      <td>21.41</td>\n",
       "      <td>70.95</td>\n",
       "      <td>380.3</td>\n",
       "      <td>0.10180</td>\n",
       "      <td>0.05978</td>\n",
       "      <td>0.008955</td>\n",
       "      <td>0.010760</td>\n",
       "      <td>0.1615</td>\n",
       "      <td>0.06144</td>\n",
       "      <td>...</td>\n",
       "      <td>0.12820</td>\n",
       "      <td>0.11080</td>\n",
       "      <td>0.035820</td>\n",
       "      <td>0.043060</td>\n",
       "      <td>0.2976</td>\n",
       "      <td>0.07123</td>\n",
       "      <td>0</td>\n",
       "      <td>0</td>\n",
       "      <td>True</td>\n",
       "      <td>0.002</td>\n",
       "    </tr>\n",
       "  </tbody>\n",
       "</table>\n",
       "<p>10 rows × 34 columns</p>\n",
       "</div>"
      ],
      "text/plain": [
       "     mean_radius  mean_texture  mean_perimeter  mean_area  mean_smoothness  \\\n",
       "346       12.060         18.90           76.66      445.3          0.08386   \n",
       "522       11.260         19.83           71.30      388.1          0.08511   \n",
       "390       10.260         12.22           65.75      321.6          0.09996   \n",
       "178       13.010         22.22           82.01      526.4          0.06251   \n",
       "508       16.300         15.70          104.70      819.8          0.09427   \n",
       "491       17.850         13.23          114.60      992.1          0.07838   \n",
       "122       24.250         20.20          166.20     1761.0          0.14470   \n",
       "152        9.731         15.34           63.78      300.2          0.10720   \n",
       "287       12.890         13.12           81.89      515.9          0.06955   \n",
       "419       11.160         21.41           70.95      380.3          0.10180   \n",
       "\n",
       "     mean_compactness  mean_concavity  mean_concave_points  mean_symmetry  \\\n",
       "346           0.05794        0.007510             0.008488         0.1555   \n",
       "522           0.04413        0.005067             0.005664         0.1637   \n",
       "390           0.07542        0.019230             0.019680         0.1800   \n",
       "178           0.01938        0.001595             0.001852         0.1395   \n",
       "508           0.06712        0.055260             0.045630         0.1711   \n",
       "491           0.06217        0.044450             0.041780         0.1220   \n",
       "122           0.28670        0.426800             0.201200         0.2655   \n",
       "152           0.15990        0.410800             0.078570         0.2548   \n",
       "287           0.03729        0.022600             0.011710         0.1337   \n",
       "419           0.05978        0.008955             0.010760         0.1615   \n",
       "\n",
       "     mean_fractal_dimension  ...  worst_smoothness  worst_compactness  \\\n",
       "346                 0.06048  ...           0.12890            0.13520   \n",
       "522                 0.06343  ...           0.11080            0.07723   \n",
       "390                 0.06569  ...           0.13430            0.16500   \n",
       "178                 0.05234  ...           0.08125            0.03432   \n",
       "508                 0.05657  ...           0.13540            0.13610   \n",
       "491                 0.05243  ...           0.09862            0.09976   \n",
       "122                 0.06877  ...           0.16960            0.42440   \n",
       "152                 0.09296  ...           0.12920            0.27720   \n",
       "287                 0.05581  ...           0.09616            0.11470   \n",
       "419                 0.06144  ...           0.12820            0.11080   \n",
       "\n",
       "     worst_concavity  worst_concave_points  worst_symmetry  \\\n",
       "346         0.045060              0.050930          0.2880   \n",
       "522         0.025330              0.028320          0.2557   \n",
       "390         0.086150              0.066960          0.2937   \n",
       "178         0.007977              0.009259          0.2295   \n",
       "508         0.194700              0.135700          0.2300   \n",
       "491         0.104800              0.083410          0.1783   \n",
       "122         0.580300              0.224800          0.3222   \n",
       "152         0.821600              0.157100          0.3108   \n",
       "287         0.118600              0.053660          0.2309   \n",
       "419         0.035820              0.043060          0.2976   \n",
       "\n",
       "     worst_fractal_dimension  is_cancer  predicción  acierto  proba  \n",
       "346                  0.08083          0           0     True  0.009  \n",
       "522                  0.07613          0           0     True  0.000  \n",
       "390                  0.07722          0           0     True  0.000  \n",
       "178                  0.05843          0           0     True  0.004  \n",
       "508                  0.07230          0           0     True  0.006  \n",
       "491                  0.05871          0           1    False  0.696  \n",
       "122                  0.08009          1           1     True  1.000  \n",
       "152                  0.12590          0           0     True  0.003  \n",
       "287                  0.06915          0           0     True  0.000  \n",
       "419                  0.07123          0           0     True  0.002  \n",
       "\n",
       "[10 rows x 34 columns]"
      ]
     },
     "execution_count": 72,
     "metadata": {},
     "output_type": "execute_result"
    }
   ],
   "source": [
    "test.sample(10)"
   ]
  },
  {
   "cell_type": "markdown",
   "id": "designed-publication",
   "metadata": {},
   "source": [
    "## Métricas!"
   ]
  },
  {
   "cell_type": "code",
   "execution_count": 73,
   "id": "caroline-reply",
   "metadata": {},
   "outputs": [],
   "source": [
    "from sklearn.metrics import accuracy_score, precision_score, recall_score, f1_score, fbeta_score, confusion_matrix"
   ]
  },
  {
   "cell_type": "markdown",
   "id": "literary-picking",
   "metadata": {},
   "source": [
    "### Matriz de confusión"
   ]
  },
  {
   "cell_type": "markdown",
   "id": "abandoned-swift",
   "metadata": {},
   "source": [
    "Confusion Matrix (Matriz de Confusión)\n",
    "Vamos a explicar como funciona la matriz de confusión con un ejemplo hipotético de marketing. En este ejemplo, contactamos a 100 clientes y 80 de ellos nos dicen que no están interesados y 20 de ellos que sí.\n",
    "\n",
    "Nuestro modelo (en el ejemplo) no es muy bueno, aunque dependiendo de qué métrica usemos podría parecer que es mejor de lo que es.\n",
    "\n",
    "Hemos utilizado como valores de la clasificación binaria:\n",
    "\n",
    "- 0: no está interesado    \n",
    "- 1: sí está interesado"
   ]
  },
  {
   "cell_type": "markdown",
   "id": "exotic-mountain",
   "metadata": {},
   "source": [
    "![matrizdeconfusión](https://www.iartificial.net/wp-content/uploads/2019/11/Matriz-Confusion-Ejemplo.webp)"
   ]
  },
  {
   "cell_type": "markdown",
   "id": "miniature-privacy",
   "metadata": {},
   "source": [
    "En la matriz de confusión de la izquierda podéis ver los valores para este ejemplo. En la matriz de confusión de la derecha, los nombres genéricos cuando usamos la nomenclatura inglesa: True Negative [TN], True Positive [TP], False Positive [FP], False Negative [FN].\n",
    "\n",
    "Truco: para recordar fácilmente la matriz de confusión:\n",
    "\n",
    "Positivo (Positive) o Negativo (Negative): se refiere a la predicción. Si el modelo predice 1 entonces será positivo, y se predice 0 será negativo.\n",
    "Verdadero (True) o Falso (False): se refiere si la predicción es correcta o no."
   ]
  },
  {
   "cell_type": "markdown",
   "id": "deluxe-thompson",
   "metadata": {},
   "source": [
    "<img src=\"https://github.com/andrewwlong/classification_metrics_sklearn/raw/541a0d065ffb8b3ff705161f6d16088d434b2ea7/img/conf_matrix.png\">"
   ]
  },
  {
   "cell_type": "markdown",
   "id": "atomic-belgium",
   "metadata": {},
   "source": [
    "Equivalente con sklearn"
   ]
  },
  {
   "cell_type": "code",
   "execution_count": 74,
   "id": "focused-clearance",
   "metadata": {},
   "outputs": [],
   "source": [
    "from sklearn.metrics import confusion_matrix"
   ]
  },
  {
   "cell_type": "code",
   "execution_count": 75,
   "id": "auburn-freeware",
   "metadata": {},
   "outputs": [
    {
     "data": {
      "text/plain": [
       "array([[69,  3],\n",
       "       [ 1, 41]])"
      ]
     },
     "execution_count": 75,
     "metadata": {},
     "output_type": "execute_result"
    }
   ],
   "source": [
    "confusion_matrix(\n",
    "y_test,\n",
    "y_pred)"
   ]
  },
  {
   "cell_type": "code",
   "execution_count": 76,
   "id": "8baa8459",
   "metadata": {},
   "outputs": [
    {
     "data": {
      "text/html": [
       "<div>\n",
       "<style scoped>\n",
       "    .dataframe tbody tr th:only-of-type {\n",
       "        vertical-align: middle;\n",
       "    }\n",
       "\n",
       "    .dataframe tbody tr th {\n",
       "        vertical-align: top;\n",
       "    }\n",
       "\n",
       "    .dataframe thead th {\n",
       "        text-align: right;\n",
       "    }\n",
       "</style>\n",
       "<table border=\"1\" class=\"dataframe\">\n",
       "  <thead>\n",
       "    <tr style=\"text-align: right;\">\n",
       "      <th>col_0</th>\n",
       "      <th>0</th>\n",
       "      <th>1</th>\n",
       "    </tr>\n",
       "    <tr>\n",
       "      <th>is_cancer</th>\n",
       "      <th></th>\n",
       "      <th></th>\n",
       "    </tr>\n",
       "  </thead>\n",
       "  <tbody>\n",
       "    <tr>\n",
       "      <th>0</th>\n",
       "      <td>69</td>\n",
       "      <td>3</td>\n",
       "    </tr>\n",
       "    <tr>\n",
       "      <th>1</th>\n",
       "      <td>1</td>\n",
       "      <td>41</td>\n",
       "    </tr>\n",
       "  </tbody>\n",
       "</table>\n",
       "</div>"
      ],
      "text/plain": [
       "col_0       0   1\n",
       "is_cancer        \n",
       "0          69   3\n",
       "1           1  41"
      ]
     },
     "execution_count": 76,
     "metadata": {},
     "output_type": "execute_result"
    }
   ],
   "source": [
    "pd.crosstab(\n",
    "    y_test,\n",
    "    y_pred\n",
    ")"
   ]
  },
  {
   "cell_type": "markdown",
   "id": "brave-scottish",
   "metadata": {},
   "source": [
    "### Accuracy"
   ]
  },
  {
   "cell_type": "markdown",
   "id": "subtle-guide",
   "metadata": {},
   "source": [
    "La exactitud (accuracy) mide el porcentaje de casos que el modelo ha acertado. Esta es una de las métricas más usadas y favoritas … ¡que te recomiendo evitar! El problema con el accuracy es que nos puede llevar al engaño, es decir, puede hacer que un modelo malo parezca que es mucho mejor de lo que es.\n",
    "El problema de usar el accuracy en datos no balanceados.....\n",
    "\n",
    "• Ejemplo: en un conjunto de datos con 990 positivos y 10\n",
    "negativos, un clasificador que predice siempre “positivo”,\n",
    "tendría un 0.99 de tasa de aciertos ¡Y sin embargo es malo!\n",
    "\n",
    "Representa la proporción de muestras predichas correctamente\n",
    " * La métrica más común para la clasificación 🤔👀\n",
    " * Es útil cuando\n",
    "  - el conjunto de datos tiene clases equilibradas (proporción similar de Verdadero y Falso)\n",
    "  - hay simetría entre Verdadero y Falso (por ejemplo, predicción de \"hombre\" o \"mujer\")\n",
    " * **¡A menudo se utiliza mal!** ya que:\n",
    "  - muchos problemas no son simétricos (por ejemplo, cáncer frente a no cáncer)\n",
    "\n",
    "El accuracy (exactitud) se calcula con la siguiente fórmula:\n",
    "\n",
    "$$accuracy = \\frac{TP + TN}{TP + TN + FP + FN}$$\n"
   ]
  },
  {
   "cell_type": "code",
   "execution_count": 77,
   "id": "dimensional-olympus",
   "metadata": {},
   "outputs": [
    {
     "data": {
      "text/plain": [
       "0.9649122807017544"
      ]
     },
     "execution_count": 77,
     "metadata": {},
     "output_type": "execute_result"
    }
   ],
   "source": [
    "accuracy_score(\n",
    "y_test,\n",
    "y_pred)"
   ]
  },
  {
   "cell_type": "markdown",
   "id": "acceptable-fundamentals",
   "metadata": {},
   "source": [
    "Interpretando esta métrica, vemos que el modelo ha acertado el 96% de los diagnósticos, esto es, se equivocará el 4% de las veces que prediga."
   ]
  },
  {
   "cell_type": "markdown",
   "id": "lesser-bailey",
   "metadata": {},
   "source": [
    "### Precision (Precisión)"
   ]
  },
  {
   "cell_type": "markdown",
   "id": "historic-sunglasses",
   "metadata": {},
   "source": [
    "Con la métrica de precisión podemos medir la calidad del modelo de machine learning en tareas de clasificación. En el ejemplo, se refiere a que la precisión es la respuesta a la pregunta ¿qué porcentaje de los clientes que contactemos estarán interesados?\n",
    "\n",
    "Para calcular la precisión usaremos la siguiente fórmula:\n",
    "\n",
    "$$precision = \\frac{TP}{TP + FP}$$    \n",
    "\n",
    "Es la fracción de eventos positivos predichos que son realmente positivos como se muestra a continuación\n",
    "\n",
    "Esta métrica se define como la cantidad de casos verdaderos positivos sobre la cantidad total de todo lo que dijiste que era positivo. En otras palabras, de todo lo que el algoritmo predijo como positivo, se evalúa cuánto de eso era cierto. Uno de los ejemplos propuestos [aquí](https://towardsdatascience.com/accuracy-precision-recall-or-f1-331fb37c5cb9) es el de marcar un correo como spam, cuando realmente no lo era. Imagina que un sistema antispam tiene una precision baja y te marca un correo como spam aunque éste no lo es, y terminas no leyendo la invitación a la boda de tu hermana.\n",
    "Uno de los casos donde se puede usar esta métrica,como dice el post, es cuando la cantidad de falsos positivos tiene una repercusión muy importante. Imagina un clasificador que confunde una diagnóstico y terminas amputándole la pierna sana a un paciente.\n",
    "\n",
    "Esta imagen marca los conjuntos de datos seleccionados a la hora de calcular la precision."
   ]
  },
  {
   "cell_type": "markdown",
   "id": "finnish-difficulty",
   "metadata": {},
   "source": [
    "<img src=\"https://www.iartificial.net/wp-content/uploads/2019/11/precision.webp\">"
   ]
  },
  {
   "cell_type": "markdown",
   "id": "assisted-mineral",
   "metadata": {},
   "source": [
    "Precisión = Porcentaje de predicciones POSITIVAS fueron correctas.    \n",
    "¿Qué proporción de los Positivos predichos es realmente Positiva?         \n",
    "Tenemos que mirar el número total de Positivos predichos (los Verdaderos Positivos más los Falsos Positivos, TP+FP), y ver cuántos de ellos son Verdaderos Positivos (TP)."
   ]
  },
  {
   "cell_type": "code",
   "execution_count": 80,
   "id": "hairy-atmosphere",
   "metadata": {},
   "outputs": [
    {
     "data": {
      "text/plain": [
       "0.9318181818181818"
      ]
     },
     "execution_count": 80,
     "metadata": {},
     "output_type": "execute_result"
    }
   ],
   "source": [
    "precision_score(\n",
    "y_test,\n",
    "y_pred)"
   ]
  },
  {
   "cell_type": "markdown",
   "id": "visible-radius",
   "metadata": {},
   "source": [
    "### Recall (Exhaustividad)"
   ]
  },
  {
   "cell_type": "markdown",
   "id": "logical-court",
   "metadata": {},
   "source": [
    "La métrica de exhaustividad nos va a informar sobre la cantidad que el modelo de machine learning es capaz de identificar. En el ejemplo, se refiere a que la exhaustividad (recall) es la respuesta a la pregunta ¿qué porcentaje de los clientes están interesados somos capaces de identificar?\n",
    "\n",
    "Para calcular la exhaustividad (recall) usaremos la siguiente fórmula:\n",
    "\n",
    "$$recall = \\frac{TP}{TP + FN}$$\n"
   ]
  },
  {
   "cell_type": "markdown",
   "id": "conceptual-tamil",
   "metadata": {},
   "source": [
    "<img src=\"https://www.iartificial.net/wp-content/uploads/2019/11/recall-exhaustividad.webp\">"
   ]
  },
  {
   "cell_type": "markdown",
   "id": "aerial-handy",
   "metadata": {},
   "source": [
    "Responde a una pregunta diferente: ¿qué proporción de positivos reales se clasifica correctamente?      \n",
    "Porcentaje de casos positivos que he capturado."
   ]
  },
  {
   "cell_type": "code",
   "execution_count": 81,
   "id": "former-pendant",
   "metadata": {},
   "outputs": [
    {
     "data": {
      "text/plain": [
       "0.9761904761904762"
      ]
     },
     "execution_count": 81,
     "metadata": {},
     "output_type": "execute_result"
    }
   ],
   "source": [
    "recall_score(\n",
    "y_test,\n",
    "y_pred)"
   ]
  },
  {
   "cell_type": "markdown",
   "id": "unnecessary-membrane",
   "metadata": {},
   "source": [
    "### Diferenciando precision y recall\n",
    "A pesar de ser similares, poseen distinciones sutiles.\n",
    "\n",
    "- Precision: ¿Cuántas veces lo que mi modelo dice es realmente cierto?\n",
    "- Recall: ¿Cuántas veces mi modelo es capaz de identificar la verdad?     \n",
    "\n",
    "Precision se centra en lo que modelo dice y luego lo compara con la realidad. Por otro lado, recall parte de la realidad, y después evalúa que tan bueno es el modelo para reconocerla."
   ]
  },
  {
   "cell_type": "markdown",
   "id": "psychological-parish",
   "metadata": {},
   "source": [
    "### F1 Score"
   ]
  },
  {
   "cell_type": "markdown",
   "id": "mexican-horse",
   "metadata": {},
   "source": [
    "El valor F1 se utiliza para combinar las medidas de precision y recall en un sólo valor. Esto es práctico porque hace más fácil el poder comparar el rendimiento combinado de la precisión y la exhaustividad entre varias soluciones.\n",
    "\n",
    "F1 se calcula haciendo la media armónica entre la precisión y la exhaustividad:\n",
    "\n",
    "$$F1 = 2 \\cdot \\frac{precision \\cdot recall}{precision + recall}$$"
   ]
  },
  {
   "cell_type": "code",
   "execution_count": 82,
   "id": "domestic-loading",
   "metadata": {},
   "outputs": [
    {
     "data": {
      "text/plain": [
       "0.8287841191066998"
      ]
     },
     "execution_count": 82,
     "metadata": {},
     "output_type": "execute_result"
    }
   ],
   "source": [
    "f1_score(df.is_cancer,df.prediction_cancer)"
   ]
  },
  {
   "cell_type": "markdown",
   "id": "coordinate-viking",
   "metadata": {},
   "source": [
    "He extraído documentación de las métricas de [este](https://www.iartificial.net/precision-recall-f1-accuracy-en-clasificacion/) artículo excepcionalmente explicado.\n",
    "Pero aquí os dejo más:\n",
    "- https://towardsdatascience.com/accuracy-precision-recall-or-f1-331fb37c5cb9\n",
    "- https://blog.exsilio.com/all/accuracy-precision-recall-f1-score-interpretation-of-performance-measures/\n",
    "- https://wiki.pathmind.com/accuracy-precision-recall-f1\n",
    "- https://datasmarts.net/es/mas-alla-del-accuracy-precision-recall-y-f1/"
   ]
  },
  {
   "cell_type": "markdown",
   "id": "simplified-borough",
   "metadata": {},
   "source": [
    "## Otros modelos de clasificación"
   ]
  },
  {
   "cell_type": "markdown",
   "id": "832490c8",
   "metadata": {},
   "source": [
    "Más literatura en este [enlasito](https://pharos.sh/vision-general-de-los-metodos-de-clasificacion-en-python-con-scikit-learn/)"
   ]
  },
  {
   "cell_type": "code",
   "execution_count": 83,
   "id": "previous-publication",
   "metadata": {},
   "outputs": [],
   "source": [
    "from sklearn.discriminant_analysis import LinearDiscriminantAnalysis\n",
    "from sklearn.neighbors import KNeighborsClassifier\n",
    "from sklearn.naive_bayes import GaussianNB\n",
    "from sklearn.tree import DecisionTreeClassifier\n",
    "from sklearn.svm import SVC"
   ]
  },
  {
   "cell_type": "code",
   "execution_count": 84,
   "id": "forward-blond",
   "metadata": {},
   "outputs": [],
   "source": [
    "models={\n",
    "    'dis': LinearDiscriminantAnalysis(),\n",
    "    'neighbors': KNeighborsClassifier(),\n",
    "    'naive': GaussianNB(),\n",
    "    'tree': DecisionTreeClassifier(),\n",
    "    'svm': SVC(),\n",
    "}"
   ]
  },
  {
   "cell_type": "code",
   "execution_count": 85,
   "id": "cc77c844",
   "metadata": {},
   "outputs": [
    {
     "name": "stdout",
     "output_type": "stream",
     "text": [
      "entrenando  dis\n",
      "entrenando  neighbors\n",
      "entrenando  naive\n",
      "entrenando  tree\n",
      "entrenando  svm\n"
     ]
    }
   ],
   "source": [
    "for name, model in models.items():\n",
    "    print(\"entrenando \", name)\n",
    "    model.fit(X_train,y_train)"
   ]
  },
  {
   "cell_type": "markdown",
   "id": "preceding-raising",
   "metadata": {},
   "source": [
    "## Hacemos predicciones y medimos"
   ]
  },
  {
   "cell_type": "code",
   "execution_count": 86,
   "id": "applied-cleveland",
   "metadata": {},
   "outputs": [
    {
     "name": "stdout",
     "output_type": "stream",
     "text": [
      "--------dis--------\n",
      "Accuracy:  0.9824561403508771\n",
      "Precision:  1.0\n",
      "Recall:  0.9523809523809523\n",
      "F1:  0.975609756097561\n",
      "--------neighbors--------\n",
      "Accuracy:  0.9385964912280702\n",
      "Precision:  0.8888888888888888\n",
      "Recall:  0.9523809523809523\n",
      "F1:  0.9195402298850575\n",
      "--------naive--------\n",
      "Accuracy:  0.9298245614035088\n",
      "Precision:  0.8695652173913043\n",
      "Recall:  0.9523809523809523\n",
      "F1:  0.909090909090909\n",
      "--------tree--------\n",
      "Accuracy:  0.9122807017543859\n",
      "Precision:  0.8333333333333334\n",
      "Recall:  0.9523809523809523\n",
      "F1:  0.888888888888889\n",
      "--------svm--------\n",
      "Accuracy:  0.9035087719298246\n",
      "Precision:  0.918918918918919\n",
      "Recall:  0.8095238095238095\n",
      "F1:  0.860759493670886\n"
     ]
    }
   ],
   "source": [
    "for name, model in models.items():\n",
    "    y_pred = model.predict(X_test)\n",
    "    print(f\"--------{name}--------\")\n",
    "    print(\"Accuracy: \", accuracy_score(y_test,y_pred))\n",
    "    print(\"Precision: \", precision_score(y_test,y_pred))\n",
    "    print(\"Recall: \", recall_score(y_test,y_pred))\n",
    "    print(\"F1: \", f1_score(y_test, y_pred))"
   ]
  },
  {
   "cell_type": "markdown",
   "id": "f01fe4cc",
   "metadata": {},
   "source": [
    "## Resumen\n",
    "Es tu turno ¿qué hemos aprendido hoy?"
   ]
  },
  {
   "cell_type": "markdown",
   "id": "average-quantum",
   "metadata": {},
   "source": [
    "## Pipeline\n",
    "De cosas que tenemos que hacer sería...:\n",
    "- Cargo los datos\n",
    "- Exploro los datos\n",
    "- Limpio los datos\n",
    "- Divido los datos en train y test\n",
    "- Entreno el modelo con la parte de train\n",
    "- Hago una predicción con la parte de X_test\n",
    "- Saco métricas comparando la y_pred con la y_test\n",
    "- Fin\n",
    "- Clasificación variables cualitativas\n",
    "- Regresión son variables cuantitativas\n",
    "- Hemos visto diferentes métricas de la clasificación.\n",
    "- La matriz de confusión\n",
    "- La verdad y la verdad"
   ]
  }
 ],
 "metadata": {
  "kernelspec": {
   "display_name": "ironhack",
   "language": "python",
   "name": "ironhack"
  },
  "language_info": {
   "codemirror_mode": {
    "name": "ipython",
    "version": 3
   },
   "file_extension": ".py",
   "mimetype": "text/x-python",
   "name": "python",
   "nbconvert_exporter": "python",
   "pygments_lexer": "ipython3",
   "version": "3.8.5"
  },
  "toc": {
   "base_numbering": 1,
   "nav_menu": {},
   "number_sections": true,
   "sideBar": true,
   "skip_h1_title": true,
   "title_cell": "Table of Contents",
   "title_sidebar": "Contents",
   "toc_cell": true,
   "toc_position": {},
   "toc_section_display": true,
   "toc_window_display": false
  }
 },
 "nbformat": 4,
 "nbformat_minor": 5
}
