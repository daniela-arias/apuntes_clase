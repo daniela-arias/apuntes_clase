{
 "cells": [
  {
   "cell_type": "markdown",
   "metadata": {},
   "source": [
    "# Árboles de decisión"
   ]
  },
  {
   "cell_type": "markdown",
   "metadata": {},
   "source": [
    "![tree](https://media.giphy.com/media/G7S0Fek06CZfW/giphy.gif)"
   ]
  },
  {
   "cell_type": "markdown",
   "metadata": {
    "toc": true
   },
   "source": [
    "<h1>Table of Contents<span class=\"tocSkip\"></span></h1>\n",
    "<div class=\"toc\"><ul class=\"toc-item\"><li><span><a href=\"#Tipos-de-modelos-de-machine-learning\" data-toc-modified-id=\"Tipos-de-modelos-de-machine-learning-1\"><span class=\"toc-item-num\">1&nbsp;&nbsp;</span>Tipos de modelos de machine learning</a></span></li><li><span><a href=\"#Intro\" data-toc-modified-id=\"Intro-2\"><span class=\"toc-item-num\">2&nbsp;&nbsp;</span>Intro</a></span></li><li><span><a href=\"#El-problema\" data-toc-modified-id=\"El-problema-3\"><span class=\"toc-item-num\">3&nbsp;&nbsp;</span>El problema</a></span><ul class=\"toc-item\"><li><span><a href=\"#Data-exploration\" data-toc-modified-id=\"Data-exploration-3.1\"><span class=\"toc-item-num\">3.1&nbsp;&nbsp;</span>Data exploration</a></span></li><li><span><a href=\"#train_test_split\" data-toc-modified-id=\"train_test_split-3.2\"><span class=\"toc-item-num\">3.2&nbsp;&nbsp;</span>train_test_split</a></span></li></ul></li><li><span><a href=\"#Probemos-con-una-regresión-lineal\" data-toc-modified-id=\"Probemos-con-una-regresión-lineal-4\"><span class=\"toc-item-num\">4&nbsp;&nbsp;</span>Probemos con una regresión lineal</a></span><ul class=\"toc-item\"><li><span><a href=\"#La-entreno-con-el-chorro-de-3918-vinos-de-train\" data-toc-modified-id=\"La-entreno-con-el-chorro-de-3918-vinos-de-train-4.1\"><span class=\"toc-item-num\">4.1&nbsp;&nbsp;</span>La entreno con el chorro de 3918 vinos de train</a></span></li><li><span><a href=\"#Recordemos-cómo-funciona-esto-por-dentro\" data-toc-modified-id=\"Recordemos-cómo-funciona-esto-por-dentro-4.2\"><span class=\"toc-item-num\">4.2&nbsp;&nbsp;</span>Recordemos cómo funciona esto por dentro</a></span></li></ul></li><li><span><a href=\"#Decision-trees\" data-toc-modified-id=\"Decision-trees-5\"><span class=\"toc-item-num\">5&nbsp;&nbsp;</span>Decision trees</a></span><ul class=\"toc-item\"><li><span><a href=\"#Modelo-de-base\" data-toc-modified-id=\"Modelo-de-base-5.1\"><span class=\"toc-item-num\">5.1&nbsp;&nbsp;</span>Modelo de base</a></span><ul class=\"toc-item\"><li><span><a href=\"#Train-error\" data-toc-modified-id=\"Train-error-5.1.1\"><span class=\"toc-item-num\">5.1.1&nbsp;&nbsp;</span>Train error</a></span></li><li><span><a href=\"#Test-error\" data-toc-modified-id=\"Test-error-5.1.2\"><span class=\"toc-item-num\">5.1.2&nbsp;&nbsp;</span>Test error</a></span></li></ul></li><li><span><a href=\"#Árbol-simple--(depth=1)\" data-toc-modified-id=\"Árbol-simple--(depth=1)-5.2\"><span class=\"toc-item-num\">5.2&nbsp;&nbsp;</span>Árbol simple  (depth=1)</a></span><ul class=\"toc-item\"><li><span><a href=\"#Medimos-el-error\" data-toc-modified-id=\"Medimos-el-error-5.2.1\"><span class=\"toc-item-num\">5.2.1&nbsp;&nbsp;</span>Medimos el error</a></span></li><li><span><a href=\"#Train-error\" data-toc-modified-id=\"Train-error-5.2.2\"><span class=\"toc-item-num\">5.2.2&nbsp;&nbsp;</span>Train error</a></span></li><li><span><a href=\"#¿Os-acordáis-de-los-valores-predichos-anteriormente?\" data-toc-modified-id=\"¿Os-acordáis-de-los-valores-predichos-anteriormente?-5.2.3\"><span class=\"toc-item-num\">5.2.3&nbsp;&nbsp;</span>¿Os acordáis de los valores predichos anteriormente?</a></span></li><li><span><a href=\"#Vamos-a-comprobar-que-es-real-ese-valor....\" data-toc-modified-id=\"Vamos-a-comprobar-que-es-real-ese-valor....-5.2.4\"><span class=\"toc-item-num\">5.2.4&nbsp;&nbsp;</span>Vamos a comprobar que es real ese valor....</a></span></li><li><span><a href=\"#Algunas-preguntas-importantes-para-una-comprensión-profunda:\" data-toc-modified-id=\"Algunas-preguntas-importantes-para-una-comprensión-profunda:-5.2.5\"><span class=\"toc-item-num\">5.2.5&nbsp;&nbsp;</span>Algunas preguntas importantes para una comprensión profunda:</a></span></li></ul></li><li><span><a href=\"#Arbol-más-grande-(depth=3)\" data-toc-modified-id=\"Arbol-más-grande-(depth=3)-5.3\"><span class=\"toc-item-num\">5.3&nbsp;&nbsp;</span>Arbol más grande (depth=3)</a></span><ul class=\"toc-item\"><li><span><a href=\"#Medimos-el-error\" data-toc-modified-id=\"Medimos-el-error-5.3.1\"><span class=\"toc-item-num\">5.3.1&nbsp;&nbsp;</span>Medimos el error</a></span></li><li><span><a href=\"#Train-error\" data-toc-modified-id=\"Train-error-5.3.2\"><span class=\"toc-item-num\">5.3.2&nbsp;&nbsp;</span>Train error</a></span></li><li><span><a href=\"#Test-error\" data-toc-modified-id=\"Test-error-5.3.3\"><span class=\"toc-item-num\">5.3.3&nbsp;&nbsp;</span>Test error</a></span></li><li><span><a href=\"#Vemos-el-árbol\" data-toc-modified-id=\"Vemos-el-árbol-5.3.4\"><span class=\"toc-item-num\">5.3.4&nbsp;&nbsp;</span>Vemos el árbol</a></span></li></ul></li><li><span><a href=\"#Árbol-brutal-(depth=20)\" data-toc-modified-id=\"Árbol-brutal-(depth=20)-5.4\"><span class=\"toc-item-num\">5.4&nbsp;&nbsp;</span>Árbol brutal (depth=20)</a></span><ul class=\"toc-item\"><li><span><a href=\"#Medimos-el-error\" data-toc-modified-id=\"Medimos-el-error-5.4.1\"><span class=\"toc-item-num\">5.4.1&nbsp;&nbsp;</span>Medimos el error</a></span></li><li><span><a href=\"#Train-error\" data-toc-modified-id=\"Train-error-5.4.2\"><span class=\"toc-item-num\">5.4.2&nbsp;&nbsp;</span>Train error</a></span></li><li><span><a href=\"#Test-error\" data-toc-modified-id=\"Test-error-5.4.3\"><span class=\"toc-item-num\">5.4.3&nbsp;&nbsp;</span>Test error</a></span></li></ul></li></ul></li><li><span><a href=\"#¿Qué-ha-pasado?\" data-toc-modified-id=\"¿Qué-ha-pasado?-6\"><span class=\"toc-item-num\">6&nbsp;&nbsp;</span>¿Qué ha pasado?</a></span><ul class=\"toc-item\"><li><span><a href=\"#Overfitting\" data-toc-modified-id=\"Overfitting-6.1\"><span class=\"toc-item-num\">6.1&nbsp;&nbsp;</span>Overfitting</a></span></li></ul></li><li><span><a href=\"#Bagging\" data-toc-modified-id=\"Bagging-7\"><span class=\"toc-item-num\">7&nbsp;&nbsp;</span>Bagging</a></span><ul class=\"toc-item\"><li><span><a href=\"#Random-Forest\" data-toc-modified-id=\"Random-Forest-7.1\"><span class=\"toc-item-num\">7.1&nbsp;&nbsp;</span>Random Forest</a></span><ul class=\"toc-item\"><li><span><a href=\"#Train-error\" data-toc-modified-id=\"Train-error-7.1.1\"><span class=\"toc-item-num\">7.1.1&nbsp;&nbsp;</span>Train error</a></span></li><li><span><a href=\"#Test-error\" data-toc-modified-id=\"Test-error-7.1.2\"><span class=\"toc-item-num\">7.1.2&nbsp;&nbsp;</span>Test error</a></span></li></ul></li></ul></li><li><span><a href=\"#Algoritmos-de-Machine-Learning-en-sklarn\" data-toc-modified-id=\"Algoritmos-de-Machine-Learning-en-sklarn-8\"><span class=\"toc-item-num\">8&nbsp;&nbsp;</span>Algoritmos de Machine Learning en sklarn</a></span></li><li><span><a href=\"#Otras-librerías-para-hacer-ML\" data-toc-modified-id=\"Otras-librerías-para-hacer-ML-9\"><span class=\"toc-item-num\">9&nbsp;&nbsp;</span>Otras librerías para hacer ML</a></span></li><li><span><a href=\"#Resumen\" data-toc-modified-id=\"Resumen-10\"><span class=\"toc-item-num\">10&nbsp;&nbsp;</span>Resumen</a></span></li></ul></div>"
   ]
  },
  {
   "cell_type": "markdown",
   "metadata": {},
   "source": [
    "## Tipos de modelos de machine learning"
   ]
  },
  {
   "cell_type": "markdown",
   "metadata": {},
   "source": [
    "* **1. Árboles de decisión**: Un árbol de decisiones es una herramienta de apoyo a la decisión que utiliza un gráfico o un modelo similar a un árbol de decisiones y sus posibles consecuencias, incluidos los resultados de eventos fortuitos, los costos de recursos y la utilidad. Presentan una apariencia como esta:\n",
    "![imagen](https://www.raona.com/wp-content/uploads/2017/05/arbol_decision.png)\n",
    "\n",
    "\n",
    "Desde el punto de vista de la toma de decisiones empresariales, un árbol de decisiones es el número mínimo de preguntas sí / no que uno tiene que hacer, para evaluar la probabilidad de tomar una decisión correcta, la mayoría del tiempo. Este método le permite abordar el problema de una manera estructurada y sistemática para llegar a una conclusión lógica.\n",
    "\n",
    "* **2. Naïve Bayes Clasification**: Los clasificadores Naïve Bayes son una familia de simples clasificadores probabilísticos basado en la aplicación de Bayes ‘teorema con fuertes (Naïve) supuestos de independencia entre las características’. La imagen destacada es la ecuación – con P (A | B) es probabilidad posterior, P (B | A) es probabilidad, P (A) es probabilidad previa de clase, y P (B) predictor probabilidad previa.\n",
    "\n",
    "* **3. Ordinary Least Squares Regression**: Si has estado en contacto con la estadística, probablemente hayas oído hablar de regresión lineal antes. Ordinary Least Squares Regression es un método para realizar la regresión lineal. Se puede pensar en la regresión lineal como la tarea de ajustar una línea recta a través de un conjunto de puntos. Hay varias estrategias posibles para hacer esto, y la estrategia de «mínimos cuadrados ordinarios» va así: puede dibujar una línea y luego, para cada uno de los puntos de datos, medir la distancia vertical entre el punto y la línea y sumarlos; La línea ajustada sería aquella en la que esta suma de distancias sea lo más pequeña posible.\n",
    "![regresión](https://www.raona.com/wp-content/uploads/2017/05/3.png)\n",
    "\n",
    "Linear se refiere al tipo de modelo que está utilizando para ajustar los datos, mientras que los mínimos cuadrados se refieren al tipo de métrica de error que está minimizando.\n",
    "\n",
    "* **4. Logistic Regression**: La regresión logística es una poderosa manera estadística de modelar un resultado binomial con una o más variables explicativas. Mide la relación entre la variable dependiente categórica y una o más variables independientes estimando las probabilidades utilizando una función logística, que es la distribución logística acumulativa.\n",
    "\n",
    "![logistic](https://www.raona.com/wp-content/uploads/2017/05/4.png)\n",
    "\n",
    "\n",
    "* **5. Support Vector Machines**: SVM es un algoritmo de clasificación binario. Dado un conjunto de puntos de 2 tipos en el lugar N dimensional, SVM genera un hiperlano (N – 1) dimensional para separar esos puntos en 2 grupos. Digamos que usted tiene algunos puntos de 2 tipos en un papel que son linealmente separables. SVM encontrará una línea recta que separa esos puntos en 2 tipos y situados lo más lejos posible de todos esos puntos.\n",
    "![svm](https://www.raona.com/wp-content/uploads/2017/05/5.png)\n",
    "\n",
    "En términos de escala, algunos de los mayores problemas que se han resuelto utilizando SVMs (con implementaciones adecuadamente modificadas) son publicidad en pantalla, reconocimiento de sitios de empalme humanos, detección de género basada en imágenes, clasificación de imágenes a gran escala.\n",
    "\n",
    "\n",
    "* **6. Métodos Ensemble**: Los métodos Ensemble son algoritmos de aprendizaje que construyen un conjunto de clasificadores y luego clasifican nuevos puntos de datos tomando un voto ponderado de sus predicciones. El método de conjunto original es Bayesian promediando, pero los algoritmos más recientes incluyen error de corrección de salida de codificación.\n"
   ]
  },
  {
   "cell_type": "code",
   "execution_count": null,
   "metadata": {},
   "outputs": [],
   "source": [
    "import pandas as pd\n",
    "import numpy as np\n",
    "from matplotlib import pyplot as plt\n",
    "%matplotlib inline\n",
    "%config Inlinebackend.figure_format = 'retina'\n",
    "\n",
    "import seaborn as sns\n",
    "sns.set_context('poster')\n",
    "sns.set(rc={'figure.figsize': (16., 9.)})\n",
    "sns.set_style('whitegrid')"
   ]
  },
  {
   "cell_type": "markdown",
   "metadata": {},
   "source": [
    "## Intro"
   ]
  },
  {
   "cell_type": "markdown",
   "metadata": {},
   "source": [
    "Un árbol de decisión trata de predecir la variable objetivo utilizando una lógica como la siguiente."
   ]
  },
  {
   "cell_type": "markdown",
   "metadata": {},
   "source": [
    "![](../images/dig10.png)"
   ]
  },
  {
   "cell_type": "markdown",
   "metadata": {},
   "source": [
    "Los árboles de decisión:\n",
    " * se utilizan **tanto** para la clasificación (ejemplo anterior Fit/Unfit) como para la regresión\n",
    " * implican estratificar (segmentar) el espacio predictor...\n",
    " * esto lo realiza de forma iterativa\n",
    " * reciben este nombre porque las reglas de división se pueden resumir en un árbol\n",
    " \n",
    "Los árboles de decisión:\n",
    " * son sencillos\n",
    " * son útiles para la interpretación\n",
    " * no son predictores muy potentes pero...(bueno, comparado con la regresión lineal, evidentemente sí)\n",
    " * dan lugar a modelos más complejos, como los algoritmos Random Forest o Gradient Boosted Trees"
   ]
  },
  {
   "cell_type": "markdown",
   "metadata": {},
   "source": [
    "## El problema"
   ]
  },
  {
   "cell_type": "markdown",
   "metadata": {},
   "source": [
    "Hoy vamos a utilizar un conjunto de datos de **vino blanco**.\n",
    "Los expertos han calificado varios vinos, cuyas propiedades físicas también se indican"
   ]
  },
  {
   "cell_type": "code",
   "execution_count": null,
   "metadata": {},
   "outputs": [],
   "source": [
    "df = pd.read_csv(\"../datasets/wine_quality.csv\")"
   ]
  },
  {
   "cell_type": "code",
   "execution_count": null,
   "metadata": {},
   "outputs": [],
   "source": []
  },
  {
   "cell_type": "markdown",
   "metadata": {},
   "source": [
    "### Data exploration"
   ]
  },
  {
   "cell_type": "code",
   "execution_count": null,
   "metadata": {},
   "outputs": [],
   "source": [
    "# ya que los nombres de las columnas tienen espacios...\n"
   ]
  },
  {
   "cell_type": "code",
   "execution_count": null,
   "metadata": {},
   "outputs": [],
   "source": []
  },
  {
   "cell_type": "code",
   "execution_count": null,
   "metadata": {},
   "outputs": [],
   "source": []
  },
  {
   "cell_type": "markdown",
   "metadata": {},
   "source": [
    "Queremos:\n",
    " * construir un modelo de aprendizaje **supervisado**\n",
    " * que es un modelo de **regresión** (predice características cuantitativas)\n",
    " * que intente predecir la \"calidad\" del vino a partir de sus propiedades físicas (de modo que ya no necesitemos el consejo de los expertos)"
   ]
  },
  {
   "cell_type": "code",
   "execution_count": null,
   "metadata": {},
   "outputs": [],
   "source": []
  },
  {
   "cell_type": "code",
   "execution_count": null,
   "metadata": {},
   "outputs": [],
   "source": []
  },
  {
   "cell_type": "code",
   "execution_count": null,
   "metadata": {},
   "outputs": [],
   "source": []
  },
  {
   "cell_type": "markdown",
   "metadata": {},
   "source": [
    "### train_test_split"
   ]
  },
  {
   "cell_type": "code",
   "execution_count": null,
   "metadata": {},
   "outputs": [],
   "source": [
    "# train test split\n",
    "from sklearn.model_selection import train_test_split"
   ]
  },
  {
   "cell_type": "code",
   "execution_count": null,
   "metadata": {},
   "outputs": [],
   "source": []
  },
  {
   "cell_type": "code",
   "execution_count": null,
   "metadata": {},
   "outputs": [],
   "source": []
  },
  {
   "cell_type": "code",
   "execution_count": null,
   "metadata": {},
   "outputs": [],
   "source": []
  },
  {
   "cell_type": "code",
   "execution_count": null,
   "metadata": {},
   "outputs": [],
   "source": []
  },
  {
   "cell_type": "code",
   "execution_count": null,
   "metadata": {},
   "outputs": [],
   "source": []
  },
  {
   "cell_type": "code",
   "execution_count": null,
   "metadata": {},
   "outputs": [],
   "source": []
  },
  {
   "cell_type": "code",
   "execution_count": null,
   "metadata": {},
   "outputs": [],
   "source": []
  },
  {
   "cell_type": "code",
   "execution_count": null,
   "metadata": {},
   "outputs": [],
   "source": []
  },
  {
   "cell_type": "code",
   "execution_count": null,
   "metadata": {},
   "outputs": [],
   "source": []
  },
  {
   "cell_type": "code",
   "execution_count": null,
   "metadata": {},
   "outputs": [],
   "source": []
  },
  {
   "cell_type": "code",
   "execution_count": null,
   "metadata": {},
   "outputs": [],
   "source": []
  },
  {
   "cell_type": "markdown",
   "metadata": {},
   "source": [
    "## Probemos con una regresión lineal"
   ]
  },
  {
   "cell_type": "code",
   "execution_count": null,
   "metadata": {},
   "outputs": [],
   "source": [
    "from sklearn.linear_model import LinearRegression"
   ]
  },
  {
   "cell_type": "code",
   "execution_count": null,
   "metadata": {},
   "outputs": [],
   "source": []
  },
  {
   "cell_type": "markdown",
   "metadata": {},
   "source": [
    "### La entreno con el chorro de 3918 vinos de train"
   ]
  },
  {
   "cell_type": "code",
   "execution_count": null,
   "metadata": {},
   "outputs": [],
   "source": [
    "\n",
    "# encontrar los parámetros beta_0, ... beta_n"
   ]
  },
  {
   "cell_type": "code",
   "execution_count": null,
   "metadata": {},
   "outputs": [],
   "source": []
  },
  {
   "cell_type": "code",
   "execution_count": null,
   "metadata": {},
   "outputs": [],
   "source": []
  },
  {
   "cell_type": "markdown",
   "metadata": {},
   "source": [
    "### Recordemos cómo funciona esto por dentro\n",
    "Si Cojo un vino nuevo. ¿Cómo se predice su quality?  \n",
    "La prediccion de un vino nuevo será beta_0 + beta_1 * fixed_acidity + beta_2 * volatile... + ..."
   ]
  },
  {
   "cell_type": "code",
   "execution_count": null,
   "metadata": {},
   "outputs": [],
   "source": []
  },
  {
   "cell_type": "code",
   "execution_count": null,
   "metadata": {},
   "outputs": [],
   "source": []
  },
  {
   "cell_type": "code",
   "execution_count": null,
   "metadata": {},
   "outputs": [],
   "source": []
  },
  {
   "cell_type": "code",
   "execution_count": null,
   "metadata": {},
   "outputs": [],
   "source": []
  },
  {
   "cell_type": "code",
   "execution_count": null,
   "metadata": {},
   "outputs": [],
   "source": []
  },
  {
   "cell_type": "code",
   "execution_count": null,
   "metadata": {},
   "outputs": [],
   "source": [
    "from sklearn.metrics import mean_squared_error"
   ]
  },
  {
   "cell_type": "code",
   "execution_count": null,
   "metadata": {},
   "outputs": [],
   "source": [
    "# MSE\n"
   ]
  },
  {
   "cell_type": "markdown",
   "metadata": {},
   "source": [
    "## Decision trees"
   ]
  },
  {
   "cell_type": "markdown",
   "metadata": {},
   "source": [
    "Lo que haremos:\n",
    "\n",
    "Probar varios modelos y...\n",
    "nos quedaremos con el que tenga el menor RMSE en el conjunto de prueba (también llamado error de prueba)."
   ]
  },
  {
   "cell_type": "markdown",
   "metadata": {},
   "source": [
    "### Modelo de base"
   ]
  },
  {
   "cell_type": "markdown",
   "metadata": {},
   "source": [
    "¿Cuál es la idea del baseline?\n",
    "Una línea de base es el resultado de un modelo/solución muy básico. Por lo general, se crea una línea de base y luego se intenta hacer soluciones más complejas para obtener un mejor resultado. Si consigues una puntuación mejor que la línea de base, es bueno.\n",
    "En nuestro caso, el modelo de referencia predice la calidad de cada vino asignando la media."
   ]
  },
  {
   "cell_type": "code",
   "execution_count": null,
   "metadata": {},
   "outputs": [],
   "source": []
  },
  {
   "cell_type": "code",
   "execution_count": null,
   "metadata": {},
   "outputs": [],
   "source": []
  },
  {
   "cell_type": "markdown",
   "metadata": {},
   "source": [
    "**Train Error**\n",
    "\n",
    "El error de entrenamiento es el error de predicción que obtenemos aplicando el modelo a los mismos datos con los que nos hemos entrenado. El error de entrenamiento es mucho más fácil de calcular que el error de prueba. El error de entrenamiento suele ser menor que el de prueba, ya que el modelo ya ha visto el conjunto de entrenamiento"
   ]
  },
  {
   "cell_type": "markdown",
   "metadata": {},
   "source": [
    "El **MSE** puede calcularse manualmente (Mean squared error ¿nos acordamos?)"
   ]
  },
  {
   "cell_type": "markdown",
   "metadata": {},
   "source": [
    "#### Train error"
   ]
  },
  {
   "cell_type": "code",
   "execution_count": null,
   "metadata": {},
   "outputs": [],
   "source": []
  },
  {
   "cell_type": "markdown",
   "metadata": {},
   "source": [
    "#### Test error"
   ]
  },
  {
   "cell_type": "code",
   "execution_count": null,
   "metadata": {},
   "outputs": [],
   "source": []
  },
  {
   "cell_type": "code",
   "execution_count": null,
   "metadata": {
    "scrolled": false
   },
   "outputs": [],
   "source": []
  },
  {
   "cell_type": "markdown",
   "metadata": {},
   "source": [
    "### Árbol simple  (depth=1)"
   ]
  },
  {
   "cell_type": "markdown",
   "metadata": {},
   "source": [
    "Primero, montemos un Árbol y luego lo interpretemos"
   ]
  },
  {
   "cell_type": "code",
   "execution_count": null,
   "metadata": {},
   "outputs": [],
   "source": [
    "from sklearn.tree import DecisionTreeRegressor"
   ]
  },
  {
   "cell_type": "markdown",
   "metadata": {},
   "source": [
    "Literatura\n",
    "- https://programmerclick.com/article/9852881776/\n",
    "- https://bookdown.org/content/2031/arboles-de-decision-parte-i.html"
   ]
  },
  {
   "cell_type": "code",
   "execution_count": null,
   "metadata": {},
   "outputs": [],
   "source": []
  },
  {
   "cell_type": "code",
   "execution_count": null,
   "metadata": {},
   "outputs": [],
   "source": []
  },
  {
   "cell_type": "markdown",
   "metadata": {},
   "source": [
    "Veamos cómo predice este modelo"
   ]
  },
  {
   "cell_type": "code",
   "execution_count": null,
   "metadata": {},
   "outputs": [],
   "source": [
    "# Los valores reales\n"
   ]
  },
  {
   "cell_type": "code",
   "execution_count": null,
   "metadata": {},
   "outputs": [],
   "source": [
    "# Valores predichos\n"
   ]
  },
  {
   "cell_type": "code",
   "execution_count": null,
   "metadata": {},
   "outputs": [],
   "source": []
  },
  {
   "cell_type": "markdown",
   "metadata": {},
   "source": [
    "#### Medimos el error"
   ]
  },
  {
   "cell_type": "markdown",
   "metadata": {},
   "source": [
    "#### Train error"
   ]
  },
  {
   "cell_type": "code",
   "execution_count": null,
   "metadata": {},
   "outputs": [],
   "source": []
  },
  {
   "cell_type": "code",
   "execution_count": null,
   "metadata": {},
   "outputs": [],
   "source": []
  },
  {
   "cell_type": "code",
   "execution_count": null,
   "metadata": {},
   "outputs": [],
   "source": []
  },
  {
   "cell_type": "code",
   "execution_count": null,
   "metadata": {},
   "outputs": [],
   "source": []
  },
  {
   "cell_type": "code",
   "execution_count": null,
   "metadata": {},
   "outputs": [],
   "source": []
  },
  {
   "cell_type": "code",
   "execution_count": null,
   "metadata": {},
   "outputs": [],
   "source": []
  },
  {
   "cell_type": "markdown",
   "metadata": {},
   "source": [
    "#### ¿Os acordáis de los valores predichos anteriormente?"
   ]
  },
  {
   "cell_type": "code",
   "execution_count": null,
   "metadata": {},
   "outputs": [],
   "source": []
  },
  {
   "cell_type": "markdown",
   "metadata": {},
   "source": [
    "#### Vamos a comprobar que es real ese valor...."
   ]
  },
  {
   "cell_type": "code",
   "execution_count": null,
   "metadata": {},
   "outputs": [],
   "source": []
  },
  {
   "cell_type": "code",
   "execution_count": null,
   "metadata": {},
   "outputs": [],
   "source": []
  },
  {
   "cell_type": "markdown",
   "metadata": {},
   "source": [
    "¿Cuál es el MSE? lo hemos calculado antes, pero se trata de la media ponderada de los MSE de las hojas"
   ]
  },
  {
   "cell_type": "code",
   "execution_count": null,
   "metadata": {},
   "outputs": [],
   "source": []
  },
  {
   "cell_type": "markdown",
   "metadata": {},
   "source": [
    "#### Algunas preguntas importantes para una comprensión profunda:\n",
    " * 1. ¿por qué el Árbol de Decisión eligió `alcohol`?\n",
    " * 2. ¿por qué el Árbol de Decisión eligió  10,85?\n",
    " \n",
    "Vamos a hacer nosotras los intestinos del árbol de decisión para el par (característica, corte) de (azúcar_residual, 5), a ver qué pasa.       \n",
    "Imaginad que elegimos `residual_sugar` y valor 5"
   ]
  },
  {
   "cell_type": "code",
   "execution_count": null,
   "metadata": {},
   "outputs": [],
   "source": []
  },
  {
   "cell_type": "code",
   "execution_count": null,
   "metadata": {},
   "outputs": [],
   "source": []
  },
  {
   "cell_type": "code",
   "execution_count": null,
   "metadata": {},
   "outputs": [],
   "source": []
  },
  {
   "cell_type": "code",
   "execution_count": null,
   "metadata": {},
   "outputs": [],
   "source": []
  },
  {
   "cell_type": "code",
   "execution_count": null,
   "metadata": {},
   "outputs": [],
   "source": []
  },
  {
   "cell_type": "code",
   "execution_count": null,
   "metadata": {},
   "outputs": [],
   "source": []
  },
  {
   "cell_type": "code",
   "execution_count": null,
   "metadata": {},
   "outputs": [],
   "source": []
  },
  {
   "cell_type": "code",
   "execution_count": null,
   "metadata": {},
   "outputs": [],
   "source": []
  },
  {
   "cell_type": "code",
   "execution_count": null,
   "metadata": {},
   "outputs": [],
   "source": []
  },
  {
   "cell_type": "markdown",
   "metadata": {},
   "source": [
    "Una mejora un poco basura con respecto al modelo de referencia, y mucho peor que el alcohol 10,85, par óptimo de características-umbral."
   ]
  },
  {
   "cell_type": "code",
   "execution_count": null,
   "metadata": {},
   "outputs": [],
   "source": []
  },
  {
   "cell_type": "markdown",
   "metadata": {},
   "source": [
    "¿Por qué pasa esto? \n",
    "\n",
    "Un arbol de decisión elige cada FEATURE y CADA CORTE...computa el error y sigue hasta que encuentra el mejor feature y el mejor corte"
   ]
  },
  {
   "cell_type": "markdown",
   "metadata": {},
   "source": [
    "* qué significa `mse`: es el error cuadrático medio en cada grupo: el que se obtendría si a cada vino de ese grupo se le diera la media del grupo. Es decir, un baseline de cada grupo.\n",
    "* qué significa `valor`: la calidad media de los vinos de ese grupo. El valor que se predecirá para cada nuevo vino que termine en esa hoja del árbol\n",
    "* durante la prueba (predicción de una nueva instancia), ¿cómo funciona el árbol? Recorre un único camino. Cuando este camino termina, el valor de esa hoja es la predicción"
   ]
  },
  {
   "cell_type": "markdown",
   "metadata": {},
   "source": [
    "### Arbol más grande (depth=3)"
   ]
  },
  {
   "cell_type": "code",
   "execution_count": null,
   "metadata": {},
   "outputs": [],
   "source": []
  },
  {
   "cell_type": "code",
   "execution_count": null,
   "metadata": {},
   "outputs": [],
   "source": []
  },
  {
   "cell_type": "code",
   "execution_count": null,
   "metadata": {},
   "outputs": [],
   "source": [
    "# reales últimos 10 valores\n"
   ]
  },
  {
   "cell_type": "code",
   "execution_count": null,
   "metadata": {},
   "outputs": [],
   "source": [
    "# valores predichos\n"
   ]
  },
  {
   "cell_type": "code",
   "execution_count": null,
   "metadata": {},
   "outputs": [],
   "source": []
  },
  {
   "cell_type": "markdown",
   "metadata": {},
   "source": [
    "#### Medimos el error"
   ]
  },
  {
   "cell_type": "markdown",
   "metadata": {},
   "source": [
    "#### Train error"
   ]
  },
  {
   "cell_type": "code",
   "execution_count": null,
   "metadata": {},
   "outputs": [],
   "source": []
  },
  {
   "cell_type": "markdown",
   "metadata": {},
   "source": [
    "#### Test error"
   ]
  },
  {
   "cell_type": "code",
   "execution_count": null,
   "metadata": {},
   "outputs": [],
   "source": [
    "mean_squared_error(y_test,y_pred).round(3)"
   ]
  },
  {
   "cell_type": "markdown",
   "metadata": {},
   "source": [
    "#### Vemos el árbol"
   ]
  },
  {
   "cell_type": "code",
   "execution_count": null,
   "metadata": {},
   "outputs": [],
   "source": []
  },
  {
   "cell_type": "code",
   "execution_count": null,
   "metadata": {},
   "outputs": [],
   "source": []
  },
  {
   "cell_type": "markdown",
   "metadata": {},
   "source": [
    "### Árbol brutal (depth=20)"
   ]
  },
  {
   "cell_type": "code",
   "execution_count": null,
   "metadata": {},
   "outputs": [],
   "source": []
  },
  {
   "cell_type": "code",
   "execution_count": null,
   "metadata": {},
   "outputs": [],
   "source": []
  },
  {
   "cell_type": "code",
   "execution_count": null,
   "metadata": {},
   "outputs": [],
   "source": []
  },
  {
   "cell_type": "markdown",
   "metadata": {},
   "source": [
    "#### Medimos el error"
   ]
  },
  {
   "cell_type": "markdown",
   "metadata": {},
   "source": [
    "#### Train error"
   ]
  },
  {
   "cell_type": "code",
   "execution_count": null,
   "metadata": {},
   "outputs": [],
   "source": []
  },
  {
   "cell_type": "markdown",
   "metadata": {},
   "source": [
    "#### Test error"
   ]
  },
  {
   "cell_type": "code",
   "execution_count": null,
   "metadata": {},
   "outputs": [],
   "source": []
  },
  {
   "cell_type": "markdown",
   "metadata": {},
   "source": [
    "## ¿Qué ha pasado?"
   ]
  },
  {
   "cell_type": "markdown",
   "metadata": {},
   "source": [
    "![overfiting](https://media.makeameme.org/created/you-are-overfitting.jpg)"
   ]
  },
  {
   "cell_type": "markdown",
   "metadata": {},
   "source": [
    "### Overfitting"
   ]
  },
  {
   "cell_type": "markdown",
   "metadata": {},
   "source": [
    "Veamos cómo cambia el error de entrenamiento y de prueba con `max_depth`."
   ]
  },
  {
   "cell_type": "code",
   "execution_count": null,
   "metadata": {},
   "outputs": [],
   "source": []
  },
  {
   "cell_type": "code",
   "execution_count": null,
   "metadata": {},
   "outputs": [],
   "source": []
  },
  {
   "cell_type": "code",
   "execution_count": null,
   "metadata": {},
   "outputs": [],
   "source": []
  },
  {
   "cell_type": "code",
   "execution_count": null,
   "metadata": {},
   "outputs": [],
   "source": []
  },
  {
   "cell_type": "markdown",
   "metadata": {},
   "source": [
    "Podemos ver cómo, cuando `max_depth` aumenta por encima de ~6:\n",
    " * el error de entrenamiento disminuye (es más preciso en las muestras de entrenamiento)\n",
    " * el error de prueba aumenta (el modelo memoriza el conjunto de entrenamiento y no generaliza muy bien)"
   ]
  },
  {
   "cell_type": "markdown",
   "metadata": {},
   "source": [
    "¡Este es el famoso overfitting! ¡Y es por ello que el **test error** es el que debes mirar! (y es por esto que en clase prácticamente no menciono el test error, aunque lo veis en los labs)"
   ]
  },
  {
   "cell_type": "markdown",
   "metadata": {},
   "source": [
    "## Bagging\n",
    "\n",
    "El Bagging (Bootstrap Aggregation) es una herramienta de Machine Learning utilizada para:\n",
    " * mejorar la estabilidad de un algoritmo (robusto ante pequeños cambios en los datos)\n",
    " * reducir el sobreajuste\n",
    " \n",
    "Consiste en, dado un conjunto de datos original $D$:\n",
    " 1. construir diferentes conjuntos de datos $D_i$ a partir de $D$, extrayendo muestras con reemplazo (bootstraping)\n",
    " 2. y construir un modelo para cada conjunto de datos $D_i$\n",
    " 3. para finalmente promediar las predicciones en la fase de prueba (agregación)"
   ]
  },
  {
   "cell_type": "markdown",
   "metadata": {},
   "source": [
    "\n",
    "<img width=600 src=\"https://upload.wikimedia.org/wikipedia/commons/thumb/c/c8/Ensemble_Bagging.svg/440px-Ensemble_Bagging.svg.png\">"
   ]
  },
  {
   "cell_type": "markdown",
   "metadata": {},
   "source": [
    "### Random Forest\n",
    "Random Forest aplica la lógica del Bagging para construir varios árboles de decisión"
   ]
  },
  {
   "cell_type": "markdown",
   "metadata": {},
   "source": [
    "<img width=600 src=\"https://cdn.analyticsvidhya.com/wp-content/uploads/2020/02/rfc_vs_dt1.png\">"
   ]
  },
  {
   "cell_type": "markdown",
   "metadata": {},
   "source": [
    "Veamos en la práctica como funciona el random forest y si tenemos mejores métricas que con el DecisionTree"
   ]
  },
  {
   "cell_type": "code",
   "execution_count": null,
   "metadata": {},
   "outputs": [],
   "source": [
    "from sklearn.ensemble import RandomForestRegressor"
   ]
  },
  {
   "cell_type": "code",
   "execution_count": null,
   "metadata": {},
   "outputs": [],
   "source": []
  },
  {
   "cell_type": "code",
   "execution_count": null,
   "metadata": {},
   "outputs": [],
   "source": []
  },
  {
   "cell_type": "code",
   "execution_count": null,
   "metadata": {},
   "outputs": [],
   "source": []
  },
  {
   "cell_type": "markdown",
   "metadata": {},
   "source": [
    "#### Train error"
   ]
  },
  {
   "cell_type": "code",
   "execution_count": null,
   "metadata": {},
   "outputs": [],
   "source": []
  },
  {
   "cell_type": "markdown",
   "metadata": {},
   "source": [
    "#### Test error"
   ]
  },
  {
   "cell_type": "code",
   "execution_count": null,
   "metadata": {},
   "outputs": [],
   "source": []
  },
  {
   "cell_type": "markdown",
   "metadata": {},
   "source": [
    "## Algoritmos de Machine Learning en sklarn"
   ]
  },
  {
   "cell_type": "markdown",
   "metadata": {},
   "source": [
    "A menudo, la parte más difícil de resolver un problema de aprendizaje automático puede ser encontrar el estimador adecuado para el trabajo.\n",
    "\n",
    "Los diferentes estimadores son más adecuados para diferentes tipos de datos y diferentes problemas.\n",
    "\n",
    "El siguiente diagrama de flujo está diseñado para ofrecer a los usuarios una guía aproximada sobre cómo abordar los problemas en relación con los estimadores que deben probarse con los datos.\n",
    "\n",
    "En su propia página tienen esta info así que os remito directamente a la [documentación](https://scikit-learn.org/stable/tutorial/machine_learning_map/index.html)\n",
    "![SKLEARN](https://scikit-learn.org/stable/_static/ml_map.png)"
   ]
  },
  {
   "cell_type": "markdown",
   "metadata": {},
   "source": [
    "## Otras librerías para hacer ML\n",
    "- https://xgboost.readthedocs.io/en/stable/tutorials/model.html\n",
    "- https://docs.h2o.ai/h2o/latest-stable/h2o-py/docs/model_categories.html"
   ]
  },
  {
   "cell_type": "markdown",
   "metadata": {},
   "source": [
    "## Resumen\n",
    "Es tu turno ¿qué hemos aprendido hoy?"
   ]
  }
 ],
 "metadata": {
  "kernelspec": {
   "display_name": "ironhack",
   "language": "python",
   "name": "ironhack"
  },
  "language_info": {
   "codemirror_mode": {
    "name": "ipython",
    "version": 3
   },
   "file_extension": ".py",
   "mimetype": "text/x-python",
   "name": "python",
   "nbconvert_exporter": "python",
   "pygments_lexer": "ipython3",
   "version": "3.8.5"
  },
  "toc": {
   "base_numbering": 1,
   "nav_menu": {},
   "number_sections": true,
   "sideBar": true,
   "skip_h1_title": true,
   "title_cell": "Table of Contents",
   "title_sidebar": "Contents",
   "toc_cell": true,
   "toc_position": {
    "height": "calc(100% - 180px)",
    "left": "10px",
    "top": "150px",
    "width": "288px"
   },
   "toc_section_display": true,
   "toc_window_display": false
  },
  "varInspector": {
   "cols": {
    "lenName": 16,
    "lenType": 16,
    "lenVar": 40
   },
   "kernels_config": {
    "python": {
     "delete_cmd_postfix": "",
     "delete_cmd_prefix": "del ",
     "library": "var_list.py",
     "varRefreshCmd": "print(var_dic_list())"
    },
    "r": {
     "delete_cmd_postfix": ") ",
     "delete_cmd_prefix": "rm(",
     "library": "var_list.r",
     "varRefreshCmd": "cat(var_dic_list()) "
    }
   },
   "types_to_exclude": [
    "module",
    "function",
    "builtin_function_or_method",
    "instance",
    "_Feature"
   ],
   "window_display": false
  }
 },
 "nbformat": 4,
 "nbformat_minor": 4
}
