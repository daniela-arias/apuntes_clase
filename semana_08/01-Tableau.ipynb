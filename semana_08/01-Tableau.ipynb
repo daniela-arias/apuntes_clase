{
 "cells": [
  {
   "cell_type": "markdown",
   "id": "aed3dd0c",
   "metadata": {},
   "source": [
    "# Tableau"
   ]
  },
  {
   "cell_type": "markdown",
   "id": "e79b45e5",
   "metadata": {},
   "source": [
    "![](https://media.giphy.com/media/3oKIPEqDGUULpEU0aQ/giphy.gif)"
   ]
  },
  {
   "cell_type": "markdown",
   "id": "aaa87b98",
   "metadata": {
    "toc": true
   },
   "source": [
    "<h1>Table of Contents<span class=\"tocSkip\"></span></h1>\n",
    "<div class=\"toc\"><ul class=\"toc-item\"><li><span><a href=\"#Solución-de-problemas\" data-toc-modified-id=\"Solución-de-problemas-1\"><span class=\"toc-item-num\">1&nbsp;&nbsp;</span>Solución de problemas</a></span></li><li><span><a href=\"#Cargar-datos\" data-toc-modified-id=\"Cargar-datos-2\"><span class=\"toc-item-num\">2&nbsp;&nbsp;</span>Cargar datos</a></span></li><li><span><a href=\"#Pivotar\" data-toc-modified-id=\"Pivotar-3\"><span class=\"toc-item-num\">3&nbsp;&nbsp;</span>Pivotar</a></span></li><li><span><a href=\"#Dimensiones-y-Medidas\" data-toc-modified-id=\"Dimensiones-y-Medidas-4\"><span class=\"toc-item-num\">4&nbsp;&nbsp;</span>Dimensiones y Medidas</a></span></li><li><span><a href=\"#Los-gráficos-vistos-en-clase\" data-toc-modified-id=\"Los-gráficos-vistos-en-clase-5\"><span class=\"toc-item-num\">5&nbsp;&nbsp;</span>Los gráficos vistos en clase</a></span></li><li><span><a href=\"#Análisis-FIFA\" data-toc-modified-id=\"Análisis-FIFA-6\"><span class=\"toc-item-num\">6&nbsp;&nbsp;</span>Análisis FIFA</a></span></li></ul></div>"
   ]
  },
  {
   "cell_type": "markdown",
   "id": "292ccd37",
   "metadata": {},
   "source": [
    "## Solución de problemas\n",
    "\n",
    "Organización de problemas frecuentes y ayuda de tableau.      \n",
    "https://help.tableau.com/current/server/es-es/trouble.htm"
   ]
  },
  {
   "cell_type": "markdown",
   "id": "787389c9",
   "metadata": {},
   "source": [
    "## Cargar datos"
   ]
  },
  {
   "cell_type": "markdown",
   "id": "da6239fe",
   "metadata": {},
   "source": [
    "Configuración del archivo\n",
    "En la siguiente clase vas a importar un archivo CSV (Comma Seperated Values).\n",
    "\n",
    "Los archivos CSV (del inglés comma-separated values) son un tipo de documento en formato abierto sencillo para representar datos en forma de tabla, en las que las columnas se separan por comas (o punto y coma en donde la coma es el separador decimal como en Chile, Perú, Argentina, España, Brasil, entre otros) y las filas por saltos de línea."
   ]
  },
  {
   "cell_type": "markdown",
   "id": "644241ac",
   "metadata": {},
   "source": [
    "![](capturas/datos.png)"
   ]
  },
  {
   "cell_type": "markdown",
   "id": "3ee22872",
   "metadata": {},
   "source": [
    "Recuerda que lo primero que vas a tener que hacer es cambiar la configuración del archivo para explicarle al programa cuál es el separador de los valores.\n",
    "![prop](capturas/propiedades.png)"
   ]
  },
  {
   "cell_type": "markdown",
   "id": "811966f5",
   "metadata": {},
   "source": [
    "## Pivotar"
   ]
  },
  {
   "cell_type": "markdown",
   "id": "4b3076c4",
   "metadata": {},
   "source": [
    "Cambiamos el formato de los datos, porque tenemos todos los años como columnas y al final lo que hacemos es una columna de año y poner el dato al lado, también se puede hacer en pandas. Lo ideal es traer los datos limpios a tableau."
   ]
  },
  {
   "cell_type": "markdown",
   "id": "67f75708",
   "metadata": {},
   "source": [
    "## Dimensiones y Medidas\n",
    "\n",
    "![dim](capturas/dim_med.png)"
   ]
  },
  {
   "cell_type": "markdown",
   "id": "bbff62df",
   "metadata": {},
   "source": [
    "Los campos de datos se crean a partir de las columnas de la fuente de datos. A cada campo se le asigna automáticamente un tipo de datos (por ejemplo, entero, cadena, fecha, etc.) y un rol: o bien dimensión discreta o medida continua (más habitual), o bien dimensión continua o medida discreta (menos habitual).\n",
    "\n",
    "Las dimensiones contienen valores cualitativos (por ejemplo, nombres, fechas o datos geográficos). Puede utilizar las dimensiones para categorizar, segmentar y revelar los detalles de los datos. Las dimensiones afectan al nivel de detalle de la vista.\n",
    "\n",
    "Las medidas contienen valores numéricos cuantitativos que se pueden medir. Las medidas se pueden agregar. Al arrastrar una medida a la vista, Tableau aplica una agregación a esa medida (de forma predeterminada).\n",
    "\n",
    "Fuente [TABLEAU OFICIAL](https://help.tableau.com/current/pro/desktop/es-es/datafields_typesandroles.htm)\n"
   ]
  },
  {
   "cell_type": "markdown",
   "id": "ef1e0053",
   "metadata": {},
   "source": [
    "## Los gráficos vistos en clase"
   ]
  },
  {
   "cell_type": "markdown",
   "id": "19726908",
   "metadata": {},
   "source": [
    "![](capturas/1.png)"
   ]
  },
  {
   "cell_type": "markdown",
   "id": "07677c6d",
   "metadata": {},
   "source": [
    "![](capturas/2.png)"
   ]
  },
  {
   "cell_type": "markdown",
   "id": "5a89844a",
   "metadata": {},
   "source": [
    "![](capturas/3.png)"
   ]
  },
  {
   "cell_type": "markdown",
   "id": "691212e0",
   "metadata": {},
   "source": [
    "![](capturas/5.png)"
   ]
  },
  {
   "cell_type": "markdown",
   "id": "33bb97d5",
   "metadata": {},
   "source": [
    "## Análisis FIFA"
   ]
  },
  {
   "cell_type": "markdown",
   "id": "f4f686e5",
   "metadata": {},
   "source": [
    "![](capturas/fifa1.png)"
   ]
  },
  {
   "cell_type": "markdown",
   "id": "abfd1cf8",
   "metadata": {},
   "source": [
    "![](capturas/fifa2.png)"
   ]
  },
  {
   "cell_type": "markdown",
   "id": "1a2ff097",
   "metadata": {},
   "source": [
    "![](capturas/fifa3.png)"
   ]
  },
  {
   "cell_type": "markdown",
   "id": "0a13044d",
   "metadata": {},
   "source": [
    "![](capturas/fifa4.png)"
   ]
  },
  {
   "cell_type": "markdown",
   "id": "262a94b4",
   "metadata": {},
   "source": [
    "![](capturas/fifa5.png)"
   ]
  }
 ],
 "metadata": {
  "kernelspec": {
   "display_name": "ironhack",
   "language": "python",
   "name": "ironhack"
  },
  "language_info": {
   "codemirror_mode": {
    "name": "ipython",
    "version": 3
   },
   "file_extension": ".py",
   "mimetype": "text/x-python",
   "name": "python",
   "nbconvert_exporter": "python",
   "pygments_lexer": "ipython3",
   "version": "3.8.5"
  },
  "toc": {
   "base_numbering": 1,
   "nav_menu": {},
   "number_sections": true,
   "sideBar": true,
   "skip_h1_title": true,
   "title_cell": "Table of Contents",
   "title_sidebar": "Contents",
   "toc_cell": true,
   "toc_position": {},
   "toc_section_display": true,
   "toc_window_display": true
  }
 },
 "nbformat": 4,
 "nbformat_minor": 5
}
