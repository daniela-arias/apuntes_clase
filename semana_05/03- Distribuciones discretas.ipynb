{
 "cells": [
  {
   "cell_type": "markdown",
   "metadata": {},
   "source": [
    "# Distribuciones de probabilidad discretas"
   ]
  },
  {
   "cell_type": "markdown",
   "metadata": {},
   "source": [
    "![elgif](https://media.giphy.com/media/7eVp9MHlNI90c/giphy.gif)"
   ]
  },
  {
   "cell_type": "markdown",
   "metadata": {
    "toc": true
   },
   "source": [
    "<h1>Table of Contents<span class=\"tocSkip\"></span></h1>\n",
    "<div class=\"toc\"><ul class=\"toc-item\"><li><span><a href=\"#Conceptos-básicos\" data-toc-modified-id=\"Conceptos-básicos-1\"><span class=\"toc-item-num\">1&nbsp;&nbsp;</span>Conceptos básicos</a></span><ul class=\"toc-item\"><li><span><a href=\"#Experimento-aleatorio:\" data-toc-modified-id=\"Experimento-aleatorio:-1.1\"><span class=\"toc-item-num\">1.1&nbsp;&nbsp;</span>Experimento aleatorio:</a></span></li><li><span><a href=\"#Espacio-muestral\" data-toc-modified-id=\"Espacio-muestral-1.2\"><span class=\"toc-item-num\">1.2&nbsp;&nbsp;</span>Espacio muestral</a></span></li><li><span><a href=\"#Variable-aleatoria\" data-toc-modified-id=\"Variable-aleatoria-1.3\"><span class=\"toc-item-num\">1.3&nbsp;&nbsp;</span>Variable aleatoria</a></span></li><li><span><a href=\"#Pequeño-resumen-en-conjunto\" data-toc-modified-id=\"Pequeño-resumen-en-conjunto-1.4\"><span class=\"toc-item-num\">1.4&nbsp;&nbsp;</span>Pequeño resumen en conjunto</a></span></li></ul></li><li><span><a href=\"#Ejemplos\" data-toc-modified-id=\"Ejemplos-2\"><span class=\"toc-item-num\">2&nbsp;&nbsp;</span>Ejemplos</a></span><ul class=\"toc-item\"><li><span><a href=\"#Lanzar-la-moneda\" data-toc-modified-id=\"Lanzar-la-moneda-2.1\"><span class=\"toc-item-num\">2.1&nbsp;&nbsp;</span>Lanzar la moneda</a></span></li><li><span><a href=\"#Moneda-Trucada-70-/-30\" data-toc-modified-id=\"Moneda-Trucada-70-/-30-2.2\"><span class=\"toc-item-num\">2.2&nbsp;&nbsp;</span>Moneda Trucada 70 / 30</a></span><ul class=\"toc-item\"><li><span><a href=\"#Lanzar-un-dado\" data-toc-modified-id=\"Lanzar-un-dado-2.2.1\"><span class=\"toc-item-num\">2.2.1&nbsp;&nbsp;</span>Lanzar un dado</a></span></li><li><span><a href=\"#La-primera-letra-de-nuestro-nombre\" data-toc-modified-id=\"La-primera-letra-de-nuestro-nombre-2.2.2\"><span class=\"toc-item-num\">2.2.2&nbsp;&nbsp;</span>La primera letra de nuestro nombre</a></span></li></ul></li><li><span><a href=\"#Distribución-uniforme-en-[0,-1]\" data-toc-modified-id=\"Distribución-uniforme-en-[0,-1]-2.3\"><span class=\"toc-item-num\">2.3&nbsp;&nbsp;</span>Distribución uniforme en [0, 1]</a></span></li></ul></li><li><span><a href=\"#Distribuciones-de-probabilidad-discreta\" data-toc-modified-id=\"Distribuciones-de-probabilidad-discreta-3\"><span class=\"toc-item-num\">3&nbsp;&nbsp;</span>Distribuciones de probabilidad discreta</a></span><ul class=\"toc-item\"><li><span><a href=\"#Distribución-de-Bernoulli\" data-toc-modified-id=\"Distribución-de-Bernoulli-3.1\"><span class=\"toc-item-num\">3.1&nbsp;&nbsp;</span>Distribución de Bernoulli</a></span><ul class=\"toc-item\"><li><span><a href=\"#Vamos-a-Python\" data-toc-modified-id=\"Vamos-a-Python-3.1.1\"><span class=\"toc-item-num\">3.1.1&nbsp;&nbsp;</span>Vamos a Python</a></span></li></ul></li><li><span><a href=\"#Distribución-Binomial\" data-toc-modified-id=\"Distribución-Binomial-3.2\"><span class=\"toc-item-num\">3.2&nbsp;&nbsp;</span>Distribución Binomial</a></span><ul class=\"toc-item\"><li><span><a href=\"#Vamos-a-Python\" data-toc-modified-id=\"Vamos-a-Python-3.2.1\"><span class=\"toc-item-num\">3.2.1&nbsp;&nbsp;</span>Vamos a Python</a></span></li></ul></li><li><span><a href=\"#scipy.stats-genera-métodos-sea-cual-sea-nuestra-distribución\" data-toc-modified-id=\"scipy.stats-genera-métodos-sea-cual-sea-nuestra-distribución-3.3\"><span class=\"toc-item-num\">3.3&nbsp;&nbsp;</span>scipy.stats genera métodos sea cual sea nuestra distribución</a></span><ul class=\"toc-item\"><li><span><a href=\"#RVS\" data-toc-modified-id=\"RVS-3.3.1\"><span class=\"toc-item-num\">3.3.1&nbsp;&nbsp;</span>RVS</a></span></li><li><span><a href=\"#PMF\" data-toc-modified-id=\"PMF-3.3.2\"><span class=\"toc-item-num\">3.3.2&nbsp;&nbsp;</span>PMF</a></span></li><li><span><a href=\"#CDF\" data-toc-modified-id=\"CDF-3.3.3\"><span class=\"toc-item-num\">3.3.3&nbsp;&nbsp;</span>CDF</a></span></li><li><span><a href=\"#Media,-Varianza,-Desviación-típica\" data-toc-modified-id=\"Media,-Varianza,-Desviación-típica-3.3.4\"><span class=\"toc-item-num\">3.3.4&nbsp;&nbsp;</span>Media, Varianza, Desviación típica</a></span></li></ul></li><li><span><a href=\"#Distribución-de-Poisson\" data-toc-modified-id=\"Distribución-de-Poisson-3.4\"><span class=\"toc-item-num\">3.4&nbsp;&nbsp;</span>Distribución de Poisson</a></span></li></ul></li></ul></div>"
   ]
  },
  {
   "cell_type": "code",
   "execution_count": 1,
   "metadata": {},
   "outputs": [],
   "source": [
    "# El mantra de las visualizaciones\n",
    "from matplotlib import pyplot as plt\n",
    "%matplotlib inline\n",
    "%config Inlinebackend.figure_format = 'retina'\n",
    "\n",
    "import seaborn as sns\n",
    "sns.set_context('poster')\n",
    "sns.set(rc={'figure.figsize': (16., 9.)})\n",
    "sns.set_style('whitegrid')"
   ]
  },
  {
   "cell_type": "markdown",
   "metadata": {},
   "source": [
    "## Conceptos básicos\n",
    "\n",
    "### Experimento aleatorio:\n",
    "Proceso de observar un fenómeno del que se conocen de antemano todos sus posibles resultados, pero a partir de las condiciones iniciales no puede predecirse exactamente cuál de estos resultados se producirá.       \n",
    "\n",
    "### Espacio muestral\n",
    "Es el conjunto de todos los posibles resultados de un experimento aleatorio. Se denota por Ω = {e1, e2, . . . , en, . . .} y cada uno de sus elementos se denomina suceso elemental o punto muestral.\n",
    "\n",
    "### Variable aleatoria\n",
    "En probabilidad y estadística, una variable aleatoria es una función que asigna un valor, usualmente numérico, al resultado de un experimento aleatorio. Por ejemplo, los posibles resultados de tirar un dado dos veces: (1, 1), (1, 2), etc. o un número real (p.e., la temperatura máxima medida a lo largo del día en una ciudad concreta)."
   ]
  },
  {
   "cell_type": "markdown",
   "metadata": {
    "colab_type": "text",
    "id": "RGEdKGZnMqBF"
   },
   "source": [
    "### Pequeño resumen en conjunto"
   ]
  },
  {
   "cell_type": "markdown",
   "metadata": {},
   "source": [
    "Experimento aleatorio es la reproducción controlada de un fenómeno, existiendo incertidumbre sobre el resultado que se obtendrá. Un experimento aleatorio bajo el mismo conjunto aparente de condiciones iniciales, puede presentar resultados diferentes, es decir, no se puede predecir o reproducir el resultado exacto de cada experiencia particular. (Ej.: Lanzamiento de un dado, lanzamiento de una moneda, lanzamiento de una carta de una baraja)."
   ]
  },
  {
   "cell_type": "markdown",
   "metadata": {
    "colab_type": "text",
    "id": "RGEdKGZnMqBF"
   },
   "source": [
    " * **Espacio muestral** $\\Omega$ es el conjunto de resultados posibles. {H, T} en el caso de lanzar una moneda.\n",
    " * En general, no todos los resultados son igualmente probables.\n",
    " * Las probabilidades de cada resultado se especifican mediante una variable aleatoria X.\n",
    " * Una **variable aleatoria** X es una función del espacio muestral $\\Omega$ a los números reales $\\mathbb{R}$. "
   ]
  },
  {
   "cell_type": "markdown",
   "metadata": {
    "colab_type": "text",
    "id": "RGEdKGZnMqBF"
   },
   "source": [
    "$$X: \\Omega \\rightarrow \\mathbb{R}$$"
   ]
  },
  {
   "cell_type": "markdown",
   "metadata": {},
   "source": [
    "Es decir, para cada elemento $x \\in \\Omega$, tenemos $P(X=x) \\in \\mathbb{R}$"
   ]
  },
  {
   "cell_type": "markdown",
   "metadata": {},
   "source": [
    "**NOTA**: todas las probabilidades deben sumar (integrar en caso de variables continuas) a uno"
   ]
  },
  {
   "cell_type": "markdown",
   "metadata": {},
   "source": [
    "$$\\sum_{x \\in \\Omega} P(X=x) = 1$$"
   ]
  },
  {
   "cell_type": "markdown",
   "metadata": {},
   "source": [
    "## Ejemplos"
   ]
  },
  {
   "cell_type": "markdown",
   "metadata": {},
   "source": [
    "### Lanzar la moneda"
   ]
  },
  {
   "cell_type": "markdown",
   "metadata": {},
   "source": [
    "<img src=\"https://www.neurochispas.com/wp-content/uploads/2020/07/Intuicion-probabilistica-1.svg\" width=300>"
   ]
  },
  {
   "cell_type": "markdown",
   "metadata": {},
   "source": [
    "El espacio muestral es $\\Omega = \\{H, T\\}$, cara o cruz.      \n",
    "Siendo la moneda justa, ambos resultados son igualmente probables"
   ]
  },
  {
   "cell_type": "markdown",
   "metadata": {},
   "source": [
    "La variable aleatoria X se define como: "
   ]
  },
  {
   "cell_type": "markdown",
   "metadata": {},
   "source": [
    "$P(X=H) = \\frac{1}{2}$\n",
    "\n",
    "$P(X=T) = \\frac{1}{2}$"
   ]
  },
  {
   "cell_type": "markdown",
   "metadata": {},
   "source": [
    "\n",
    "<div align=\"center\">$\\sum_{x \\in \\Omega} P(X=x) = 1$</div> \n"
   ]
  },
  {
   "cell_type": "markdown",
   "metadata": {},
   "source": [
    "O lo que es lo mismo... que la probabilidad de cada posibilidad suma 1 en un evento aleatorio"
   ]
  },
  {
   "cell_type": "markdown",
   "metadata": {},
   "source": [
    "<div align=\"center\">  $P(X=H) + P(X=T) = 1$</div> \n"
   ]
  },
  {
   "cell_type": "markdown",
   "metadata": {},
   "source": [
    "### Moneda Trucada 70 / 30"
   ]
  },
  {
   "cell_type": "markdown",
   "metadata": {},
   "source": [
    "![coin](https://media.giphy.com/media/hWk4OcIkPDfSCon46I/giphy.gif)"
   ]
  },
  {
   "cell_type": "markdown",
   "metadata": {},
   "source": [
    "El espacio muestral es $\\Omega = \\{H, T\\}$, cara y cruz      \n",
    "La variable aleatoria x se define como:   "
   ]
  },
  {
   "cell_type": "markdown",
   "metadata": {},
   "source": [
    "$P(X=H) = \\frac{7}{10}$\n",
    "\n",
    "$P(X=T) = \\frac{3}{10}$"
   ]
  },
  {
   "cell_type": "markdown",
   "metadata": {},
   "source": [
    "#### Lanzar un dado"
   ]
  },
  {
   "cell_type": "markdown",
   "metadata": {},
   "source": [
    "![dado](https://media.giphy.com/media/8mmRfT31UfaifyuYa8/giphy.gif)"
   ]
  },
  {
   "cell_type": "markdown",
   "metadata": {},
   "source": [
    "El sample space es $\\Omega = \\{1, 2, 3, 4, 5, 6\\}$"
   ]
  },
  {
   "cell_type": "markdown",
   "metadata": {},
   "source": [
    "<img src=\"data:image/jpeg;base64,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\" width=300>"
   ]
  },
  {
   "cell_type": "markdown",
   "metadata": {},
   "source": [
    "La variable aleatoria x: "
   ]
  },
  {
   "cell_type": "markdown",
   "metadata": {},
   "source": [
    "$P(X=1) = P(X=2) = P(X=3) = P(X=4) = P(X=5) = P(X=6) = \\frac{1}{6}$"
   ]
  },
  {
   "cell_type": "markdown",
   "metadata": {},
   "source": [
    "$$\\sum_{x \\in X} P(X=x) = 1$$"
   ]
  },
  {
   "cell_type": "markdown",
   "metadata": {},
   "source": [
    "#### La primera letra de nuestro nombre"
   ]
  },
  {
   "cell_type": "markdown",
   "metadata": {},
   "source": [
    "<img src=\"https://i.pinimg.com/originals/0b/e4/ad/0be4adcffad57cfca79dbf64b3889fc2.jpg\" width=500>"
   ]
  },
  {
   "cell_type": "code",
   "execution_count": null,
   "metadata": {},
   "outputs": [],
   "source": [
    "clase = ['Silvia',\n",
    " 'Roberto',\n",
    " 'Pedro',\n",
    " 'Nicolás',\n",
    " 'María Pérez',\n",
    " 'María Delás',\n",
    " 'Lydia',\n",
    " 'Luis',\n",
    " 'Juan Vega',\n",
    " 'Juan Pérez',\n",
    " 'José',\n",
    " 'Guillermo',\n",
    " 'Fernando',\n",
    " 'Ester',\n",
    " 'Elliot',\n",
    " 'Eduardo',\n",
    " 'Daniela',\n",
    " 'Daniel',\n",
    " 'Carlos',\n",
    " 'Blanca',\n",
    " 'Beatriz',\n",
    " 'Andrés',\n",
    " 'Andres',\n",
    " 'Ana',\n",
    " 'Alvaro',\n",
    " 'Alfonso']"
   ]
  },
  {
   "cell_type": "code",
   "execution_count": null,
   "metadata": {},
   "outputs": [],
   "source": [
    "letras = [el[0] for el in clase]\n",
    "print(letras)"
   ]
  },
  {
   "cell_type": "code",
   "execution_count": null,
   "metadata": {},
   "outputs": [],
   "source": [
    "from collections import Counter\n",
    "count = Counter(letras)\n",
    "sample = list(count.keys())\n",
    "sample"
   ]
  },
  {
   "cell_type": "code",
   "execution_count": null,
   "metadata": {},
   "outputs": [],
   "source": [
    "print(count)"
   ]
  },
  {
   "cell_type": "markdown",
   "metadata": {},
   "source": [
    "El sample space $\\Omega = \\{S, R, P, N, M, L, J, G, F, E, D, C, B, A\\}$"
   ]
  },
  {
   "cell_type": "markdown",
   "metadata": {},
   "source": [
    "La variable aleatoria X se define como:"
   ]
  },
  {
   "cell_type": "markdown",
   "metadata": {},
   "source": [
    "$P(x=S) = \\frac{1}{26}$\n",
    "\n",
    "$P(x=R) = \\frac{1}{26}$\n",
    "\n",
    "$P(x=P) = \\frac{1}{26}$\n",
    "\n",
    "$P(x=N) = \\frac{1}{26}$\n",
    "\n",
    "$P(x=M) = \\frac{2}{26}$\n",
    "\n",
    "$P(x=L) = \\frac{2}{26}$\n",
    "\n",
    "$P(x=J) = \\frac{3}{26}$\n",
    "\n",
    "$P(x=G) = \\frac{1}{26}$\n",
    "\n",
    "$P(x=F) = \\frac{1}{26}$\n",
    "\n",
    "$P(x=E) = \\frac{3}{26}$\n",
    "\n",
    "$P(x=D) = \\frac{2}{26}$\n",
    "\n",
    "$P(x=C) = \\frac{1}{26}$\n",
    "\n",
    "$P(x=B) = \\frac{2}{26}$\n",
    "\n",
    "$P(x=A) = \\frac{5}{26}$"
   ]
  },
  {
   "cell_type": "markdown",
   "metadata": {},
   "source": [
    "### Distribución uniforme en [0, 1]    \n",
    "Distribución uniforme entre 0 y 1 que todos los números entre 0 y 1 tienen la misma probabilidad de salir"
   ]
  },
  {
   "cell_type": "markdown",
   "metadata": {},
   "source": [
    "<img src=\"https://upload.wikimedia.org/wikipedia/commons/thumb/2/28/Unit-interval.svg/1200px-Unit-interval.svg.png\" width=500>"
   ]
  },
  {
   "cell_type": "markdown",
   "metadata": {},
   "source": [
    "El espacio muestral es $\\Omega = [0, 1]$. ¡Todos los números entre 0 y 1!"
   ]
  },
  {
   "cell_type": "markdown",
   "metadata": {},
   "source": [
    "$P(X>0.7) = 0.3$\n",
    "\n",
    "$P(X<0.4) = 0.4$\n",
    "\n",
    "$P(X>1) = 0$\n",
    "\n",
    "$P(X<0) = 0$"
   ]
  },
  {
   "cell_type": "markdown",
   "metadata": {
    "colab_type": "text",
    "id": "_vnlL9EmGloP"
   },
   "source": [
    "## Distribuciones de probabilidad discreta"
   ]
  },
  {
   "cell_type": "markdown",
   "metadata": {
    "colab_type": "text",
    "id": "RGEdKGZnMqBF"
   },
   "source": [
    "**Las distribuciones de probabilidad discreta** son aquellas que sólo toman un número finito (o contablemente infinito) de valores diferentes."
   ]
  },
  {
   "cell_type": "markdown",
   "metadata": {},
   "source": [
    "X es una variable aleatoria discreta.  \n",
    "X sigue una distribución de probabilidad discreta."
   ]
  },
  {
   "cell_type": "markdown",
   "metadata": {},
   "source": [
    "Una función de masa de probabilidad, a menudo abreviada PMF , nos dice la probabilidad de que una variable aleatoria discreta tome un cierto valor."
   ]
  },
  {
   "cell_type": "markdown",
   "metadata": {},
   "source": [
    "$$X: \\Omega \\rightarrow \\mathbb{R}$$"
   ]
  },
  {
   "cell_type": "markdown",
   "metadata": {},
   "source": [
    "$P(X=H)=0.7$"
   ]
  },
  {
   "cell_type": "markdown",
   "metadata": {},
   "source": [
    "Funciones de masa de probabilidad en la práctica 👇🏻🤔"
   ]
  },
  {
   "cell_type": "markdown",
   "metadata": {
    "colab_type": "text",
    "id": "052WgnEWHEbG"
   },
   "source": [
    "### Distribución de Bernoulli\n",
    "La distribución de Bernoulli es un modelo teórico utilizado para representar una variable aleatoria discreta la cual solo puede resultar en dos sucesos mutuamente excluyentes.      \n",
    "En otras palabras, la distribución de Bernoulli es una distribución aplicada a una variable aleatoria discreta, la cual solo puede resultar en dos sucesos posibles: “éxito” y “no éxito”.        \n",
    "La distribución de Bernouilli tiene 2 resultados posibles, con probabilidad $p$ y $1-p$. Ejemplo: moneda sesgada."
   ]
  },
  {
   "cell_type": "markdown",
   "metadata": {},
   "source": [
    "* $\\Omega = \\{0, 1\\}$ (pensar en H y T)           \n",
    "* Llamamos 𝑝 a la probabilidad de éxito.      \n",
    "Preparamos nuestra distribución."
   ]
  },
  {
   "cell_type": "markdown",
   "metadata": {},
   "source": [
    "\n",
    "<div align=\"center\">$X \\sim Bernoulli(p)$</div> \n"
   ]
  },
  {
   "cell_type": "markdown",
   "metadata": {},
   "source": [
    "####  Vamos a Python"
   ]
  },
  {
   "cell_type": "code",
   "execution_count": 37,
   "metadata": {
    "colab": {},
    "colab_type": "code",
    "id": "Rm-AQZ_DGor6"
   },
   "outputs": [],
   "source": [
    "p = 0.8"
   ]
  },
  {
   "cell_type": "markdown",
   "metadata": {},
   "source": [
    "Esto significa que me he comprado una máquina que cada vez que le doy al botón me escupe un 1 o un 0.         \n",
    "1 con la probabilidad de 0.8 (éxito) y 0con la probabilidad de 0.2"
   ]
  },
  {
   "cell_type": "markdown",
   "metadata": {},
   "source": [
    "$P(X=1)=p=0.8$\n",
    "\n",
    "$P(X=0)=1-p=0.2$"
   ]
  },
  {
   "cell_type": "markdown",
   "metadata": {},
   "source": [
    "Generamos muestras aleatorias ¿cómo? con `.rvs` (random variates sample) "
   ]
  },
  {
   "cell_type": "code",
   "execution_count": 38,
   "metadata": {
    "colab": {},
    "colab_type": "code",
    "id": "Rm-AQZ_DGor6"
   },
   "outputs": [],
   "source": [
    "from scipy.stats import bernoulli"
   ]
  },
  {
   "cell_type": "code",
   "execution_count": 39,
   "metadata": {},
   "outputs": [],
   "source": [
    "# Inicializamos con la moneda trucada\n",
    "my_bernoulli = bernoulli(p)"
   ]
  },
  {
   "cell_type": "code",
   "execution_count": 40,
   "metadata": {},
   "outputs": [
    {
     "data": {
      "text/plain": [
       "<scipy.stats._distn_infrastructure.rv_frozen at 0x7ff44a388ca0>"
      ]
     },
     "execution_count": 40,
     "metadata": {},
     "output_type": "execute_result"
    }
   ],
   "source": [
    "my_bernoulli"
   ]
  },
  {
   "cell_type": "code",
   "execution_count": 41,
   "metadata": {},
   "outputs": [
    {
     "data": {
      "text/plain": [
       "array([1])"
      ]
     },
     "execution_count": 41,
     "metadata": {},
     "output_type": "execute_result"
    }
   ],
   "source": [
    "# .rvs devuelve un sample\n",
    "my_bernoulli.rvs(size=1)"
   ]
  },
  {
   "cell_type": "code",
   "execution_count": 46,
   "metadata": {},
   "outputs": [],
   "source": [
    "sample = my_bernoulli.rvs(size=100)"
   ]
  },
  {
   "cell_type": "code",
   "execution_count": 47,
   "metadata": {
    "colab": {},
    "colab_type": "code",
    "id": "Rm-AQZ_DGor6"
   },
   "outputs": [],
   "source": [
    "#sample"
   ]
  },
  {
   "cell_type": "markdown",
   "metadata": {},
   "source": [
    "¿Cuánto esperamos que sea la suma de estos 100 números? ... si tiramos 100 veces y la probabilidad de que salga 1 es 0.8..."
   ]
  },
  {
   "cell_type": "code",
   "execution_count": 48,
   "metadata": {},
   "outputs": [
    {
     "data": {
      "text/plain": [
       "83"
      ]
     },
     "execution_count": 48,
     "metadata": {},
     "output_type": "execute_result"
    }
   ],
   "source": [
    "sum(sample)"
   ]
  },
  {
   "cell_type": "code",
   "execution_count": 49,
   "metadata": {},
   "outputs": [
    {
     "data": {
      "text/plain": [
       "<AxesSubplot:ylabel='count'>"
      ]
     },
     "execution_count": 49,
     "metadata": {},
     "output_type": "execute_result"
    },
    {
     "data": {
      "image/png": "[encoded data removed]",
      "text/plain": [
       "<Figure size 1152x648 with 1 Axes>"
      ]
     },
     "metadata": {},
     "output_type": "display_data"
    }
   ],
   "source": [
    "sns.countplot(x=sample)"
   ]
  },
  {
   "cell_type": "markdown",
   "metadata": {},
   "source": [
    "¿Cómo defino una distribución de Bernoulli? \n",
    "- Posibles outcomes (lo que me escupe la máquina)\n",
    "- Probabilidad de cada uno"
   ]
  },
  {
   "cell_type": "markdown",
   "metadata": {
    "colab_type": "text",
    "id": "9sUuXu0SMc60"
   },
   "source": [
    "### Distribución Binomial"
   ]
  },
  {
   "cell_type": "markdown",
   "metadata": {},
   "source": [
    "Preguntas: si lanzo 10 monedas trucadas con $P(X=H)=p=0,8$\n",
    " * ¿Cuál es la probabilidad de obtener 10 caras?\n",
    " * ¿Cuál es la probabilidad de obtener 0 caras?\n",
    " * ¿Cuál es la probabilidad de obtener 1 cara?"
   ]
  },
  {
   "cell_type": "markdown",
   "metadata": {},
   "source": [
    "**Probabilidad de sacar 10 caras**"
   ]
  },
  {
   "cell_type": "code",
   "execution_count": 50,
   "metadata": {},
   "outputs": [
    {
     "data": {
      "text/plain": [
       "0.10737418240000006"
      ]
     },
     "execution_count": 50,
     "metadata": {},
     "output_type": "execute_result"
    }
   ],
   "source": [
    "0.8 ** 10"
   ]
  },
  {
   "cell_type": "markdown",
   "metadata": {},
   "source": [
    "$P(10 caras) = 0.8 ^{10} \\sim 0.11$  "
   ]
  },
  {
   "cell_type": "markdown",
   "metadata": {},
   "source": [
    "**Probabilidad de sacar cero caras**"
   ]
  },
  {
   "cell_type": "code",
   "execution_count": 51,
   "metadata": {},
   "outputs": [
    {
     "data": {
      "text/plain": [
       "1.0240000000000006e-07"
      ]
     },
     "execution_count": 51,
     "metadata": {},
     "output_type": "execute_result"
    }
   ],
   "source": [
    "0.2 ** 10"
   ]
  },
  {
   "cell_type": "code",
   "execution_count": 52,
   "metadata": {},
   "outputs": [
    {
     "data": {
      "text/plain": [
       "9765624.999999994"
      ]
     },
     "execution_count": 52,
     "metadata": {},
     "output_type": "execute_result"
    }
   ],
   "source": [
    "1 / (0.2 ** 10)"
   ]
  },
  {
   "cell_type": "markdown",
   "metadata": {},
   "source": [
    "Prácricamente 0\n",
    "\n",
    "$P(0 caras) = 0.2^{10} \\sim 0$  "
   ]
  },
  {
   "cell_type": "markdown",
   "metadata": {},
   "source": [
    "**Probabilidad de sacar una cara**"
   ]
  },
  {
   "cell_type": "markdown",
   "metadata": {},
   "source": [
    "HTTTTTTTTT     \n",
    "THTTTTTTTT     \n",
    "TTHTTTTTTT     \n",
    "TTTHTTTTTT     \n",
    "TTTTHTTTTT     \n",
    "...     \n",
    "TTTTTTTTTH     "
   ]
  },
  {
   "cell_type": "markdown",
   "metadata": {},
   "source": [
    "Me da igual en qué momento me salga una cara, por tanto me da igual que sea la primera opción, que la segunda... en este caso todos esos eventos tienen la misma probabilidad, por tanto, la probabilidad de sacar una cara será la suma de todos esos eventos. "
   ]
  },
  {
   "cell_type": "markdown",
   "metadata": {},
   "source": [
    "$P(1 head) = 10 * 0.8 * 0.2^9$"
   ]
  },
  {
   "cell_type": "markdown",
   "metadata": {},
   "source": [
    "Vale, pero... **¿y cuál es la probabilidad de sacar dos caras?**             \n",
    "HTTTTTTHTT       \n",
    "HTTTHTTTTT     \n",
    "THTTTHTTTT\n",
    "HHTTTTTTTT"
   ]
  },
  {
   "cell_type": "markdown",
   "metadata": {},
   "source": [
    "Tengo muchas combinaciones diferentes ¿qué puedo hacer? ¿las escribo todas a mano teniendo cuidado?      \n",
    "Realmente, esto sería lo mismo que dar dos posiciones de las caras que son dos números enteros del 1 al 10.\n",
    "<div align=\"center\">  ....</div> \n"
   ]
  },
  {
   "cell_type": "markdown",
   "metadata": {},
   "source": [
    "![thinking](https://media.giphy.com/media/xT5P0z1uWDceDQFjWg/giphy.gif)"
   ]
  },
  {
   "cell_type": "markdown",
   "metadata": {},
   "source": [
    "¡¡Es el problema del sandwich!! Son pares de números del 1 al 10 donde el orden no importa.... combinaciones de 10 elementos tomadas de 2 en dos."
   ]
  },
  {
   "cell_type": "markdown",
   "metadata": {},
   "source": [
    "$${N\\choose k} \\equiv \\frac{N!}{k!(N-k)!}$$"
   ]
  },
  {
   "cell_type": "markdown",
   "metadata": {},
   "source": [
    "Nuestro ejemplo en la fórmula...."
   ]
  },
  {
   "cell_type": "markdown",
   "metadata": {},
   "source": [
    "$${10\\choose 2} \\equiv \\frac{10!}{2!8!}$$"
   ]
  },
  {
   "cell_type": "markdown",
   "metadata": {},
   "source": [
    "Por tanto, las posibles combinaciones "
   ]
  },
  {
   "cell_type": "markdown",
   "metadata": {},
   "source": [
    "$P(2 caras) = 45 * 0.8^2 * 0.2^8$"
   ]
  },
  {
   "cell_type": "markdown",
   "metadata": {},
   "source": [
    "**Y esto es la distribución binomial**     \n",
    "Una distribución binomial es una distribución de probabilidad discreta que describe el número de éxitos al realizar n experimentos independientes entre sí, acerca de una variable aleatoria.      \n",
    "Existen una gran diversidad de experimentos o sucesos que pueden ser caracterizados bajo esta distribución de probabilidad. Imaginemos el lanzamiento de una moneda en el que definimos el suceso “sacar cara” como el éxito. Si lanzamos 5 veces la moneda y contamos los éxitos (sacar cara) que obtenemos, nuestra distribución de probabilidades se ajustaría a una distribución binomial.       \n",
    "Por tanto, podemos resumirlo como la probabilidad de tener $k$ aciertos en $N$ ensayos totales de Bernoulli con probabilidad $p$."
   ]
  },
  {
   "cell_type": "markdown",
   "metadata": {},
   "source": [
    "* $p$ es la probabilidad de éxito en cada ensayo\n",
    "* $N$ es el número de ensayos.\n",
    "* $\\Omega = \\{0, 1, 2, 3, ..., N-1, N\\}$ (piensa en el número de caras en N lanzamientos)"
   ]
  },
  {
   "cell_type": "markdown",
   "metadata": {},
   "source": [
    "**Seteamos la distribución**"
   ]
  },
  {
   "cell_type": "markdown",
   "metadata": {},
   "source": [
    "\n",
    "<div align=\"center\">$X \\sim Binomial(N, p)$</div> \n"
   ]
  },
  {
   "cell_type": "code",
   "execution_count": 53,
   "metadata": {},
   "outputs": [],
   "source": [
    "N = 10"
   ]
  },
  {
   "cell_type": "code",
   "execution_count": 54,
   "metadata": {
    "colab": {},
    "colab_type": "code",
    "id": "Rm-AQZ_DGor6"
   },
   "outputs": [],
   "source": [
    "p = 0.8"
   ]
  },
  {
   "cell_type": "markdown",
   "metadata": {},
   "source": [
    "$P(X=0)=(1-p)^N$\n",
    "\n",
    "$P(X=N)=p^N$"
   ]
  },
  {
   "cell_type": "markdown",
   "metadata": {},
   "source": [
    "Lo que hace hacía la máquina de Bernoulli era devolverme 0 o 1 en cada lanzamiento en función de la probabilidad de éxito que yo le hubiera dado. \n",
    "Ahora, antes de fabricar la máquina me preguntan:\n",
    "- ¿Cuál es la probabilidad de éxito? --> 0.8\n",
    "- ¿Cuántas monedas quieres que lance? --> 10       \n",
    "\n",
    "Lo que me devuelve esta máquina cada vez que yo le doy al botón es el número de caras que hay tras haber lanzado 10 monedas con esa probabilidad de éxito.\n",
    "\n",
    "¿Qué pasa con las probabilidades de $X=1, 2, 3...$? (Que salga 1 cara, que salgan 2 caras, que salgan 3 caras...)      \n",
    "Esta es la fórmula, lo que pasa dentro de la máquina👇🏻🤔"
   ]
  },
  {
   "cell_type": "markdown",
   "metadata": {},
   "source": [
    "$$P(X=k)={N \\choose k} p^{k}(1-p)^{N-k}$$"
   ]
  },
  {
   "cell_type": "markdown",
   "metadata": {},
   "source": [
    "**REMINDER**: ${N \\choose k} \\equiv \\frac{N!}{k!(N-k)!}$ (las combinaciones)"
   ]
  },
  {
   "cell_type": "markdown",
   "metadata": {},
   "source": [
    "$P(X=1)=10*p^{1}*(1-p)^{9}$  (Probabilidad de que salga 1 cara)"
   ]
  },
  {
   "cell_type": "markdown",
   "metadata": {},
   "source": [
    "$P(X=2)=45*p^{2}*(1-p)^{8}$ (Probabilidad de que salgan 2 caras)"
   ]
  },
  {
   "cell_type": "markdown",
   "metadata": {},
   "source": [
    "Probabilidad de que salgan 3 caras.... es ir multiplicando por todas las combinaciones"
   ]
  },
  {
   "cell_type": "markdown",
   "metadata": {},
   "source": [
    "####  Vamos a Python"
   ]
  },
  {
   "cell_type": "code",
   "execution_count": 55,
   "metadata": {
    "colab": {},
    "colab_type": "code",
    "id": "h-_Ioss8NwNo"
   },
   "outputs": [],
   "source": [
    "from scipy.stats import binom"
   ]
  },
  {
   "cell_type": "markdown",
   "metadata": {},
   "source": [
    "Generamos muestras aleatorias ¿cómo? como ants, con  `.rvs` (random variates sample) "
   ]
  },
  {
   "cell_type": "code",
   "execution_count": 57,
   "metadata": {},
   "outputs": [],
   "source": [
    "N = 10"
   ]
  },
  {
   "cell_type": "code",
   "execution_count": 58,
   "metadata": {
    "colab": {},
    "colab_type": "code",
    "id": "Rm-AQZ_DGor6"
   },
   "outputs": [],
   "source": [
    "p = 0.8"
   ]
  },
  {
   "cell_type": "code",
   "execution_count": 59,
   "metadata": {
    "colab": {},
    "colab_type": "code",
    "id": "h-_Ioss8NwNo"
   },
   "outputs": [],
   "source": [
    "my_binomial = binom(N,p)"
   ]
  },
  {
   "cell_type": "code",
   "execution_count": 60,
   "metadata": {},
   "outputs": [
    {
     "data": {
      "text/plain": [
       "<scipy.stats._distn_infrastructure.rv_frozen at 0x7ff4487b0c10>"
      ]
     },
     "execution_count": 60,
     "metadata": {},
     "output_type": "execute_result"
    }
   ],
   "source": [
    "my_binomial"
   ]
  },
  {
   "cell_type": "code",
   "execution_count": 62,
   "metadata": {
    "colab": {},
    "colab_type": "code",
    "id": "h-_Ioss8NwNo"
   },
   "outputs": [
    {
     "data": {
      "text/plain": [
       "array([8])"
      ]
     },
     "execution_count": 62,
     "metadata": {},
     "output_type": "execute_result"
    }
   ],
   "source": [
    "my_binomial.rvs(size=1)"
   ]
  },
  {
   "cell_type": "code",
   "execution_count": 63,
   "metadata": {
    "colab": {},
    "colab_type": "code",
    "id": "h-_Ioss8NwNo"
   },
   "outputs": [
    {
     "data": {
      "text/plain": [
       "array([ 8,  9,  8,  9,  8,  8,  8,  7, 10,  7, 10,  7,  8,  7,  7,  6,  7,\n",
       "        8,  9,  8,  8,  7,  9,  9,  7,  9, 10,  8,  9,  8,  7])"
      ]
     },
     "execution_count": 63,
     "metadata": {},
     "output_type": "execute_result"
    }
   ],
   "source": [
    "my_binomial.rvs(size=31)"
   ]
  },
  {
   "cell_type": "code",
   "execution_count": 68,
   "metadata": {},
   "outputs": [],
   "source": [
    "sample = my_binomial.rvs(size=500)"
   ]
  },
  {
   "cell_type": "code",
   "execution_count": 69,
   "metadata": {},
   "outputs": [
    {
     "data": {
      "text/plain": [
       "<AxesSubplot:ylabel='count'>"
      ]
     },
     "execution_count": 69,
     "metadata": {},
     "output_type": "execute_result"
    },
    {
     "data": {
      "image/png": "[encoded data removed]",
      "text/plain": [
       "<Figure size 1152x648 with 1 Axes>"
      ]
     },
     "metadata": {},
     "output_type": "display_data"
    }
   ],
   "source": [
    "sns.countplot(x=sample, palette=\"Blues\")"
   ]
  },
  {
   "cell_type": "markdown",
   "metadata": {},
   "source": [
    "**Función de probabilidad (Probability mass function)** La `.pmf` nos devuelve la probabilidad teórica de la distribución que hemos visto de forma experimental anteriormente.        \n",
    "Vemos que la probabilidad de que salgan 4 caras es poca, lo hemos visto porque lo hemos experimentando, también lo sabemos porque antes hemos visto que había que calcular todas las combinaciones de 2 caras....si lo aplicamos en la siguiente fórmula, solo hay que sustituir la k por 4 y obtenemos la probabilidad teórica."
   ]
  },
  {
   "cell_type": "markdown",
   "metadata": {},
   "source": [
    "$$P(X=k)={N \\choose k} p^{k}(1-p)^{N-k}$$"
   ]
  },
  {
   "cell_type": "markdown",
   "metadata": {},
   "source": [
    "**REMINDER**: ${N \\choose k} \\equiv \\frac{N!}{k!(N-k)!}$"
   ]
  },
  {
   "cell_type": "markdown",
   "metadata": {},
   "source": [
    "$$P(X=4)={10 \\choose 4} 0.8^{4}(1-0.8)^{10-4}=\\frac{10!}{4!6!}0.8^40.2^6=\\frac{10*9*8*7}{4*3*2*1}0.8^40.2^6=210* 0.8^40.2^6$$"
   ]
  },
  {
   "cell_type": "markdown",
   "metadata": {},
   "source": [
    "Las 210 posibles combinaciones de que salgan 4 caras y 8 cruces por la probabilidad de cada una "
   ]
  },
  {
   "cell_type": "code",
   "execution_count": 70,
   "metadata": {},
   "outputs": [
    {
     "data": {
      "text/plain": [
       "0.005505024000000003"
      ]
     },
     "execution_count": 70,
     "metadata": {},
     "output_type": "execute_result"
    }
   ],
   "source": [
    "210 * 0.8 ** 4 * 0.2 ** 6"
   ]
  },
  {
   "cell_type": "markdown",
   "metadata": {},
   "source": [
    "Python viene a ayudarnos porque tiene implementada la función, y nos evita realizar los cálculos anteriores, pero tenemos que saber qué significa y entender lo que hacemos.       \n",
    "**¿Cuál es la probabilidad de que me salgan 4 caras?**"
   ]
  },
  {
   "cell_type": "code",
   "execution_count": 71,
   "metadata": {},
   "outputs": [
    {
     "data": {
      "text/plain": [
       "0.005505023999999991"
      ]
     },
     "execution_count": 71,
     "metadata": {},
     "output_type": "execute_result"
    }
   ],
   "source": [
    "my_binomial.pmf(4)"
   ]
  },
  {
   "cell_type": "markdown",
   "metadata": {},
   "source": [
    "Obviamente la que hemos calculado nosotras, porque hemos seguido la fórmula"
   ]
  },
  {
   "cell_type": "code",
   "execution_count": 72,
   "metadata": {},
   "outputs": [
    {
     "data": {
      "text/plain": [
       "0.26843545599999996"
      ]
     },
     "execution_count": 72,
     "metadata": {},
     "output_type": "execute_result"
    }
   ],
   "source": [
    "my_binomial.pmf(9)"
   ]
  },
  {
   "cell_type": "code",
   "execution_count": 75,
   "metadata": {},
   "outputs": [
    {
     "data": {
      "text/plain": [
       "0.10737418240000006"
      ]
     },
     "execution_count": 75,
     "metadata": {},
     "output_type": "execute_result"
    }
   ],
   "source": [
    "my_binomial.pmf(10)"
   ]
  },
  {
   "cell_type": "code",
   "execution_count": 74,
   "metadata": {},
   "outputs": [
    {
     "data": {
      "text/plain": [
       "0.0"
      ]
     },
     "execution_count": 74,
     "metadata": {},
     "output_type": "execute_result"
    }
   ],
   "source": [
    "my_binomial.pmf(11)"
   ]
  },
  {
   "cell_type": "code",
   "execution_count": 78,
   "metadata": {},
   "outputs": [
    {
     "data": {
      "text/plain": [
       "{0: 0.0,\n",
       " 1: 0.0,\n",
       " 2: 0.0,\n",
       " 3: 0.001,\n",
       " 4: 0.006,\n",
       " 5: 0.026,\n",
       " 6: 0.088,\n",
       " 7: 0.201,\n",
       " 8: 0.302,\n",
       " 9: 0.268,\n",
       " 10: 0.107}"
      ]
     },
     "execution_count": 78,
     "metadata": {},
     "output_type": "execute_result"
    }
   ],
   "source": [
    "probas = {n: round(my_binomial.pmf(n),3) for n in range(0,11)}\n",
    "probas"
   ]
  },
  {
   "cell_type": "markdown",
   "metadata": {},
   "source": [
    "¿Cuánto tienen que sumar los values?"
   ]
  },
  {
   "cell_type": "code",
   "execution_count": 81,
   "metadata": {},
   "outputs": [],
   "source": [
    "# Todas las probabilidades tienen que sumar 1, no suman exactamente 1 porque están redondeadas"
   ]
  },
  {
   "cell_type": "code",
   "execution_count": 80,
   "metadata": {},
   "outputs": [
    {
     "data": {
      "text/plain": [
       "0.999"
      ]
     },
     "execution_count": 80,
     "metadata": {},
     "output_type": "execute_result"
    }
   ],
   "source": [
    "sum(probas.values())"
   ]
  },
  {
   "cell_type": "markdown",
   "metadata": {},
   "source": [
    "**Caso de uso**:\n",
    "- Una fiesta con 100 personas\n",
    "- Probabilidad individual de tener Covid es 0.02"
   ]
  },
  {
   "cell_type": "code",
   "execution_count": 82,
   "metadata": {},
   "outputs": [],
   "source": [
    "my_binomial_covid = binom(100,0.02)"
   ]
  },
  {
   "cell_type": "code",
   "execution_count": 83,
   "metadata": {},
   "outputs": [
    {
     "data": {
      "text/plain": [
       "<scipy.stats._distn_infrastructure.rv_frozen at 0x7ff449a7d4f0>"
      ]
     },
     "execution_count": 83,
     "metadata": {},
     "output_type": "execute_result"
    }
   ],
   "source": [
    "my_binomial_covid"
   ]
  },
  {
   "cell_type": "code",
   "execution_count": 84,
   "metadata": {},
   "outputs": [
    {
     "data": {
      "text/plain": [
       "array([1])"
      ]
     },
     "execution_count": 84,
     "metadata": {},
     "output_type": "execute_result"
    }
   ],
   "source": [
    " # Sample una fista\n",
    "my_binomial_covid.rvs(1)"
   ]
  },
  {
   "cell_type": "code",
   "execution_count": 85,
   "metadata": {},
   "outputs": [
    {
     "data": {
      "text/plain": [
       "array([1, 4, 4, 2, 3, 1, 2, 0, 4, 2, 0, 4, 1, 3, 0, 4, 2, 0, 3, 2, 2, 2,\n",
       "       3, 4, 3, 0, 2, 2, 3, 4, 1])"
      ]
     },
     "execution_count": 85,
     "metadata": {},
     "output_type": "execute_result"
    }
   ],
   "source": [
    "# Sample 31 fiestas\n",
    "my_binomial_covid.rvs(31)"
   ]
  },
  {
   "cell_type": "code",
   "execution_count": 87,
   "metadata": {},
   "outputs": [
    {
     "data": {
      "image/png": "[encoded data removed]",
      "text/plain": [
       "<Figure size 1152x648 with 1 Axes>"
      ]
     },
     "metadata": {},
     "output_type": "display_data"
    }
   ],
   "source": [
    "# Pintamos distribución sample 1000 fiestas\n",
    "sns.countplot(x =my_binomial_covid.rvs(1000) , palette=\"magma\");"
   ]
  },
  {
   "cell_type": "markdown",
   "metadata": {},
   "source": [
    "**Función de probabilidad (Probability mass function)**\n",
    "Recordamos que pmf me dice la probabilidad teórica."
   ]
  },
  {
   "cell_type": "code",
   "execution_count": 89,
   "metadata": {},
   "outputs": [
    {
     "data": {
      "text/plain": [
       "0.18227594104651598"
      ]
     },
     "execution_count": 89,
     "metadata": {},
     "output_type": "execute_result"
    }
   ],
   "source": [
    "# ¿Cuál es la probabilidad de que haya 3 personas infectadas?\n",
    "my_binomial_covid.pmf(3)"
   ]
  },
  {
   "cell_type": "code",
   "execution_count": 90,
   "metadata": {},
   "outputs": [
    {
     "data": {
      "text/plain": [
       "0.2734139115697747"
      ]
     },
     "execution_count": 90,
     "metadata": {},
     "output_type": "execute_result"
    }
   ],
   "source": [
    "# ¿Y de que haya dos? \n",
    "my_binomial_covid.pmf(2)"
   ]
  },
  {
   "cell_type": "code",
   "execution_count": 91,
   "metadata": {},
   "outputs": [
    {
     "data": {
      "text/plain": [
       "0.003130114101451259"
      ]
     },
     "execution_count": 91,
     "metadata": {},
     "output_type": "execute_result"
    }
   ],
   "source": [
    "my_binomial_covid.pmf(7)"
   ]
  },
  {
   "cell_type": "code",
   "execution_count": 92,
   "metadata": {},
   "outputs": [
    {
     "data": {
      "text/plain": [
       "0.13261955589475294"
      ]
     },
     "execution_count": 92,
     "metadata": {},
     "output_type": "execute_result"
    }
   ],
   "source": [
    "# De que no haya ninguna\n",
    "my_binomial_covid.pmf(0)"
   ]
  },
  {
   "cell_type": "markdown",
   "metadata": {},
   "source": [
    "¿Cuál es la probabilidad de que en una fiesta determinada, al menos una persona tenga covid?"
   ]
  },
  {
   "cell_type": "code",
   "execution_count": 93,
   "metadata": {},
   "outputs": [
    {
     "data": {
      "text/plain": [
       "0.8673804441052471"
      ]
     },
     "execution_count": 93,
     "metadata": {},
     "output_type": "execute_result"
    }
   ],
   "source": [
    "1 - my_binomial_covid.pmf(0)"
   ]
  },
  {
   "cell_type": "markdown",
   "metadata": {},
   "source": [
    "### scipy.stats genera métodos sea cual sea nuestra distribución"
   ]
  },
  {
   "cell_type": "markdown",
   "metadata": {},
   "source": [
    "#### RVS"
   ]
  },
  {
   "cell_type": "markdown",
   "metadata": {},
   "source": [
    "Recordamos, genera variables aleatorias de un tipo determinado."
   ]
  },
  {
   "cell_type": "code",
   "execution_count": 94,
   "metadata": {},
   "outputs": [
    {
     "data": {
      "text/plain": [
       "array([0, 1, 1, 1, 1, 1, 1, 1, 1, 1, 1, 1, 1, 1, 0, 1, 1, 1, 0, 1])"
      ]
     },
     "execution_count": 94,
     "metadata": {},
     "output_type": "execute_result"
    }
   ],
   "source": [
    "# Tiro la moneda 20 veces\n",
    "my_bernoulli.rvs(size=20)"
   ]
  },
  {
   "cell_type": "markdown",
   "metadata": {},
   "source": [
    "Voy a una fiesta. ¿Cuál es el número de personas enfermas en ella?"
   ]
  },
  {
   "cell_type": "code",
   "execution_count": 95,
   "metadata": {},
   "outputs": [
    {
     "data": {
      "text/plain": [
       "array([6])"
      ]
     },
     "execution_count": 95,
     "metadata": {},
     "output_type": "execute_result"
    }
   ],
   "source": [
    "my_binomial_covid.rvs(1)"
   ]
  },
  {
   "cell_type": "markdown",
   "metadata": {},
   "source": [
    "Voy a 20 fiestas. ¿Cuál es el número de enfermos en ellas?"
   ]
  },
  {
   "cell_type": "code",
   "execution_count": 96,
   "metadata": {},
   "outputs": [
    {
     "data": {
      "text/plain": [
       "array([1, 1, 4, 2, 0, 1, 5, 0, 1, 2, 4, 2, 3, 2, 2, 4, 1, 5, 1, 1])"
      ]
     },
     "execution_count": 96,
     "metadata": {},
     "output_type": "execute_result"
    }
   ],
   "source": [
    "my_binomial_covid.rvs(20)"
   ]
  },
  {
   "cell_type": "markdown",
   "metadata": {},
   "source": [
    "#### PMF"
   ]
  },
  {
   "cell_type": "markdown",
   "metadata": {},
   "source": [
    "Devuelve la (probability mass function) en un valor determinado, es decir, la probabilidad de ese resultado"
   ]
  },
  {
   "cell_type": "markdown",
   "metadata": {},
   "source": [
    "$P(X=k)$"
   ]
  },
  {
   "cell_type": "code",
   "execution_count": 97,
   "metadata": {},
   "outputs": [
    {
     "data": {
      "text/plain": [
       "0.8"
      ]
     },
     "execution_count": 97,
     "metadata": {},
     "output_type": "execute_result"
    }
   ],
   "source": [
    "# Probabilidad de que salga cara\n",
    "my_bernoulli.pmf(1)"
   ]
  },
  {
   "cell_type": "code",
   "execution_count": 98,
   "metadata": {},
   "outputs": [
    {
     "data": {
      "text/plain": [
       "0.19999999999999996"
      ]
     },
     "execution_count": 98,
     "metadata": {},
     "output_type": "execute_result"
    }
   ],
   "source": [
    "# Probabilidad de que salga cruz\n",
    "my_bernoulli.pmf(0)"
   ]
  },
  {
   "cell_type": "code",
   "execution_count": 99,
   "metadata": {
    "colab": {},
    "colab_type": "code",
    "id": "h-_Ioss8NwNo"
   },
   "outputs": [
    {
     "data": {
      "text/plain": [
       "0.30198988799999993"
      ]
     },
     "execution_count": 99,
     "metadata": {},
     "output_type": "execute_result"
    }
   ],
   "source": [
    "# Probabilidad de que salgan 8 caras\n",
    "my_binomial.pmf(8)"
   ]
  },
  {
   "cell_type": "code",
   "execution_count": 100,
   "metadata": {
    "colab": {},
    "colab_type": "code",
    "id": "h-_Ioss8NwNo"
   },
   "outputs": [
    {
     "data": {
      "text/plain": [
       "0.26843545599999996"
      ]
     },
     "execution_count": 100,
     "metadata": {},
     "output_type": "execute_result"
    }
   ],
   "source": [
    "# Probabilidad de que salgan 9 caras\n",
    "my_binomial.pmf(9)"
   ]
  },
  {
   "cell_type": "code",
   "execution_count": 101,
   "metadata": {},
   "outputs": [
    {
     "data": {
      "text/plain": [
       "0.13261955589475294"
      ]
     },
     "execution_count": 101,
     "metadata": {},
     "output_type": "execute_result"
    }
   ],
   "source": [
    "# Probabilidad de que haya 0 infectados\n",
    "my_binomial_covid.pmf(0)"
   ]
  },
  {
   "cell_type": "code",
   "execution_count": 102,
   "metadata": {},
   "outputs": [
    {
     "data": {
      "text/plain": [
       "0.2734139115697747"
      ]
     },
     "execution_count": 102,
     "metadata": {},
     "output_type": "execute_result"
    }
   ],
   "source": [
    "# Probabilidad de que haya 2 infectados\n",
    "my_binomial_covid.pmf(2)"
   ]
  },
  {
   "cell_type": "code",
   "execution_count": 103,
   "metadata": {},
   "outputs": [
    {
     "data": {
      "text/plain": [
       "1.4906219582374128e-09"
      ]
     },
     "execution_count": 103,
     "metadata": {},
     "output_type": "execute_result"
    }
   ],
   "source": [
    "# Probabilidad de que haya 15 infectados\n",
    "my_binomial_covid.pmf(15)"
   ]
  },
  {
   "cell_type": "markdown",
   "metadata": {},
   "source": [
    "#### CDF\n",
    "La función de distribución acumulada (cumulative distribution function).\n",
    "Calcula la probabilidad acumulada de un valor dado de x. Utilice la CDF para determinar la probabilidad de que una observación aleatoria que se toma de la población sea menor que o igual a cierto valor. También puede usar esta información para determinar la probabilidad de que una observación sea mayor que cierto valor o se encuentre entre dos valores."
   ]
  },
  {
   "cell_type": "markdown",
   "metadata": {},
   "source": [
    "$P(X \\leq k)$"
   ]
  },
  {
   "cell_type": "code",
   "execution_count": 104,
   "metadata": {
    "colab": {},
    "colab_type": "code",
    "id": "h-_Ioss8NwNo"
   },
   "outputs": [
    {
     "data": {
      "text/plain": [
       "0.03279349759999997"
      ]
     },
     "execution_count": 104,
     "metadata": {},
     "output_type": "execute_result"
    }
   ],
   "source": [
    "my_binomial.cdf(5) # Esto era binomial n10 p0.8"
   ]
  },
  {
   "cell_type": "code",
   "execution_count": 105,
   "metadata": {
    "colab": {},
    "colab_type": "code",
    "id": "h-_Ioss8NwNo"
   },
   "outputs": [
    {
     "data": {
      "text/plain": [
       "0.6241903615999999"
      ]
     },
     "execution_count": 105,
     "metadata": {},
     "output_type": "execute_result"
    }
   ],
   "source": [
    "my_binomial.cdf(8) "
   ]
  },
  {
   "cell_type": "code",
   "execution_count": 106,
   "metadata": {
    "colab": {},
    "colab_type": "code",
    "id": "h-_Ioss8NwNo"
   },
   "outputs": [
    {
     "data": {
      "text/plain": [
       "1.0"
      ]
     },
     "execution_count": 106,
     "metadata": {},
     "output_type": "execute_result"
    }
   ],
   "source": [
    "my_binomial.cdf(10)"
   ]
  },
  {
   "cell_type": "markdown",
   "metadata": {},
   "source": [
    "** Observación **"
   ]
  },
  {
   "cell_type": "code",
   "execution_count": 107,
   "metadata": {},
   "outputs": [
    {
     "data": {
      "text/plain": [
       "7.792639999999988e-05"
      ]
     },
     "execution_count": 107,
     "metadata": {},
     "output_type": "execute_result"
    }
   ],
   "source": [
    "# cdf de 2 es lo mismo que esto \n",
    "my_binomial.pmf(0) + my_binomial.pmf(1) + my_binomial.pmf(2)"
   ]
  },
  {
   "cell_type": "code",
   "execution_count": 108,
   "metadata": {},
   "outputs": [
    {
     "data": {
      "text/plain": [
       "7.792639999999985e-05"
      ]
     },
     "execution_count": 108,
     "metadata": {},
     "output_type": "execute_result"
    }
   ],
   "source": [
    "my_binomial.cdf(2)"
   ]
  },
  {
   "cell_type": "markdown",
   "metadata": {},
   "source": [
    "**Ejercicio**: Cada día del año 2023, si sacas 7 caras o más te invito a desayunar. ¿Cuántos días esperas que te invite?. 10 veces tiras la moneda y NO está sesgada/trucada"
   ]
  },
  {
   "cell_type": "code",
   "execution_count": 109,
   "metadata": {},
   "outputs": [],
   "source": [
    "binomial_de = binom(10,0.5)"
   ]
  },
  {
   "cell_type": "code",
   "execution_count": 112,
   "metadata": {},
   "outputs": [],
   "source": [
    "# probabilidad de sacar 7 o más caras\n",
    "p7 = binomial_de.pmf(7) + binomial_de.pmf(8) + binomial_de.pmf(9) + binomial_de.pmf(10) "
   ]
  },
  {
   "cell_type": "code",
   "execution_count": 113,
   "metadata": {},
   "outputs": [
    {
     "data": {
      "text/plain": [
       "0.17187499999999994"
      ]
     },
     "execution_count": 113,
     "metadata": {},
     "output_type": "execute_result"
    }
   ],
   "source": [
    "p7"
   ]
  },
  {
   "cell_type": "code",
   "execution_count": 114,
   "metadata": {},
   "outputs": [],
   "source": [
    "# equivalente\n",
    "pp = 1 - binomial_de.cdf(6)"
   ]
  },
  {
   "cell_type": "code",
   "execution_count": 115,
   "metadata": {},
   "outputs": [
    {
     "data": {
      "text/plain": [
       "0.171875"
      ]
     },
     "execution_count": 115,
     "metadata": {},
     "output_type": "execute_result"
    }
   ],
   "source": [
    "pp"
   ]
  },
  {
   "cell_type": "code",
   "execution_count": 116,
   "metadata": {},
   "outputs": [
    {
     "data": {
      "text/plain": [
       "62.734375"
      ]
     },
     "execution_count": 116,
     "metadata": {},
     "output_type": "execute_result"
    }
   ],
   "source": [
    "365 * pp"
   ]
  },
  {
   "cell_type": "code",
   "execution_count": 118,
   "metadata": {},
   "outputs": [
    {
     "data": {
      "text/plain": [
       "60"
      ]
     },
     "execution_count": 118,
     "metadata": {},
     "output_type": "execute_result"
    }
   ],
   "source": [
    "# Simulamos con la máquina (rvs me daba el sample) ¿cuántos días he sacado7 o más caras?\n",
    "(binomial_de.rvs(365) > 6).sum()"
   ]
  },
  {
   "cell_type": "markdown",
   "metadata": {},
   "source": [
    "#### Media, Varianza, Desviación típica"
   ]
  },
  {
   "cell_type": "markdown",
   "metadata": {},
   "source": [
    "Esto era la moneda trucada. La máquina que lanzaba 10 monedas con prob de éxito 0.8"
   ]
  },
  {
   "cell_type": "code",
   "execution_count": 122,
   "metadata": {},
   "outputs": [
    {
     "data": {
      "text/plain": [
       "<scipy.stats._distn_infrastructure.rv_frozen at 0x7ff4487b0c10>"
      ]
     },
     "execution_count": 122,
     "metadata": {},
     "output_type": "execute_result"
    }
   ],
   "source": [
    "my_binomial "
   ]
  },
  {
   "cell_type": "code",
   "execution_count": 127,
   "metadata": {},
   "outputs": [
    {
     "data": {
      "text/plain": [
       "7.9956"
      ]
     },
     "execution_count": 127,
     "metadata": {},
     "output_type": "execute_result"
    }
   ],
   "source": [
    "# Media experimental\n",
    "my_binomial.rvs(10000).mean()"
   ]
  },
  {
   "cell_type": "code",
   "execution_count": 120,
   "metadata": {
    "colab": {},
    "colab_type": "code",
    "id": "h-_Ioss8NwNo"
   },
   "outputs": [
    {
     "data": {
      "text/plain": [
       "8.0"
      ]
     },
     "execution_count": 120,
     "metadata": {},
     "output_type": "execute_result"
    }
   ],
   "source": [
    "# Media teórica\n",
    "my_binomial.mean()"
   ]
  },
  {
   "cell_type": "code",
   "execution_count": 128,
   "metadata": {
    "colab": {},
    "colab_type": "code",
    "id": "h-_Ioss8NwNo"
   },
   "outputs": [
    {
     "data": {
      "text/plain": [
       "1.2649110640673515"
      ]
     },
     "execution_count": 128,
     "metadata": {},
     "output_type": "execute_result"
    }
   ],
   "source": [
    "my_binomial.std()"
   ]
  },
  {
   "cell_type": "code",
   "execution_count": 129,
   "metadata": {
    "colab": {},
    "colab_type": "code",
    "id": "h-_Ioss8NwNo"
   },
   "outputs": [
    {
     "data": {
      "text/plain": [
       "1.2647864602374586"
      ]
     },
     "execution_count": 129,
     "metadata": {},
     "output_type": "execute_result"
    }
   ],
   "source": [
    "my_binomial.rvs(10000).std()"
   ]
  },
  {
   "cell_type": "markdown",
   "metadata": {},
   "source": [
    "Vamos a plotear la PMF de la binomial"
   ]
  },
  {
   "cell_type": "code",
   "execution_count": 130,
   "metadata": {},
   "outputs": [],
   "source": [
    "import numpy as np"
   ]
  },
  {
   "cell_type": "code",
   "execution_count": 151,
   "metadata": {
    "colab": {},
    "colab_type": "code",
    "id": "h-_Ioss8NwNo"
   },
   "outputs": [
    {
     "data": {
      "text/plain": [
       "<matplotlib.collections.LineCollection at 0x7ff44e0ddcd0>"
      ]
     },
     "execution_count": 151,
     "metadata": {},
     "output_type": "execute_result"
    },
    {
     "data": {
      "image/png": "[encoded data removed]",
      "text/plain": [
       "<Figure size 1152x648 with 1 Axes>"
      ]
     },
     "metadata": {},
     "output_type": "display_data"
    }
   ],
   "source": [
    "x = np.arange(0,21)\n",
    "plt.plot(x, my_binomial.pmf(x), \"bo\")\n",
    "plt.vlines(x, 0, my_binomial.pmf(x), colors='b', lw=5, alpha=0.5)"
   ]
  },
  {
   "cell_type": "code",
   "execution_count": 164,
   "metadata": {
    "colab": {},
    "colab_type": "code",
    "id": "h-_Ioss8NwNo"
   },
   "outputs": [
    {
     "data": {
      "image/png": "[encoded data removed]",
      "text/plain": [
       "<Figure size 1152x648 with 1 Axes>"
      ]
     },
     "metadata": {},
     "output_type": "display_data"
    }
   ],
   "source": [
    "x = np.arange(0,21)\n",
    "plt.plot(x, my_binomial_covid.pmf(x), \"o\")\n",
    "plt.vlines(x, 0, my_binomial_covid.pmf(x), colors='b', lw=5, alpha=0.5);"
   ]
  },
  {
   "cell_type": "markdown",
   "metadata": {},
   "source": [
    "Vamos a plotar un experimento! 🙃🌈"
   ]
  },
  {
   "cell_type": "code",
   "execution_count": 168,
   "metadata": {
    "colab": {},
    "colab_type": "code",
    "id": "9NNpanrLBygi"
   },
   "outputs": [
    {
     "data": {
      "image/png": "[encoded data removed]",
      "text/plain": [
       "<Figure size 1152x648 with 1 Axes>"
      ]
     },
     "metadata": {},
     "output_type": "display_data"
    }
   ],
   "source": [
    "sns.countplot(x=my_binomial.rvs(size=1000), palette=\"Blues\");"
   ]
  },
  {
   "cell_type": "markdown",
   "metadata": {
    "colab_type": "text",
    "id": "9pTUdx3ESmBH"
   },
   "source": [
    "### Distribución de Poisson"
   ]
  },
  {
   "cell_type": "markdown",
   "metadata": {
    "colab_type": "text",
    "id": "9pTUdx3ESmBH"
   },
   "source": [
    "La distribución de Poisson se utiliza para describir el número de veces que puede ocurrir algo **en un plazo determinado**.\n",
    "La distribución de Poisson se aplica a varios fenómenos discretos de la naturaleza (esto es, aquellos fenómenos que ocurren 0, 1, 2, 3, …, veces durante un periodo definido de tiempo o en un área determinada) cuando la probabilidad de ocurrencia del fenómeno es constante en el tiempo o el espacio. Ejemplos de estos eventos que pueden ser modelados por la distribución de Poisson incluyen:\n",
    "\n",
    "- El número de coches que pasan a través de un cierto punto en una ruta (suficientemente distantes de los semáforos) durante un periodo definido de tiempo.\n",
    "- El número de faltas de ortografía que uno comete al escribir una única página.\n",
    "- El número de llamadas telefónicas en una central telefónica por minuto.\n",
    "- El número de servidores web accedidos por minuto.\n",
    "- El número de animales muertos encontrados por unidad de longitud de ruta.\n",
    "- El número de mutaciones de determinada cadena de ADN después de cierta cantidad de radiación.\n",
    "- El número de núcleos atómicos inestables que se han desintegrado en un determinado período.\n",
    "- El número de estrellas en un determinado volumen de espacio.\n",
    "- La distribución de receptores visuales en la retina del ojo humano.\n",
    "- La inventiva de un inventor a lo largo de su carrera.\n",
    "- El número de meteoritos de más de 1 metro de diámetro que chocan contra la Tierra en un año\n",
    "- El número de pacientes que llegan a una sala de urgencias entre las 10 y las 11 de la noche\n",
    "- El número de fotones láser que inciden en un detector en un intervalo de tiempo determinado"
   ]
  },
  {
   "cell_type": "markdown",
   "metadata": {},
   "source": [
    "$\\Omega = \\{0, 1, 2, 3, ...\\}$ (piensa en el número de pacientes de 10 a 11). No está acotado."
   ]
  },
  {
   "cell_type": "markdown",
   "metadata": {},
   "source": [
    "**Seteamos la distribución**"
   ]
  },
  {
   "cell_type": "markdown",
   "metadata": {},
   "source": [
    "$\\lambda$ es el número medio teórico de ocurrencias.\n",
    "Si queremos comprar la máquina de la distribución de Poisson, solo recibe un parámetro. La media.       \n",
    "La Poisson es una distribución que no tiene memoria, son sucesos independientes, aparece porque sí."
   ]
  },
  {
   "cell_type": "markdown",
   "metadata": {},
   "source": [
    "$X \\sim Po(\\lambda)$"
   ]
  },
  {
   "cell_type": "code",
   "execution_count": 169,
   "metadata": {},
   "outputs": [],
   "source": [
    "lambd = 6"
   ]
  },
  {
   "cell_type": "markdown",
   "metadata": {},
   "source": [
    "La PMF que sigue la distribución de Poisson es la siguiente:"
   ]
  },
  {
   "cell_type": "markdown",
   "metadata": {},
   "source": [
    "$$P(X=k)=\\frac{\\lambda ^{k}e^{-\\lambda }}{k!}$$"
   ]
  },
  {
   "cell_type": "markdown",
   "metadata": {},
   "source": [
    "$$P(X=1)=\\lambda e^{-\\lambda }$$"
   ]
  },
  {
   "cell_type": "markdown",
   "metadata": {},
   "source": [
    "$$P(X=2)=\\frac{\\lambda ^{2}e^{-\\lambda }}{2}$$"
   ]
  },
  {
   "cell_type": "code",
   "execution_count": 170,
   "metadata": {
    "colab": {},
    "colab_type": "code",
    "id": "7vWUFVMDSoEK"
   },
   "outputs": [],
   "source": [
    "from scipy.stats import poisson"
   ]
  },
  {
   "cell_type": "code",
   "execution_count": 171,
   "metadata": {},
   "outputs": [],
   "source": [
    "my_poisson = poisson(mu=6)"
   ]
  },
  {
   "cell_type": "code",
   "execution_count": null,
   "metadata": {},
   "outputs": [],
   "source": [
    "# Rvs me devuelve el nº de pacientes que van a llegar hoy a la consulta de 10 a 11"
   ]
  },
  {
   "cell_type": "code",
   "execution_count": 175,
   "metadata": {},
   "outputs": [
    {
     "data": {
      "text/plain": [
       "array([7])"
      ]
     },
     "execution_count": 175,
     "metadata": {},
     "output_type": "execute_result"
    }
   ],
   "source": [
    "my_poisson.rvs(1)"
   ]
  },
  {
   "cell_type": "code",
   "execution_count": 178,
   "metadata": {},
   "outputs": [
    {
     "data": {
      "text/plain": [
       "array([ 6,  8,  7,  4,  8,  5,  5,  8, 12,  5,  3,  7,  9, 10,  5,  6,  7,\n",
       "        5,  4,  7,  5,  6,  5,  6,  5,  4,  3,  5,  6,  5])"
      ]
     },
     "execution_count": 178,
     "metadata": {},
     "output_type": "execute_result"
    }
   ],
   "source": [
    "sample = my_poisson.rvs(30)\n",
    "sample"
   ]
  },
  {
   "cell_type": "code",
   "execution_count": 186,
   "metadata": {},
   "outputs": [],
   "source": [
    "sample = my_poisson.rvs(365)\n",
    "#sample"
   ]
  },
  {
   "cell_type": "code",
   "execution_count": 187,
   "metadata": {
    "colab": {},
    "colab_type": "code",
    "id": "h-_Ioss8NwNo"
   },
   "outputs": [
    {
     "data": {
      "text/plain": [
       "<AxesSubplot:ylabel='count'>"
      ]
     },
     "execution_count": 187,
     "metadata": {},
     "output_type": "execute_result"
    },
    {
     "data": {
      "image/png": "[encoded data removed]",
      "text/plain": [
       "<Figure size 1152x648 with 1 Axes>"
      ]
     },
     "metadata": {},
     "output_type": "display_data"
    }
   ],
   "source": [
    "sns.countplot(x=sample)"
   ]
  },
  {
   "cell_type": "code",
   "execution_count": 188,
   "metadata": {},
   "outputs": [
    {
     "data": {
      "text/plain": [
       "<matplotlib.collections.LineCollection at 0x7ff4510c1c40>"
      ]
     },
     "execution_count": 188,
     "metadata": {},
     "output_type": "execute_result"
    },
    {
     "data": {
      "image/png": "[encoded data removed]",
      "text/plain": [
       "<Figure size 1152x648 with 1 Axes>"
      ]
     },
     "metadata": {},
     "output_type": "display_data"
    }
   ],
   "source": [
    "x = np.arange(0, 20)\n",
    "plt.plot(x, my_poisson.pmf(x), 'bo')\n",
    "plt.vlines(x, 0, my_poisson.pmf(x), colors='b', lw=5, alpha=0.5)"
   ]
  },
  {
   "cell_type": "code",
   "execution_count": 189,
   "metadata": {},
   "outputs": [
    {
     "data": {
      "text/plain": [
       "0.04130309341233764"
      ]
     },
     "execution_count": 189,
     "metadata": {},
     "output_type": "execute_result"
    }
   ],
   "source": [
    "my_poisson.pmf(10)"
   ]
  },
  {
   "cell_type": "markdown",
   "metadata": {},
   "source": [
    "¿Qué pasa con las probabilidades exactas?  Quiero asegurarme de que el 99% de las veces voy a tener disponible un médico para cada paciente. Usamos `pmf`"
   ]
  },
  {
   "cell_type": "markdown",
   "metadata": {},
   "source": [
    "$$P(X=k)=\\frac{\\lambda ^{k}e^{-\\lambda }}{k!}$$"
   ]
  },
  {
   "cell_type": "code",
   "execution_count": 190,
   "metadata": {},
   "outputs": [
    {
     "data": {
      "text/plain": [
       "0.08923507835998894"
      ]
     },
     "execution_count": 190,
     "metadata": {},
     "output_type": "execute_result"
    }
   ],
   "source": [
    "# Probabilidad de que lleguen 3 pacientes \n",
    "my_poisson.pmf(3)"
   ]
  },
  {
   "cell_type": "code",
   "execution_count": 191,
   "metadata": {},
   "outputs": [
    {
     "data": {
      "text/plain": [
       "0.1606231410479801"
      ]
     },
     "execution_count": 191,
     "metadata": {},
     "output_type": "execute_result"
    }
   ],
   "source": [
    "# Probabilidad de que lleguen 6 pacientes\n",
    "my_poisson.pmf(6)"
   ]
  },
  {
   "cell_type": "code",
   "execution_count": 192,
   "metadata": {},
   "outputs": [
    {
     "data": {
      "text/plain": [
       "0.0008912555621443482"
      ]
     },
     "execution_count": 192,
     "metadata": {},
     "output_type": "execute_result"
    }
   ],
   "source": [
    "my_poisson.pmf(15)"
   ]
  },
  {
   "cell_type": "code",
   "execution_count": 197,
   "metadata": {},
   "outputs": [
    {
     "data": {
      "text/plain": [
       "3.7250619470429406e-06"
      ]
     },
     "execution_count": 197,
     "metadata": {},
     "output_type": "execute_result"
    }
   ],
   "source": [
    "my_poisson.pmf(20)"
   ]
  },
  {
   "cell_type": "code",
   "execution_count": 198,
   "metadata": {},
   "outputs": [
    {
     "data": {
      "text/plain": [
       "268451.911462527"
      ]
     },
     "execution_count": 198,
     "metadata": {},
     "output_type": "execute_result"
    }
   ],
   "source": [
    "1 / (my_poisson.pmf(20))"
   ]
  },
  {
   "cell_type": "markdown",
   "metadata": {},
   "source": [
    "¿Qué hacía la cdf? Calculábamos la probabilidad de que lleguen 6 o menos pacientes"
   ]
  },
  {
   "cell_type": "code",
   "execution_count": 199,
   "metadata": {},
   "outputs": [
    {
     "data": {
      "text/plain": [
       "0.6063027824125914"
      ]
     },
     "execution_count": 199,
     "metadata": {},
     "output_type": "execute_result"
    }
   ],
   "source": [
    "my_poisson.cdf(6)"
   ]
  },
  {
   "cell_type": "markdown",
   "metadata": {},
   "source": [
    "¿Cuál es la probabilidad de que lleguen más de 12 pacientes?"
   ]
  },
  {
   "cell_type": "code",
   "execution_count": 202,
   "metadata": {},
   "outputs": [
    {
     "data": {
      "text/plain": [
       "0.9911725164821018"
      ]
     },
     "execution_count": 202,
     "metadata": {},
     "output_type": "execute_result"
    }
   ],
   "source": [
    "# Probabilidad de que lleguen 12 o menos\n",
    "my_poisson.cdf(12)"
   ]
  },
  {
   "cell_type": "code",
   "execution_count": 200,
   "metadata": {},
   "outputs": [
    {
     "data": {
      "text/plain": [
       "0.008827483517898194"
      ]
     },
     "execution_count": 200,
     "metadata": {},
     "output_type": "execute_result"
    }
   ],
   "source": [
    "# Probabilidad de que lleguen más de 12\n",
    "1 - my_poisson.cdf(12)"
   ]
  },
  {
   "cell_type": "markdown",
   "metadata": {},
   "source": [
    "**Media, Varianza**"
   ]
  },
  {
   "cell_type": "code",
   "execution_count": 203,
   "metadata": {},
   "outputs": [
    {
     "data": {
      "text/plain": [
       "6.0"
      ]
     },
     "execution_count": 203,
     "metadata": {},
     "output_type": "execute_result"
    }
   ],
   "source": [
    "my_poisson.mean()"
   ]
  },
  {
   "cell_type": "code",
   "execution_count": 204,
   "metadata": {},
   "outputs": [
    {
     "data": {
      "text/plain": [
       "6.0"
      ]
     },
     "execution_count": 204,
     "metadata": {},
     "output_type": "execute_result"
    }
   ],
   "source": [
    "my_poisson.var()"
   ]
  },
  {
   "cell_type": "code",
   "execution_count": 205,
   "metadata": {},
   "outputs": [],
   "source": [
    "m = poisson(2)"
   ]
  },
  {
   "cell_type": "code",
   "execution_count": 208,
   "metadata": {},
   "outputs": [
    {
     "data": {
      "text/plain": [
       "2.0"
      ]
     },
     "execution_count": 208,
     "metadata": {},
     "output_type": "execute_result"
    }
   ],
   "source": [
    "m.var()\n",
    "m.mean()"
   ]
  },
  {
   "cell_type": "markdown",
   "metadata": {},
   "source": [
    "**Ejercicio**       \n",
    "Mis entradas a la web: 30 personas entran de media en mi página web cada minuto (instancia la máquina de probabilidad)"
   ]
  },
  {
   "cell_type": "code",
   "execution_count": 209,
   "metadata": {},
   "outputs": [],
   "source": [
    "my_web_poisson = poisson(30)"
   ]
  },
  {
   "cell_type": "code",
   "execution_count": 210,
   "metadata": {},
   "outputs": [
    {
     "data": {
      "text/plain": [
       "0.07263452647159181"
      ]
     },
     "execution_count": 210,
     "metadata": {},
     "output_type": "execute_result"
    }
   ],
   "source": [
    "# Probabilidad teórica de que en un minuto entren exactamente 30 usuarios\n",
    "my_web_poisson.pmf(30)"
   ]
  },
  {
   "cell_type": "code",
   "execution_count": 211,
   "metadata": {},
   "outputs": [
    {
     "data": {
      "text/plain": [
       "0.07021337558920529"
      ]
     },
     "execution_count": 211,
     "metadata": {},
     "output_type": "execute_result"
    }
   ],
   "source": [
    "my_web_poisson.pmf(28)"
   ]
  },
  {
   "cell_type": "code",
   "execution_count": 212,
   "metadata": {},
   "outputs": [
    {
     "data": {
      "text/plain": [
       "0.06589825990366238"
      ]
     },
     "execution_count": 212,
     "metadata": {},
     "output_type": "execute_result"
    }
   ],
   "source": [
    "my_web_poisson.pmf(32)"
   ]
  },
  {
   "cell_type": "code",
   "execution_count": 213,
   "metadata": {},
   "outputs": [
    {
     "data": {
      "text/plain": [
       "0.00022087848072126846"
      ]
     },
     "execution_count": 213,
     "metadata": {},
     "output_type": "execute_result"
    }
   ],
   "source": [
    "my_web_poisson.pmf(50)"
   ]
  },
  {
   "cell_type": "code",
   "execution_count": 216,
   "metadata": {},
   "outputs": [
    {
     "data": {
      "text/plain": [
       "0.9676904258341258"
      ]
     },
     "execution_count": 216,
     "metadata": {},
     "output_type": "execute_result"
    }
   ],
   "source": [
    "my_web_poisson.cdf(40) # Probabilidad de que entren 40 o menos usuarios"
   ]
  }
 ],
 "metadata": {
  "colab": {
   "collapsed_sections": [],
   "name": "ProbabilityDistribution (1).ipynb",
   "provenance": []
  },
  "kernelspec": {
   "display_name": "ironhack",
   "language": "python",
   "name": "ironhack"
  },
  "language_info": {
   "codemirror_mode": {
    "name": "ipython",
    "version": 3
   },
   "file_extension": ".py",
   "mimetype": "text/x-python",
   "name": "python",
   "nbconvert_exporter": "python",
   "pygments_lexer": "ipython3",
   "version": "3.8.5"
  },
  "toc": {
   "base_numbering": 1,
   "nav_menu": {},
   "number_sections": true,
   "sideBar": true,
   "skip_h1_title": true,
   "title_cell": "Table of Contents",
   "title_sidebar": "Contents",
   "toc_cell": true,
   "toc_position": {},
   "toc_section_display": true,
   "toc_window_display": false
  },
  "varInspector": {
   "cols": {
    "lenName": 16,
    "lenType": 16,
    "lenVar": 40
   },
   "kernels_config": {
    "python": {
     "delete_cmd_postfix": "",
     "delete_cmd_prefix": "del ",
     "library": "var_list.py",
     "varRefreshCmd": "print(var_dic_list())"
    },
    "r": {
     "delete_cmd_postfix": ") ",
     "delete_cmd_prefix": "rm(",
     "library": "var_list.r",
     "varRefreshCmd": "cat(var_dic_list()) "
    }
   },
   "types_to_exclude": [
    "module",
    "function",
    "builtin_function_or_method",
    "instance",
    "_Feature"
   ],
   "window_display": false
  }
 },
 "nbformat": 4,
 "nbformat_minor": 1
}
