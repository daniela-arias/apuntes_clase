{
 "cells": [
  {
   "cell_type": "markdown",
   "metadata": {},
   "source": [
    "# Distribuciones de probabilidad continuas\n",
    "**Como no se me ocurría qué gif poner, os pongo uno de cómo funciona mi cerebro**"
   ]
  },
  {
   "cell_type": "markdown",
   "metadata": {},
   "source": [
    "![ungif](https://media.giphy.com/media/RhHHTsjhLvfWw/giphy.gif)"
   ]
  },
  {
   "cell_type": "markdown",
   "metadata": {
    "toc": true
   },
   "source": [
    "<h1>Table of Contents<span class=\"tocSkip\"></span></h1>\n",
    "<div class=\"toc\"><ul class=\"toc-item\"><li><span><a href=\"#Distribuciones-de-probabilidad-continuas\" data-toc-modified-id=\"Distribuciones-de-probabilidad-continuas-1\"><span class=\"toc-item-num\">1&nbsp;&nbsp;</span>Distribuciones de probabilidad continuas</a></span></li><li><span><a href=\"#Distribución-uniforme\" data-toc-modified-id=\"Distribución-uniforme-2\"><span class=\"toc-item-num\">2&nbsp;&nbsp;</span>Distribución uniforme</a></span><ul class=\"toc-item\"><li><span><a href=\"#Distribución-uniforme-en-el-intervalo-[0,-1]\" data-toc-modified-id=\"Distribución-uniforme-en-el-intervalo-[0,-1]-2.1\"><span class=\"toc-item-num\">2.1&nbsp;&nbsp;</span>Distribución uniforme en el intervalo [0, 1]</a></span></li><li><span><a href=\"#Cumulative-distribution-function\" data-toc-modified-id=\"Cumulative-distribution-function-2.2\"><span class=\"toc-item-num\">2.2&nbsp;&nbsp;</span>Cumulative distribution function</a></span></li><li><span><a href=\"#Distribución-uniforme-en-el-intervalo-[a,-b]\" data-toc-modified-id=\"Distribución-uniforme-en-el-intervalo-[a,-b]-2.3\"><span class=\"toc-item-num\">2.3&nbsp;&nbsp;</span>Distribución uniforme en el intervalo [a, b]</a></span></li><li><span><a href=\"#Ploteamos-la-CDF\" data-toc-modified-id=\"Ploteamos-la-CDF-2.4\"><span class=\"toc-item-num\">2.4&nbsp;&nbsp;</span>Ploteamos la CDF</a></span></li></ul></li><li><span><a href=\"#Distribución-exponencial\" data-toc-modified-id=\"Distribución-exponencial-3\"><span class=\"toc-item-num\">3&nbsp;&nbsp;</span>Distribución exponencial</a></span><ul class=\"toc-item\"><li><span><a href=\"#No-confundir-con-Poisson...-¡Cuidado!\" data-toc-modified-id=\"No-confundir-con-Poisson...-¡Cuidado!-3.1\"><span class=\"toc-item-num\">3.1&nbsp;&nbsp;</span>No confundir con Poisson... ¡Cuidado!</a></span></li><li><span><a href=\"#Probability-Distribution-Function-(PDF)\" data-toc-modified-id=\"Probability-Distribution-Function-(PDF)-3.2\"><span class=\"toc-item-num\">3.2&nbsp;&nbsp;</span>Probability Distribution Function (PDF)</a></span></li></ul></li><li><span><a href=\"#Distribución-normal\" data-toc-modified-id=\"Distribución-normal-4\"><span class=\"toc-item-num\">4&nbsp;&nbsp;</span>Distribución normal</a></span><ul class=\"toc-item\"><li><ul class=\"toc-item\"><li><span><a href=\"#Intro\" data-toc-modified-id=\"Intro-4.0.1\"><span class=\"toc-item-num\">4.0.1&nbsp;&nbsp;</span>Intro</a></span></li><li><span><a href=\"#scipy's-norm\" data-toc-modified-id=\"scipy's-norm-4.0.2\"><span class=\"toc-item-num\">4.0.2&nbsp;&nbsp;</span>scipy's <code>norm</code></a></span></li><li><span><a href=\"#Sampleamos-con-normal\" data-toc-modified-id=\"Sampleamos-con-normal-4.0.3\"><span class=\"toc-item-num\">4.0.3&nbsp;&nbsp;</span>Sampleamos con normal</a></span></li><li><span><a href=\"#Función-de-densidad-probabilidad\" data-toc-modified-id=\"Función-de-densidad-probabilidad-4.0.4\"><span class=\"toc-item-num\">4.0.4&nbsp;&nbsp;</span>Función de densidad probabilidad</a></span></li><li><span><a href=\"#Percent-point-function-(PPF)\" data-toc-modified-id=\"Percent-point-function-(PPF)-4.0.5\"><span class=\"toc-item-num\">4.0.5&nbsp;&nbsp;</span>Percent point function (PPF)</a></span></li></ul></li><li><span><a href=\"#Otras-distribuciones-de-probabilidad-continuas\" data-toc-modified-id=\"Otras-distribuciones-de-probabilidad-continuas-4.1\"><span class=\"toc-item-num\">4.1&nbsp;&nbsp;</span>Otras distribuciones de probabilidad continuas</a></span></li></ul></li><li><span><a href=\"#Resumen\" data-toc-modified-id=\"Resumen-5\"><span class=\"toc-item-num\">5&nbsp;&nbsp;</span>Resumen</a></span></li></ul></div>"
   ]
  },
  {
   "cell_type": "code",
   "execution_count": 1,
   "metadata": {},
   "outputs": [],
   "source": [
    "# El mantra de las visualizaciones\n",
    "from matplotlib import pyplot as plt\n",
    "%matplotlib inline\n",
    "%config Inlinebackend.figure_format = 'retina'\n",
    "\n",
    "import seaborn as sns\n",
    "sns.set_context('poster')\n",
    "sns.set(rc={'figure.figsize': (16., 9.)})\n",
    "sns.set_style('whitegrid')\n",
    "\n",
    "import pylab as p\n",
    "import numpy as np\n",
    "import pandas as pd"
   ]
  },
  {
   "cell_type": "markdown",
   "metadata": {},
   "source": [
    "## Distribuciones de probabilidad continuas"
   ]
  },
  {
   "cell_type": "markdown",
   "metadata": {},
   "source": [
    "**Las distribuciones de probabilidad continua** son aquellas que pueden tomar cualquier valor en un rango determinado. En particular, pueden tomar infinitos valores diferentes.\n",
    "\n",
    "X es una variable aleatoria continua.  \n",
    "X sigue una distribución de probabilidad continua."
   ]
  },
  {
   "cell_type": "markdown",
   "metadata": {},
   "source": [
    "## Distribución uniforme"
   ]
  },
  {
   "cell_type": "markdown",
   "metadata": {
    "colab_type": "text",
    "id": "xsScdABy_6rm"
   },
   "source": [
    "### Distribución uniforme en el intervalo [0, 1]\n",
    "Todos los números en el entero [0, 1] son igualmente probables\n",
    "En una distribución de probabilidad continua, sólo tiene sentido hablar de probabilidad de un intervalo, no de un número concreto"
   ]
  },
  {
   "cell_type": "markdown",
   "metadata": {},
   "source": [
    "<img src=\"https://upload.wikimedia.org/wikipedia/commons/thumb/2/28/Unit-interval.svg/1200px-Unit-interval.svg.png\" width=500>"
   ]
  },
  {
   "cell_type": "markdown",
   "metadata": {},
   "source": [
    "$P(x \\leq 0.4)=0.4$"
   ]
  },
  {
   "cell_type": "markdown",
   "metadata": {},
   "source": [
    "$P(x \\geq 0.7)=0.3$"
   ]
  },
  {
   "cell_type": "markdown",
   "metadata": {},
   "source": [
    "$P(x \\leq 1)= 1$"
   ]
  },
  {
   "cell_type": "markdown",
   "metadata": {},
   "source": [
    "$P(x \\geq 0)=1$"
   ]
  },
  {
   "cell_type": "markdown",
   "metadata": {},
   "source": [
    "$P(0.1 \\leq x \\leq 0.4)=0.4 - 0.1=0.3$"
   ]
  },
  {
   "cell_type": "markdown",
   "metadata": {
    "colab_type": "text",
    "id": "5dn6JLn8GhnC"
   },
   "source": [
    "Por cada número $c, d \\in [0, 1]$ tenemos"
   ]
  },
  {
   "cell_type": "markdown",
   "metadata": {
    "colab_type": "text",
    "id": "5dn6JLn8GhnC"
   },
   "source": [
    "$$P(c < x <= d) = d-c$$"
   ]
  },
  {
   "cell_type": "markdown",
   "metadata": {},
   "source": [
    "Utilicemos la instanciación de la distribución en Python para generar muestras de una distribución $U(0, 1)$."
   ]
  },
  {
   "cell_type": "code",
   "execution_count": 2,
   "metadata": {},
   "outputs": [],
   "source": [
    "from scipy.stats import uniform"
   ]
  },
  {
   "cell_type": "code",
   "execution_count": 3,
   "metadata": {},
   "outputs": [],
   "source": [
    "my_uniform = uniform(0,1)"
   ]
  },
  {
   "cell_type": "code",
   "execution_count": 4,
   "metadata": {},
   "outputs": [
    {
     "data": {
      "text/plain": [
       "array([0.83916441])"
      ]
     },
     "execution_count": 4,
     "metadata": {},
     "output_type": "execute_result"
    }
   ],
   "source": [
    "my_uniform.rvs(1)"
   ]
  },
  {
   "cell_type": "code",
   "execution_count": 6,
   "metadata": {},
   "outputs": [],
   "source": [
    "sample = my_uniform.rvs(10)"
   ]
  },
  {
   "cell_type": "code",
   "execution_count": 8,
   "metadata": {},
   "outputs": [
    {
     "data": {
      "image/png": "[encoded data removed]",
      "text/plain": [
       "<Figure size 1152x648 with 1 Axes>"
      ]
     },
     "metadata": {},
     "output_type": "display_data"
    }
   ],
   "source": [
    "sns.histplot(sample);"
   ]
  },
  {
   "cell_type": "code",
   "execution_count": 9,
   "metadata": {},
   "outputs": [],
   "source": [
    "sample = my_uniform.rvs(size=100)"
   ]
  },
  {
   "cell_type": "code",
   "execution_count": 12,
   "metadata": {},
   "outputs": [
    {
     "data": {
      "image/png": "[encoded data removed]",
      "text/plain": [
       "<Figure size 1152x648 with 1 Axes>"
      ]
     },
     "metadata": {},
     "output_type": "display_data"
    }
   ],
   "source": [
    "sns.histplot(sample);"
   ]
  },
  {
   "cell_type": "code",
   "execution_count": 18,
   "metadata": {},
   "outputs": [
    {
     "data": {
      "image/png": "[encoded data removed]",
      "text/plain": [
       "<Figure size 1152x648 with 1 Axes>"
      ]
     },
     "metadata": {},
     "output_type": "display_data"
    }
   ],
   "source": [
    "sample = my_uniform.rvs(size=1000)\n",
    "sns.histplot(sample, stat=\"percent\");"
   ]
  },
  {
   "cell_type": "code",
   "execution_count": 19,
   "metadata": {},
   "outputs": [
    {
     "data": {
      "text/plain": [
       "0.5026547466053448"
      ]
     },
     "execution_count": 19,
     "metadata": {},
     "output_type": "execute_result"
    }
   ],
   "source": [
    "sample.mean()"
   ]
  },
  {
   "cell_type": "code",
   "execution_count": 21,
   "metadata": {},
   "outputs": [
    {
     "data": {
      "text/plain": [
       "0.2880571354548849"
      ]
     },
     "execution_count": 21,
     "metadata": {},
     "output_type": "execute_result"
    }
   ],
   "source": [
    "sample.std()"
   ]
  },
  {
   "cell_type": "code",
   "execution_count": 20,
   "metadata": {},
   "outputs": [
    {
     "data": {
      "text/plain": [
       "0.5"
      ]
     },
     "execution_count": 20,
     "metadata": {},
     "output_type": "execute_result"
    }
   ],
   "source": [
    "my_uniform.mean()"
   ]
  },
  {
   "cell_type": "code",
   "execution_count": 22,
   "metadata": {},
   "outputs": [
    {
     "data": {
      "text/plain": [
       "0.28867513459481287"
      ]
     },
     "execution_count": 22,
     "metadata": {},
     "output_type": "execute_result"
    }
   ],
   "source": [
    "my_uniform.std()"
   ]
  },
  {
   "cell_type": "markdown",
   "metadata": {},
   "source": [
    "### Cumulative distribution function"
   ]
  },
  {
   "cell_type": "markdown",
   "metadata": {},
   "source": [
    "La PMF es una forma de describir la distribución de una variable aleatoria discreta... pero la PMF no puede definirse para las variables aleatorias continuas. La función de distribución acumulativa (CDF) de una variable aleatoria es otro método para describir la distribución de las variables aleatorias. La ventaja de la CDF es que puede definirse para cualquier tipo de variable aleatoria (como ya vimos en el caso de las variables discretas)"
   ]
  },
  {
   "cell_type": "markdown",
   "metadata": {},
   "source": [
    "`.cdf(x)`  nos indica la probabilidad de $X<x$"
   ]
  },
  {
   "cell_type": "markdown",
   "metadata": {},
   "source": [
    "Entonces, **¿cuál es la probabilidad de que salga un número menor que 1?**"
   ]
  },
  {
   "cell_type": "code",
   "execution_count": 23,
   "metadata": {},
   "outputs": [
    {
     "data": {
      "text/plain": [
       "1.0"
      ]
     },
     "execution_count": 23,
     "metadata": {},
     "output_type": "execute_result"
    }
   ],
   "source": [
    "my_uniform.cdf(1)"
   ]
  },
  {
   "cell_type": "markdown",
   "metadata": {},
   "source": [
    "¿Y de que salga un número menor que 0?"
   ]
  },
  {
   "cell_type": "code",
   "execution_count": 24,
   "metadata": {},
   "outputs": [
    {
     "data": {
      "text/plain": [
       "0.0"
      ]
     },
     "execution_count": 24,
     "metadata": {},
     "output_type": "execute_result"
    }
   ],
   "source": [
    "my_uniform.cdf(0)"
   ]
  },
  {
   "cell_type": "code",
   "execution_count": 25,
   "metadata": {},
   "outputs": [
    {
     "data": {
      "text/plain": [
       "0.5"
      ]
     },
     "execution_count": 25,
     "metadata": {},
     "output_type": "execute_result"
    }
   ],
   "source": [
    "# Probabilidad de que salga un número menor que 0.5\n",
    "my_uniform.cdf(0.5)"
   ]
  },
  {
   "cell_type": "code",
   "execution_count": 26,
   "metadata": {},
   "outputs": [
    {
     "data": {
      "text/plain": [
       "0.4"
      ]
     },
     "execution_count": 26,
     "metadata": {},
     "output_type": "execute_result"
    }
   ],
   "source": [
    "my_uniform.cdf(0.4)"
   ]
  },
  {
   "cell_type": "markdown",
   "metadata": {},
   "source": [
    "Sucede que ... ¿Cuál es la probabilidad de que me salga un número entre 0.2 y 0.7? Pues que entonces la probabilidad es que me salga un número menor que 0.7 y restarle la probabilidad de que me salga un número menor que 0.2 ....       \n",
    "$P(0.2 < X < 0.7) = P(X < 0.7) - P(X < 0.2)$"
   ]
  },
  {
   "cell_type": "markdown",
   "metadata": {},
   "source": [
    "Entonces        \n",
    "$P(X < 0.2) + P(0.2 < X < 0.7) = P(X < 0.7)$"
   ]
  },
  {
   "cell_type": "code",
   "execution_count": 27,
   "metadata": {},
   "outputs": [
    {
     "data": {
      "text/plain": [
       "0.49999999999999994"
      ]
     },
     "execution_count": 27,
     "metadata": {},
     "output_type": "execute_result"
    }
   ],
   "source": [
    "my_uniform.cdf(0.7) - my_uniform.cdf(0.2)"
   ]
  },
  {
   "cell_type": "markdown",
   "metadata": {
    "colab_type": "text",
    "id": "xsScdABy_6rm"
   },
   "source": [
    "### Distribución uniforme en el intervalo [a, b]"
   ]
  },
  {
   "cell_type": "markdown",
   "metadata": {},
   "source": [
    "Todos los números en el intervalo [a, b] son equiprobables"
   ]
  },
  {
   "cell_type": "markdown",
   "metadata": {},
   "source": [
    "$X \\sim U(a, b)$"
   ]
  },
  {
   "cell_type": "markdown",
   "metadata": {},
   "source": [
    "$P(x \\leq b)=1$"
   ]
  },
  {
   "cell_type": "markdown",
   "metadata": {},
   "source": [
    "$P(x \\geq a)=1$"
   ]
  },
  {
   "cell_type": "markdown",
   "metadata": {},
   "source": [
    "$\\frac{a+b}{2}$ es la media entre $a$ y $b$"
   ]
  },
  {
   "cell_type": "markdown",
   "metadata": {},
   "source": [
    "$P(x \\leq \\frac{a+b}{2})=0.5$"
   ]
  },
  {
   "cell_type": "markdown",
   "metadata": {},
   "source": [
    "Utilicemos la instanciación de la distribución en Python para generar muestras de una distribución $U(a, b)$."
   ]
  },
  {
   "cell_type": "code",
   "execution_count": 28,
   "metadata": {},
   "outputs": [],
   "source": [
    "from scipy.stats import uniform"
   ]
  },
  {
   "cell_type": "code",
   "execution_count": 29,
   "metadata": {},
   "outputs": [],
   "source": [
    "a,b = 4,10"
   ]
  },
  {
   "cell_type": "markdown",
   "metadata": {},
   "source": [
    "`uniform` recibe `a` y `h`"
   ]
  },
  {
   "cell_type": "code",
   "execution_count": 30,
   "metadata": {},
   "outputs": [
    {
     "data": {
      "text/plain": [
       "6"
      ]
     },
     "execution_count": 30,
     "metadata": {},
     "output_type": "execute_result"
    }
   ],
   "source": [
    "# A, es es el inicio y H es la longitud del intervalo, así que tengo que calculármelo\n",
    "h = b - a\n",
    "h"
   ]
  },
  {
   "cell_type": "code",
   "execution_count": 33,
   "metadata": {},
   "outputs": [],
   "source": [
    "# Instancio mi distribución uniforme\n",
    "my_uniform = uniform(loc=a, scale=h) # Los argumentos se llaman loc y scale pero no hace falta ponerles nombre"
   ]
  },
  {
   "cell_type": "markdown",
   "metadata": {},
   "source": [
    "`.rvs` generates a sample drawn from the distribution"
   ]
  },
  {
   "cell_type": "code",
   "execution_count": 34,
   "metadata": {},
   "outputs": [
    {
     "data": {
      "text/plain": [
       "array([8.38846598])"
      ]
     },
     "execution_count": 34,
     "metadata": {},
     "output_type": "execute_result"
    }
   ],
   "source": [
    "# Genero random samples... \n",
    "my_uniform.rvs(1)"
   ]
  },
  {
   "cell_type": "code",
   "execution_count": 37,
   "metadata": {},
   "outputs": [],
   "source": [
    "# Genero 100 muestras\n",
    "sample = my_uniform.rvs(100)\n",
    "#sample"
   ]
  },
  {
   "cell_type": "markdown",
   "metadata": {},
   "source": [
    "¿Cuál será la media?"
   ]
  },
  {
   "cell_type": "code",
   "execution_count": 46,
   "metadata": {},
   "outputs": [
    {
     "data": {
      "text/plain": [
       "6.83361701919735"
      ]
     },
     "execution_count": 46,
     "metadata": {},
     "output_type": "execute_result"
    }
   ],
   "source": [
    "sample.mean() # Aquí aplico la media a un experimento, media de np (rvs me devuelve un array)"
   ]
  },
  {
   "cell_type": "code",
   "execution_count": 41,
   "metadata": {},
   "outputs": [
    {
     "data": {
      "text/plain": [
       "7.0"
      ]
     },
     "execution_count": 41,
     "metadata": {},
     "output_type": "execute_result"
    }
   ],
   "source": [
    "my_uniform.mean() # Media teórica / método del objeto uniform"
   ]
  },
  {
   "cell_type": "code",
   "execution_count": 45,
   "metadata": {},
   "outputs": [
    {
     "data": {
      "image/png": "[encoded data removed]",
      "text/plain": [
       "<Figure size 1152x648 with 1 Axes>"
      ]
     },
     "metadata": {},
     "output_type": "display_data"
    }
   ],
   "source": [
    "sns.histplot(sample);"
   ]
  },
  {
   "cell_type": "markdown",
   "metadata": {},
   "source": [
    "`.cdf` ¡Venga, la cdf es fácil!\n",
    "`.cdf(x)` Recordamos, nos da la probabilidad de que un número sea $X<x$"
   ]
  },
  {
   "cell_type": "code",
   "execution_count": 47,
   "metadata": {},
   "outputs": [
    {
     "data": {
      "text/plain": [
       "1.0"
      ]
     },
     "execution_count": 47,
     "metadata": {},
     "output_type": "execute_result"
    }
   ],
   "source": [
    "# Probabilidad de que salga un número menor que 11\n",
    "my_uniform.cdf(11)"
   ]
  },
  {
   "cell_type": "code",
   "execution_count": null,
   "metadata": {},
   "outputs": [],
   "source": [
    "# Menor que 10"
   ]
  },
  {
   "cell_type": "code",
   "execution_count": 48,
   "metadata": {},
   "outputs": [
    {
     "data": {
      "text/plain": [
       "1.0"
      ]
     },
     "execution_count": 48,
     "metadata": {},
     "output_type": "execute_result"
    }
   ],
   "source": [
    "my_uniform.cdf(10)"
   ]
  },
  {
   "cell_type": "code",
   "execution_count": 49,
   "metadata": {},
   "outputs": [
    {
     "data": {
      "text/plain": [
       "0.9833333333333334"
      ]
     },
     "execution_count": 49,
     "metadata": {},
     "output_type": "execute_result"
    }
   ],
   "source": [
    "my_uniform.cdf(9.9)"
   ]
  },
  {
   "cell_type": "code",
   "execution_count": 50,
   "metadata": {},
   "outputs": [
    {
     "data": {
      "text/plain": [
       "0.0"
      ]
     },
     "execution_count": 50,
     "metadata": {},
     "output_type": "execute_result"
    }
   ],
   "source": [
    "my_uniform.cdf(4)"
   ]
  },
  {
   "cell_type": "markdown",
   "metadata": {},
   "source": [
    "### Ploteamos la CDF\n",
    "X --> Elijo una serie de puntos          \n",
    "Y --> Saco la cdf de esos puntos teniendo en cuenta mi distribución uniforme que recordamos que hemos inicializado entre 4 y 10"
   ]
  },
  {
   "cell_type": "code",
   "execution_count": 59,
   "metadata": {},
   "outputs": [
    {
     "data": {
      "image/png": "[encoded data removed]",
      "text/plain": [
       "<Figure size 1152x648 with 1 Axes>"
      ]
     },
     "metadata": {},
     "output_type": "display_data"
    }
   ],
   "source": [
    "x = np.linspace(0, 15, 1000)\n",
    "y = my_uniform.cdf(x)\n",
    "plt.plot(x,y);"
   ]
  },
  {
   "cell_type": "markdown",
   "metadata": {},
   "source": [
    "- Una cosa que obsrvamos en esta función sencilla pero que es común a todas es que la distribución es siempre creciente.\n",
    "- Toma el valor 1 a la derecha (tiende a 1)\n",
    "- La CDF toma el valor 0 a la izquierda (y va acumulando probabilidad hasta 1)"
   ]
  },
  {
   "cell_type": "code",
   "execution_count": 60,
   "metadata": {},
   "outputs": [
    {
     "data": {
      "text/plain": [
       "7.0"
      ]
     },
     "execution_count": 60,
     "metadata": {},
     "output_type": "execute_result"
    }
   ],
   "source": [
    "my_uniform.mean()"
   ]
  },
  {
   "cell_type": "code",
   "execution_count": 61,
   "metadata": {},
   "outputs": [
    {
     "data": {
      "text/plain": [
       "6.83361701919735"
      ]
     },
     "execution_count": 61,
     "metadata": {},
     "output_type": "execute_result"
    }
   ],
   "source": [
    "sample.mean()"
   ]
  },
  {
   "cell_type": "markdown",
   "metadata": {
    "colab_type": "text",
    "id": "5dn6JLn8GhnC"
   },
   "source": [
    "## Distribución exponencial"
   ]
  },
  {
   "cell_type": "markdown",
   "metadata": {},
   "source": [
    "Modela el tiempo que tarda en ocurrir un evento aleatorio:\n",
    " * Tiempo para que aparezca la siguiente persona en una cola\n",
    " * Tiempo para que se produzca la siguiente llamada en el centro de llamadas\n",
    " * Tiempo para que la siguiente partícula radiactiva se descomponga\n",
    " * Tiempo para que el siguiente elemento de ADN mute"
   ]
  },
  {
   "cell_type": "markdown",
   "metadata": {},
   "source": [
    "\"El tiempo medio de aparición de un nuevo paciente es de 5 minutos\"  \n",
    "\"El tiempo de aparición de un nuevo paciente sigue una distribución exponencial con media 5\""
   ]
  },
  {
   "cell_type": "markdown",
   "metadata": {},
   "source": [
    "### No confundir con Poisson... ¡Cuidado!\n",
    "La Poisson nos daba número de ocurrencias en un periodo de tiempo. Fijo el tiempo y los eventos ocurren una vez, o dos, o 7.....\n",
    "Sin embargo la exponencial no es así...es más como si cerrara los ojos, entonces los abro y cuento el timpo hasta que pasa la próxima ocurrencia.\n",
    "La Poissón es una distribución de variables DISCRETAS y la exponencial es CONTINUA. "
   ]
  },
  {
   "cell_type": "markdown",
   "metadata": {},
   "source": [
    "La exponencial es la distribución recíproca de la distribución de Poisson"
   ]
  },
  {
   "cell_type": "markdown",
   "metadata": {},
   "source": [
    "⚠️Mega Freak, la distribución exponencial tiene la característica de ser sin memoria... os dejo que lo investiguéis en google...."
   ]
  },
  {
   "cell_type": "code",
   "execution_count": 62,
   "metadata": {},
   "outputs": [],
   "source": [
    "from scipy.stats import expon"
   ]
  },
  {
   "cell_type": "markdown",
   "metadata": {},
   "source": [
    "La exponencial, al igual que la de Poisson, es una función de distribución de 1 parámetro.       \n",
    "Monoparamétrica: el tiempo que tarda en llegar la gente"
   ]
  },
  {
   "cell_type": "markdown",
   "metadata": {},
   "source": [
    "$X \\sim Exp(\\mu)$"
   ]
  },
  {
   "cell_type": "markdown",
   "metadata": {},
   "source": [
    "Este parámetro es la media, llamada `mu`, $\\mu$    \n",
    "La librería `scipy` lo llama `scale`"
   ]
  },
  {
   "cell_type": "markdown",
   "metadata": {},
   "source": [
    "**EJEMPLO** \n",
    "Modelemos los clientes que llegan cada 30segundos de media a la cola del supermercado"
   ]
  },
  {
   "cell_type": "code",
   "execution_count": 63,
   "metadata": {},
   "outputs": [],
   "source": [
    "my_e = expon(scale=30)"
   ]
  },
  {
   "cell_type": "code",
   "execution_count": 64,
   "metadata": {},
   "outputs": [
    {
     "data": {
      "text/plain": [
       "30.0"
      ]
     },
     "execution_count": 64,
     "metadata": {},
     "output_type": "execute_result"
    }
   ],
   "source": [
    "my_e.mean()"
   ]
  },
  {
   "cell_type": "markdown",
   "metadata": {},
   "source": [
    "Vamos a generar una muestra aleatoria `.rvs` ... ¿qué obtendremos?"
   ]
  },
  {
   "cell_type": "code",
   "execution_count": 69,
   "metadata": {},
   "outputs": [],
   "source": [
    "sample = my_e.rvs(100) #aquí dentro tengo SEGUNDOS"
   ]
  },
  {
   "cell_type": "code",
   "execution_count": 71,
   "metadata": {},
   "outputs": [
    {
     "data": {
      "text/plain": [
       "array([ 54.,   3.,   2.,  62.,   2.,   7.,   1.,  34.,  45.,   5.,  41.,\n",
       "         6.,  11.,  53.,  19., 104.,  51.,  33.,   0.,  31.,   4.,  13.,\n",
       "        98.,  17.,  78.,  20.,  37., 204.,  14.,  18.,   7.,  19.,  26.,\n",
       "         4.,  19., 111., 102.,  42.,  27.,   4.,  49.,   5.,  98.,  47.,\n",
       "        39.,  58.,  50.,  19.,   9.,  70.,  14.,  13.,  27.,  18., 116.,\n",
       "        44.,  56.,  29.,  46.,   2.,  44.,  33.,  30.,  65.,  28.,  44.,\n",
       "        18.,  50.,  19.,   3.,   2.,   7.,   3.,  39.,  63.,  23.,   3.,\n",
       "        70.,  47.,   9.,  58.,  23.,  49.,  20.,  37.,  35.,  55.,  41.,\n",
       "        41.,  35.,   7.,  21.,  52.,  76.,  65.,  22.,   7.,   3.,  37.,\n",
       "        39.])"
      ]
     },
     "execution_count": 71,
     "metadata": {},
     "output_type": "execute_result"
    }
   ],
   "source": [
    "sample.round()"
   ]
  },
  {
   "cell_type": "code",
   "execution_count": 72,
   "metadata": {},
   "outputs": [
    {
     "data": {
      "text/plain": [
       "203.74042796458454"
      ]
     },
     "execution_count": 72,
     "metadata": {},
     "output_type": "execute_result"
    }
   ],
   "source": [
    "sample.max()"
   ]
  },
  {
   "cell_type": "code",
   "execution_count": 80,
   "metadata": {},
   "outputs": [
    {
     "data": {
      "text/plain": [
       "<matplotlib.legend.Legend at 0x7f94e8294700>"
      ]
     },
     "execution_count": 80,
     "metadata": {},
     "output_type": "execute_result"
    },
    {
     "data": {
      "image/png": "[encoded data removed]",
      "text/plain": [
       "<Figure size 1152x648 with 1 Axes>"
      ]
     },
     "metadata": {},
     "output_type": "display_data"
    }
   ],
   "source": [
    "fig = sns.histplot(sample)\n",
    "fig.axvline(x=sample.mean(), color=\"red\", label=\"media\")\n",
    "fig.legend()"
   ]
  },
  {
   "cell_type": "code",
   "execution_count": 74,
   "metadata": {},
   "outputs": [],
   "source": [
    "sample = my_e.rvs(size=10000)"
   ]
  },
  {
   "cell_type": "code",
   "execution_count": null,
   "metadata": {},
   "outputs": [],
   "source": [
    "sns.histplot(sample)"
   ]
  },
  {
   "cell_type": "markdown",
   "metadata": {},
   "source": [
    "¿Qué hacía la CDF? me devuelve la probabilidad de que el siguiente tarde MENOS de 30 segundos"
   ]
  },
  {
   "cell_type": "code",
   "execution_count": 81,
   "metadata": {},
   "outputs": [
    {
     "data": {
      "text/plain": [
       "0.6321205588285577"
      ]
     },
     "execution_count": 81,
     "metadata": {},
     "output_type": "execute_result"
    }
   ],
   "source": [
    "my_e.cdf(30)"
   ]
  },
  {
   "cell_type": "markdown",
   "metadata": {},
   "source": [
    "### Probability Distribution Function (PDF)"
   ]
  },
  {
   "cell_type": "markdown",
   "metadata": {},
   "source": [
    "PDF es la probability density function, la análoga a la PMF en las discretas."
   ]
  },
  {
   "cell_type": "code",
   "execution_count": 83,
   "metadata": {},
   "outputs": [
    {
     "data": {
      "image/png": "[encoded data removed]",
      "text/plain": [
       "<Figure size 1152x648 with 1 Axes>"
      ]
     },
     "metadata": {},
     "output_type": "display_data"
    }
   ],
   "source": [
    "x = np.linspace(0,100,100)\n",
    "y = my_e.pdf(x)\n",
    "plt.plot(x,y);"
   ]
  },
  {
   "cell_type": "markdown",
   "metadata": {},
   "source": [
    "El área bajo la curva es la probabilidad de tiempos en el intervalo dado, por tanto...   \n",
    "Las zonas altas son más probables y las bajas menos probables, realmente la pdf no me está dando la probabilidad de cada punto, lo que hace es la integral de la función para ver cuánto área hay bajo la curva.\n",
    "Toda la zona es 1 (100%)     "
   ]
  },
  {
   "cell_type": "markdown",
   "metadata": {},
   "source": [
    "`.cdf` es la función de distribución acumulativa  \n",
    "`.cdf(x)` nos dice la probabilidad de $X<x$"
   ]
  },
  {
   "cell_type": "code",
   "execution_count": 84,
   "metadata": {},
   "outputs": [
    {
     "data": {
      "text/plain": [
       "0.28346868942621073"
      ]
     },
     "execution_count": 84,
     "metadata": {},
     "output_type": "execute_result"
    }
   ],
   "source": [
    "my_e.cdf(10)"
   ]
  },
  {
   "cell_type": "code",
   "execution_count": 85,
   "metadata": {},
   "outputs": [
    {
     "data": {
      "text/plain": [
       "0.6321205588285577"
      ]
     },
     "execution_count": 85,
     "metadata": {},
     "output_type": "execute_result"
    }
   ],
   "source": [
    "my_e.cdf(30)"
   ]
  },
  {
   "cell_type": "code",
   "execution_count": 86,
   "metadata": {},
   "outputs": [
    {
     "data": {
      "text/plain": [
       "0.950212931632136"
      ]
     },
     "execution_count": 86,
     "metadata": {},
     "output_type": "execute_result"
    }
   ],
   "source": [
    "my_e.cdf(90)"
   ]
  },
  {
   "cell_type": "markdown",
   "metadata": {},
   "source": [
    "La CDF de una distribución exponencial:\n",
    "    - Empieza en 0      \n",
    "    - Acaba en 1          \n",
    "    - Cada vez va acumulando menos         \n",
    "    - Es la integral de la pdf            "
   ]
  },
  {
   "cell_type": "code",
   "execution_count": 88,
   "metadata": {},
   "outputs": [
    {
     "data": {
      "image/png": "[encoded data removed]",
      "text/plain": [
       "<Figure size 1152x648 with 1 Axes>"
      ]
     },
     "metadata": {},
     "output_type": "display_data"
    }
   ],
   "source": [
    "x = np.linspace(-5, 100, 100)\n",
    "y = my_e.cdf(x)\n",
    "plt.plot(x,y);"
   ]
  },
  {
   "cell_type": "markdown",
   "metadata": {},
   "source": [
    "Recuperamos ejemplos del principio:        \n",
    "    - ¿Cuándo voy a recibir la próxima llamada en el call center?    \n",
    "    No lo puedo saber, sé que las llamadas tardan de media 11 segundos, y puedo calcular más o menos la probabilidad de que suceda en menos o más segundos..."
   ]
  },
  {
   "cell_type": "markdown",
   "metadata": {},
   "source": [
    "Es la probabilidad recíproca a la Poisson... digamos que si digo que si en la parada del autobús tengo una probabilidad exponencial con media 2 minutos, si fijo una hora de tiempo, podría decir también que entonces que tenemos una Poisson de media 30.    \n",
    "Poisson mide ocurrencias discretas, la exponencial cuenta el tiempo hasta la siguiente ocurrencia"
   ]
  },
  {
   "cell_type": "markdown",
   "metadata": {
    "colab_type": "text",
    "id": "5dn6JLn8GhnC"
   },
   "source": [
    "## Distribución normal"
   ]
  },
  {
   "cell_type": "markdown",
   "metadata": {},
   "source": [
    "#### Intro"
   ]
  },
  {
   "cell_type": "markdown",
   "metadata": {},
   "source": [
    "La distribución normal es la distribución de probabilidad más importante en estadística, porque se ajusta a muchos fenómenos naturales y sociales :\n",
    " * las alturas\n",
    " * la presión sanguínea\n",
    " * las puntuaciones del cociente intelectual        \n",
    "También se conoce como la distribución gaussiana o la curva de campana"
   ]
  },
  {
   "cell_type": "markdown",
   "metadata": {},
   "source": [
    "#### scipy's `norm`"
   ]
  },
  {
   "cell_type": "code",
   "execution_count": 89,
   "metadata": {},
   "outputs": [],
   "source": [
    "from scipy.stats import norm"
   ]
  },
  {
   "cell_type": "markdown",
   "metadata": {},
   "source": [
    "La normal, a diferencia de la exponencial, es una función de distribución de 2 parámetros      \n",
    "$X \\sim N(\\mu, \\sigma)$\n",
    "\n",
    "Estos parámetros son:\n",
    " * la media, llamada $\\mu$\n",
    " * la desviación estándar, $\\sigma$"
   ]
  },
  {
   "cell_type": "markdown",
   "metadata": {},
   "source": [
    "<img src=\"https://upload.wikimedia.org/wikipedia/commons/thumb/7/74/Normal_Distribution_PDF.svg/2560px-Normal_Distribution_PDF.svg.png\" width=700>"
   ]
  },
  {
   "cell_type": "markdown",
   "metadata": {},
   "source": [
    "`scipy` los llama `loc` y `scale`"
   ]
  },
  {
   "cell_type": "markdown",
   "metadata": {},
   "source": [
    "Modelemos un país en el que las alturas tienen:\n",
    " * una media de 170cm          \n",
    " * una media de 10cm"
   ]
  },
  {
   "cell_type": "code",
   "execution_count": 90,
   "metadata": {},
   "outputs": [],
   "source": [
    "my_normal = norm(loc=170, scale=10)"
   ]
  },
  {
   "cell_type": "code",
   "execution_count": 91,
   "metadata": {},
   "outputs": [
    {
     "data": {
      "text/plain": [
       "170.0"
      ]
     },
     "execution_count": 91,
     "metadata": {},
     "output_type": "execute_result"
    }
   ],
   "source": [
    "# Media teórica\n",
    "my_normal.mean()"
   ]
  },
  {
   "cell_type": "code",
   "execution_count": 92,
   "metadata": {},
   "outputs": [
    {
     "data": {
      "text/plain": [
       "10.0"
      ]
     },
     "execution_count": 92,
     "metadata": {},
     "output_type": "execute_result"
    }
   ],
   "source": [
    "# std\n",
    "my_normal.std()"
   ]
  },
  {
   "cell_type": "markdown",
   "metadata": {},
   "source": [
    "#### Sampleamos con normal"
   ]
  },
  {
   "cell_type": "markdown",
   "metadata": {},
   "source": [
    "`.rvs` genera una muestra extraída de la distribución"
   ]
  },
  {
   "cell_type": "code",
   "execution_count": 93,
   "metadata": {},
   "outputs": [
    {
     "data": {
      "text/plain": [
       "array([181.5709966])"
      ]
     },
     "execution_count": 93,
     "metadata": {},
     "output_type": "execute_result"
    }
   ],
   "source": [
    "my_normal.rvs(size=1)"
   ]
  },
  {
   "cell_type": "code",
   "execution_count": 94,
   "metadata": {},
   "outputs": [
    {
     "data": {
      "text/plain": [
       "array([174.4869205, 149.3539417])"
      ]
     },
     "execution_count": 94,
     "metadata": {},
     "output_type": "execute_result"
    }
   ],
   "source": [
    "my_normal.rvs(size=2)"
   ]
  },
  {
   "cell_type": "code",
   "execution_count": 98,
   "metadata": {},
   "outputs": [],
   "source": [
    "# Veamos algunos\n",
    "sample = my_normal.rvs(size=100)"
   ]
  },
  {
   "cell_type": "code",
   "execution_count": 99,
   "metadata": {},
   "outputs": [
    {
     "data": {
      "text/plain": [
       "array([171.4969265 , 153.94592048, 176.37167132, 167.04508404,\n",
       "       173.89894179, 175.65094497, 182.58797225, 156.51479827,\n",
       "       194.03286701, 174.28204252, 177.56656557, 163.80421269,\n",
       "       162.83468614, 153.52136358, 179.34218773])"
      ]
     },
     "execution_count": 99,
     "metadata": {},
     "output_type": "execute_result"
    }
   ],
   "source": [
    "sample[0:15]"
   ]
  },
  {
   "cell_type": "code",
   "execution_count": 100,
   "metadata": {},
   "outputs": [
    {
     "data": {
      "image/png": "[encoded data removed]",
      "text/plain": [
       "<Figure size 1152x648 with 1 Axes>"
      ]
     },
     "metadata": {},
     "output_type": "display_data"
    }
   ],
   "source": [
    "sns.histplot(sample);"
   ]
  },
  {
   "cell_type": "code",
   "execution_count": 102,
   "metadata": {},
   "outputs": [
    {
     "data": {
      "image/png": "[encoded data removed]",
      "text/plain": [
       "<Figure size 1152x648 with 1 Axes>"
      ]
     },
     "metadata": {},
     "output_type": "display_data"
    }
   ],
   "source": [
    "sample = my_normal.rvs(size=10000)\n",
    "sns.histplot(sample);"
   ]
  },
  {
   "cell_type": "markdown",
   "metadata": {},
   "source": [
    "#### Función de densidad probabilidad"
   ]
  },
  {
   "cell_type": "markdown",
   "metadata": {},
   "source": [
    "`.pdf` Función de densidad de probabilidad.\n",
    "[Wikipedia](https://es.wikipedia.org/wiki/Funci%C3%B3n_de_densidad_de_probabilidad) dice que:               \n",
    "En la teoría de la probabilidad, la función de densidad de probabilidad, función de densidad, o simplemente densidad de una variable aleatoria continua describe la probabilidad relativa según la cual dicha variable aleatoria tomará determinado valor.\n",
    "La probabilidad de que la variable aleatoria caiga en una región específica del espacio de posibilidades estará dada por la integral de la densidad de esta variable entre uno y otro límite de dicha región.\n",
    "La función de densidad de probabilidad (FDP o PDF en inglés) es positiva a lo largo de todo su dominio y su integral sobre todo el espacio es de valor unitario."
   ]
  },
  {
   "cell_type": "code",
   "execution_count": 106,
   "metadata": {},
   "outputs": [],
   "source": [
    "my_normal_2 = norm(170, 15)"
   ]
  },
  {
   "cell_type": "code",
   "execution_count": 107,
   "metadata": {},
   "outputs": [
    {
     "data": {
      "image/png": "[encoded data removed]",
      "text/plain": [
       "<Figure size 1152x648 with 1 Axes>"
      ]
     },
     "metadata": {},
     "output_type": "display_data"
    }
   ],
   "source": [
    "x = np.linspace(120, 220, 100)\n",
    "y = my_normal.pdf(x)\n",
    "y2 = my_normal_2.pdf(x)\n",
    "plt.plot(x, y)\n",
    "plt.plot(x, y2);"
   ]
  },
  {
   "cell_type": "markdown",
   "metadata": {},
   "source": [
    "La PDF en un valor de una continua no me da mucha información, no es la probabilidad de que alguien mida exactamente 160 porque ya hemos dicho que la probabilidad de ese valor en concreto tiende a 0. Si yo te digo cuál es la probablilidad de que alguien mida entre 160 y 180 tendrás que tirar dos verticales y pintar el área bajo la curva, eso sí, la información que nos da solamente es que hay más probabilidad de medir 165 que 160 o en mi distribución hay más personas que miden 165 que 160"
   ]
  },
  {
   "cell_type": "code",
   "execution_count": 108,
   "metadata": {},
   "outputs": [
    {
     "data": {
      "text/plain": [
       "0.024197072451914336"
      ]
     },
     "execution_count": 108,
     "metadata": {},
     "output_type": "execute_result"
    }
   ],
   "source": [
    "my_normal.pdf(160)"
   ]
  },
  {
   "cell_type": "code",
   "execution_count": 109,
   "metadata": {},
   "outputs": [
    {
     "data": {
      "text/plain": [
       "0.03520653267642995"
      ]
     },
     "execution_count": 109,
     "metadata": {},
     "output_type": "execute_result"
    }
   ],
   "source": [
    "my_normal.pdf(165)"
   ]
  },
  {
   "cell_type": "markdown",
   "metadata": {},
   "source": [
    "El área total bajo la curva es de 1"
   ]
  },
  {
   "cell_type": "markdown",
   "metadata": {},
   "source": [
    "Al ser esta distribución **continua**, no podemos SUMAR varios valores .pdf, sino que tenemos que INTEGRAR (área bajo la curva) hasta 170"
   ]
  },
  {
   "cell_type": "markdown",
   "metadata": {},
   "source": [
    "$P(X < 170)$"
   ]
  },
  {
   "cell_type": "code",
   "execution_count": 110,
   "metadata": {},
   "outputs": [
    {
     "data": {
      "text/plain": [
       "0.5"
      ]
     },
     "execution_count": 110,
     "metadata": {},
     "output_type": "execute_result"
    }
   ],
   "source": [
    "my_normal.cdf(170)"
   ]
  },
  {
   "cell_type": "code",
   "execution_count": 111,
   "metadata": {},
   "outputs": [
    {
     "data": {
      "text/plain": [
       "0.0013498980316300933"
      ]
     },
     "execution_count": 111,
     "metadata": {},
     "output_type": "execute_result"
    }
   ],
   "source": [
    "my_normal.cdf(140)"
   ]
  },
  {
   "cell_type": "code",
   "execution_count": 112,
   "metadata": {},
   "outputs": [
    {
     "data": {
      "text/plain": [
       "0.15865525393145707"
      ]
     },
     "execution_count": 112,
     "metadata": {},
     "output_type": "execute_result"
    }
   ],
   "source": [
    "my_normal.cdf(160)"
   ]
  },
  {
   "cell_type": "code",
   "execution_count": 118,
   "metadata": {},
   "outputs": [
    {
     "data": {
      "image/png": "[encoded data removed]",
      "text/plain": [
       "<Figure size 1152x648 with 1 Axes>"
      ]
     },
     "metadata": {},
     "output_type": "display_data"
    }
   ],
   "source": [
    "x = np.linspace(120, 220, 100)\n",
    "y = my_normal.pdf(x)\n",
    "fill_x = np.linspace(140, 160, 100)\n",
    "plt.fill_between(fill_x, my_normal.pdf(fill_x),color='r')\n",
    "plt.text(153, 0.003, \"0.158\", size=15)\n",
    "plt.plot(x,y);"
   ]
  },
  {
   "cell_type": "code",
   "execution_count": 119,
   "metadata": {},
   "outputs": [
    {
     "data": {
      "text/plain": [
       "0.9986501019683699"
      ]
     },
     "execution_count": 119,
     "metadata": {},
     "output_type": "execute_result"
    }
   ],
   "source": [
    "my_normal.cdf(200)"
   ]
  },
  {
   "cell_type": "markdown",
   "metadata": {},
   "source": [
    "¿Cuál es la proporción de personas en el intervalo ($\\mu - \\sigma, \\mu + \\sigma)$?     \n",
    "$P(160 < X < 180)$"
   ]
  },
  {
   "cell_type": "code",
   "execution_count": 120,
   "metadata": {},
   "outputs": [
    {
     "data": {
      "text/plain": [
       "0.6826894921370859"
      ]
     },
     "execution_count": 120,
     "metadata": {},
     "output_type": "execute_result"
    }
   ],
   "source": [
    "my_normal.cdf(180) - my_normal.cdf(160)"
   ]
  },
  {
   "cell_type": "code",
   "execution_count": 121,
   "metadata": {},
   "outputs": [],
   "source": [
    "# VAMOS A PINTAR ESTE RANGO"
   ]
  },
  {
   "cell_type": "code",
   "execution_count": 122,
   "metadata": {},
   "outputs": [
    {
     "data": {
      "text/plain": [
       "[<matplotlib.lines.Line2D at 0x7f94bfb68c70>]"
      ]
     },
     "execution_count": 122,
     "metadata": {},
     "output_type": "execute_result"
    },
    {
     "data": {
      "image/png": "[encoded data removed]",
      "text/plain": [
       "<Figure size 1152x648 with 1 Axes>"
      ]
     },
     "metadata": {},
     "output_type": "display_data"
    }
   ],
   "source": [
    "x = np.linspace(140, 200, 100)\n",
    "y = my_normal.pdf(x)\n",
    "fill_x = np.linspace(160, 180, 100)\n",
    "plt.fill_between(fill_x, my_normal.pdf(fill_x),color='r')\n",
    "plt.text(165, 0.02, \"0.682\", size=15)\n",
    "plt.plot(x,y)"
   ]
  },
  {
   "cell_type": "markdown",
   "metadata": {},
   "source": [
    "¿Cuál es la proporción de personas en el intervalo ($\\mu - 2\\sigma, \\mu + 2\\sigma)$?"
   ]
  },
  {
   "cell_type": "markdown",
   "metadata": {},
   "source": [
    "¿Cuál es la proporción de personas en el intervalo ($\\mu - 3\\sigma, \\mu + 3\\sigma)$?"
   ]
  },
  {
   "cell_type": "code",
   "execution_count": 123,
   "metadata": {},
   "outputs": [
    {
     "data": {
      "text/plain": [
       "170.0"
      ]
     },
     "execution_count": 123,
     "metadata": {},
     "output_type": "execute_result"
    }
   ],
   "source": [
    "my_normal.mean()"
   ]
  },
  {
   "cell_type": "code",
   "execution_count": 124,
   "metadata": {},
   "outputs": [
    {
     "data": {
      "text/plain": [
       "10.0"
      ]
     },
     "execution_count": 124,
     "metadata": {},
     "output_type": "execute_result"
    }
   ],
   "source": [
    "my_normal.std()"
   ]
  },
  {
   "cell_type": "markdown",
   "metadata": {},
   "source": [
    "En una distribución normal, esto se cumple SIEMPRE"
   ]
  },
  {
   "cell_type": "markdown",
   "metadata": {},
   "source": [
    "<img src=\"https://miro.medium.com/max/700/1*IZ2II2HYKeoMrdLU5jW6Dw.png\" width=800>"
   ]
  },
  {
   "cell_type": "markdown",
   "metadata": {},
   "source": [
    "Cómo se interpreta esto...nos repetimos un poco:\n",
    "    Lagartos australianos miden:          \n",
    "        - Media 6.2          \n",
    "        - Desv tipica 1  \n",
    "        \n",
    "**Significa que:**\n",
    "- Entre 5.2 y 7.2 están el 68% de los lagartos\n",
    "- Entre 4.2 y 8.2 están el 95.45% de los lagartos\n",
    "- Entre 3.2 y 9.2 están el 99.73% de los lagartos"
   ]
  },
  {
   "cell_type": "markdown",
   "metadata": {},
   "source": [
    "#### Percent point function (PPF)\n",
    "¿Nos acordamos de cómo se interpreta esto?"
   ]
  },
  {
   "cell_type": "code",
   "execution_count": 127,
   "metadata": {},
   "outputs": [
    {
     "data": {
      "text/plain": [
       "178.41621233572914"
      ]
     },
     "execution_count": 127,
     "metadata": {},
     "output_type": "execute_result"
    }
   ],
   "source": [
    "my_normal.ppf(0.8)"
   ]
  },
  {
   "cell_type": "code",
   "execution_count": 126,
   "metadata": {},
   "outputs": [
    {
     "data": {
      "text/plain": [
       "0.7999940553550331"
      ]
     },
     "execution_count": 126,
     "metadata": {},
     "output_type": "execute_result"
    }
   ],
   "source": [
    "my_normal.cdf(178.416)"
   ]
  },
  {
   "cell_type": "code",
   "execution_count": 128,
   "metadata": {},
   "outputs": [
    {
     "data": {
      "text/plain": [
       "170.0"
      ]
     },
     "execution_count": 128,
     "metadata": {},
     "output_type": "execute_result"
    }
   ],
   "source": [
    "my_normal.ppf(0.5)"
   ]
  },
  {
   "cell_type": "markdown",
   "metadata": {},
   "source": [
    "Básicamente es la [Función Cuantil](https://es.wikipedia.org/wiki/Funci%C3%B3n_cuantil), nos da la inversa y nos dice el percentil."
   ]
  },
  {
   "cell_type": "markdown",
   "metadata": {},
   "source": [
    "**CDF(altura)** = nos da la probabilidad de medir menos de esa altura        \n",
    "**PPF(probabilidad)** = nos da la alturaº"
   ]
  },
  {
   "cell_type": "markdown",
   "metadata": {},
   "source": [
    "¿Qué altura es tal que el 80% de las personas son más bajas que ella?"
   ]
  },
  {
   "cell_type": "code",
   "execution_count": 129,
   "metadata": {},
   "outputs": [
    {
     "data": {
      "text/plain": [
       "178.41621233572914"
      ]
     },
     "execution_count": 129,
     "metadata": {},
     "output_type": "execute_result"
    }
   ],
   "source": [
    "my_normal.ppf(0.8)"
   ]
  },
  {
   "cell_type": "markdown",
   "metadata": {},
   "source": [
    "### Otras distribuciones de probabilidad continuas"
   ]
  },
  {
   "cell_type": "markdown",
   "metadata": {},
   "source": [
    " * Student's $t$ distribución\n",
    " * Distribución $F$ de Snedecor\n",
    " * Distribución Chi cuadrado"
   ]
  },
  {
   "cell_type": "markdown",
   "metadata": {},
   "source": [
    "## Resumen\n",
    "Es tu turno (no me falléis) ¿Qué hemos aprendido hoy?"
   ]
  },
  {
   "cell_type": "markdown",
   "metadata": {},
   "source": [
    " * Las variables aleatorias modelan los experimentos aleatorios\n",
    " * Sólo necesitamos un espacio muestral y probabilidades para definir un experimento aleatorio\n",
    " * `.rvs` devuelve una muestra\n",
    " * `.pmf` devuelve la función de masa de probabilidad (distribuciones discretas)\n",
    " * `.pdf` devuelve la función de densidad de probabildiad (distribuciones continuas)\n",
    " * `.cdf` devuelve la función de masa/distribución acumulada (discreta/continua)\n",
    " * `.ppf` devuelve la función de distribución acumulativa inversa (discreta/continua). También conocida como función de función cuantil"
   ]
  }
 ],
 "metadata": {
  "colab": {
   "collapsed_sections": [],
   "name": "ProbabilityDistribution (1).ipynb",
   "provenance": []
  },
  "kernelspec": {
   "display_name": "ironhack",
   "language": "python",
   "name": "ironhack"
  },
  "language_info": {
   "codemirror_mode": {
    "name": "ipython",
    "version": 3
   },
   "file_extension": ".py",
   "mimetype": "text/x-python",
   "name": "python",
   "nbconvert_exporter": "python",
   "pygments_lexer": "ipython3",
   "version": "3.8.5"
  },
  "toc": {
   "base_numbering": 1,
   "nav_menu": {},
   "number_sections": true,
   "sideBar": true,
   "skip_h1_title": true,
   "title_cell": "Table of Contents",
   "title_sidebar": "Contents",
   "toc_cell": true,
   "toc_position": {},
   "toc_section_display": true,
   "toc_window_display": false
  },
  "varInspector": {
   "cols": {
    "lenName": 16,
    "lenType": 16,
    "lenVar": 40
   },
   "kernels_config": {
    "python": {
     "delete_cmd_postfix": "",
     "delete_cmd_prefix": "del ",
     "library": "var_list.py",
     "varRefreshCmd": "print(var_dic_list())"
    },
    "r": {
     "delete_cmd_postfix": ") ",
     "delete_cmd_prefix": "rm(",
     "library": "var_list.r",
     "varRefreshCmd": "cat(var_dic_list()) "
    }
   },
   "types_to_exclude": [
    "module",
    "function",
    "builtin_function_or_method",
    "instance",
    "_Feature"
   ],
   "window_display": false
  }
 },
 "nbformat": 4,
 "nbformat_minor": 1
}
