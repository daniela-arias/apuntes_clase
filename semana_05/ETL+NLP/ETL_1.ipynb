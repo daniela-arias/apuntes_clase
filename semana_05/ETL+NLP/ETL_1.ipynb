{
 "cells": [
  {
   "cell_type": "markdown",
   "id": "sporting-delta",
   "metadata": {},
   "source": [
    "# <center>📦🧹🔍ETL 🔍🧹📦<center>"
   ]
  },
  {
   "cell_type": "markdown",
   "id": "different-luxembourg",
   "metadata": {
    "toc": true
   },
   "source": [
    "<h1>Table of Contents<span class=\"tocSkip\"></span></h1>\n",
    "<div class=\"toc\"><ul class=\"toc-item\"><li><span><a href=\"#¿Qué-significa-ETL?\" data-toc-modified-id=\"¿Qué-significa-ETL?-1\"><span class=\"toc-item-num\">1&nbsp;&nbsp;</span>¿Qué significa ETL?</a></span></li><li><span><a href=\"#¿Qué-vamos-a-hacer?\" data-toc-modified-id=\"¿Qué-vamos-a-hacer?-2\"><span class=\"toc-item-num\">2&nbsp;&nbsp;</span>¿Qué vamos a hacer?</a></span></li><li><span><a href=\"#Importamos-librerías\" data-toc-modified-id=\"Importamos-librerías-3\"><span class=\"toc-item-num\">3&nbsp;&nbsp;</span>Importamos librerías</a></span></li><li><span><a href=\"#Misión-1\" data-toc-modified-id=\"Misión-1-4\"><span class=\"toc-item-num\">4&nbsp;&nbsp;</span>Misión 1</a></span></li><li><span><a href=\"#Token-spotify\" data-toc-modified-id=\"Token-spotify-5\"><span class=\"toc-item-num\">5&nbsp;&nbsp;</span>Token spotify</a></span></li><li><span><a href=\"#Salvamos-el-token-en-nuestro-.env\" data-toc-modified-id=\"Salvamos-el-token-en-nuestro-.env-6\"><span class=\"toc-item-num\">6&nbsp;&nbsp;</span>Salvamos el token en nuestro .env</a></span></li><li><span><a href=\"#📚-Recap-hasta-ahora:\" data-toc-modified-id=\"📚-Recap-hasta-ahora:-7\"><span class=\"toc-item-num\">7&nbsp;&nbsp;</span>📚 Recap hasta ahora:</a></span></li><li><span><a href=\"#Misión-2\" data-toc-modified-id=\"Misión-2-8\"><span class=\"toc-item-num\">8&nbsp;&nbsp;</span>Misión 2</a></span><ul class=\"toc-item\"><li><span><a href=\"#Llamada-a-API-Spotify\" data-toc-modified-id=\"Llamada-a-API-Spotify-8.1\"><span class=\"toc-item-num\">8.1&nbsp;&nbsp;</span>Llamada a API Spotify</a></span><ul class=\"toc-item\"><li><span><a href=\"#Necesitamos-token-y-headers\" data-toc-modified-id=\"Necesitamos-token-y-headers-8.1.1\"><span class=\"toc-item-num\">8.1.1&nbsp;&nbsp;</span>Necesitamos token y headers</a></span></li><li><span><a href=\"#Url-+-endpoint\" data-toc-modified-id=\"Url-+-endpoint-8.1.2\"><span class=\"toc-item-num\">8.1.2&nbsp;&nbsp;</span>Url + endpoint</a></span></li><li><span><a href=\"#Hacemos-la-request\" data-toc-modified-id=\"Hacemos-la-request-8.1.3\"><span class=\"toc-item-num\">8.1.3&nbsp;&nbsp;</span>Hacemos la request</a></span></li></ul></li><li><span><a href=\"#Vamos-a-intentar-conseguir-TODAS-las-canciones\" data-toc-modified-id=\"Vamos-a-intentar-conseguir-TODAS-las-canciones-8.2\"><span class=\"toc-item-num\">8.2&nbsp;&nbsp;</span>Vamos a intentar conseguir TODAS las canciones</a></span><ul class=\"toc-item\"><li><span><a href=\"#Recuperamos-función-extraetodo-de-foursquare-¿os-acordáis?\" data-toc-modified-id=\"Recuperamos-función-extraetodo-de-foursquare-¿os-acordáis?-8.2.1\"><span class=\"toc-item-num\">8.2.1&nbsp;&nbsp;</span>Recuperamos función extraetodo de foursquare ¿os acordáis?</a></span></li></ul></li><li><span><a href=\"#¡Nos-lo-llevamos-a-Pandas!-🐼\" data-toc-modified-id=\"¡Nos-lo-llevamos-a-Pandas!-🐼-8.3\"><span class=\"toc-item-num\">8.3&nbsp;&nbsp;</span>¡Nos lo llevamos a Pandas! 🐼</a></span></li></ul></li><li><span><a href=\"#Automatizamos-procesos\" data-toc-modified-id=\"Automatizamos-procesos-9\"><span class=\"toc-item-num\">9&nbsp;&nbsp;</span>Automatizamos procesos</a></span></li><li><span><a href=\"#Misión-3\" data-toc-modified-id=\"Misión-3-10\"><span class=\"toc-item-num\">10&nbsp;&nbsp;</span>Misión 3</a></span></li><li><span><a href=\"#Extraemos-letras-de-las-canciones!\" data-toc-modified-id=\"Extraemos-letras-de-las-canciones!-11\"><span class=\"toc-item-num\">11&nbsp;&nbsp;</span>Extraemos letras de las canciones!</a></span><ul class=\"toc-item\"><li><span><a href=\"#Necesitamos-crear-las-KEYs-para-esta-librería\" data-toc-modified-id=\"Necesitamos-crear-las-KEYs-para-esta-librería-11.1\"><span class=\"toc-item-num\">11.1&nbsp;&nbsp;</span>Necesitamos crear las KEYs para esta librería</a></span></li><li><span><a href=\"#Como-la-librería-necesita-las-keys,-las-sacamos-del-.env\" data-toc-modified-id=\"Como-la-librería-necesita-las-keys,-las-sacamos-del-.env-11.2\"><span class=\"toc-item-num\">11.2&nbsp;&nbsp;</span>Como la librería necesita las keys, las sacamos del .env</a></span></li><li><span><a href=\"#La-guardamos-en-una-variable\" data-toc-modified-id=\"La-guardamos-en-una-variable-11.3\"><span class=\"toc-item-num\">11.3&nbsp;&nbsp;</span>La guardamos en una variable</a></span></li><li><span><a href=\"#Buscamos-una-letra\" data-toc-modified-id=\"Buscamos-una-letra-11.4\"><span class=\"toc-item-num\">11.4&nbsp;&nbsp;</span>Buscamos una letra</a></span></li><li><span><a href=\"#¡¡Muchas-letras!!\" data-toc-modified-id=\"¡¡Muchas-letras!!-11.5\"><span class=\"toc-item-num\">11.5&nbsp;&nbsp;</span>¡¡Muchas letras!!</a></span></li><li><span><a href=\"#Arrelgamos-los-User-que-están-mal\" data-toc-modified-id=\"Arrelgamos-los-User-que-están-mal-11.6\"><span class=\"toc-item-num\">11.6&nbsp;&nbsp;</span>Arrelgamos los User que están mal</a></span></li><li><span><a href=\"#Creamos-una-columna-nueva-con-las-letras\" data-toc-modified-id=\"Creamos-una-columna-nueva-con-las-letras-11.7\"><span class=\"toc-item-num\">11.7&nbsp;&nbsp;</span>Creamos una columna nueva con las letras</a></span></li></ul></li></ul></div>"
   ]
  },
  {
   "cell_type": "markdown",
   "id": "sixth-transparency",
   "metadata": {},
   "source": [
    "![data](https://media.giphy.com/media/xT9C25UNTwfZuk85WP/giphy.gif)"
   ]
  },
  {
   "cell_type": "markdown",
   "id": "fa827705",
   "metadata": {},
   "source": [
    "# Proceso a seguir durante los 3 jupyter notebook\n",
    "**Jupyter ETL1**\n",
    "* Consigo el token de spotify\n",
    "* Hago request a la API:\n",
    "    - Ojo si las listas tienen más de 100 canciones\n",
    "    - Funciones que automatizan el proceso\n",
    "* Consigo las letras de las canciones (ENRIQUECER) con otra librería\n",
    "\n",
    "**Jupyter ETL2**\n",
    "* Me conecto con las bases de datos\n",
    "* Creo mi esquema en MySQL\n",
    "* Limpio un poquito los datos\n",
    "* Funciones de check antes de meter mis datos en la base de datos\n",
    "* Cargo mis datos a MySQL\n",
    "* Exporto json para cargarlo en MongoDB\n",
    "\n",
    "**Jupyter NLP** (extra workshop)\n",
    "* Cojo los datos que quiero de las bases de datos \n",
    "* Tokenizo y quito stop words \n",
    "* Hago Sentiment Analysis con las librerías\n",
    "* Saco conclusiones"
   ]
  },
  {
   "cell_type": "markdown",
   "id": "placed-williams",
   "metadata": {},
   "source": [
    "## ¿Qué significa ETL?\n",
    "**Extract**, **Transform** and **Load** es el proceso que permite a las organizaciones mover datos desde múltiples fuentes, reformatearlos y limpiarlos, y cargarlos en otra base de datos, data mart, o data warehouse para analizar, o en otro sistema operacional para apoyar un proceso de negocio."
   ]
  },
  {
   "cell_type": "markdown",
   "id": "differential-arkansas",
   "metadata": {},
   "source": [
    "## ¿Qué vamos a hacer?\n",
    "- Aprender a usar la API de spotify con Oauth\n",
    "- Extraer datos de dicha API\n",
    "- Limpiarlos y transformarlos\n",
    "- Enriquecerlos\n",
    "- Guardarlos en diferentes bases de datos\n",
    "- Hacer queries para hacer análisis de sentimientos con librerías NLP"
   ]
  },
  {
   "cell_type": "markdown",
   "id": "hungry-victoria",
   "metadata": {},
   "source": [
    "## Importamos librerías"
   ]
  },
  {
   "cell_type": "code",
   "execution_count": 116,
   "id": "statutory-shirt",
   "metadata": {},
   "outputs": [
    {
     "data": {
      "text/plain": [
       "True"
      ]
     },
     "execution_count": 116,
     "metadata": {},
     "output_type": "execute_result"
    }
   ],
   "source": [
    "import os\n",
    "import json\n",
    "import requests\n",
    "from dotenv import load_dotenv\n",
    "load_dotenv()"
   ]
  },
  {
   "cell_type": "markdown",
   "id": "polish-madison",
   "metadata": {},
   "source": [
    "## Misión 1\n",
    " # <center> Obtener el token de Spotify para hacer uso de su API 🗝</center> "
   ]
  },
  {
   "cell_type": "markdown",
   "id": "injured-reset",
   "metadata": {},
   "source": [
    "## Token spotify\n",
    "https://developer.spotify.com/dashboard/login     \n",
    "Necesitamos tener los token CLIENT_ID y SECRET_ID, y los guardamos en el .env. \n",
    "Para llamar a la aapi de spotify y conseguir el token que nos va a permitir hacer request, vamos a tener que guardar unas cuantas variables.   \n",
    "Leed la [Documentación](https://developer.spotify.com/documentation/general/guides/authorization-guide/)"
   ]
  },
  {
   "cell_type": "code",
   "execution_count": 7,
   "id": "tracked-performance",
   "metadata": {},
   "outputs": [
    {
     "name": "stderr",
     "output_type": "stream",
     "text": [
      "/usr/local/Caskroom/miniconda/base/envs/ironhack/lib/python3.8/site-packages/urllib3/connectionpool.py:1013: InsecureRequestWarning: Unverified HTTPS request is being made to host 'accounts.spotify.com'. Adding certificate verification is strongly advised. See: https://urllib3.readthedocs.io/en/1.26.x/advanced-usage.html#ssl-warnings\n",
      "  warnings.warn(\n"
     ]
    }
   ],
   "source": [
    "# Autenticación\n",
    "CLIENT_ID=os.getenv(\"CLIENT_ID\")\n",
    "CLIENT_SECRET=os.getenv(\"CLIENT_SECRET\")\n",
    "\n",
    "#Scope del token\n",
    "body_params={'grant_type':'client_credentials'}\n",
    "\n",
    "\n",
    "#Url a la que pedimos el token\n",
    "url='https://accounts.spotify.com/api/token'\n",
    "\n",
    "#La request\n",
    "response = requests.post(url, data=body_params, auth = (CLIENT_ID, CLIENT_SECRET), verify=False)"
   ]
  },
  {
   "cell_type": "code",
   "execution_count": 27,
   "id": "southwest-courtesy",
   "metadata": {},
   "outputs": [],
   "source": [
    "#response.content"
   ]
  },
  {
   "cell_type": "code",
   "execution_count": 15,
   "id": "55137bcb",
   "metadata": {},
   "outputs": [],
   "source": [
    "#response.json()[\"access_token\"]"
   ]
  },
  {
   "cell_type": "code",
   "execution_count": 12,
   "id": "corrected-macintosh",
   "metadata": {},
   "outputs": [],
   "source": [
    "token = json.loads(response.text)"
   ]
  },
  {
   "cell_type": "markdown",
   "id": "protective-abuse",
   "metadata": {},
   "source": [
    "Vamos a escribir todo esto en una función porque, como hemos visto, el token expira y así podemos llamarla cuando queramos y reutilizarla. ¡Para esto sirven las funciones!"
   ]
  },
  {
   "cell_type": "code",
   "execution_count": 17,
   "id": "final-silence",
   "metadata": {},
   "outputs": [],
   "source": [
    "def spotifyToken():\n",
    "    \"\"\"\n",
    "    Esta función hace una request a spotify para conseguir \n",
    "    el token que vamos a necesitar para hacer request y que nos dé información la api\n",
    "    \"\"\"\n",
    "    # Autenticación\n",
    "    CLIENT_ID=os.getenv(\"CLIENT_ID\")\n",
    "    CLIENT_SECRET=os.getenv(\"CLIENT_SECRET\")\n",
    "    #Scope del token\n",
    "    body_params={'grant_type':'client_credentials'}\n",
    "\n",
    "\n",
    "    #Url a la que pedimos el token\n",
    "    url='https://accounts.spotify.com/api/token'\n",
    "\n",
    "    #La request\n",
    "    response = requests.post(url, data=body_params, auth = (CLIENT_ID, CLIENT_SECRET), verify=False).json()\n",
    "    return response[\"access_token\"]"
   ]
  },
  {
   "cell_type": "code",
   "execution_count": 31,
   "id": "dirty-cornell",
   "metadata": {},
   "outputs": [
    {
     "name": "stderr",
     "output_type": "stream",
     "text": [
      "/usr/local/Caskroom/miniconda/base/envs/ironhack/lib/python3.8/site-packages/urllib3/connectionpool.py:1013: InsecureRequestWarning: Unverified HTTPS request is being made to host 'accounts.spotify.com'. Adding certificate verification is strongly advised. See: https://urllib3.readthedocs.io/en/1.26.x/advanced-usage.html#ssl-warnings\n",
      "  warnings.warn(\n"
     ]
    }
   ],
   "source": [
    "token = spotifyToken()"
   ]
  },
  {
   "cell_type": "code",
   "execution_count": 33,
   "id": "supreme-proportion",
   "metadata": {},
   "outputs": [],
   "source": [
    "#token"
   ]
  },
  {
   "cell_type": "markdown",
   "id": "atmospheric-source",
   "metadata": {},
   "source": [
    "## Salvamos el token en nuestro .env"
   ]
  },
  {
   "cell_type": "code",
   "execution_count": 22,
   "id": "corresponding-yellow",
   "metadata": {},
   "outputs": [],
   "source": [
    "file = open(\"../.env\",\"a\")\n",
    "file.write(\"\\n\")\n",
    "file.write(f\"token_spotify={token}\")\n",
    "file.close()"
   ]
  },
  {
   "cell_type": "markdown",
   "id": "republican-carry",
   "metadata": {},
   "source": [
    "Hacemos unan función que hace lo mismo para poder reutilizarla"
   ]
  },
  {
   "cell_type": "code",
   "execution_count": 23,
   "id": "obvious-diary",
   "metadata": {},
   "outputs": [],
   "source": [
    "def salva_env(nombre,key):\n",
    "    file = open(\"../.env\",\"a\")\n",
    "    file.write(\"\\n\")\n",
    "    file.write(f\"{nombre}={key}\")\n",
    "    file.close()"
   ]
  },
  {
   "cell_type": "code",
   "execution_count": 25,
   "id": "several-conservative",
   "metadata": {},
   "outputs": [
    {
     "name": "stderr",
     "output_type": "stream",
     "text": [
      "/usr/local/Caskroom/miniconda/base/envs/ironhack/lib/python3.8/site-packages/urllib3/connectionpool.py:1013: InsecureRequestWarning: Unverified HTTPS request is being made to host 'accounts.spotify.com'. Adding certificate verification is strongly advised. See: https://urllib3.readthedocs.io/en/1.26.x/advanced-usage.html#ssl-warnings\n",
      "  warnings.warn(\n"
     ]
    }
   ],
   "source": [
    "salva_env(\"spotify\", spotifyToken())"
   ]
  },
  {
   "cell_type": "markdown",
   "id": "brief-adapter",
   "metadata": {},
   "source": [
    "## 📚 Recap hasta ahora:\n",
    "\n",
    "**Lo que hemos hecho**\n",
    "- 1. Conseguimos nuestra autentificación de Spotify\n",
    "- 2. Con eso, conseguimos nuestro `token` de spotify\n",
    "- 3. Guardamos el `token` en el .env <br>\n",
    "<br>\n",
    "\n",
    "**Para recordar**\n",
    "\n",
    "- **CLIENT_ID** & **CLIENT_SECRET** es sólo un medio para obtener el `token`, no la autenticidad en sí.\n",
    "- El `token` expira"
   ]
  },
  {
   "cell_type": "markdown",
   "id": "atlantic-disclosure",
   "metadata": {},
   "source": [
    " ## Misión 2\n",
    " # <center> Obtener la lista de canciones y artistas de la API de Spotify 🔥</center>\n",
    "Pero no vayamos a olvidarnos de la [documentación](https://developer.spotify.com/console/)   \n",
    "Lo primero que vamos a hacer es una llamada a la API    \n",
    "Recordemos la sintaxis:       \n",
    "\n",
    "       \n",
    "`request.get(url, headers)`"
   ]
  },
  {
   "cell_type": "markdown",
   "id": "designing-grant",
   "metadata": {},
   "source": [
    "### Llamada a API Spotify"
   ]
  },
  {
   "cell_type": "markdown",
   "id": "stopped-intermediate",
   "metadata": {},
   "source": [
    "#### Necesitamos token y headers"
   ]
  },
  {
   "cell_type": "code",
   "execution_count": 59,
   "id": "continuous-language",
   "metadata": {},
   "outputs": [],
   "source": [
    "headers = {'Authorization': f\"Bearer {token}\"}"
   ]
  },
  {
   "cell_type": "markdown",
   "id": "compressed-annotation",
   "metadata": {},
   "source": [
    "Sacamos el ID de la lista del enlace de compartir que nos sale en spotify (Enlace de la canción)\n",
    "https://open.spotify.com/playlist/5sB0ax3cmVacFjgkZMLPWx?si=c67e9a4629214587\n",
    "\n",
    "https://open.spotify.com/track/5Q27cpHUDQPttnB0xH7oBh?si=0f3cd50faf064282"
   ]
  },
  {
   "cell_type": "markdown",
   "id": "exterior-gibraltar",
   "metadata": {},
   "source": [
    "#### Url + endpoint"
   ]
  },
  {
   "cell_type": "code",
   "execution_count": 39,
   "id": "operating-fleece",
   "metadata": {},
   "outputs": [],
   "source": [
    "url_base = \"https://api.spotify.com/v1/playlists/\""
   ]
  },
  {
   "cell_type": "code",
   "execution_count": 40,
   "id": "a1f819f0",
   "metadata": {},
   "outputs": [],
   "source": [
    "id_lista = \"5sB0ax3cmVacFjgkZMLPWx\""
   ]
  },
  {
   "cell_type": "markdown",
   "id": "cordless-queensland",
   "metadata": {},
   "source": [
    "El ID de la lista de la cual queremos hacer la request"
   ]
  },
  {
   "cell_type": "code",
   "execution_count": 41,
   "id": "experienced-fancy",
   "metadata": {},
   "outputs": [],
   "source": [
    "query = url_base + id_lista"
   ]
  },
  {
   "cell_type": "markdown",
   "id": "wanted-bradford",
   "metadata": {},
   "source": [
    "#### Hacemos la request"
   ]
  },
  {
   "cell_type": "code",
   "execution_count": 52,
   "id": "signed-vampire",
   "metadata": {},
   "outputs": [],
   "source": [
    "response = requests.get(query, headers=headers).json()"
   ]
  },
  {
   "cell_type": "code",
   "execution_count": 53,
   "id": "honest-partner",
   "metadata": {},
   "outputs": [],
   "source": [
    "#response"
   ]
  },
  {
   "cell_type": "markdown",
   "id": "a3c2ca5b",
   "metadata": {},
   "source": [
    "### Vamos a intentar conseguir TODAS las canciones"
   ]
  },
  {
   "cell_type": "code",
   "execution_count": 65,
   "id": "7a936ddb",
   "metadata": {},
   "outputs": [],
   "source": [
    "headers2 = {'Authorization': f\"Bearer {token}\"}"
   ]
  },
  {
   "cell_type": "code",
   "execution_count": 66,
   "id": "02cc0a75",
   "metadata": {},
   "outputs": [],
   "source": [
    "url2 = \"https://api.spotify.com/v1/playlists/5sB0ax3cmVacFjgkZMLPWx/tracks?offset=99\""
   ]
  },
  {
   "cell_type": "code",
   "execution_count": 67,
   "id": "5c472b5d",
   "metadata": {},
   "outputs": [],
   "source": [
    "resp_2 = requests.get(url2, headers=headers2).json()"
   ]
  },
  {
   "cell_type": "code",
   "execution_count": 68,
   "id": "bc78d415",
   "metadata": {},
   "outputs": [],
   "source": [
    "#resp_2[\"tracks\"][\"\"]"
   ]
  },
  {
   "cell_type": "raw",
   "id": "b48f7708",
   "metadata": {},
   "source": [
    "### Nos enfrentamos al json de la response"
   ]
  },
  {
   "cell_type": "code",
   "execution_count": 54,
   "id": "present-township",
   "metadata": {},
   "outputs": [],
   "source": [
    "import pyjsonviewer"
   ]
  },
  {
   "cell_type": "code",
   "execution_count": 111,
   "id": "pretty-people",
   "metadata": {},
   "outputs": [],
   "source": [
    "pyjsonviewer.view_data(json_data=response)"
   ]
  },
  {
   "cell_type": "code",
   "execution_count": null,
   "id": "vocational-tract",
   "metadata": {},
   "outputs": [],
   "source": [
    "# Gracias a esta librería vemos que la información de cada canción está en \"tracks/items\""
   ]
  },
  {
   "cell_type": "markdown",
   "id": "straight-burton",
   "metadata": {},
   "source": [
    "#### Recuperamos función extraetodo de foursquare ¿os acordáis? "
   ]
  },
  {
   "cell_type": "code",
   "execution_count": 70,
   "id": "8f45b78d",
   "metadata": {},
   "outputs": [],
   "source": [
    "from functools import reduce\n",
    "import operator\n",
    "def getFromDict(diccionario,mapa):\n",
    "    return reduce(operator.getitem,mapa,diccionario)"
   ]
  },
  {
   "cell_type": "code",
   "execution_count": 92,
   "id": "607e1783",
   "metadata": {},
   "outputs": [],
   "source": [
    "def extraetodo(json):\n",
    "    comun = {\"id_lista\": [\"id\"], \"nombre_lista\": [\"name\"]}\n",
    "    mapas = {\"nombre\": [\"track\", \"name\"], \"ironhacker\": [\"added_by\", \"id\"]}\n",
    "    total = []\n",
    "    for elemento in json[\"tracks\"][\"items\"]:\n",
    "        track = {key:getFromDict(elemento, value) for key, value in mapas.items()}\n",
    "        artistas = getFromDict(elemento, [\"track\", \"artists\"])\n",
    "        track[\"artista\"] = [diccionario[\"name\"] for diccionario in artistas]\n",
    "        track.update({key:getFromDict(json, value) for key,value in comun.items()})\n",
    "        total.append(track)\n",
    "    return total"
   ]
  },
  {
   "cell_type": "code",
   "execution_count": 93,
   "id": "revolutionary-brunei",
   "metadata": {},
   "outputs": [
    {
     "data": {
      "text/plain": [
       "[{'external_urls': {'spotify': 'https://open.spotify.com/artist/5TYxZTjIPqKM8K8NuP9woO'},\n",
       "  'href': 'https://api.spotify.com/v1/artists/5TYxZTjIPqKM8K8NuP9woO',\n",
       "  'id': '5TYxZTjIPqKM8K8NuP9woO',\n",
       "  'name': 'C. Tangana',\n",
       "  'type': 'artist',\n",
       "  'uri': 'spotify:artist:5TYxZTjIPqKM8K8NuP9woO'},\n",
       " {'external_urls': {'spotify': 'https://open.spotify.com/artist/5TDssiSO1YPd3BINGZx3XP'},\n",
       "  'href': 'https://api.spotify.com/v1/artists/5TDssiSO1YPd3BINGZx3XP',\n",
       "  'id': '5TDssiSO1YPd3BINGZx3XP',\n",
       "  'name': 'Kiko Veneno',\n",
       "  'type': 'artist',\n",
       "  'uri': 'spotify:artist:5TDssiSO1YPd3BINGZx3XP'}]"
      ]
     },
     "execution_count": 93,
     "metadata": {},
     "output_type": "execute_result"
    }
   ],
   "source": [
    "response[\"tracks\"][\"items\"][32][\"track\"][\"artists\"]"
   ]
  },
  {
   "cell_type": "markdown",
   "id": "376a396a",
   "metadata": {},
   "source": [
    "Nos hemos dado cuenta que el segundo json era diferente por el offset y no nos daba ni los datos de la lista ni tenía el apartado \"tracks\" por tanto, he tuneado la función"
   ]
  },
  {
   "cell_type": "code",
   "execution_count": 94,
   "id": "696dcaeb",
   "metadata": {},
   "outputs": [],
   "source": [
    "def extraetodo2(json_total, json_offset):\n",
    "    comun = {\"id_lista\": [\"id\"], \"nombre_lista\": [\"name\"]}\n",
    "    mapas = {\"nombre\": [\"track\", \"name\"], \"ironhacker\": [\"added_by\", \"id\"]}\n",
    "    total = []\n",
    "    for elemento in json_offset[\"items\"]:\n",
    "        track = {key:getFromDict(elemento, value) for key, value in mapas.items()}\n",
    "        artistas = getFromDict(elemento, [\"track\", \"artists\"])\n",
    "        track[\"artista\"] = [diccionario[\"name\"] for diccionario in artistas]\n",
    "        track.update({key:getFromDict(json_total, value) for key,value in comun.items()})\n",
    "        total.append(track)\n",
    "    return total"
   ]
  },
  {
   "cell_type": "code",
   "execution_count": 97,
   "id": "bce50216",
   "metadata": {},
   "outputs": [],
   "source": [
    "#extraetodo2(response, resp_2)"
   ]
  },
  {
   "cell_type": "markdown",
   "id": "higher-correspondence",
   "metadata": {},
   "source": [
    "### ¡Nos lo llevamos a Pandas! 🐼\n",
    "¿Cómo? Easy...."
   ]
  },
  {
   "cell_type": "code",
   "execution_count": 99,
   "id": "3bb7d21f",
   "metadata": {},
   "outputs": [],
   "source": [
    "datos_1 = extraetodo(response)"
   ]
  },
  {
   "cell_type": "code",
   "execution_count": 100,
   "id": "a81a6b18",
   "metadata": {},
   "outputs": [],
   "source": [
    "datos_1.extend(extraetodo2(response, resp_2))"
   ]
  },
  {
   "cell_type": "code",
   "execution_count": 101,
   "id": "732e2397",
   "metadata": {},
   "outputs": [
    {
     "data": {
      "text/plain": [
       "188"
      ]
     },
     "execution_count": 101,
     "metadata": {},
     "output_type": "execute_result"
    }
   ],
   "source": [
    "len(datos_1)"
   ]
  },
  {
   "cell_type": "code",
   "execution_count": 83,
   "id": "found-retail",
   "metadata": {},
   "outputs": [],
   "source": [
    "import pandas as pd"
   ]
  },
  {
   "cell_type": "code",
   "execution_count": 103,
   "id": "experimental-biotechnology",
   "metadata": {},
   "outputs": [
    {
     "data": {
      "text/html": [
       "<div>\n",
       "<style scoped>\n",
       "    .dataframe tbody tr th:only-of-type {\n",
       "        vertical-align: middle;\n",
       "    }\n",
       "\n",
       "    .dataframe tbody tr th {\n",
       "        vertical-align: top;\n",
       "    }\n",
       "\n",
       "    .dataframe thead th {\n",
       "        text-align: right;\n",
       "    }\n",
       "</style>\n",
       "<table border=\"1\" class=\"dataframe\">\n",
       "  <thead>\n",
       "    <tr style=\"text-align: right;\">\n",
       "      <th></th>\n",
       "      <th>nombre</th>\n",
       "      <th>ironhacker</th>\n",
       "      <th>artista</th>\n",
       "      <th>id_lista</th>\n",
       "      <th>nombre_lista</th>\n",
       "    </tr>\n",
       "  </thead>\n",
       "  <tbody>\n",
       "    <tr>\n",
       "      <th>183</th>\n",
       "      <td>Tiburon</td>\n",
       "      <td>lm3nw07nc8ibzjy9d2c43870v</td>\n",
       "      <td>[Proyecto Uno]</td>\n",
       "      <td>5sB0ax3cmVacFjgkZMLPWx</td>\n",
       "      <td>Ironhack 🚀🚀🚀</td>\n",
       "    </tr>\n",
       "    <tr>\n",
       "      <th>184</th>\n",
       "      <td>Magic Dance</td>\n",
       "      <td>06uk7op5esy3r1syhomrkoisw</td>\n",
       "      <td>[David Bowie]</td>\n",
       "      <td>5sB0ax3cmVacFjgkZMLPWx</td>\n",
       "      <td>Ironhack 🚀🚀🚀</td>\n",
       "    </tr>\n",
       "    <tr>\n",
       "      <th>185</th>\n",
       "      <td>Born To Hand Jive - From “Grease”</td>\n",
       "      <td>lm3nw07nc8ibzjy9d2c43870v</td>\n",
       "      <td>[Sha Na Na]</td>\n",
       "      <td>5sB0ax3cmVacFjgkZMLPWx</td>\n",
       "      <td>Ironhack 🚀🚀🚀</td>\n",
       "    </tr>\n",
       "    <tr>\n",
       "      <th>186</th>\n",
       "      <td>Blue (Da Ba Dee)</td>\n",
       "      <td>lm3nw07nc8ibzjy9d2c43870v</td>\n",
       "      <td>[Hit The Electro Beat]</td>\n",
       "      <td>5sB0ax3cmVacFjgkZMLPWx</td>\n",
       "      <td>Ironhack 🚀🚀🚀</td>\n",
       "    </tr>\n",
       "    <tr>\n",
       "      <th>187</th>\n",
       "      <td>If Ever I Would Leave You</td>\n",
       "      <td>lm3nw07nc8ibzjy9d2c43870v</td>\n",
       "      <td>[Robert Goulet]</td>\n",
       "      <td>5sB0ax3cmVacFjgkZMLPWx</td>\n",
       "      <td>Ironhack 🚀🚀🚀</td>\n",
       "    </tr>\n",
       "  </tbody>\n",
       "</table>\n",
       "</div>"
      ],
      "text/plain": [
       "                                nombre                 ironhacker  \\\n",
       "183                            Tiburon  lm3nw07nc8ibzjy9d2c43870v   \n",
       "184                        Magic Dance  06uk7op5esy3r1syhomrkoisw   \n",
       "185  Born To Hand Jive - From “Grease”  lm3nw07nc8ibzjy9d2c43870v   \n",
       "186                   Blue (Da Ba Dee)  lm3nw07nc8ibzjy9d2c43870v   \n",
       "187          If Ever I Would Leave You  lm3nw07nc8ibzjy9d2c43870v   \n",
       "\n",
       "                    artista                id_lista  nombre_lista  \n",
       "183          [Proyecto Uno]  5sB0ax3cmVacFjgkZMLPWx  Ironhack 🚀🚀🚀  \n",
       "184           [David Bowie]  5sB0ax3cmVacFjgkZMLPWx  Ironhack 🚀🚀🚀  \n",
       "185             [Sha Na Na]  5sB0ax3cmVacFjgkZMLPWx  Ironhack 🚀🚀🚀  \n",
       "186  [Hit The Electro Beat]  5sB0ax3cmVacFjgkZMLPWx  Ironhack 🚀🚀🚀  \n",
       "187         [Robert Goulet]  5sB0ax3cmVacFjgkZMLPWx  Ironhack 🚀🚀🚀  "
      ]
     },
     "execution_count": 103,
     "metadata": {},
     "output_type": "execute_result"
    }
   ],
   "source": [
    "data = pd.DataFrame(datos_1)\n",
    "data.tail()"
   ]
  },
  {
   "cell_type": "markdown",
   "id": "deluxe-geneva",
   "metadata": {},
   "source": [
    "## Automatizamos procesos\n",
    "Todo lo que vamos escribiendo en líneas de código, podemos hacerlo con funciones, y que estas funciones nos sirvan para poder hacer el mismo proceso con un par de funciones"
   ]
  },
  {
   "cell_type": "code",
   "execution_count": 104,
   "id": "loose-criminal",
   "metadata": {},
   "outputs": [],
   "source": [
    "def spotifyPlaylist(lista_id):\n",
    "    '''Esto devolverá la información de una determinada lista de reproducción de Spotify.\n",
    "    Args: playlist_id como string\n",
    "    Devuelve: json'''\n",
    "    token = spotifyToken()\n",
    "    headers = {'Authorization': f\"Bearer {token}\"}\n",
    "    url_base = \"https://api.spotify.com/v1/\"\n",
    "    endpoint=f\"playlists/{lista_id}\"\n",
    "    query = url_base + endpoint\n",
    "    response = requests.get(query, headers=headers).json()\n",
    "    return response"
   ]
  },
  {
   "cell_type": "code",
   "execution_count": 105,
   "id": "accomplished-telephone",
   "metadata": {},
   "outputs": [],
   "source": [
    "def extraetodo(json):\n",
    "    comun = {\"id_lista\": [\"id\"], \"nombre_lista\": [\"name\"]}\n",
    "    mapas = {\"nombre\": [\"track\", \"name\"], \"ironhacker\": [\"added_by\", \"id\"]}\n",
    "    total = []\n",
    "    for elemento in json[\"tracks\"][\"items\"]:\n",
    "        track = {key:getFromDict(elemento, value) for key, value in mapas.items()}\n",
    "        artistas = getFromDict(elemento, [\"track\", \"artists\"])\n",
    "        track[\"artista\"] = [diccionario[\"name\"] for diccionario in artistas]\n",
    "        track.update({key:getFromDict(json, value) for key,value in comun.items()})\n",
    "        total.append(track)\n",
    "    return pd.DataFrame(total)"
   ]
  },
  {
   "cell_type": "code",
   "execution_count": 106,
   "id": "fuzzy-kazakhstan",
   "metadata": {},
   "outputs": [],
   "source": [
    "def makeAll(playlist_id):\n",
    "    \"\"\"\n",
    "    Utiliza las dos funciones anteriores para recoger la información de la lista\n",
    "    y después devuelve el dataframe.\n",
    "    \"\"\"\n",
    "    playlist = spotifyPlaylist(playlist_id)\n",
    "    return extraetodo(playlist)"
   ]
  },
  {
   "cell_type": "code",
   "execution_count": null,
   "id": "a5e53fea",
   "metadata": {},
   "outputs": [],
   "source": [
    "https://open.spotify.com/playlist/5ob5XtHtsi29RUYlFLxnii?si=ba021e4b9a4941c4"
   ]
  },
  {
   "cell_type": "code",
   "execution_count": 109,
   "id": "found-zoning",
   "metadata": {},
   "outputs": [
    {
     "name": "stderr",
     "output_type": "stream",
     "text": [
      "/usr/local/Caskroom/miniconda/base/envs/ironhack/lib/python3.8/site-packages/urllib3/connectionpool.py:1013: InsecureRequestWarning: Unverified HTTPS request is being made to host 'accounts.spotify.com'. Adding certificate verification is strongly advised. See: https://urllib3.readthedocs.io/en/1.26.x/advanced-usage.html#ssl-warnings\n",
      "  warnings.warn(\n"
     ]
    }
   ],
   "source": [
    "lista = makeAll(\"5ob5XtHtsi29RUYlFLxnii\")"
   ]
  },
  {
   "cell_type": "code",
   "execution_count": 110,
   "id": "assisted-detection",
   "metadata": {},
   "outputs": [
    {
     "data": {
      "text/html": [
       "<div>\n",
       "<style scoped>\n",
       "    .dataframe tbody tr th:only-of-type {\n",
       "        vertical-align: middle;\n",
       "    }\n",
       "\n",
       "    .dataframe tbody tr th {\n",
       "        vertical-align: top;\n",
       "    }\n",
       "\n",
       "    .dataframe thead th {\n",
       "        text-align: right;\n",
       "    }\n",
       "</style>\n",
       "<table border=\"1\" class=\"dataframe\">\n",
       "  <thead>\n",
       "    <tr style=\"text-align: right;\">\n",
       "      <th></th>\n",
       "      <th>nombre</th>\n",
       "      <th>ironhacker</th>\n",
       "      <th>artista</th>\n",
       "      <th>id_lista</th>\n",
       "      <th>nombre_lista</th>\n",
       "    </tr>\n",
       "  </thead>\n",
       "  <tbody>\n",
       "    <tr>\n",
       "      <th>0</th>\n",
       "      <td>Rakata - Remix</td>\n",
       "      <td>ferqwertyuiop</td>\n",
       "      <td>[Moncho Chavea, Yotuel, Original Elias, C de C...</td>\n",
       "      <td>5ob5XtHtsi29RUYlFLxnii</td>\n",
       "      <td>casaTíaMaría</td>\n",
       "    </tr>\n",
       "    <tr>\n",
       "      <th>1</th>\n",
       "      <td>Seven Nation Army (feat. KOYSINA)</td>\n",
       "      <td>ferqwertyuiop</td>\n",
       "      <td>[Strange Fruits Music, DMNDS, Koosen, KOYSINA]</td>\n",
       "      <td>5ob5XtHtsi29RUYlFLxnii</td>\n",
       "      <td>casaTíaMaría</td>\n",
       "    </tr>\n",
       "    <tr>\n",
       "      <th>2</th>\n",
       "      <td>Calabria (feat. Lujavo &amp; Nito-Onna)</td>\n",
       "      <td>ferqwertyuiop</td>\n",
       "      <td>[Strange Fruits Music, DMNDS, Fallen Roses, Lu...</td>\n",
       "      <td>5ob5XtHtsi29RUYlFLxnii</td>\n",
       "      <td>casaTíaMaría</td>\n",
       "    </tr>\n",
       "    <tr>\n",
       "      <th>3</th>\n",
       "      <td>Tengo Un Trato - Remastered 2015</td>\n",
       "      <td>ferqwertyuiop</td>\n",
       "      <td>[Mala Rodríguez]</td>\n",
       "      <td>5ob5XtHtsi29RUYlFLxnii</td>\n",
       "      <td>casaTíaMaría</td>\n",
       "    </tr>\n",
       "    <tr>\n",
       "      <th>4</th>\n",
       "      <td>Snow Tha Product: Bzrp Music Sessions, Vol. 39</td>\n",
       "      <td>ferqwertyuiop</td>\n",
       "      <td>[Bizarrap, Snow Tha Product]</td>\n",
       "      <td>5ob5XtHtsi29RUYlFLxnii</td>\n",
       "      <td>casaTíaMaría</td>\n",
       "    </tr>\n",
       "  </tbody>\n",
       "</table>\n",
       "</div>"
      ],
      "text/plain": [
       "                                           nombre     ironhacker  \\\n",
       "0                                  Rakata - Remix  ferqwertyuiop   \n",
       "1               Seven Nation Army (feat. KOYSINA)  ferqwertyuiop   \n",
       "2             Calabria (feat. Lujavo & Nito-Onna)  ferqwertyuiop   \n",
       "3                Tengo Un Trato - Remastered 2015  ferqwertyuiop   \n",
       "4  Snow Tha Product: Bzrp Music Sessions, Vol. 39  ferqwertyuiop   \n",
       "\n",
       "                                             artista                id_lista  \\\n",
       "0  [Moncho Chavea, Yotuel, Original Elias, C de C...  5ob5XtHtsi29RUYlFLxnii   \n",
       "1     [Strange Fruits Music, DMNDS, Koosen, KOYSINA]  5ob5XtHtsi29RUYlFLxnii   \n",
       "2  [Strange Fruits Music, DMNDS, Fallen Roses, Lu...  5ob5XtHtsi29RUYlFLxnii   \n",
       "3                                   [Mala Rodríguez]  5ob5XtHtsi29RUYlFLxnii   \n",
       "4                       [Bizarrap, Snow Tha Product]  5ob5XtHtsi29RUYlFLxnii   \n",
       "\n",
       "   nombre_lista  \n",
       "0  casaTíaMaría  \n",
       "1  casaTíaMaría  \n",
       "2  casaTíaMaría  \n",
       "3  casaTíaMaría  \n",
       "4  casaTíaMaría  "
      ]
     },
     "execution_count": 110,
     "metadata": {},
     "output_type": "execute_result"
    }
   ],
   "source": [
    "lista.head()"
   ]
  },
  {
   "cell_type": "code",
   "execution_count": 115,
   "id": "ff357b86",
   "metadata": {},
   "outputs": [],
   "source": [
    "data.to_csv(\"todas_las_canciones.csv\")"
   ]
  },
  {
   "cell_type": "markdown",
   "id": "analyzed-mason",
   "metadata": {},
   "source": [
    "# 📚 Recap hasta ahora:\n",
    "\n",
    "**Lo que hicimos**\n",
    "- 0. Llamamos a la API de spotify con una request del tipo post para que me diera el token\n",
    "- 1. Hicimos una llamada a la API de Spotify: para obtener la información de la lista\n",
    "- 2. Obtenemos sólo las canciones y los artistas del json\n",
    "- 3. Hacemos funcionoes que automatizan procesos y reutilizan códigoo\n",
    "- 4. Tenemos un dataframe\n",
    "<br>\n",
    "\n",
    "**Para recordar**\n",
    "\n",
    "- Añade el `.env` al `.gitignore`."
   ]
  },
  {
   "cell_type": "markdown",
   "id": "artistic-power",
   "metadata": {},
   "source": [
    " ## Misión 3\n",
    " # <center> Obtener las letras de las canciones con \"lyrics_extractor\"</center>\n",
    "## Extraemos letras de las canciones!\n",
    "Lyrics extractor es una librería que escrapea por nosotras algunas páginas de letras de canciones.     \n",
    "Echamos un ojo a la [documentación](https://pypi.org/project/lyrics-extractor/) SIEMPRE, sobre todo a la parte de **Requirements** que nos va a explicar las cosas que necesitamos tener para que funcione.  \n",
    "### Necesitamos crear las KEYs para esta librería\n",
    "1.1.1. **[Primero](https://cse.google.com/cse/create/new)**, crear un motor de búsqueda personalizado: seleccionar un sitio web de letras para raspar. por ejemplo: www.genius.com <br> \n",
    "1.1.2. **Segundo**, `Edita tu motor de búsqueda > selecciona tu web > Copia tu ID de motor de búsqueda`. \n",
    "Ahora tiene su **GCS_ENGINE_ID**<br>\n",
    "1.1.3. **[Entonces](https://developers.google.com/custom-search/v1/overview)**, `Obtener una clave > Seleccionar proyecto > copiar la clave API del buscador`. Ahora tiene su **GCS_API_KEY**."
   ]
  },
  {
   "cell_type": "code",
   "execution_count": 117,
   "id": "reflected-maryland",
   "metadata": {},
   "outputs": [],
   "source": [
    "from lyrics_extractor import SongLyrics"
   ]
  },
  {
   "cell_type": "code",
   "execution_count": 124,
   "id": "f29a51c6",
   "metadata": {},
   "outputs": [
    {
     "data": {
      "text/plain": [
       "True"
      ]
     },
     "execution_count": 124,
     "metadata": {},
     "output_type": "execute_result"
    }
   ],
   "source": [
    "load_dotenv()"
   ]
  },
  {
   "cell_type": "markdown",
   "id": "silver-ribbon",
   "metadata": {},
   "source": [
    "### Como la librería necesita las keys, las sacamos del .env"
   ]
  },
  {
   "cell_type": "code",
   "execution_count": 125,
   "id": "advised-contrast",
   "metadata": {},
   "outputs": [],
   "source": [
    "GCS_API_KEY = os.getenv(\"GCS_API_KEY\")\n",
    "GCS_ENGINE_ID = os.getenv(\"GCS_ENGINE_ID\")"
   ]
  },
  {
   "cell_type": "markdown",
   "id": "featured-concern",
   "metadata": {},
   "source": [
    "### La guardamos en una variable\n",
    "Guardamos la librería en una variable llamando a SongLyrics y pasándole las claves "
   ]
  },
  {
   "cell_type": "code",
   "execution_count": 127,
   "id": "center-electric",
   "metadata": {},
   "outputs": [],
   "source": [
    "extract_lyrics = SongLyrics(GCS_API_KEY, GCS_ENGINE_ID)"
   ]
  },
  {
   "cell_type": "markdown",
   "id": "julian-lincoln",
   "metadata": {},
   "source": [
    "### Buscamos una letra"
   ]
  },
  {
   "cell_type": "code",
   "execution_count": 136,
   "id": "passive-shock",
   "metadata": {},
   "outputs": [],
   "source": [
    "prueba = extract_lyrics.get_lyrics(\"Shape of You\")"
   ]
  },
  {
   "cell_type": "code",
   "execution_count": 137,
   "id": "unavailable-chicken",
   "metadata": {},
   "outputs": [],
   "source": [
    "# Esta librería nos devuelve un diccionario del que solo queremos un value concreto\n",
    "#prueba[\"lyrics\"]"
   ]
  },
  {
   "cell_type": "code",
   "execution_count": 138,
   "id": "developing-breeding",
   "metadata": {},
   "outputs": [],
   "source": [
    "#prueba[\"lyrics\"]"
   ]
  },
  {
   "cell_type": "markdown",
   "id": "recreational-weekend",
   "metadata": {},
   "source": [
    "### ¡¡Muchas letras!!"
   ]
  },
  {
   "cell_type": "code",
   "execution_count": 132,
   "id": "liked-controversy",
   "metadata": {},
   "outputs": [],
   "source": [
    "import numpy as np\n",
    "def letras(temaso):\n",
    "    try:\n",
    "        letra = extract_lyrics.get_lyrics(temaso)\n",
    "        return letra[\"lyrics\"]\n",
    "    except:\n",
    "        np.nan"
   ]
  },
  {
   "cell_type": "markdown",
   "id": "excess-nickel",
   "metadata": {},
   "source": [
    "### Arrelgamos los User que están mal"
   ]
  },
  {
   "cell_type": "code",
   "execution_count": 139,
   "id": "final-explanation",
   "metadata": {},
   "outputs": [],
   "source": [
    "data = pd.read_csv(\"todas_las_canciones.csv\")"
   ]
  },
  {
   "cell_type": "code",
   "execution_count": 144,
   "id": "880ef286",
   "metadata": {},
   "outputs": [],
   "source": [
    "data.drop(columns=[\"Unnamed: 0\"], inplace=True)"
   ]
  },
  {
   "cell_type": "code",
   "execution_count": 145,
   "id": "concrete-miller",
   "metadata": {},
   "outputs": [
    {
     "data": {
      "text/html": [
       "<div>\n",
       "<style scoped>\n",
       "    .dataframe tbody tr th:only-of-type {\n",
       "        vertical-align: middle;\n",
       "    }\n",
       "\n",
       "    .dataframe tbody tr th {\n",
       "        vertical-align: top;\n",
       "    }\n",
       "\n",
       "    .dataframe thead th {\n",
       "        text-align: right;\n",
       "    }\n",
       "</style>\n",
       "<table border=\"1\" class=\"dataframe\">\n",
       "  <thead>\n",
       "    <tr style=\"text-align: right;\">\n",
       "      <th></th>\n",
       "      <th>nombre</th>\n",
       "      <th>ironhacker</th>\n",
       "      <th>artista</th>\n",
       "      <th>id_lista</th>\n",
       "      <th>nombre_lista</th>\n",
       "    </tr>\n",
       "  </thead>\n",
       "  <tbody>\n",
       "    <tr>\n",
       "      <th>0</th>\n",
       "      <td>Perra</td>\n",
       "      <td>1143571176</td>\n",
       "      <td>['Rigoberta Bandini']</td>\n",
       "      <td>5sB0ax3cmVacFjgkZMLPWx</td>\n",
       "      <td>Ironhack 🚀🚀🚀</td>\n",
       "    </tr>\n",
       "    <tr>\n",
       "      <th>1</th>\n",
       "      <td>Colectivo Nostalgia</td>\n",
       "      <td>1143571176</td>\n",
       "      <td>['La Maravillosa Orquesta del Alcohol']</td>\n",
       "      <td>5sB0ax3cmVacFjgkZMLPWx</td>\n",
       "      <td>Ironhack 🚀🚀🚀</td>\n",
       "    </tr>\n",
       "    <tr>\n",
       "      <th>2</th>\n",
       "      <td>Cumpleaños Feliz</td>\n",
       "      <td>1143571176</td>\n",
       "      <td>['Parchis']</td>\n",
       "      <td>5sB0ax3cmVacFjgkZMLPWx</td>\n",
       "      <td>Ironhack 🚀🚀🚀</td>\n",
       "    </tr>\n",
       "    <tr>\n",
       "      <th>3</th>\n",
       "      <td>Que se joda el viento</td>\n",
       "      <td>valledelkas018</td>\n",
       "      <td>['Marea']</td>\n",
       "      <td>5sB0ax3cmVacFjgkZMLPWx</td>\n",
       "      <td>Ironhack 🚀🚀🚀</td>\n",
       "    </tr>\n",
       "    <tr>\n",
       "      <th>4</th>\n",
       "      <td>Gravity</td>\n",
       "      <td>edurriva</td>\n",
       "      <td>['John Mayer']</td>\n",
       "      <td>5sB0ax3cmVacFjgkZMLPWx</td>\n",
       "      <td>Ironhack 🚀🚀🚀</td>\n",
       "    </tr>\n",
       "  </tbody>\n",
       "</table>\n",
       "</div>"
      ],
      "text/plain": [
       "                  nombre      ironhacker  \\\n",
       "0                  Perra      1143571176   \n",
       "1    Colectivo Nostalgia      1143571176   \n",
       "2       Cumpleaños Feliz      1143571176   \n",
       "3  Que se joda el viento  valledelkas018   \n",
       "4                Gravity        edurriva   \n",
       "\n",
       "                                   artista                id_lista  \\\n",
       "0                    ['Rigoberta Bandini']  5sB0ax3cmVacFjgkZMLPWx   \n",
       "1  ['La Maravillosa Orquesta del Alcohol']  5sB0ax3cmVacFjgkZMLPWx   \n",
       "2                              ['Parchis']  5sB0ax3cmVacFjgkZMLPWx   \n",
       "3                                ['Marea']  5sB0ax3cmVacFjgkZMLPWx   \n",
       "4                           ['John Mayer']  5sB0ax3cmVacFjgkZMLPWx   \n",
       "\n",
       "   nombre_lista  \n",
       "0  Ironhack 🚀🚀🚀  \n",
       "1  Ironhack 🚀🚀🚀  \n",
       "2  Ironhack 🚀🚀🚀  \n",
       "3  Ironhack 🚀🚀🚀  \n",
       "4  Ironhack 🚀🚀🚀  "
      ]
     },
     "execution_count": 145,
     "metadata": {},
     "output_type": "execute_result"
    }
   ],
   "source": [
    "data.head()"
   ]
  },
  {
   "cell_type": "code",
   "execution_count": 141,
   "id": "excellent-romantic",
   "metadata": {},
   "outputs": [
    {
     "data": {
      "text/plain": [
       "array(['1143571176', 'valledelkas018', 'edurriva', 'perinat',\n",
       "       'baccandres', 'dmfqkg5al92aldkj9pygau9ke', '1155460259',\n",
       "       '06uk7op5esy3r1syhomrkoisw', 'almahelguera', '11145453392',\n",
       "       '11152374629', 'tgr39393', 'soyungalgo', 'elliot.esposito',\n",
       "       'copia002', '1123496580', '21vw5u6wowte2ddqw3gsool2q',\n",
       "       'lm3nw07nc8ibzjy9d2c43870v', 'aky8zqi734ksim2kh7e5sfn90'],\n",
       "      dtype=object)"
      ]
     },
     "execution_count": 141,
     "metadata": {},
     "output_type": "execute_result"
    }
   ],
   "source": [
    "data.ironhacker.unique()"
   ]
  },
  {
   "cell_type": "code",
   "execution_count": 156,
   "id": "interior-maker",
   "metadata": {},
   "outputs": [],
   "source": [
    "usuarios = {\"1143571176\": \"Delás\", \"dmfqkg5al92aldkj9pygau9ke\": \"Rober\",\"1155460259\":\"Carlos\",  \"06uk7op5esy3r1syhomrkoisw\":\"Ester\",\"11145453392\":\"Pedro\", \"11152374629\":\"Alfon\", \"1123496580\":\"Juancho\", \"21vw5u6wowte2ddqw3gsool2q\":\"Nico\",\"lm3nw07nc8ibzjy9d2c43870v\":\"Jose\", \"aky8zqi734ksim2kh7e5sfn90\":\"Fer\"}"
   ]
  },
  {
   "cell_type": "code",
   "execution_count": 155,
   "id": "floral-ceremony",
   "metadata": {},
   "outputs": [
    {
     "data": {
      "text/html": [
       "<div>\n",
       "<style scoped>\n",
       "    .dataframe tbody tr th:only-of-type {\n",
       "        vertical-align: middle;\n",
       "    }\n",
       "\n",
       "    .dataframe tbody tr th {\n",
       "        vertical-align: top;\n",
       "    }\n",
       "\n",
       "    .dataframe thead th {\n",
       "        text-align: right;\n",
       "    }\n",
       "</style>\n",
       "<table border=\"1\" class=\"dataframe\">\n",
       "  <thead>\n",
       "    <tr style=\"text-align: right;\">\n",
       "      <th></th>\n",
       "      <th>nombre</th>\n",
       "      <th>ironhacker</th>\n",
       "      <th>artista</th>\n",
       "      <th>id_lista</th>\n",
       "      <th>nombre_lista</th>\n",
       "    </tr>\n",
       "  </thead>\n",
       "  <tbody>\n",
       "    <tr>\n",
       "      <th>175</th>\n",
       "      <td>I'll Fight</td>\n",
       "      <td>aky8zqi734ksim2kh7e5sfn90</td>\n",
       "      <td>['Wilco']</td>\n",
       "      <td>5sB0ax3cmVacFjgkZMLPWx</td>\n",
       "      <td>Ironhack 🚀🚀🚀</td>\n",
       "    </tr>\n",
       "    <tr>\n",
       "      <th>178</th>\n",
       "      <td>La última atrocidad</td>\n",
       "      <td>aky8zqi734ksim2kh7e5sfn90</td>\n",
       "      <td>['Nacho Vegas', 'Cristina Martinez']</td>\n",
       "      <td>5sB0ax3cmVacFjgkZMLPWx</td>\n",
       "      <td>Ironhack 🚀🚀🚀</td>\n",
       "    </tr>\n",
       "    <tr>\n",
       "      <th>181</th>\n",
       "      <td>Mazas y Catapultas</td>\n",
       "      <td>aky8zqi734ksim2kh7e5sfn90</td>\n",
       "      <td>['Kase.O', 'Rozalén']</td>\n",
       "      <td>5sB0ax3cmVacFjgkZMLPWx</td>\n",
       "      <td>Ironhack 🚀🚀🚀</td>\n",
       "    </tr>\n",
       "  </tbody>\n",
       "</table>\n",
       "</div>"
      ],
      "text/plain": [
       "                  nombre                 ironhacker  \\\n",
       "175           I'll Fight  aky8zqi734ksim2kh7e5sfn90   \n",
       "178  La última atrocidad  aky8zqi734ksim2kh7e5sfn90   \n",
       "181   Mazas y Catapultas  aky8zqi734ksim2kh7e5sfn90   \n",
       "\n",
       "                                  artista                id_lista  \\\n",
       "175                             ['Wilco']  5sB0ax3cmVacFjgkZMLPWx   \n",
       "178  ['Nacho Vegas', 'Cristina Martinez']  5sB0ax3cmVacFjgkZMLPWx   \n",
       "181                 ['Kase.O', 'Rozalén']  5sB0ax3cmVacFjgkZMLPWx   \n",
       "\n",
       "     nombre_lista  \n",
       "175  Ironhack 🚀🚀🚀  \n",
       "178  Ironhack 🚀🚀🚀  \n",
       "181  Ironhack 🚀🚀🚀  "
      ]
     },
     "execution_count": 155,
     "metadata": {},
     "output_type": "execute_result"
    }
   ],
   "source": [
    "data[data[\"ironhacker\"]==\"aky8zqi734ksim2kh7e5sfn90\"]"
   ]
  },
  {
   "cell_type": "code",
   "execution_count": 158,
   "id": "9832462b",
   "metadata": {},
   "outputs": [],
   "source": [
    "data[\"ironhacker\"] = data.ironhacker.replace(usuarios)"
   ]
  },
  {
   "cell_type": "code",
   "execution_count": 159,
   "id": "f770cc07",
   "metadata": {},
   "outputs": [
    {
     "data": {
      "text/plain": [
       "array(['Delás', 'valledelkas018', 'edurriva', 'perinat', 'baccandres',\n",
       "       'Rober', 'Carlos', 'Ester', 'almahelguera', 'Pedro', 'Alfon',\n",
       "       'tgr39393', 'soyungalgo', 'elliot.esposito', 'copia002', 'Juancho',\n",
       "       'Nico', 'Jose', 'Fer'], dtype=object)"
      ]
     },
     "execution_count": 159,
     "metadata": {},
     "output_type": "execute_result"
    }
   ],
   "source": [
    "data.ironhacker.unique()"
   ]
  },
  {
   "cell_type": "markdown",
   "id": "weekly-distribution",
   "metadata": {},
   "source": [
    "### Creamos una columna nueva con las letras"
   ]
  },
  {
   "cell_type": "code",
   "execution_count": 160,
   "id": "rational-director",
   "metadata": {},
   "outputs": [],
   "source": [
    "data[\"letra\"] = data.nombre.apply(letras)"
   ]
  },
  {
   "cell_type": "code",
   "execution_count": 161,
   "id": "sophisticated-merchant",
   "metadata": {},
   "outputs": [
    {
     "data": {
      "text/html": [
       "<div>\n",
       "<style scoped>\n",
       "    .dataframe tbody tr th:only-of-type {\n",
       "        vertical-align: middle;\n",
       "    }\n",
       "\n",
       "    .dataframe tbody tr th {\n",
       "        vertical-align: top;\n",
       "    }\n",
       "\n",
       "    .dataframe thead th {\n",
       "        text-align: right;\n",
       "    }\n",
       "</style>\n",
       "<table border=\"1\" class=\"dataframe\">\n",
       "  <thead>\n",
       "    <tr style=\"text-align: right;\">\n",
       "      <th></th>\n",
       "      <th>nombre</th>\n",
       "      <th>ironhacker</th>\n",
       "      <th>artista</th>\n",
       "      <th>id_lista</th>\n",
       "      <th>nombre_lista</th>\n",
       "      <th>letra</th>\n",
       "    </tr>\n",
       "  </thead>\n",
       "  <tbody>\n",
       "    <tr>\n",
       "      <th>0</th>\n",
       "      <td>Perra</td>\n",
       "      <td>Delás</td>\n",
       "      <td>['Rigoberta Bandini']</td>\n",
       "      <td>5sB0ax3cmVacFjgkZMLPWx</td>\n",
       "      <td>Ironhack 🚀🚀🚀</td>\n",
       "      <td>[Letra de \"Perra\"]\\n\\n[Intro: J Balvin]\\nLoco ...</td>\n",
       "    </tr>\n",
       "    <tr>\n",
       "      <th>1</th>\n",
       "      <td>Colectivo Nostalgia</td>\n",
       "      <td>Delás</td>\n",
       "      <td>['La Maravillosa Orquesta del Alcohol']</td>\n",
       "      <td>5sB0ax3cmVacFjgkZMLPWx</td>\n",
       "      <td>Ironhack 🚀🚀🚀</td>\n",
       "      <td>[Letra de “Colectivo Nostalgia” por La Maravil...</td>\n",
       "    </tr>\n",
       "    <tr>\n",
       "      <th>2</th>\n",
       "      <td>Cumpleaños Feliz</td>\n",
       "      <td>Delás</td>\n",
       "      <td>['Parchis']</td>\n",
       "      <td>5sB0ax3cmVacFjgkZMLPWx</td>\n",
       "      <td>Ironhack 🚀🚀🚀</td>\n",
       "      <td>Lyrics for this song have yet to be released. ...</td>\n",
       "    </tr>\n",
       "    <tr>\n",
       "      <th>3</th>\n",
       "      <td>Que se joda el viento</td>\n",
       "      <td>valledelkas018</td>\n",
       "      <td>['Marea']</td>\n",
       "      <td>5sB0ax3cmVacFjgkZMLPWx</td>\n",
       "      <td>Ironhack 🚀🚀🚀</td>\n",
       "      <td>Ponte el moño apretao, sirena, que se joda el ...</td>\n",
       "    </tr>\n",
       "    <tr>\n",
       "      <th>4</th>\n",
       "      <td>Gravity</td>\n",
       "      <td>edurriva</td>\n",
       "      <td>['John Mayer']</td>\n",
       "      <td>5sB0ax3cmVacFjgkZMLPWx</td>\n",
       "      <td>Ironhack 🚀🚀🚀</td>\n",
       "      <td>[Verse 1]\\nSomething always brings me back to ...</td>\n",
       "    </tr>\n",
       "  </tbody>\n",
       "</table>\n",
       "</div>"
      ],
      "text/plain": [
       "                  nombre      ironhacker  \\\n",
       "0                  Perra           Delás   \n",
       "1    Colectivo Nostalgia           Delás   \n",
       "2       Cumpleaños Feliz           Delás   \n",
       "3  Que se joda el viento  valledelkas018   \n",
       "4                Gravity        edurriva   \n",
       "\n",
       "                                   artista                id_lista  \\\n",
       "0                    ['Rigoberta Bandini']  5sB0ax3cmVacFjgkZMLPWx   \n",
       "1  ['La Maravillosa Orquesta del Alcohol']  5sB0ax3cmVacFjgkZMLPWx   \n",
       "2                              ['Parchis']  5sB0ax3cmVacFjgkZMLPWx   \n",
       "3                                ['Marea']  5sB0ax3cmVacFjgkZMLPWx   \n",
       "4                           ['John Mayer']  5sB0ax3cmVacFjgkZMLPWx   \n",
       "\n",
       "   nombre_lista                                              letra  \n",
       "0  Ironhack 🚀🚀🚀  [Letra de \"Perra\"]\\n\\n[Intro: J Balvin]\\nLoco ...  \n",
       "1  Ironhack 🚀🚀🚀  [Letra de “Colectivo Nostalgia” por La Maravil...  \n",
       "2  Ironhack 🚀🚀🚀  Lyrics for this song have yet to be released. ...  \n",
       "3  Ironhack 🚀🚀🚀  Ponte el moño apretao, sirena, que se joda el ...  \n",
       "4  Ironhack 🚀🚀🚀  [Verse 1]\\nSomething always brings me back to ...  "
      ]
     },
     "execution_count": 161,
     "metadata": {},
     "output_type": "execute_result"
    }
   ],
   "source": [
    "data.head()"
   ]
  },
  {
   "cell_type": "code",
   "execution_count": 165,
   "id": "consistent-tampa",
   "metadata": {},
   "outputs": [
    {
     "data": {
      "text/plain": [
       "nombre           0\n",
       "ironhacker       0\n",
       "artista          0\n",
       "id_lista         0\n",
       "nombre_lista     0\n",
       "letra           93\n",
       "dtype: int64"
      ]
     },
     "execution_count": 165,
     "metadata": {},
     "output_type": "execute_result"
    }
   ],
   "source": [
    "data.isna().sum()"
   ]
  },
  {
   "cell_type": "code",
   "execution_count": 174,
   "id": "56ef3329",
   "metadata": {},
   "outputs": [],
   "source": [
    "data.loc[99][\"letra\"]"
   ]
  },
  {
   "cell_type": "code",
   "execution_count": 171,
   "id": "julian-teacher",
   "metadata": {},
   "outputs": [
    {
     "data": {
      "text/plain": [
       "0      False\n",
       "1      False\n",
       "2      False\n",
       "3      False\n",
       "4      False\n",
       "       ...  \n",
       "183     True\n",
       "184     True\n",
       "185     True\n",
       "186     True\n",
       "187     True\n",
       "Name: letra, Length: 188, dtype: bool"
      ]
     },
     "execution_count": 171,
     "metadata": {},
     "output_type": "execute_result"
    }
   ],
   "source": [
    "data.letra.isna()"
   ]
  },
  {
   "cell_type": "code",
   "execution_count": 175,
   "id": "blocked-status",
   "metadata": {},
   "outputs": [],
   "source": [
    "data.to_csv(\"output/octubre21.csv\", index=False)"
   ]
  }
 ],
 "metadata": {
  "kernelspec": {
   "display_name": "ironhack",
   "language": "python",
   "name": "ironhack"
  },
  "language_info": {
   "codemirror_mode": {
    "name": "ipython",
    "version": 3
   },
   "file_extension": ".py",
   "mimetype": "text/x-python",
   "name": "python",
   "nbconvert_exporter": "python",
   "pygments_lexer": "ipython3",
   "version": "3.8.5"
  },
  "toc": {
   "base_numbering": 1,
   "nav_menu": {},
   "number_sections": true,
   "sideBar": true,
   "skip_h1_title": true,
   "title_cell": "Table of Contents",
   "title_sidebar": "Contents",
   "toc_cell": true,
   "toc_position": {},
   "toc_section_display": true,
   "toc_window_display": false
  }
 },
 "nbformat": 4,
 "nbformat_minor": 5
}
